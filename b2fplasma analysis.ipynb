{
 "cells": [
  {
   "cell_type": "markdown",
   "id": "0f20abfb-ede2-4131-97e7-4a992311560f",
   "metadata": {},
   "source": [
    "<span style=\"color:black; background-color:White; font-size:150%\">Modules </span> "
   ]
  },
  {
   "cell_type": "code",
   "execution_count": 1,
   "id": "09065735-70de-4379-8ad5-11465b4cdc7b",
   "metadata": {},
   "outputs": [],
   "source": [
    "import numpy as np\n",
    "import matplotlib.pyplot as plt\n",
    "import matplotlib.ticker as ticker\n",
    "from scipy.special import rel_entr\n",
    "import pickle"
   ]
  },
  {
   "cell_type": "markdown",
   "id": "ad3c407d-558a-40db-b634-5fce5c33c0bf",
   "metadata": {},
   "source": [
    "<span style=\"color:black; background-color:White; font-size:150%\"> Some functions & Parameters </span> "
   ]
  },
  {
   "cell_type": "code",
   "execution_count": 2,
   "id": "7bdec8c3-74f0-480d-83cc-c85c9f76bf07",
   "metadata": {},
   "outputs": [],
   "source": [
    "def is_valid_float(element: str) -> bool:\n",
    "    try:\n",
    "        float(element)\n",
    "        return True\n",
    "    except ValueError:\n",
    "        return False\n",
    "    "
   ]
  },
  {
   "cell_type": "code",
   "execution_count": 3,
   "id": "390c9a1a-1508-4951-a1d6-db0419f36255",
   "metadata": {},
   "outputs": [],
   "source": [
    "def check_float(element):\n",
    "    partition = element.partition('.')\n",
    "    \n",
    "    if element.isdigit():\n",
    "      newelement = float(element)\n",
    "      print('string is valid')\n",
    "\n",
    "    elif (partition[0].isdigit() and partition[1] == '.' and partition[2].isdigit()) or (partition[0] == '' and partition[1] == '.' and partition[2].isdigit()) or (partition[0].isdigit() and partition[1] == '.' and partition[2] == ''):\n",
    "            newelement = float(element)\n",
    "            print(newelement)\n",
    "            print(\"String is also valid !\")\n",
    "    else:\n",
    "        print(\"string is not valid !\")"
   ]
  },
  {
   "cell_type": "code",
   "execution_count": 4,
   "id": "a7abc4c5-3a85-4569-9231-345e7139ab3b",
   "metadata": {},
   "outputs": [],
   "source": [
    "def is_valid_string(element):\n",
    "    if element.isdigit():\n",
    "        print(\"String is valid\")\n",
    "    else:\n",
    "        print(\"String is not valid\")\n",
    "        "
   ]
  },
  {
   "cell_type": "markdown",
   "id": "a005fa0b-a850-4246-adbe-2b5c7d3242a1",
   "metadata": {},
   "source": [
    "<span style=\"color:White; background-color:Black; font-size:130%\"> Data </span> "
   ]
  },
  {
   "cell_type": "code",
   "execution_count": 5,
   "id": "1847b617-82c4-436f-b0b3-e53d258cb245",
   "metadata": {},
   "outputs": [],
   "source": [
    "#3.0e16 Ne puff\n",
    "#fname_or = \"b2fstate_al_KSTAR\"\n",
    "#fname_or = \"b2fstate_al_ITER\"\n",
    "#fname_or = \"b2fstate_al_KDEMO\"\n",
    "#fname_or = \"b2fstate_co_KSTAR\"\n",
    "#fname_or = \"b2fstate_co_ITER\"\n",
    "#fname_or = \"b2fstate_co_KDEMO\"\n",
    "#fname_or = \"b2fstate_20220530\"\n",
    "\n",
    "#no Ne puff\n",
    "#fname_or = \"b2fstate_al_KSTAR_noNE\"\n",
    "#fname_or = \"b2fstate_al_ITER_noNE\"\n",
    "#fname_or = \"b2fstate_al_KDEMO_noNE\"\n",
    "#fname_or = \"b2fstate_co_KSTAR_noNE\"\n",
    "#fname_or = \"b2fstate_co_ITER_noNE\"\n",
    "#fname_or = \"b2fstate_co_KDEMO_noNE\"\n",
    "\n",
    "\n",
    "#Ne puff 3.0e18\n",
    "#fname_or = \"b2fstate_al_KSTAR_3e18Ne\"\n",
    "#fname_or = \"b2fstate_al_ITER_3e18Ne\"\n",
    "#fname_or = \"b2fstate_al_KDEMO_3e18Ne\"\n",
    "#fname_or = \"b2fstate_co_KSTAR_3e18Ne\"\n",
    "#fname_or = \"b2fstate_co_ITER_3e18Ne\"\n",
    "#fname_or = \"b2fstate_co_KDEMO_3e18Ne\"\n",
    "fname_or = \"b2fplasmf_new_mesh_al_Ne_0\"\n",
    "\n",
    "\n",
    "\n",
    "fname = \"./../output_new/output_new_mesh_al/%s.txt\" %fname_or\n",
    "\n",
    "\n",
    "\n",
    "\n",
    "\n",
    "#def find_ni(fname):\n",
    "#    with open(fname) as f:\n",
    "#        line = f.readlines()\n",
    "#        print(line)\n",
    "#    return line\n",
    "    \n",
    "with open(fname,'r') as f:\n",
    "    line = f.readlines()\n",
    "    #line_1 = line.split()\n",
    "\n",
    "a=type(line)\n",
    "k = len(line)\n",
    "data_array = np.array(line)\n",
    "full_length = np.size(data_array)\n",
    "k1 = np.zeros(k)\n",
    "\n"
   ]
  },
  {
   "cell_type": "code",
   "execution_count": 6,
   "id": "90676af3-517f-4e1d-ac65-8665369056c5",
   "metadata": {},
   "outputs": [
    {
     "name": "stdout",
     "output_type": "stream",
     "text": [
      "  4.9706310000000E-002  4.9410930000000E-002  4.8457700000000E-002  4.6970470000000E-002  4.5344590000000E-002  4.3961030000000E-002\n",
      "\n"
     ]
    }
   ],
   "source": [
    "print(line[2])\n",
    "mesh = line[2].split()\n",
    "nx = 96\n",
    "ny = 36\n",
    "ns = 2\n",
    "data_name = 'fht'\n",
    "\n"
   ]
  },
  {
   "cell_type": "code",
   "execution_count": 7,
   "id": "d39783ff-5c61-46f8-a197-8c070cc1a36b",
   "metadata": {},
   "outputs": [
    {
     "name": "stdout",
     "output_type": "stream",
     "text": [
      "  4.9706310000000E-002  4.9410930000000E-002  4.8457700000000E-002  4.6970470000000E-002  4.5344590000000E-002  4.3961030000000E-002\n",
      "\n"
     ]
    }
   ],
   "source": [
    "print(line[2])\n"
   ]
  },
  {
   "cell_type": "code",
   "execution_count": null,
   "id": "9d18db59-905c-4f2c-ae20-bbb418954dbb",
   "metadata": {},
   "outputs": [],
   "source": []
  },
  {
   "cell_type": "markdown",
   "id": "59b0d71d-2d39-4c04-88c9-3bd1e6413c50",
   "metadata": {},
   "source": [
    "<span style= \"color:#5cffd1;font-size:250%\"> Main Code</span>  "
   ]
  },
  {
   "cell_type": "code",
   "execution_count": 8,
   "id": "57eb8eed-6441-49c4-8e5e-0d3c589a68c4",
   "metadata": {},
   "outputs": [],
   "source": [
    "raw_data = np.empty((full_length,6))\n",
    "\n",
    "for i in range(0, full_length):\n",
    "    \n",
    "    dum = line[i].split()\n",
    "    dum2 = len(dum)\n",
    "    \n",
    "    for j in range(6):\n",
    "        if j+1<=len(dum):\n",
    "\n",
    "            dum3 = dum[j]\n",
    "            \n",
    "            try:\n",
    "                raw_data[i,j] = dum3\n",
    "            except ValueError as m:\n",
    "                raw_data[i,j] = 0\n",
    "            #print(dum3)\n",
    "        elif j+1>len(dum):\n",
    "            continue\n",
    "\n"
   ]
  },
  {
   "cell_type": "code",
   "execution_count": 9,
   "id": "cf48be06-bf43-404b-ac4c-b2fa475fedaf",
   "metadata": {},
   "outputs": [
    {
     "name": "stdout",
     "output_type": "stream",
     "text": [
      "VERSION03.000.008 3.0.8-17-g7ceb865-dirty         \n",
      "\n",
      "*cf:    real           14896    bb                              \n",
      "\n",
      "*cf:    real           14896    crx                             \n",
      "\n",
      "*cf:    real           14896    cry                             \n",
      "\n",
      "*cf:    real           14896    ffbz                            \n",
      "\n",
      "*cf:    real           14896    fpsi                            \n",
      "\n",
      "*cf:    real           11172    gs                              \n",
      "\n",
      "*cf:    real            3724    hx                              \n",
      "\n",
      "*cf:    real            3724    hy                              \n",
      "\n",
      "*cf:    real            7448    qz                              \n",
      "\n",
      "*cf:    real            3724    qc                              \n",
      "\n",
      "*cf:    real            3724    vol                             \n",
      "\n",
      "*cf:    real            7448    pbs                             \n",
      "\n",
      "*cf:    real            7448    fch                             \n",
      "\n",
      "*cf:    real            7448    fch0                            \n",
      "\n",
      "*cf:    real            7448    fchp                            \n",
      "\n",
      "*cf:    real            7448    fhe                             \n",
      "\n",
      "*cf:    real            7448    fhe0                            \n",
      "\n",
      "*cf:    real            7448    fhep                            \n",
      "\n",
      "*cf:    real            7448    fhet                            \n",
      "\n",
      "*cf:    real            7448    fhi                             \n",
      "\n",
      "*cf:    real            7448    fhi0                            \n",
      "\n",
      "*cf:    real            7448    fhip                            \n",
      "\n",
      "*cf:    real            7448    fhit                            \n",
      "\n",
      "*cf:    real          148960    fna                             \n",
      "\n",
      "*cf:    real          148960    fna0                            \n",
      "\n",
      "*cf:    real          148960    fnap                            \n",
      "\n",
      "*cf:    real            7448    fne                             \n",
      "\n",
      "*cf:    real            7448    fni                             \n",
      "\n",
      "*cf:    real           74480    na                              \n",
      "\n",
      "*cf:    real           74480    na0                             \n",
      "\n",
      "*cf:    real           74480    nap                             \n",
      "\n",
      "*cf:    real            3724    ne                              \n",
      "\n",
      "*cf:    real            3724    ne0                             \n",
      "\n",
      "*cf:    real            3724    ne2                             \n",
      "\n",
      "*cf:    real            3724    nep                             \n",
      "\n",
      "*cf:    real            7448    ni                              \n",
      "\n",
      "*cf:    real            7448    ni0                             \n",
      "\n",
      "*cf:    real            3724    pb                              \n",
      "\n",
      "*cf:    real            3724    po                              \n",
      "\n",
      "*cf:    real            3724    po0                             \n",
      "\n",
      "*cf:    real            3724    pop                             \n",
      "\n",
      "*cf:    real            3724    te                              \n",
      "\n",
      "*cf:    real            3724    te0                             \n",
      "\n",
      "*cf:    real            3724    tep                             \n",
      "\n",
      "*cf:    real            3724    ti                              \n",
      "\n",
      "*cf:    real            3724    ti0                             \n",
      "\n",
      "*cf:    real            3724    tip                             \n",
      "\n",
      "*cf:    real           74480    ua                              \n",
      "\n",
      "*cf:    real           74480    ua0                             \n",
      "\n",
      "*cf:    real           74480    uap                             \n",
      "\n",
      "*cf:    real          148960    uadia                           \n",
      "\n",
      "*cf:    real            7448    fchdia                          \n",
      "\n",
      "*cf:    real          148960    fmo                             \n",
      "\n",
      "*cf:    real          148960    fna_32                          \n",
      "\n",
      "*cf:    real          148960    fna_52                          \n",
      "\n",
      "*cf:    real            7448    fni_32                          \n",
      "\n",
      "*cf:    real            7448    fni_52                          \n",
      "\n",
      "*cf:    real            7448    fne_32                          \n",
      "\n",
      "*cf:    real            7448    fne_52                          \n",
      "\n",
      "*cf:    real          148960    wadia                           \n",
      "\n",
      "*cf:    real          148960    vaecrb                          \n",
      "\n",
      "*cf:    real            3724    facdrift                        \n",
      "\n",
      "*cf:    real            3724    fac_ExB                         \n",
      "\n",
      "*cf:    real            7448    fchvispar                       \n",
      "\n",
      "*cf:    real            7448    fchvisper                       \n",
      "\n",
      "*cf:    real            7448    fchin                           \n",
      "\n",
      "*cf:    real          148960    fna_nodrift                     \n",
      "\n",
      "*cf:    real            3724    fac_vis                         \n",
      "\n",
      "*cf:    real          148960    fna_mdf                         \n",
      "\n",
      "*cf:    real            7448    fhe_mdf                         \n",
      "\n",
      "*cf:    real            7448    fhi_mdf                         \n",
      "\n",
      "*cf:    real          148960    fnaPSch                         \n",
      "\n",
      "*cf:    real            7448    fhePSch                         \n",
      "\n",
      "*cf:    real            7448    fhiPSch                         \n",
      "\n",
      "*cf:    real          148960    fna_fcor                        \n",
      "\n",
      "*cf:    real          148960    fna_he                          \n",
      "\n",
      "*cf:    real            7448    fchvisq                         \n",
      "\n",
      "*cf:    real            7448    fchinert                        \n",
      "\n",
      "*cf:    real            7448    fht                             \n",
      "\n",
      "*cf:    real            7448    fhj                             \n",
      "\n",
      "*cf:    real          148960    fhm                             \n",
      "\n",
      "*cf:    real          148960    fhp                             \n",
      "\n",
      "*cf:    real           74480    resco                           \n",
      "\n",
      "*cf:    real            3724    reshe                           \n",
      "\n",
      "*cf:    real            3724    reshi                           \n",
      "\n",
      "*cf:    real           74480    resmo                           \n",
      "\n",
      "*cf:    real            3724    resmt                           \n",
      "\n",
      "*cf:    real            3724    respo                           \n",
      "\n",
      "*cf:    real           14896    sch                             \n",
      "\n",
      "*cf:    real           14896    she                             \n",
      "\n",
      "*cf:    real           14896    shi                             \n",
      "\n",
      "*cf:    real          297920    smo                             \n",
      "\n",
      "*cf:    real          297920    smq                             \n",
      "\n",
      "*cf:    real          148960    sna                             \n",
      "\n",
      "*cf:    real            7448    sne                             \n",
      "\n",
      "*cf:    real           74480    rsana                           \n",
      "\n",
      "*cf:    real           74480    rsahi                           \n",
      "\n",
      "*cf:    real           74480    rsamo                           \n",
      "\n",
      "*cf:    real           74480    rrana                           \n",
      "\n",
      "*cf:    real           74480    rrahi                           \n",
      "\n",
      "*cf:    real           74480    rramo                           \n",
      "\n",
      "*cf:    real           74480    rqahe                           \n",
      "\n",
      "*cf:    real           74480    rqrad                           \n",
      "\n",
      "*cf:    real           74480    rqbrm                           \n",
      "\n",
      "*cf:    real           74480    rcxna                           \n",
      "\n",
      "*cf:    real           74480    rcxhi                           \n",
      "\n",
      "*cf:    real           74480    rcxmo                           \n",
      "\n",
      "*cf:    real           74480    b2stbr_sna                      \n",
      "\n",
      "*cf:    real           74480    b2stbr_smo                      \n",
      "\n",
      "*cf:    real            3724    b2stbr_she                      \n",
      "\n",
      "*cf:    real            3724    b2stbr_shi                      \n",
      "\n",
      "*cf:    real            3724    b2stbr_sch                      \n",
      "\n",
      "*cf:    real            3724    b2stbr_sne                      \n",
      "\n",
      "*cf:    real           74480    b2stbc_sna                      \n",
      "\n",
      "*cf:    real           74480    b2stbc_smo                      \n",
      "\n",
      "*cf:    real            3724    b2stbc_she                      \n",
      "\n",
      "*cf:    real            3724    b2stbc_shi                      \n",
      "\n",
      "*cf:    real            3724    b2stbc_sch                      \n",
      "\n",
      "*cf:    real            3724    b2stbc_sne                      \n",
      "\n",
      "*cf:    real           74480    b2stbm_sna                      \n",
      "\n",
      "*cf:    real           74480    b2stbm_smo                      \n",
      "\n",
      "*cf:    real            3724    b2stbm_she                      \n",
      "\n",
      "*cf:    real            3724    b2stbm_shi                      \n",
      "\n",
      "*cf:    real            3724    b2stbm_sch                      \n",
      "\n",
      "*cf:    real            3724    b2stbm_sne                      \n",
      "\n",
      "*cf:    real            3724    b2sihs_divue                    \n",
      "\n",
      "*cf:    real            3724    b2sihs_divua                    \n",
      "\n",
      "*cf:    real            3724    b2sihs_exbe                     \n",
      "\n",
      "*cf:    real            3724    b2sihs_exba                     \n",
      "\n",
      "*cf:    real            3724    b2sihs_visa                     \n",
      "\n",
      "*cf:    real            3724    b2sihs_joule                    \n",
      "\n",
      "*cf:    real            3724    b2sihs_fraa                     \n",
      "\n",
      "*cf:    real            3724    b2sihs_str                      \n",
      "\n",
      "*cf:    real          297920    b2npmo_smaf                     \n",
      "\n",
      "*cf:    real          297920    b2npmo_smag                     \n",
      "\n",
      "*cf:    real          297920    b2npmo_smav                     \n",
      "\n",
      "*cf:    real           74480    smpr                            \n",
      "\n",
      "*cf:    real           74480    smpt                            \n",
      "\n",
      "*cf:    real           74480    smfr                            \n",
      "\n",
      "*cf:    real           74480    smcf                            \n",
      "\n",
      "*cf:    real           74480    ext_sna                         \n",
      "\n",
      "*cf:    real           74480    ext_smo                         \n",
      "\n",
      "*cf:    real            3724    ext_she                         \n",
      "\n",
      "*cf:    real            3724    ext_shi                         \n",
      "\n",
      "*cf:    real            3724    ext_sch                         \n",
      "\n",
      "*cf:    real            3724    ext_sne                         \n",
      "\n",
      "*cf:    real            7448    calf                            \n",
      "\n",
      "*cf:    real          148960    cdna                            \n",
      "\n",
      "*cf:    real          148960    cdpa                            \n",
      "\n",
      "*cf:    real            3724    ceqp                            \n",
      "\n",
      "*cf:    real            7448    chce                            \n",
      "\n",
      "*cf:    real            7448    chci                            \n",
      "\n",
      "*cf:    real            7448    chve                            \n",
      "\n",
      "*cf:    real            3724    chvemx                          \n",
      "\n",
      "*cf:    real            7448    chvi                            \n",
      "\n",
      "*cf:    real            3724    chvimx                          \n",
      "\n",
      "*cf:    real            7448    csig                            \n",
      "\n",
      "*cf:    real          148960    cvla                            \n",
      "\n",
      "*cf:    real          148960    cvsa                            \n",
      "\n",
      "*cf:    real           74480    cthe                            \n",
      "\n",
      "*cf:    real           74480    cthi                            \n",
      "\n",
      "*cf:    real         2979200    csigin                          \n",
      "\n",
      "*cf:    real          148960    cvsa_cl                         \n",
      "\n",
      "*cf:    real            3724    fllime                          \n",
      "\n",
      "*cf:    real            3724    fllimi                          \n",
      "\n",
      "*cf:    real          148960    fllim0fna                       \n",
      "\n",
      "*cf:    real          148960    fllim0fhi                       \n",
      "\n",
      "*cf:    real           74480    fllimvisc                       \n",
      "\n",
      "*cf:    real            3724    f_luc_ke                        \n",
      "\n",
      "*cf:    real            3724    f_luc_ki                        \n",
      "\n",
      "*cf:    real            3724    f_luc_et                        \n",
      "\n",
      "*cf:    real            3724    f_luc_sg                        \n",
      "\n",
      "*cf:    real            3724    f_luc_al                        \n",
      "\n",
      "*cf:    real            3724    fllim_ke                        \n",
      "\n",
      "*cf:    real            3724    fllim_ki                        \n",
      "\n",
      "*cf:    real            3724    fllim_al                        \n",
      "\n",
      "*cf:    real            3724    fllim_al_c                      \n",
      "\n",
      "*cf:    real            3724    sig0                            \n",
      "\n",
      "*cf:    real            3724    hce0                            \n",
      "\n",
      "*cf:    real            3724    alf0                            \n",
      "\n",
      "*cf:    real            3724    hci0                            \n",
      "\n",
      "*cf:    real           74480    hcib                            \n",
      "\n",
      "*cf:    real           74480    dpa0                            \n",
      "\n",
      "*cf:    real           74480    dna0                            \n",
      "\n",
      "*cf:    real           74480    vsa0                            \n",
      "\n",
      "*cf:    real          148960    vla0                            \n",
      "\n",
      "*cf:    real            7448    csig_an                         \n",
      "\n",
      "*cf:    real            7448    calf_an                         \n",
      "\n",
      "*cf:    int                1    nstra                           \n",
      "\n",
      "*cf:    real             441    sclstra                         \n",
      "\n",
      "*cf:    real             441    sclrtio                         \n",
      "\n"
     ]
    }
   ],
   "source": [
    "for i in range(0, full_length):  \n",
    "    dum = line[i].split()\n",
    "    dum2 = len(dum)\n",
    "    for j in range(6):\n",
    "        if j+1<=len(dum):\n",
    "            dum3 = dum[j]\n",
    "            try:\n",
    "                raw_data[i,j] = dum3\n",
    "            except ValueError as m:\n",
    "                raw_data[i,j] = 0\n",
    "                print(line[i])\n",
    "                break;\n",
    "        elif j+1>len(dum):\n",
    "            continue"
   ]
  },
  {
   "cell_type": "code",
   "execution_count": 10,
   "id": "bc2fbbe1-f2bc-4914-95bd-bce5d5dc0515",
   "metadata": {},
   "outputs": [
    {
     "data": {
      "text/plain": [
       "'*cf:    real            7448    fchvispar                       \\n'"
      ]
     },
     "execution_count": 10,
     "metadata": {},
     "output_type": "execute_result"
    }
   ],
   "source": [
    "line[352012]"
   ]
  },
  {
   "cell_type": "code",
   "execution_count": 11,
   "id": "ad0d0e0b-9bf5-4878-87df-1541d4195d1f",
   "metadata": {},
   "outputs": [
    {
     "data": {
      "text/plain": [
       "'fchvispar'"
      ]
     },
     "execution_count": 11,
     "metadata": {},
     "output_type": "execute_result"
    }
   ],
   "source": [
    "line[352012].split()[3]"
   ]
  },
  {
   "cell_type": "code",
   "execution_count": 12,
   "id": "ef4e7f38-3544-4dbc-8a8a-0eaa270e183f",
   "metadata": {},
   "outputs": [
    {
     "name": "stdout",
     "output_type": "stream",
     "text": [
      "first line 487962\n",
      "first line   0.0000000000000E+000 -1.8944807897094E-002 -4.0523927235595E-002 -3.0787905633617E-002 -2.5623423647821E-002 -2.3099737457342E-002\n",
      "\n",
      "last line 489203\n",
      "last line   1.3996379092211E+002 -2.6652644070069E-002\n",
      "\n",
      "data info ['*cf:', 'real', '7448', 'fht']\n",
      "data info 7448\n"
     ]
    }
   ],
   "source": [
    "check_array = np.empty((1,6))\n",
    "for ch in range(full_length):\n",
    "    if data_name in line[ch]:\n",
    "        position_start = ch+1\n",
    "    else:\n",
    "        continue\n",
    "        \n",
    "for ch2 in range(position_start+1,full_length):\n",
    "    try:\n",
    "        check_cf = line[ch2].split()\n",
    "        check_er = float(check_cf[0])\n",
    "    except ValueError as m:\n",
    "        position_end = ch2-1\n",
    "#        print(ch2)\n",
    "        break;    \n",
    "print(\"first line\", position_start)\n",
    "print(\"first line\", line[position_start])\n",
    "print(\"last line\", position_end)\n",
    "print(\"last line\", line[position_end])\n",
    "\n",
    "\n",
    "#print(line[position_end])\n",
    "check_length = line[position_start-1].split()\n",
    "tot_len =int(check_length[2])\n",
    "print(\"data info\",check_length)\n",
    "print(\"data info\",tot_len)\n",
    "\n",
    "\n"
   ]
  },
  {
   "cell_type": "markdown",
   "id": "81375113-0ec5-4531-ba1d-636bf65ab092",
   "metadata": {},
   "source": [
    "<span style=\"font-size:150%\"> **Check data's Location**</span>  "
   ]
  },
  {
   "cell_type": "code",
   "execution_count": 13,
   "id": "a24e6139-9149-4cc5-985e-b210d5c79a42",
   "metadata": {},
   "outputs": [
    {
     "name": "stdout",
     "output_type": "stream",
     "text": [
      "first line 487962\n",
      "first line   0.0000000000000E+000 -1.8944807897094E-002 -4.0523927235595E-002 -3.0787905633617E-002 -2.5623423647821E-002 -2.3099737457342E-002\n",
      "\n",
      "last line 489203\n",
      "last line   1.3996379092211E+002 -2.6652644070069E-002\n",
      "\n",
      "data info ['*cf:', 'real', '7448', 'fht']\n",
      "data info 7448\n"
     ]
    }
   ],
   "source": [
    "check_array = np.empty((1,6))\n",
    "for ch in range(full_length):\n",
    "    if data_name in line[ch]:\n",
    "        if line[ch].split()[3]==data_name:\n",
    "            position_start = ch+1\n",
    "            break;\n",
    "        else:\n",
    "            continue\n",
    "    else:\n",
    "        continue\n",
    "        \n",
    "for ch2 in range(position_start+1,full_length):\n",
    "    try:\n",
    "        check_cf = line[ch2].split()\n",
    "        check_er = float(check_cf[0])\n",
    "    except ValueError as m:\n",
    "        position_end = ch2-1\n",
    "#        print(ch2)\n",
    "        break;    \n",
    "print(\"first line\", position_start)\n",
    "print(\"first line\", line[position_start])\n",
    "print(\"last line\", position_end)\n",
    "print(\"last line\", line[position_end])\n",
    "\n",
    "\n",
    "#print(line[position_end])\n",
    "check_length = line[position_start-1].split()\n",
    "tot_len =int(check_length[2])\n",
    "print(\"data info\",check_length)\n",
    "print(\"data info\",tot_len)\n",
    "\n"
   ]
  },
  {
   "cell_type": "code",
   "execution_count": 14,
   "id": "313cb633-c60e-42fc-aaa5-2cad2c1e9dbd",
   "metadata": {},
   "outputs": [
    {
     "name": "stdout",
     "output_type": "stream",
     "text": [
      "  0.0000000000000E+000 -1.8944807897094E-002 -4.0523927235595E-002 -3.0787905633617E-002 -2.5623423647821E-002 -2.3099737457342E-002\n",
      "\n"
     ]
    }
   ],
   "source": [
    "print(line[position_start])"
   ]
  },
  {
   "cell_type": "code",
   "execution_count": 15,
   "id": "9e4deff7-1b68-4ddd-811f-f55832a2f707",
   "metadata": {},
   "outputs": [],
   "source": [
    "selected_length = position_end-position_start\n",
    "selected_data = np.zeros((selected_length+1,6))\n",
    "\n",
    "for i in range(position_start, position_end+1):\n",
    "    dum = line[i].split()\n",
    "    #print(line[i])\n",
    "    dum2 = len(dum)\n",
    "    for j in range(dum2):\n",
    "        dum3 = dum[j]\n",
    "        selected_data[i-position_start,j] = dum3    \n",
    "    \n",
    "#    for j in range(6):\n",
    "#        if j+1<=len(dum):\n",
    "#            dum3 = dum[j]\n",
    "#            try:\n",
    "#                selected_data[i-position_start,j] = dum3\n",
    "#            except ValueError as m:\n",
    "#                selected_data[i-position_start,j] = 0.0\n",
    "#            #print(dum3)\n",
    "#        elif j+1>len(dum):\n",
    "#            continue"
   ]
  },
  {
   "cell_type": "code",
   "execution_count": null,
   "id": "ebd1ec3c-a0bf-432e-bb57-4391a1678153",
   "metadata": {},
   "outputs": [],
   "source": []
  },
  {
   "cell_type": "code",
   "execution_count": 16,
   "id": "f8d1bb60-a9aa-451e-9b68-b3d47ca6e057",
   "metadata": {},
   "outputs": [
    {
     "name": "stdout",
     "output_type": "stream",
     "text": [
      "['1.3996379092211E+002', '-2.6652644070069E-002']\n"
     ]
    }
   ],
   "source": [
    "print(line[position_end].split())"
   ]
  },
  {
   "cell_type": "code",
   "execution_count": 17,
   "id": "eac14ff4-7926-439f-a9ca-711abaecf3eb",
   "metadata": {},
   "outputs": [
    {
     "name": "stdout",
     "output_type": "stream",
     "text": [
      "0\n",
      "1\n",
      "2\n"
     ]
    }
   ],
   "source": [
    "for i in range(3):\n",
    "    print(i)"
   ]
  },
  {
   "cell_type": "code",
   "execution_count": null,
   "id": "181ecf08-d3dd-49ec-b055-f52c9b72dec5",
   "metadata": {},
   "outputs": [],
   "source": []
  },
  {
   "cell_type": "code",
   "execution_count": 18,
   "id": "46a04c54-c174-4f45-8863-fea9b60d2018",
   "metadata": {},
   "outputs": [
    {
     "data": {
      "text/plain": [
       "array([ 1.39963791e+02, -2.66526441e-02,  0.00000000e+00,  0.00000000e+00,\n",
       "        0.00000000e+00,  0.00000000e+00])"
      ]
     },
     "execution_count": 18,
     "metadata": {},
     "output_type": "execute_result"
    }
   ],
   "source": [
    "selected_data[1241,:]"
   ]
  },
  {
   "cell_type": "code",
   "execution_count": 19,
   "id": "176267d1-25ca-4a02-912e-7620c5605c0e",
   "metadata": {},
   "outputs": [
    {
     "name": "stdout",
     "output_type": "stream",
     "text": [
      "selected_data [[ 0.00000000e+00 -1.89448079e-02 -4.05239272e-02 -3.07879056e-02\n",
      "  -2.56234236e-02 -2.30997375e-02]\n",
      " [-2.17513692e-02 -2.25267182e-02 -2.22601948e-02 -2.15474372e-02\n",
      "  -2.13720638e-02 -2.54369800e+03]\n",
      " [-2.39608903e+03 -2.24531567e+03 -2.07895714e+03 -1.86794222e+03\n",
      "  -1.33459913e+03 -2.09576138e+02]\n",
      " ...\n",
      " [ 6.02938304e+02  6.93256824e+02  7.77150699e+02  8.65149222e+02\n",
      "   9.49486100e+02  1.00771382e+03]\n",
      " [ 1.01312082e+03  9.63899741e+02  8.74935016e+02  7.72915083e+02\n",
      "   6.33211618e+02  4.09695808e+02]\n",
      " [ 1.39963791e+02 -2.66526441e-02  0.00000000e+00  0.00000000e+00\n",
      "   0.00000000e+00  0.00000000e+00]]\n",
      "selected_data (1242, 6)\n",
      "1241\n",
      "(1242, 6)\n",
      "data len :  7452\n",
      "before end   1.0131208195827E+003  9.6389974111435E+002  8.7493501563348E+002  7.7291508257807E+002  6.3321161848019E+002  4.0969580841896E+002\n",
      "\n",
      "end   1.3996379092211E+002 -2.6652644070069E-002\n",
      "\n",
      "next data *cf:    real            7448    fhj                             \n",
      "\n",
      "start [-2.17513692e-02 -2.25267182e-02 -2.22601948e-02 -2.15474372e-02\n",
      " -2.13720638e-02 -2.54369800e+03]\n"
     ]
    }
   ],
   "source": [
    "print(\"selected_data\" , selected_data)\n",
    "print(\"selected_data\" , np.shape(selected_data))\n",
    "\n",
    "\n",
    "print(selected_length)\n",
    "print(np.shape(selected_data))\n",
    "numerical_len = np.shape(selected_data)[0]*np.shape(selected_data)[1]\n",
    "\n",
    "print(\"data len : \", numerical_len)\n",
    "print(\"before end\", line[position_end-1])\n",
    "print(\"end\", line[position_end])\n",
    "print(\"next data\", line[position_end+1])\n",
    "\n",
    "\n",
    "print(\"start\", raw_data[position_start+1,:])\n",
    "\n"
   ]
  },
  {
   "cell_type": "code",
   "execution_count": 20,
   "id": "c72dd38c-d82c-442b-9a81-ee870ff7bfd5",
   "metadata": {},
   "outputs": [
    {
     "name": "stdout",
     "output_type": "stream",
     "text": [
      "me [[ 0.        ]\n",
      " [-0.01894481]\n",
      " [-0.04052393]\n",
      " ...\n",
      " [ 0.        ]\n",
      " [ 0.        ]\n",
      " [ 0.        ]]\n",
      "de [ 0.00000000e+00 -1.89448079e-02 -4.05239272e-02 ...  4.09695808e+02\n",
      "  1.39963791e+02 -2.66526441e-02]\n",
      "(7452, 1)\n",
      "me check [0.]\n",
      "(7448,)\n",
      "de check -0.026652644070069\n"
     ]
    }
   ],
   "source": [
    "np.shape(selected_data)\n",
    "selected_data_merged = selected_data.reshape(numerical_len,1)\n",
    "selected_data_merged_deleted = selected_data_merged[:tot_len,0]\n",
    "\n",
    "print(\"me\",selected_data_merged)\n",
    "print(\"de\",selected_data_merged_deleted)\n",
    "print(np.shape(selected_data_merged))\n",
    "print(\"me check\",selected_data_merged[7451])\n",
    "print(np.shape(selected_data_merged_deleted))\n",
    "print(\"de check\",selected_data_merged_deleted[7447])\n",
    "\n"
   ]
  },
  {
   "cell_type": "code",
   "execution_count": null,
   "id": "5a83bf0d-6403-4847-9810-81eab161cae3",
   "metadata": {},
   "outputs": [],
   "source": []
  },
  {
   "cell_type": "code",
   "execution_count": 21,
   "id": "59629308-ef69-45f5-a51c-b68036ee2bd2",
   "metadata": {},
   "outputs": [
    {
     "name": "stdout",
     "output_type": "stream",
     "text": [
      "[-3.07879056e-02 -5.87375108e+01 -7.53782905e+01 -9.49025817e+01\n",
      " -1.16411800e+02 -1.42208751e+02 -1.73230022e+02 -2.06692999e+02\n",
      " -2.50653445e+02 -3.00114422e+02 -3.54010841e+02 -4.17326713e+02\n",
      " -4.91178910e+02 -5.96258030e+02 -7.59031299e+02 -1.01855153e+03\n",
      " -1.38628851e+03 -1.76063374e+03 -1.69830813e+03 -2.48813161e+03\n",
      " -6.65209115e+03 -2.13861494e+04 -4.31009032e+04 -5.18930485e+04\n",
      " -5.19173215e+04 -5.03101161e+04 -4.74516115e+04 -4.58417688e+04\n",
      " -4.46627351e+04 -4.32395811e+04 -4.16845525e+04 -3.85614422e+04\n",
      " -3.62535061e+04 -3.49802111e+04 -3.23802375e+04 -2.94372640e+04\n",
      " -2.46260881e+04 -3.29746712e+01]\n"
     ]
    }
   ],
   "source": [
    "selected_data_final = selected_data_merged_deleted.reshape(ns, ny+2,nx+2)\n",
    "\n",
    "print(selected_data_final[0,:,3])"
   ]
  },
  {
   "cell_type": "code",
   "execution_count": 22,
   "id": "4a885de9-2e61-4845-a3f2-9c9405cc19c1",
   "metadata": {},
   "outputs": [
    {
     "data": {
      "text/plain": [
       "str"
      ]
     },
     "execution_count": 22,
     "metadata": {},
     "output_type": "execute_result"
    }
   ],
   "source": [
    "type(data_name)"
   ]
  },
  {
   "cell_type": "code",
   "execution_count": 23,
   "id": "0ff8c064-e7fc-4aa9-a0a5-655c523b9944",
   "metadata": {},
   "outputs": [
    {
     "name": "stdout",
     "output_type": "stream",
     "text": [
      "[[[ 0.00000000e+00 -1.89448079e-02 -4.05239272e-02 ...  4.28916603e-02\n",
      "    5.30307194e-02  5.95620401e-02]\n",
      "  [ 0.00000000e+00 -6.10649925e+01 -6.06250335e+01 ...  3.05651152e+02\n",
      "    3.85371704e+02  3.82917168e+02]\n",
      "  [ 0.00000000e+00 -7.87834493e+01 -7.76843194e+01 ...  3.36054281e+02\n",
      "    4.10757818e+02  4.33291199e+02]\n",
      "  ...\n",
      "  [ 0.00000000e+00 -2.75299941e+04 -2.83763731e+04 ...  5.32747271e+03\n",
      "    5.54492538e+03  5.52444771e+03]\n",
      "  [ 0.00000000e+00 -2.37299983e+04 -2.40342360e+04 ...  3.30990814e+03\n",
      "    3.44952665e+03  3.51481799e+03]\n",
      "  [ 0.00000000e+00  1.59062704e+00 -1.34447175e+01 ...  5.93098357e-02\n",
      "    2.92284065e-01  2.81592385e-01]]\n",
      "\n",
      " [[ 0.00000000e+00  0.00000000e+00  0.00000000e+00 ...  0.00000000e+00\n",
      "    0.00000000e+00  0.00000000e+00]\n",
      "  [-1.74011661e-03 -4.36156580e+00 -1.23705282e+01 ... -1.87380272e+02\n",
      "   -5.47312122e+01 -1.39128893e-02]\n",
      "  [-2.56385871e-03 -5.09885097e+00 -1.40529095e+01 ... -2.55512994e+02\n",
      "   -5.36561395e+01  2.89467386e-02]\n",
      "  ...\n",
      "  [-6.13506048e-01  1.43597896e+02  4.71788056e+02 ...  1.18624366e+03\n",
      "    4.75447517e+02  7.96083928e-02]\n",
      "  [-2.56276882e-01  1.04981107e+02  3.16942758e+02 ...  7.31365309e+02\n",
      "    3.26286696e+02  1.87182665e-01]\n",
      "  [ 1.91156655e-01  1.06721878e+02  2.86443519e+02 ...  4.09695808e+02\n",
      "    1.39963791e+02 -2.66526441e-02]]]\n"
     ]
    },
    {
     "data": {
      "image/png": "[encoded data removed]",
      "text/plain": [
       "<Figure size 432x288 with 2 Axes>"
      ]
     },
     "metadata": {
      "needs_background": "light"
     },
     "output_type": "display_data"
    }
   ],
   "source": [
    "print(selected_data_final)\n",
    "map_plot = plt.pcolormesh(selected_data_final[0,:,:])\n",
    "plt.savefig(data_name)\n",
    "plt.title(data_name)\n",
    "plt.colorbar()\n",
    "#plt.show()\n",
    "np.save(\"./../output_new/output_con_Ne_0/%s_%s\" %(data_name,fname_or), selected_data_final)"
   ]
  },
  {
   "cell_type": "code",
   "execution_count": 24,
   "id": "73864c8f-82c0-453c-afe9-254d591d0cfc",
   "metadata": {},
   "outputs": [
    {
     "name": "stdout",
     "output_type": "stream",
     "text": [
      "I love fht in \n"
     ]
    }
   ],
   "source": [
    "print(\"I love %s in \" % data_name)"
   ]
  },
  {
   "cell_type": "code",
   "execution_count": null,
   "id": "b0c05d9f-3717-4bd6-9c63-a32f54b509e9",
   "metadata": {},
   "outputs": [],
   "source": []
  },
  {
   "cell_type": "code",
   "execution_count": 25,
   "id": "bca090ec-37da-49ad-a45a-316bcdcee2c9",
   "metadata": {},
   "outputs": [
    {
     "name": "stdout",
     "output_type": "stream",
     "text": [
      "[ 1.  2.  3.  4.  5.  6.  7.  8.  9. 10. 11. 12. 13. 14. 15. 16. 17. 18.\n",
      " 19. 20. 21. 22. 23. 24. 25. 26. 27. 28. 29. 30. 31. 32. 33. 34. 35. 36.\n",
      " 37. 38. 39. 40. 41. 42. 43. 44. 45. 46. 47. 48. 49. 50. 51. 52. 53. 54.\n",
      " 55. 56. 57. 58. 59. 60. 61. 62. 63. 64. 65. 66. 67. 68. 69. 70. 71. 72.\n",
      " 73. 74. 75. 76. 77. 78. 79. 80. 81. 82. 83. 84. 85. 86. 87. 88. 89. 90.\n",
      " 91. 92. 93. 94. 95. 96. 97. 98.]\n",
      "[ 1.  2.  3.  4.  5.  6.  7.  8.  9. 10. 11. 12. 13. 14. 15. 16. 17. 18.\n",
      " 19. 20. 21. 22. 23. 24. 25. 26. 27. 28. 29. 30. 31. 32. 33. 34. 35. 36.\n",
      " 37. 38.]\n"
     ]
    }
   ],
   "source": [
    "x_axis = np.linspace(1,98,98)\n",
    "print(x_axis)\n",
    "y_axis = np.linspace(1,38,38)\n",
    "print(y_axis)"
   ]
  },
  {
   "cell_type": "markdown",
   "id": "95f6a119-a7e9-4c0a-867f-0ddd174d5bb0",
   "metadata": {},
   "source": [
    "<span style= \"color:#FFA500;font-size:130%\"> sumy code</span>  "
   ]
  },
  {
   "cell_type": "code",
   "execution_count": 26,
   "id": "a4c95890-f22d-498d-9d39-9687a252f644",
   "metadata": {},
   "outputs": [
    {
     "data": {
      "image/png": "[encoded data removed]",
      "text/plain": [
       "<Figure size 432x288 with 1 Axes>"
      ]
     },
     "metadata": {
      "needs_background": "light"
     },
     "output_type": "display_data"
    },
    {
     "name": "stdout",
     "output_type": "stream",
     "text": [
      "[      0.         -336073.47586126 -395679.17981307 -656799.68248649\n",
      " -676666.52809023 -717189.38695131 -726769.24787559 -744154.14296867\n",
      " -753152.33936425 -759611.80781917 -762173.53573299 -972494.46942431\n",
      " -970458.89842583 -967953.0526401  -966256.56874714 -965087.22955878\n",
      " -962447.68753242 -956579.77328067 -947713.76487947 -935276.97663823\n",
      " -919177.83730065 -900231.13458041 -879121.9807296  -856747.61303352\n",
      " -832599.87123449 -807094.41669011 -780192.80747511 -751617.73552478\n",
      " -721549.69889025 -690051.53751929 -657183.53410008 -624050.47419323\n",
      " -588933.92476559 -552915.3878786  -515992.33339734 -477942.69043658\n",
      " -438945.92813794 -399702.76993644 -364341.16929138 -337243.01546887\n",
      " -309818.8081224  -272753.74044014 -231789.82166279 -186417.15070403\n",
      " -137111.87024544  -85596.39997113  -31821.44169357   22538.48795543\n",
      "   75645.58561525  129127.31800939  183100.8669033   234793.94623822\n",
      "  286476.14290189  336181.9095504   385857.88857109  432791.59432601\n",
      "  477670.52687154  519638.46426103  558979.80304429  593733.29883071\n",
      "  624740.62418374  651677.87993067  674207.85985329  694372.83399677\n",
      "  712722.41374721  728449.52480752  743176.64998995  753810.95885826\n",
      "  759948.37884956  762930.70571263  763402.91182693  762306.91132179\n",
      "  761172.87296361  759557.37142363  757589.89021595  756672.42283092\n",
      "  756631.64163017  965857.32840105  963322.88790387  959142.91797059\n",
      "  952499.82580991  942655.02634901  927955.82144218  907722.14719856\n",
      "  883937.85209846  856585.92823771  826698.2072469   793191.86041623\n",
      "  755297.68043791  709767.60129134  651895.79394634  576839.48908263\n",
      "  489480.49479858  385231.03828351  282249.51412021  233983.39917893\n",
      "  202839.72075036  181417.87636419]\n"
     ]
    }
   ],
   "source": [
    "selected_data_final_sum = np.cumsum(selected_data_final,axis=1)\n",
    "a = 21\n",
    "b = 10\n",
    "\n",
    "#the point i want to sum\n",
    "thevalue = 14\n",
    "x_sumy = x_axis\n",
    "selected_data_final_sumy = np.zeros((2,ny+2,nx+2))\n",
    "for i in range(ny+2):\n",
    "    selected_data_final_sumy[0,i,:] = selected_data_final_sum[0,ny+1,:] \n",
    "#    selected_data_final_sumy[1,i,:] = selected_data_final_sum[1,ny+1,:]\n",
    "    \n",
    "y = selected_data_final_sum[0,ny+1,:]\n",
    "\n",
    "\n",
    "plt.plot(x_sumy, y)\n",
    "#plt.yscale('symlog')\n",
    "#plt.ylabel('symlogx')\n",
    "#plt.grid(True)\n",
    "#plt.gca().xaxis.grid(True, which='minor')  # minor grid on too\n",
    "#plt.grid()\n",
    "plt.show()\n",
    "\n",
    "#Q = selected_data_final_plot[:,a,1]\n",
    "#P = selected_data_final_plot[:,b,1]\n",
    "print(y)\n",
    "\n",
    "#print(sum(rel_entr(Q, P)))"
   ]
  },
  {
   "cell_type": "code",
   "execution_count": null,
   "id": "4d4f5361-a3ea-4ba2-89b8-a4d3279747c9",
   "metadata": {},
   "outputs": [],
   "source": []
  },
  {
   "cell_type": "code",
   "execution_count": null,
   "id": "ee9cfa41-3ac2-4935-8ee0-89464eae4d06",
   "metadata": {},
   "outputs": [],
   "source": []
  },
  {
   "cell_type": "code",
   "execution_count": null,
   "id": "f32d0c95-009d-49dc-bb59-ed9949b8a502",
   "metadata": {},
   "outputs": [],
   "source": []
  },
  {
   "cell_type": "code",
   "execution_count": null,
   "id": "beb49e05-3679-4e67-8003-6f53baf91c0c",
   "metadata": {},
   "outputs": [],
   "source": []
  },
  {
   "cell_type": "markdown",
   "id": "bc2366d5-1b6c-4db1-a110-0ec414765425",
   "metadata": {},
   "source": [
    "<span style= \"color:#FFA500;font-size:130%\"> sumx code</span>  "
   ]
  },
  {
   "cell_type": "code",
   "execution_count": 27,
   "id": "dd5cd222-ce63-4ba1-89f1-683a7d06b7e0",
   "metadata": {},
   "outputs": [
    {
     "data": {
      "image/png": "[encoded data removed]",
      "text/plain": [
       "<Figure size 432x288 with 1 Axes>"
      ]
     },
     "metadata": {
      "needs_background": "light"
     },
     "output_type": "display_data"
    }
   ],
   "source": [
    "selected_data_final_sum = selected_data_final.cumsum(axis=2)\n",
    "\n",
    "#the point i want to sum\n",
    "thevalue = 20\n",
    "\n",
    "x_sumx = y_axis\n",
    "selected_data_final_sumx = np.zeros((2,ny+2,nx+2))\n",
    "for i in range(nx+2):\n",
    "    selected_data_final_sumx[0,:,i] = selected_data_final_sum[0,:,nx+1] \n",
    "    selected_data_final_sumx[1,:,i] = selected_data_final_sum[1,:,nx+1]\n",
    "\n",
    "y = selected_data_final_sumx[0,:,thevalue]\n",
    "\n",
    "\n",
    "plt.plot(x_sumx, y)\n",
    "#plt.yscale('symlog')\n",
    "#plt.ylabel('symlogx')\n",
    "plt.grid(True)\n",
    "plt.gca().xaxis.grid(True, which='minor')  # minor grid on too\n",
    "plt.grid()\n",
    "plt.show()"
   ]
  },
  {
   "cell_type": "markdown",
   "id": "1b258eef-1564-4c8a-a15f-a6f9226a6155",
   "metadata": {},
   "source": [
    "<span style=\"color:#87cefa; font-size:150%\"> Heat flux calculation</span> "
   ]
  },
  {
   "cell_type": "code",
   "execution_count": null,
   "id": "f57383c4-5943-4be1-98d2-c4383a4bc758",
   "metadata": {},
   "outputs": [],
   "source": []
  },
  {
   "cell_type": "markdown",
   "id": "d67d3e82-6572-4ea8-9b95-b294a2766bd4",
   "metadata": {},
   "source": [
    "<span style=\"font-size:130%\"> Poloidal Flux</span> "
   ]
  },
  {
   "cell_type": "markdown",
   "id": "b31200a5-e621-43dd-9fe6-f8387f045cab",
   "metadata": {},
   "source": [
    "<span style=\"font-size:130%\"> Radial Flux</span> "
   ]
  }
 ],
 "metadata": {
  "kernelspec": {
   "display_name": "Python 3 (ipykernel)",
   "language": "python",
   "name": "python3"
  },
  "language_info": {
   "codemirror_mode": {
    "name": "ipython",
    "version": 3
   },
   "file_extension": ".py",
   "mimetype": "text/x-python",
   "name": "python",
   "nbconvert_exporter": "python",
   "pygments_lexer": "ipython3",
   "version": "3.9.12"
  },
  "toc-autonumbering": true,
  "toc-showmarkdowntxt": true,
  "toc-showtags": true
 },
 "nbformat": 4,
 "nbformat_minor": 5
}
