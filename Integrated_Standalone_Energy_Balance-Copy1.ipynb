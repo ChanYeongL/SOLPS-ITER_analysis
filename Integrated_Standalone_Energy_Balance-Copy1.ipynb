{
 "cells": [
  {
   "cell_type": "code",
   "execution_count": 1,
   "id": "7bc6c5c3-750e-43ca-9d61-3229edb833c2",
   "metadata": {},
   "outputs": [],
   "source": [
    "import numpy as np\n",
    "import matplotlib.pyplot as plt\n",
    "import matplotlib.ticker as ticker\n",
    "import pickle\n",
    "from mpl_toolkits.mplot3d import axes3d\n",
    "\n",
    "import seaborn as sns\n",
    "import matplotlib.patches as patches\n",
    "import netCDF4\n",
    "import paramiko"
   ]
  },
  {
   "cell_type": "code",
   "execution_count": 3,
   "id": "773ab6e3-5a17-4afb-906d-9b2ad243166c",
   "metadata": {},
   "outputs": [
    {
     "name": "stdin",
     "output_type": "stream",
     "text": [
      "Insert ID :  chanyeong\n",
      "Insert P.W :  satirev147\n"
     ]
    },
    {
     "name": "stdout",
     "output_type": "stream",
     "text": [
      "ssh ws4 connected\n"
     ]
    }
   ],
   "source": [
    "fname_list = list()\n",
    "fpath_list = list()\n",
    "base_list  = list()\n",
    "\n",
    "ssh = paramiko.SSHClient()\n",
    "ssh.set_missing_host_key_policy(paramiko.AutoAddPolicy)\n",
    "fname_list.append(\"co_Ne_0\")\n",
    "fpath_list.append(\"/home/chanyeong/solps-iter/runs/conventionalgeo_Ne_zero\")\n",
    "    \n",
    "fname_list.append(\"new_mesh_al_Ne_0\")\n",
    "fpath_list.append(\"/home/chanyeong/solps-iter/runs/SAS_Ne_zero\")\n",
    "\n",
    "\n",
    "ID = input(\"Insert ID : \")\n",
    "pw =  getpass.getpass(\"Insert P.W : \")\n",
    "\n",
    "ssh.connect(\"143.248.99.71\",username=\"%s\" %ID,password=\"%s\" %pw)\n",
    "print('ssh ws4 connected')\n",
    "sftp = ssh.open_sftp()"
   ]
  },
  {
   "cell_type": "code",
   "execution_count": 8,
   "id": "d07ddaee-917c-4f09-9f85-84d5c81d6f29",
   "metadata": {},
   "outputs": [],
   "source": [
    "data_list.append(\"fht\")\n",
    "nx = 96\n",
    "ny = 36\n",
    "ns = 20\n",
    "\n",
    "def find_ni(fname):\n",
    "    with open(fname) as f:\n",
    "        line = f.readlines()\n",
    "        print(line)\n",
    "    return line\n",
    "\n",
    "for data_ran in range(len(fname_list)):\n",
    "\tdum_name = fname_list[data_ran]\n",
    "\tfname    =  \"./b2fplasmf_%s.txt\"    %fname_list[data_ran]\n",
    "\tfile     = sftp.get('/%s/b2fplasmf' %fpath_list[data_ran], '%s' %fname)\n",
    "    nc_file  = sftp.get('/%s/balance.nc'%fpath_list[data_ran], '%s_balance.nc' %fname)\n",
    "\twith open(fname,'r') as f:\n",
    "\t\tline = f.readlines()    \n",
    "\ta=type(line)\n",
    "\tk = len(line)\n",
    "\tdata_array  = np.array(line)\n",
    "\tfull_length = np.size(data_array)\n",
    "\n",
    "\tfor var_ran in range(len(data_list)):\n",
    "\t\tdata_name = data_list[var_ran]\n",
    "\n",
    "\n",
    "\t\traw_data = np.empty((full_length,6))\n",
    "\n",
    "\t\tfor i in range(0, full_length):\n",
    "\n",
    "\t\t\tdum = line[i].split()\n",
    "\t\t\tdum2 = len(dum)\n",
    "\n",
    "\t\t\tfor j in range(6):\n",
    "\t\t\t\tif j+1<=len(dum):\n",
    "\t\t\t\t\tdum3 = dum[j]\n",
    "\n",
    "\t\t\t\t\ttry:\n",
    "\t\t\t\t\t\traw_data[i,j] = dum3\n",
    "\t\t\t\t\texcept ValueError as m:\n",
    "\t\t\t\t\t\traw_data[i,j] = 0\n",
    "                    #print(dum3)\n",
    "\t\t\t\telif j+1>len(dum):\n",
    "\t\t\t\t\tcontinue\n",
    "\n",
    "\t\tfor i in range(0, full_length):  \n",
    "\t\t\tdum = line[i].split()\n",
    "\t\t\tdum2 = len(dum)\n",
    "\t\t\tfor j in range(6):\n",
    "\t\t\t\tif j+1<=len(dum):\n",
    "\t\t\t\t\tdum3 = dum[j]\n",
    "\t\t\t\t\ttry:\n",
    "\t\t\t\t\t\traw_data[i,j] = dum3\n",
    "\t\t\t\t\texcept ValueError as m:\n",
    "\t\t\t\t\t\traw_data[i,j] = 0\n",
    "                        #print(line[i])\n",
    "\t\t\t\t\t\tbreak;\n",
    "\t\t\t\telif j+1>len(dum):\n",
    "\t\t\t\t\tcontinue\n",
    "\n",
    "\t\tcheck_array = np.empty((1,6))\n",
    "\t\tfor ch in range(full_length):\n",
    "\t\t\tif data_name in line[ch]:\n",
    "\t\t\t\tif line[ch].split()[3]==data_name:\n",
    "\t\t\t\t\tposition_start = ch+1\n",
    "\t\t\t\t\tbreak;\n",
    "\t\t\t\telse:\n",
    "\t\t\t\t\tcontinue\n",
    "\t\t\telse:\n",
    "\t\t\t\tcontinue\n",
    "\n",
    "\t\tfor ch2 in range(position_start+1,full_length):\n",
    "\t\t\ttry:\n",
    "\t\t\t\tcheck_cf = line[ch2].split()\n",
    "\t\t\t\tcheck_er = float(check_cf[0])\n",
    "\t\t\texcept ValueError as m:\n",
    "\t\t\t\tposition_end = ch2-1\n",
    "        #        print(ch2)\n",
    "\t\t\t\tbreak;\n",
    "\n",
    "        #print(line[position_end])\n",
    "\t\tcheck_length = line[position_start-1].split()\n",
    "\t\ttot_len =int(check_length[2])\n",
    "\n",
    "\n",
    "\n",
    "\n",
    "\t\tline[250193].split()[3] == data_name\n",
    "\n",
    "\n",
    "\t\tselected_length = position_end-position_start\n",
    "\t\tselected_data = np.zeros((selected_length+1,6))\n",
    "\n",
    "\t\tfor i in range(position_start, position_end+1):\n",
    "\t\t\tdum = line[i].split()\n",
    "            #print(line[i])\n",
    "\t\t\tdum2 = len(dum)\n",
    "\t\t\tfor j in range(dum2):\n",
    "\t\t\t\tdum3 = dum[j]\n",
    "\t\t\t\tselected_data[i-position_start,j] = dum3    \n",
    "\n",
    "        #    for j in range(6):\n",
    "        #        if j+1<=len(dum):\n",
    "        #            dum3 = dum[j]\n",
    "        #            try:\n",
    "        #                selected_data[i-position_start,j] = dum3\n",
    "        #            except ValueError as m:\n",
    "        #                selected_data[i-position_start,j] = 0.0\n",
    "        #            #print(dum3)\n",
    "        #        elif j+1>len(dum):\n",
    "        #            continue\n",
    "\n",
    "\n",
    "\n",
    "\t\tnumerical_len = np.shape(selected_data)[0]*np.shape(selected_data)[1]\n",
    "\n",
    "\t\tnp.shape(selected_data)\n",
    "\t\tselected_data_merged = selected_data.reshape(numerical_len,1)\n",
    "\t\tselected_data_merged_deleted = selected_data_merged[:tot_len,0]\n",
    "\n",
    "\n",
    "\t\tif check_length[2] == '3724':\n",
    "\t\t\tselected_data_final = selected_data_merged_deleted.reshape(ny+2,nx+2)\n",
    "\t\telif check_length[2]== '7448':\n",
    "\t\t\tselected_data_final = selected_data_merged_deleted.reshape(2, ny+2,nx+2)\n",
    "\t\telse:\n",
    "\t\t\tselected_data_final = selected_data_merged_deleted.reshape(ns, ny+2,nx+2)\n",
    "\n",
    "\t\tnp.save(\"./fht_%s.npy\" %fname, selected_data_final)\n",
    "\n",
    "        #selected_data_final = selected_data_merged_deleted.reshape(ns, ny+2,nx+2)\n",
    "\n",
    "        #print(selected_data_final[0,:,3])\n",
    "\n",
    "        #selected_data_final[0,:,96]\n",
    "\n",
    "        #map_plot = plt.pcolormesh(selected_data_final[1,:,:])\n",
    "        #plt.savefig(data_name)\n",
    "        #plt.title(data_name)\n",
    "        #plt.colorbar()\n",
    "        #plt.show()\n",
    "\n",
    "\t\tx_axis = np.linspace(1,98,98)\n",
    "\t\ty_axis = np.linspace(1,38,38)\n",
    "\t\t\t\n",
    "\tdelete = \"rm %s\" %fname\n",
    "\tos.system(delete)\n",
    "ssh.close()"
   ]
  },
  {
   "cell_type": "code",
   "execution_count": 40,
   "id": "b55b3233-a584-4f00-b0c3-b2d85cb860ec",
   "metadata": {},
   "outputs": [],
   "source": [
    "def heat_flux(valname):\n",
    "    total_heat_loc = 1000000\n",
    "    fht_local = valname\n",
    "\n",
    "    heat_outer_diver = np.sum((fht_local[1,1:,96]))/total_heat_loc+np.sum((fht_local[0,1:,96]))/total_heat_loc\n",
    "\n",
    "    heat_inner_diver = np.sum((fht_local[1,1:,1]))/total_heat_loc+np.sum((fht_local[0,1:,1]))/total_heat_loc\n",
    "\n",
    "    heat_PRF = (np.sum((fht_local[1,1,77:]))+np.sum((fht_local[1,1,:11])))/total_heat_loc\n",
    "\n",
    "    sol_heat = (np.sum(fht_local[0,37,:])+np.sum(fht_local[1,37,:]))/total_heat_loc\n",
    "\n",
    "    core_heat = (np.sum((fht_local[0,0,11:77]))+np.sum((fht_local[1,0,11:77])))/total_heat_loc\n",
    "\n",
    "    return heat_outer_diver,-heat_inner_diver,heat_PRF,sol_heat,-core_heat\n",
    "\n",
    "def Global_internal_energy_balance(fht,nc):\n",
    "\n",
    "    fht = np.load(\"./%s\" %fht)\n",
    "    total_fht = heat_flux(fht)\n",
    "    nc_balance = netCDF4.Dataset(nc)\n",
    "    eirene_mc_eael_she_bal = nc_balance['eirene_mc_eael_she_bal'][:]\n",
    "    eirene_mc_emel_she_bal = nc_balance['eirene_mc_emel_she_bal'][:]\n",
    "    eirene_mc_eiel_she_bal = nc_balance['eirene_mc_eiel_she_bal'][:]\n",
    "    eirene_mc_epel_she_bal = nc_balance['eirene_mc_epel_she_bal'][:]\n",
    "\n",
    "    eirene_mc_eapl_shi_bal = nc_balance['eirene_mc_eapl_shi_bal'][:]\n",
    "    eirene_mc_empl_shi_bal = nc_balance['eirene_mc_empl_shi_bal'][:]\n",
    "    eirene_mc_eipl_shi_bal = nc_balance['eirene_mc_eipl_shi_bal'][:]\n",
    "    eirene_mc_eppl_shi_bal = nc_balance['eirene_mc_eppl_shi_bal'][:]\n",
    "\n",
    "\n",
    "    def eirene_sum():\n",
    "        sum_eirene_mc_eael_she_bal = np.sum(eirene_mc_eael_she_bal)\n",
    "        sum_eirene_mc_emel_she_bal = np.sum(eirene_mc_emel_she_bal)\n",
    "        sum_eirene_mc_eiel_she_bal = np.sum(eirene_mc_eiel_she_bal)\n",
    "        sum_eirene_mc_epel_she_bal = np.sum(eirene_mc_epel_she_bal)\n",
    "\n",
    "        sum_eirene_mc_eapl_shi_bal = np.sum(eirene_mc_eapl_shi_bal)\n",
    "        sum_eirene_mc_empl_shi_bal = np.sum(eirene_mc_empl_shi_bal)\n",
    "        sum_eirene_mc_eipl_shi_bal = np.sum(eirene_mc_eipl_shi_bal)\n",
    "        sum_eirene_mc_eppl_shi_bal = np.sum(eirene_mc_eppl_shi_bal)\n",
    "\n",
    "        return (sum_eirene_mc_eael_she_bal+sum_eirene_mc_emel_she_bal+sum_eirene_mc_eiel_she_bal+sum_eirene_mc_epel_she_bal +sum_eirene_mc_eapl_shi_bal+sum_eirene_mc_eapl_shi_bal+sum_eirene_mc_eapl_shi_bal+sum_eirene_mc_eapl_shi_bal)/1000000\n",
    "\n",
    "    def radiation_loss():\n",
    "        stel_terms  = np.sum(nc_balance['b2stel_she_bal'][:])+np.sum(nc_balance['b2stel_she_ion_bal'][:])+np.sum(nc_balance['b2stel_she_rec_bal'][:])+np.sum(nc_balance['b2stel_shi_ion_bal'][:])+np.sum(nc_balance['b2stel_shi_rec_bal'][:]) \n",
    "        return (stel_terms/1000000)\n",
    "\n",
    "    \n",
    "    def other_source():\n",
    "        heat_source = np.sum(nc_balance['b2srst_shi_bal'][:])+np.sum(nc_balance['b2srst_she_bal'][:])\n",
    "        joule = np.sum(nc_balance['b2sihs_joule_bal'][:])\n",
    "        div   = np.sum(nc_balance['b2sihs_divue_bal'][:])+np.sum(nc_balance['b2sihs_divua_bal'][:])\n",
    "\n",
    "        return (heat_source+joule+div)/1000000\n",
    "\n",
    "    def heating_terms(): #these terms are heat \"into\" the plasma\n",
    "        fraa     = np.sum(nc_balance['b2sihs_fraa_bal'][:])\n",
    "        visa     = np.sum(nc_balance['b2sihs_visa_bal'][:])\n",
    "        srdt_shi = np.sum(nc_balance['b2srdt_shi_bal'][:])\n",
    "        srdt_she = np.sum(nc_balance['b2srdt_she_bal'][:])\n",
    "        return (fraa+visa+srdt_shi+srdt_she)/1000000\n",
    "    \n",
    "    \n",
    "#    print(sum(heat_flux(total_fhe)))\n",
    "#    print(sum(heat_flux(total_fhi)))\n",
    "\n",
    "#    plt.title(\"Energy Balance\")\n",
    "#    x = [r'$P_{t, out}$',r'$P_{t, in}$',r'$P_{t, radial}$',r'$P_{neutral-plasma interaction}$',r'$P_{radiation}$',r'$P_{etc}$']\n",
    "#    y = [heat_flux(fht)[0],heat_flux(fht)[1],heat_flux(fht)[2]+heat_flux(fht)[3]+heat_flux(fht)[4],-eirene_sum(),-radiation_loss(),-other_source()]\n",
    "#    plt.bar(x,y)\n",
    "#    plt.axhline(color = 'black',linewidth = 0.5)\n",
    "\n",
    "    plt.show()\n",
    "    return [heat_flux(fht)[0],heat_flux(fht)[1],heat_flux(fht)[2]+heat_flux(fht)[3]+heat_flux(fht)[4],-eirene_sum(),-radiation_loss(),-other_source()]\n",
    "\n",
    "fname_list = list()\n",
    "fname_list.append(\"co_Ne_0_KSTAR\")\n",
    "fname_list.append(\"new_mesh_al_Ne_0_KSTAR\")"
   ]
  },
  {
   "cell_type": "code",
   "execution_count": 69,
   "id": "fe1c538b-d980-4ed6-8070-8fc6cd8c0b38",
   "metadata": {},
   "outputs": [
    {
     "data": {
      "image/png": "[encoded data removed]",
      "text/plain": [
       "<Figure size 432x288 with 1 Axes>"
      ]
     },
     "metadata": {
      "needs_background": "light"
     },
     "output_type": "display_data"
    }
   ],
   "source": [
    "out_div = np.zeros(len(fname_list))\n",
    "in_div = np.zeros(len(fname_list))\n",
    "\n",
    "neutral_loss = np.zeros(len(fname_list))\n",
    "rad_loss = np.zeros(len(fname_list))\n",
    "other = np.zeros(len(fname_list))\n",
    "\n",
    "\n",
    "\n",
    "for k in range(len(fname_list)):\n",
    "    fht_name = \"fht_b2fplasmf_%s.npy\" %fname_list[k]\n",
    "    nc_name = \"%s_balance.nc\" %fname_list[k]\n",
    "    dat = Global_internal_energy_balance(fht_name,nc_name)\n",
    "    out_div[k]=dat[0]\n",
    "    in_div[k]=dat[1]\n",
    "    neutral_loss[k]=dat[2]\n",
    "    rad_loss[k]=dat[3]\n",
    "    other[k]=dat[4]\n",
    "\n",
    "name_array = [r'$P_{t, out}$',r'$P_{t, in}$',r'$P_{t, radial}$',r'$P_{neut}$',r'$P_{radiation}$',r'$P_{etc}$']\n",
    "\n",
    "data_array = [\"conv_KSTAR\", \"al_KSTAR\"]\n",
    "    \n",
    "power_data = [out_div,in_div,neutral_loss,rad_loss,other]\n",
    "x_axis = []\n",
    "for sp in range(len(fname_list)):\n",
    "    x_axis.append((sp+1)*0.4)\n",
    "\n",
    "for i in range(5):\n",
    "    plt.bar(\n",
    "        x_axis,\n",
    "        power_data[i],\n",
    "        # 누적하기 위해 bottom 업데이트\n",
    "        bottom=np.sum(power_data[:i], axis=0),\n",
    "        label = '%s' %name_array[i],\n",
    "        width = 0.3\n",
    "    )\n",
    "    plt.xticks(x_axis,data_array)\n",
    "    \n",
    "plt.title(\"Crude Power Balance\")\n",
    "plt.legend(loc=\"lower left\",bbox_to_anchor=(1.0,0.8))    \n",
    "plt.savefig(\"Crude_Power_Balance\")\n",
    "plt.show()"
   ]
  },
  {
   "cell_type": "code",
   "execution_count": 67,
   "id": "87651285-738d-4545-a32f-9e1b2954243a",
   "metadata": {},
   "outputs": [
    {
     "name": "stdout",
     "output_type": "stream",
     "text": [
      "[0.4, 0.8]\n"
     ]
    }
   ],
   "source": [
    "print(x_axis)"
   ]
  },
  {
   "cell_type": "code",
   "execution_count": 42,
   "id": "6a0575d8-527f-42be-bf65-4fd1f0f75bee",
   "metadata": {},
   "outputs": [
    {
     "name": "stdout",
     "output_type": "stream",
     "text": [
      "[0.42945349 0.1919932 ]\n",
      "[0.34748958 0.34442822]\n"
     ]
    }
   ],
   "source": [
    "print(out_div)\n",
    "print(in_div)"
   ]
  },
  {
   "cell_type": "code",
   "execution_count": 39,
   "id": "739a359c-bd2a-4678-8cff-8d3b70048eb9",
   "metadata": {},
   "outputs": [
    {
     "data": {
      "text/plain": [
       "numpy.ndarray"
      ]
     },
     "execution_count": 39,
     "metadata": {},
     "output_type": "execute_result"
    }
   ],
   "source": [
    "type(x)"
   ]
  },
  {
   "cell_type": "code",
   "execution_count": 43,
   "id": "58b6f8d8-9bd1-43f9-a19e-d1ebbda64f7a",
   "metadata": {},
   "outputs": [
    {
     "data": {
      "image/png": "[encoded data removed]",
      "text/plain": [
       "<Figure size 432x288 with 1 Axes>"
      ]
     },
     "metadata": {
      "needs_background": "light"
     },
     "output_type": "display_data"
    }
   ],
   "source": [
    "x = np.random.rand(10)\n",
    "y = np.random.rand(10)\n",
    "z = np.random.rand(10)\n",
    "k = np.random.rand(10)\n",
    "\n",
    "\n",
    "data = [x, y, z,k]\n",
    "data_name = [\"x\", \"y\", \"z\",\"k\"]\n",
    "\n",
    "\n",
    "x_array = np.arange(10)\n",
    "\n",
    "# 누적 막대 그래프 그리기\n",
    "for i in range(0, 4):\n",
    "    plt.bar(\n",
    "        x_array,\n",
    "        data[i],\n",
    "        # 누적하기 위해 bottom 업데이트\n",
    "        bottom=np.sum(data[:i], axis=0),\n",
    "        label = '%s' %data_name[i]\n",
    "        \n",
    "    )\n",
    "\n",
    "plt.legend()\n",
    "plt.show()"
   ]
  },
  {
   "cell_type": "code",
   "execution_count": null,
   "id": "9fa5170b-a8d6-4f18-9b32-1da59e2c3951",
   "metadata": {},
   "outputs": [],
   "source": []
  },
  {
   "cell_type": "code",
   "execution_count": 36,
   "id": "f3636ba8-0a5a-4c48-8f75-486775479902",
   "metadata": {},
   "outputs": [
    {
     "data": {
      "text/plain": [
       "list"
      ]
     },
     "execution_count": 36,
     "metadata": {},
     "output_type": "execute_result"
    }
   ],
   "source": [
    "type(data)"
   ]
  },
  {
   "cell_type": "code",
   "execution_count": 6,
   "id": "369a63a6-3ce1-437f-90a6-c88aab6a87d7",
   "metadata": {},
   "outputs": [
    {
     "ename": "NameError",
     "evalue": "name 'Global_internal_energy_balance' is not defined",
     "output_type": "error",
     "traceback": [
      "\u001b[0;31m---------------------------------------------------------------------------\u001b[0m",
      "\u001b[0;31mNameError\u001b[0m                                 Traceback (most recent call last)",
      "Input \u001b[0;32mIn [6]\u001b[0m, in \u001b[0;36m<cell line: 5>\u001b[0;34m()\u001b[0m\n\u001b[1;32m      6\u001b[0m fht_name \u001b[38;5;241m=\u001b[39m \u001b[38;5;124m\"\u001b[39m\u001b[38;5;124m./fht_\u001b[39m\u001b[38;5;132;01m%s\u001b[39;00m\u001b[38;5;124m.npy\u001b[39m\u001b[38;5;124m\"\u001b[39m \u001b[38;5;241m%\u001b[39mfname_list[k]\n\u001b[1;32m      7\u001b[0m nc_name \u001b[38;5;241m=\u001b[39m \u001b[38;5;124m\"\u001b[39m\u001b[38;5;132;01m%s\u001b[39;00m\u001b[38;5;124m_balance.nc\u001b[39m\u001b[38;5;124m\"\u001b[39m \u001b[38;5;241m%\u001b[39mfname_list[k]\n\u001b[0;32m----> 8\u001b[0m data1\u001b[38;5;241m=\u001b[39m\u001b[43mGlobal_internal_energy_balance\u001b[49m(fht_name,nc_name)[\u001b[38;5;241m0\u001b[39m]\n\u001b[1;32m      9\u001b[0m data2\u001b[38;5;241m=\u001b[39mGlobal_internal_energy_balance(fht_name,nc_name)[\u001b[38;5;241m1\u001b[39m]\n\u001b[1;32m     10\u001b[0m data3\u001b[38;5;241m=\u001b[39mGlobal_internal_energy_balance(fht_name,nc_name)[\u001b[38;5;241m2\u001b[39m]\n",
      "\u001b[0;31mNameError\u001b[0m: name 'Global_internal_energy_balance' is not defined"
     ]
    }
   ],
   "source": [
    "fname_list.append(\"co_Ne_0_KSTAR\")\n",
    "fname_list.append(\"new_mesh_al_Ne_0_KSTAR\")\n",
    "\n",
    "\n",
    "for k in range(len(fname_list)):\n",
    "    fht_name = \"./fht_%s.npy\" %fname_list[k]\n",
    "    nc_name = \"%s_balance.nc\" %fname_list[k]\n",
    "    data1=Global_internal_energy_balance(fht_name,nc_name)[0]\n",
    "    data2=Global_internal_energy_balance(fht_name,nc_name)[1]\n",
    "    data3=Global_internal_energy_balance(fht_name,nc_name)[2]\n",
    "    data4=Global_internal_energy_balance(fht_name,nc_name)[3]\n",
    "    data5=Global_internal_energy_balance(fht_name,nc_name)[4]\n",
    "    data6=Global_internal_energy_balance(fht_name,nc_name)[5]\n",
    "    data7=Global_internal_energy_balance(fht_name,nc_name)[6]\n",
    "    data8=Global_internal_energy_balance(fht_name,nc_name)[7]\n",
    "\n",
    "    year=[\"Power balance\"]\n",
    "    plt.figure(figsize=(4,7))\n",
    "    plt.bar(year,data1,color=\"green\",label=\"heat flux\")\n",
    "    plt.bar(year,data2,color=\"yellow\",bottom=data3,label=\"eirene\")\n",
    "    plt.bar(year,data3,color=\"blue\",bottom=[sum(data) for data in zip(data1,data2)],label=r\"%P_{t,out}%\")\n",
    "    plt.bar(year,data4,color=\"red\",bottom=[sum(data) for data in zip(data1,data2,data3)],label=r\"%P_{t,in}%\")\n",
    "    plt.bar(year,data5,color=\"black\",bottom=[sum(data) for data in zip(data1,data2,data3,data4)],label=r\"%P_{t,radial}%\")\n",
    "    plt.bar(year,data6,color=\"orange\",bottom=[sum(data) for data in zip(data1,data2,data3,data4,data5)],label=r\"$P_{neutral}$\")\n",
    "    plt.bar(year,data7,color=\"pink\",bottom=[sum(data) for data in zip(data1,data2,data3,data4,data5,data6)],label=r\"$P_{rad}$\")\n",
    "    plt.bar(year,data8,color=\"brown\",bottom=[sum(data) for data in zip(data1,data2,data3,data4,data5,data6,data7)],label=r\"$P_{etc}$\")\n",
    "\n",
    "\n",
    "\n",
    "    plt.legend(loc=\"lower left\",bbox_to_anchor=(0.8,1.0))    \n",
    "    plt.savefig(\"Crude Power Balance of %s\" %fname_list[k])\n",
    "    plt.show()\n",
    "\n",
    "\n"
   ]
  }
 ],
 "metadata": {
  "kernelspec": {
   "display_name": "Python 3 (ipykernel)",
   "language": "python",
   "name": "python3"
  },
  "language_info": {
   "codemirror_mode": {
    "name": "ipython",
    "version": 3
   },
   "file_extension": ".py",
   "mimetype": "text/x-python",
   "name": "python",
   "nbconvert_exporter": "python",
   "pygments_lexer": "ipython3",
   "version": "3.9.12"
  }
 },
 "nbformat": 4,
 "nbformat_minor": 5
}
