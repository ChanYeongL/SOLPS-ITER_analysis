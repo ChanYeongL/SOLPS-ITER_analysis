{
 "cells": [
  {
   "cell_type": "code",
   "execution_count": 2,
   "metadata": {},
   "outputs": [],
   "source": [
    "import numpy as np\n",
    "import matplotlib.pyplot as plt\n",
    "import matplotlib.ticker as ticker\n",
    "from scipy.special import rel_entr\n",
    "import pickle\n",
    "from mpl_toolkits.mplot3d import axes3d\n",
    "from scipy.ndimage.filters import gaussian_filter\n",
    "\n",
    "import seaborn as sns\n",
    "\n",
    "import matplotlib.patches as patches\n",
    "\n",
    "\n",
    "\n",
    "import pandas as pd\n",
    "\n",
    "import netCDF4"
   ]
  },
  {
   "cell_type": "code",
   "execution_count": null,
   "metadata": {},
   "outputs": [],
   "source": []
  }
 ],
 "metadata": {
  "kernelspec": {
   "display_name": "Python 3.9.12",
   "language": "python",
   "name": "python3"
  },
  "language_info": {
   "codemirror_mode": {
    "name": "ipython",
    "version": 3
   },
   "file_extension": ".py",
   "mimetype": "text/x-python",
   "name": "python",
   "nbconvert_exporter": "python",
   "pygments_lexer": "ipython3",
   "version": "3.9.12"
  },
  "orig_nbformat": 4,
  "vscode": {
   "interpreter": {
    "hash": "df48fff27f64f3b68374eea5916fcf98c15539d1aa4691aec81d7ba803e7f0a1"
   }
  }
 },
 "nbformat": 4,
 "nbformat_minor": 2
}
