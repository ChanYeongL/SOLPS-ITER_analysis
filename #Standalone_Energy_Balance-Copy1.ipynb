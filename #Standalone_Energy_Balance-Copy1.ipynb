{
 "cells": [
  {
   "cell_type": "code",
   "execution_count": 1,
   "id": "7bc6c5c3-750e-43ca-9d61-3229edb833c2",
   "metadata": {},
   "outputs": [],
   "source": [
    "import numpy as np\n",
    "import matplotlib.pyplot as plt\n",
    "import matplotlib.ticker as ticker\n",
    "import pickle\n",
    "from mpl_toolkits.mplot3d import axes3d\n",
    "\n",
    "import seaborn as sns\n",
    "import matplotlib.patches as patches\n",
    "import netCDF4"
   ]
  },
  {
   "cell_type": "code",
   "execution_count": 77,
   "id": "caff5d5f-fc10-437d-a809-5a4fe6e7ede4",
   "metadata": {},
   "outputs": [
    {
     "name": "stdout",
     "output_type": "stream",
     "text": [
      "-0.9394555492158109\n",
      "-0.9278882075101234\n"
     ]
    },
    {
     "data": {
      "image/png": "[encoded data removed]",
      "text/plain": [
       "<Figure size 432x288 with 1 Axes>"
      ]
     },
     "metadata": {
      "needs_background": "light"
     },
     "output_type": "display_data"
    },
    {
     "data": {
      "image/png": "[encoded data removed]",
      "text/plain": [
       "<Figure size 432x288 with 1 Axes>"
      ]
     },
     "metadata": {
      "needs_background": "light"
     },
     "output_type": "display_data"
    },
    {
     "data": {
      "image/png": "[encoded data removed]",
      "text/plain": [
       "<Figure size 432x288 with 1 Axes>"
      ]
     },
     "metadata": {
      "needs_background": "light"
     },
     "output_type": "display_data"
    },
    {
     "name": "stdout",
     "output_type": "stream",
     "text": [
      "total internal energy \"outward\" =  7.653692811986812\n"
     ]
    }
   ],
   "source": [
    "def Global_internal_energy_balance(file_location):\n",
    "    nc_balance = netCDF4.Dataset(file_location)\n",
    "    fhi_32      = nc_balance['fhi_32'][:]\n",
    "    fhi_52      = nc_balance['fhi_52'][:]\n",
    "    fhi_cond    = nc_balance['fhi_cond'][:]\n",
    "    fhi_dia     = nc_balance['fhi_dia'][:]\n",
    "    fhi_ecrb    = nc_balance['fhi_ecrb'][:]\n",
    "    fhi_strange = nc_balance['fhi_strange'][:]\n",
    "    fhi_pschused= nc_balance['fhi_pschused'][:]\n",
    "    fhi_inert   = nc_balance['fhi_inert'][:]\n",
    "    fhi_vispar  = nc_balance['fhi_vispar'][:]\n",
    "    fhi_visper  = nc_balance['fhi_visper'][:]\n",
    "    fhi_visq    = nc_balance['fhi_visq'][:]\n",
    "    fhi_anml    = nc_balance['fhi_anml'][:]\n",
    "    fhi_kevis   = nc_balance['fhi_kevis'][:]\n",
    "\n",
    "    fhe_32      = nc_balance['fhe_32'][:]\n",
    "    fhe_52      = nc_balance['fhe_52'][:]\n",
    "    fhe_thermj  = nc_balance['fhe_thermj'][:]\n",
    "    fhe_cond    = nc_balance['fhe_cond'][:]\n",
    "    fhe_dia     = nc_balance['fhe_dia'][:]\n",
    "    fhe_ecrb    = nc_balance['fhe_ecrb'][:]\n",
    "    fhe_strange = nc_balance['fhe_strange'][:]\n",
    "    fhe_pschused= nc_balance['fhe_pschused'][:]\n",
    "    #fhe_vispar  = nc_balance['fhe_vispar'][:]\n",
    "    #fhe_visper  = nc_balance['fhe_visper'][:]\n",
    "    #fhe_visq    = nc_balance['fhe_visq'][:]\n",
    "    #fhe_anml    = nc_balance['fhe_anml'][:]\n",
    "    #fhe_kevis   = nc_balance['fhe_kevis'][:]\n",
    "\n",
    "    total_fhi =fhi_32+fhi_52+fhi_cond+fhi_dia+fhi_ecrb+fhi_strange+fhi_pschused+fhi_inert+fhi_vispar+fhi_visper+fhi_visq+fhi_anml+fhi_kevis\n",
    "    total_fhe =fhe_32+fhe_52+fhe_cond+fhe_dia+fhe_ecrb+fhe_strange+fhe_pschused+fhe_thermj\n",
    "\n",
    "    eirene_mc_eael_she_bal = nc_balance['eirene_mc_eael_she_bal'][:]\n",
    "    eirene_mc_emel_she_bal = nc_balance['eirene_mc_emel_she_bal'][:]\n",
    "    eirene_mc_eiel_she_bal = nc_balance['eirene_mc_eiel_she_bal'][:]\n",
    "    eirene_mc_epel_she_bal = nc_balance['eirene_mc_epel_she_bal'][:]\n",
    "\n",
    "    eirene_mc_eapl_shi_bal = nc_balance['eirene_mc_eapl_shi_bal'][:]\n",
    "    eirene_mc_empl_shi_bal = nc_balance['eirene_mc_empl_shi_bal'][:]\n",
    "    eirene_mc_eipl_shi_bal = nc_balance['eirene_mc_eipl_shi_bal'][:]\n",
    "    eirene_mc_eppl_shi_bal = nc_balance['eirene_mc_eppl_shi_bal'][:]\n",
    "\n",
    "\n",
    "\n",
    "\n",
    "\n",
    "\n",
    "\n",
    "    def heat_flux(valname):\n",
    "        total_heat_loc = 1000000\n",
    "        fht_local = valname\n",
    "\n",
    "        heat_outer_diver = np.sum((fht_local[1,1:,96]))/total_heat_loc+np.sum((fht_local[0,1:,96]))/total_heat_loc\n",
    "\n",
    "        heat_inner_diver = np.sum((fht_local[1,1:,1]))/total_heat_loc+np.sum((fht_local[0,1:,1]))/total_heat_loc\n",
    "\n",
    "        heat_PRF = (np.sum((fht_local[1,1,77:]))+np.sum((fht_local[1,1,:11])))/total_heat_loc\n",
    "\n",
    "        sol_heat = (np.sum(fht_local[0,37,:])+np.sum(fht_local[1,37,:]))/total_heat_loc\n",
    "\n",
    "        core_heat = (np.sum((fht_local[0,0,11:77]))+np.sum((fht_local[1,0,11:77])))/total_heat_loc\n",
    "\n",
    "        return -heat_outer_diver,heat_inner_diver,heat_PRF,-sol_heat,core_heat\n",
    "\n",
    "\n",
    "    def eirene_sum():\n",
    "        sum_eirene_mc_eael_she_bal = np.sum(eirene_mc_eael_she_bal)\n",
    "        sum_eirene_mc_emel_she_bal = np.sum(eirene_mc_emel_she_bal)\n",
    "        sum_eirene_mc_eiel_she_bal = np.sum(eirene_mc_eiel_she_bal)\n",
    "        sum_eirene_mc_epel_she_bal = np.sum(eirene_mc_epel_she_bal)\n",
    "\n",
    "        sum_eirene_mc_eapl_shi_bal = np.sum(eirene_mc_eapl_shi_bal)\n",
    "        sum_eirene_mc_empl_shi_bal = np.sum(eirene_mc_empl_shi_bal)\n",
    "        sum_eirene_mc_eipl_shi_bal = np.sum(eirene_mc_eipl_shi_bal)\n",
    "        sum_eirene_mc_eppl_shi_bal = np.sum(eirene_mc_eppl_shi_bal)\n",
    "\n",
    "        return (sum_eirene_mc_eael_she_bal+sum_eirene_mc_emel_she_bal+sum_eirene_mc_eiel_she_bal+sum_eirene_mc_epel_she_bal +sum_eirene_mc_eapl_shi_bal+sum_eirene_mc_eapl_shi_bal+sum_eirene_mc_eapl_shi_bal+sum_eirene_mc_eapl_shi_bal)/1000000\n",
    "\n",
    "    def other_source():\n",
    "        heat_source= np.sum(nc_balance['b2srst_shi_bal'][:])+np.sum(nc_balance['b2srst_she_bal'][:])\n",
    "        stel_terms = np.sum(nc_balance['b2stel_shi_ion_bal'][:])+np.sum(nc_balance['b2stel_she_bal'][:])\n",
    "\n",
    "#        stel_terms = np.sum(nc_balance['b2stel_she_bal'][:])+np.sum(nc_balance['b2stel_she_ion_bal'][:])+np.sum(nc_balance['b2stel_she_rec_bal'][:])+np.sum(nc_balance['b2stel_shi_ion_bal'][:])+np.sum(nc_balance['b2stel_shi_rec_bal'][:]) \n",
    "#        stel_impurities = nc_balance['b2stel_she_bal'][:]\n",
    "#        stel_impurities_sum = np.sum(stel_impurities[2:,:,:])\n",
    "        joule = np.sum(nc_balance['b2sihs_joule_bal'][:])\n",
    "\n",
    "        fraa  = np.sum(nc_balance['b2sihs_fraa_bal'][:])\n",
    "\n",
    "        div   = np.sum(nc_balance['b2sihs_divue_bal'][:])#+ np.sum(nc_balance['b2sihs_divua_bal'][:])\n",
    "\n",
    "        visa  = np.sum(nc_balance['b2sihs_visa_bal'][:])\n",
    "        \n",
    "        return (heat_source+stel_terms+joule+fraa+div+visa)/1000000\n",
    "\n",
    "    print(sum(heat_flux(total_fhe)))\n",
    "    print(sum(heat_flux(total_fhi)))\n",
    "    plt.title(\"Ion heat flux(+ sign means outward energy)\")\n",
    "    x = [r'$P_{outer div}$',r'$P_{inner div}$',r'$P_{PFR}$',r'$P_{SOL}$',r'$P_{core}$']\n",
    "    plt.bar(x,heat_flux(-total_fhi))\n",
    "    plt.axhline(color = 'black',linewidth = 0.5)\n",
    "    plt.show()\n",
    "\n",
    "    plt.title(\"Electron heat flux(+ sign means outward energy)\")\n",
    "    x = [r'$P_{outer div}$',r'$P_{inner div}$',r'$P_{PFR}$',r'$P_{SOL}$',r'$P_{core}$']\n",
    "    plt.bar(x,heat_flux(-total_fhe))\n",
    "    plt.axhline(color = 'black',linewidth = 0.5)\n",
    "    plt.show()\n",
    "\n",
    "    plt.title(\"Energy Balance(total input heat 2.5 MW)\")\n",
    "    x = [r'$P_{ion}$',r'$P_{electron}$',r'$P_{eirene}$',r'$P_{etc}$']\n",
    "    y = [-sum(heat_flux(total_fhi)),-sum(heat_flux(total_fhe)),-eirene_sum(),-other_source()]\n",
    "    plt.bar(x,y)\n",
    "    plt.axhline(color = 'black',linewidth = 0.5)\n",
    "\n",
    "\n",
    "    plt.show()\n",
    "    return print('total internal energy \"outward\" = ',-(sum(heat_flux(total_fhe))+sum(heat_flux(total_fhi))+eirene_sum()+other_source()))\n",
    "Global_internal_energy_balance(\"./balance_algeo_7MW.nc\")"
   ]
  },
  {
   "cell_type": "code",
   "execution_count": 68,
   "id": "7f8cc91e-2305-4dfb-b2f9-e571b75753f3",
   "metadata": {},
   "outputs": [
    {
     "name": "stdout",
     "output_type": "stream",
     "text": [
      "-0.3679300578150172\n",
      "0.5528817046677641\n"
     ]
    },
    {
     "data": {
      "image/png": "[encoded data removed]",
      "text/plain": [
       "<Figure size 432x288 with 1 Axes>"
      ]
     },
     "metadata": {
      "needs_background": "light"
     },
     "output_type": "display_data"
    },
    {
     "data": {
      "image/png": "[encoded data removed]",
      "text/plain": [
       "<Figure size 432x288 with 1 Axes>"
      ]
     },
     "metadata": {
      "needs_background": "light"
     },
     "output_type": "display_data"
    },
    {
     "data": {
      "image/png": "[encoded data removed]",
      "text/plain": [
       "<Figure size 432x288 with 1 Axes>"
      ]
     },
     "metadata": {
      "needs_background": "light"
     },
     "output_type": "display_data"
    },
    {
     "name": "stdout",
     "output_type": "stream",
     "text": [
      "total internal energy \"outward\" =  5.601397408408131\n"
     ]
    }
   ],
   "source": []
  },
  {
   "cell_type": "code",
   "execution_count": 48,
   "id": "8a44dbd4-3afa-4bef-8c12-46533940f1fd",
   "metadata": {},
   "outputs": [
    {
     "data": {
      "text/plain": [
       "0.06400000000000006"
      ]
     },
     "execution_count": 48,
     "metadata": {},
     "output_type": "execute_result"
    }
   ],
   "source": [
    "(2.5-2.34)/2.5\n"
   ]
  },
  {
   "cell_type": "code",
   "execution_count": 65,
   "id": "d3fcd2c5-7ddf-4c0f-a649-a7b53404f0c3",
   "metadata": {},
   "outputs": [],
   "source": [
    "def find_fhi(file_location):\n",
    "    nc_balance = netCDF4.Dataset(file_location)\n",
    "    fhi_32      = nc_balance['fhi_32'][:]\n",
    "    fhi_52      = nc_balance['fhi_52'][:]\n",
    "    fhi_cond    = nc_balance['fhi_cond'][:]\n",
    "    fhi_dia     = nc_balance['fhi_dia'][:]\n",
    "    fhi_ecrb    = nc_balance['fhi_ecrb'][:]\n",
    "    fhi_strange = nc_balance['fhi_strange'][:]\n",
    "    fhi_pschused= nc_balance['fhi_pschused'][:]\n",
    "    fhi_inert   = nc_balance['fhi_inert'][:]\n",
    "    fhi_vispar  = nc_balance['fhi_vispar'][:]\n",
    "    fhi_visper  = nc_balance['fhi_visper'][:]\n",
    "    fhi_visq    = nc_balance['fhi_visq'][:]\n",
    "    fhi_anml    = nc_balance['fhi_anml'][:]\n",
    "    fhi_kevis   = nc_balance['fhi_kevis'][:]\n",
    "\n",
    "    fhe_32      = nc_balance['fhe_32'][:]\n",
    "    fhe_52      = nc_balance['fhe_52'][:]\n",
    "    fhe_thermj  = nc_balance['fhe_thermj'][:]\n",
    "    fhe_cond    = nc_balance['fhe_cond'][:]\n",
    "    fhe_dia     = nc_balance['fhe_dia'][:]\n",
    "    fhe_ecrb    = nc_balance['fhe_ecrb'][:]\n",
    "    fhe_strange = nc_balance['fhe_strange'][:]\n",
    "    fhe_pschused= nc_balance['fhe_pschused'][:]\n",
    "    \n",
    "    total_fhi =fhi_32+fhi_52+fhi_cond+fhi_dia+fhi_ecrb+fhi_strange+fhi_pschused+fhi_inert+fhi_vispar+fhi_visper+fhi_visq+fhi_anml+fhi_kevis\n",
    "    total_fhe =fhe_32+fhe_52+fhe_cond+fhe_dia+fhe_ecrb+fhe_strange+fhe_pschused+fhe_thermj\n",
    "    return total_fhi"
   ]
  },
  {
   "cell_type": "code",
   "execution_count": 66,
   "id": "b2f285be-a9a9-4365-98ee-30c06c1d5055",
   "metadata": {},
   "outputs": [
    {
     "name": "stdout",
     "output_type": "stream",
     "text": [
      "[[[ 0.00000000e+00 -4.80908923e-05 -4.36564761e-05 ... -8.35370224e-06\n",
      "    1.73621765e-04 -7.48093482e-05]\n",
      "  [ 0.00000000e+00 -5.40332628e-02 -4.70183988e-02 ...  1.24439717e-01\n",
      "    1.17391794e-01 -5.62392593e-02]\n",
      "  [ 0.00000000e+00  1.41618130e-01  2.85792585e-02 ...  2.58421356e-01\n",
      "    3.79329276e-02 -9.69827914e-02]\n",
      "  ...\n",
      "  [ 0.00000000e+00 -4.67580961e+01 -3.91599937e+01 ...  1.95570520e-01\n",
      "   -2.65384277e-01  8.05333013e-01]\n",
      "  [ 0.00000000e+00  3.85291046e+01  8.87309657e+00 ... -2.52241664e-01\n",
      "    1.45213075e-01 -1.82636884e+00]\n",
      "  [ 0.00000000e+00 -2.13776215e-03 -2.04810984e-02 ... -8.21080849e-05\n",
      "    2.32113213e-03 -1.67652240e-03]]\n",
      "\n",
      " [[ 0.00000000e+00  0.00000000e+00  0.00000000e+00 ...  0.00000000e+00\n",
      "    0.00000000e+00  0.00000000e+00]\n",
      "  [ 1.51620803e-05 -4.50398846e-03 -1.41007882e-02 ...  2.43631905e-02\n",
      "    1.56233225e-02  1.65873980e-04]\n",
      "  [ 2.42769197e-04  3.26759265e-02  3.36851707e-02 ...  1.67760211e-02\n",
      "    2.84022307e-02 -8.73936507e-05]\n",
      "  ...\n",
      "  [-4.25447940e-04  1.61007438e-01 -4.45337892e-01 ...  4.22081669e-01\n",
      "    1.61897197e-01 -2.78143740e-04]\n",
      "  [ 6.83108347e-04  5.81854630e-01  2.00570670e+00 ...  5.56602417e-02\n",
      "    3.05606743e-01  1.83293353e-03]\n",
      "  [-8.59739193e-04 -1.01336152e-01 -3.37049315e-01 ... -1.94671372e-02\n",
      "   -2.09770109e-01  1.64559457e-04]]]\n"
     ]
    }
   ],
   "source": [
    "nc_balance1 = netCDF4.Dataset(\"./balance_convgeo.nc\")\n",
    "balance_fhi = find_fhi(\"./balance_convgeo.nc\")\n",
    "\n",
    "\n",
    "b2fstate_fhi = np.load(\"./../fhi_b2fplasmf_co_KSTAR_noNe.npy\")\n",
    "print(balance_fhi-b2fstate_fhi)"
   ]
  },
  {
   "cell_type": "code",
   "execution_count": 63,
   "id": "c720ae0a-4c60-4fd8-9493-dd572e30ad20",
   "metadata": {},
   "outputs": [
    {
     "ename": "ValueError",
     "evalue": "too many values to unpack (expected 2)",
     "output_type": "error",
     "traceback": [
      "\u001b[0;31m---------------------------------------------------------------------------\u001b[0m",
      "\u001b[0;31mValueError\u001b[0m                                Traceback (most recent call last)",
      "Input \u001b[0;32mIn [63]\u001b[0m, in \u001b[0;36m<cell line: 1>\u001b[0;34m()\u001b[0m\n\u001b[0;32m----> 1\u001b[0m \u001b[43mplt\u001b[49m\u001b[38;5;241;43m.\u001b[39;49m\u001b[43mpcolormesh\u001b[49m\u001b[43m(\u001b[49m\u001b[43mbalance_fhi\u001b[49m\u001b[38;5;241;43m-\u001b[39;49m\u001b[43mb2fstate_fhi\u001b[49m\u001b[43m)\u001b[49m\n",
      "File \u001b[0;32m~/opt/anaconda3/lib/python3.9/site-packages/matplotlib/pyplot.py:2718\u001b[0m, in \u001b[0;36mpcolormesh\u001b[0;34m(alpha, norm, cmap, vmin, vmax, shading, antialiased, data, *args, **kwargs)\u001b[0m\n\u001b[1;32m   2713\u001b[0m \u001b[38;5;129m@_copy_docstring_and_deprecators\u001b[39m(Axes\u001b[38;5;241m.\u001b[39mpcolormesh)\n\u001b[1;32m   2714\u001b[0m \u001b[38;5;28;01mdef\u001b[39;00m \u001b[38;5;21mpcolormesh\u001b[39m(\n\u001b[1;32m   2715\u001b[0m         \u001b[38;5;241m*\u001b[39margs, alpha\u001b[38;5;241m=\u001b[39m\u001b[38;5;28;01mNone\u001b[39;00m, norm\u001b[38;5;241m=\u001b[39m\u001b[38;5;28;01mNone\u001b[39;00m, cmap\u001b[38;5;241m=\u001b[39m\u001b[38;5;28;01mNone\u001b[39;00m, vmin\u001b[38;5;241m=\u001b[39m\u001b[38;5;28;01mNone\u001b[39;00m,\n\u001b[1;32m   2716\u001b[0m         vmax\u001b[38;5;241m=\u001b[39m\u001b[38;5;28;01mNone\u001b[39;00m, shading\u001b[38;5;241m=\u001b[39m\u001b[38;5;28;01mNone\u001b[39;00m, antialiased\u001b[38;5;241m=\u001b[39m\u001b[38;5;28;01mFalse\u001b[39;00m, data\u001b[38;5;241m=\u001b[39m\u001b[38;5;28;01mNone\u001b[39;00m,\n\u001b[1;32m   2717\u001b[0m         \u001b[38;5;241m*\u001b[39m\u001b[38;5;241m*\u001b[39mkwargs):\n\u001b[0;32m-> 2718\u001b[0m     __ret \u001b[38;5;241m=\u001b[39m \u001b[43mgca\u001b[49m\u001b[43m(\u001b[49m\u001b[43m)\u001b[49m\u001b[38;5;241;43m.\u001b[39;49m\u001b[43mpcolormesh\u001b[49m\u001b[43m(\u001b[49m\n\u001b[1;32m   2719\u001b[0m \u001b[43m        \u001b[49m\u001b[38;5;241;43m*\u001b[39;49m\u001b[43margs\u001b[49m\u001b[43m,\u001b[49m\u001b[43m \u001b[49m\u001b[43malpha\u001b[49m\u001b[38;5;241;43m=\u001b[39;49m\u001b[43malpha\u001b[49m\u001b[43m,\u001b[49m\u001b[43m \u001b[49m\u001b[43mnorm\u001b[49m\u001b[38;5;241;43m=\u001b[39;49m\u001b[43mnorm\u001b[49m\u001b[43m,\u001b[49m\u001b[43m \u001b[49m\u001b[43mcmap\u001b[49m\u001b[38;5;241;43m=\u001b[39;49m\u001b[43mcmap\u001b[49m\u001b[43m,\u001b[49m\u001b[43m \u001b[49m\u001b[43mvmin\u001b[49m\u001b[38;5;241;43m=\u001b[39;49m\u001b[43mvmin\u001b[49m\u001b[43m,\u001b[49m\n\u001b[1;32m   2720\u001b[0m \u001b[43m        \u001b[49m\u001b[43mvmax\u001b[49m\u001b[38;5;241;43m=\u001b[39;49m\u001b[43mvmax\u001b[49m\u001b[43m,\u001b[49m\u001b[43m \u001b[49m\u001b[43mshading\u001b[49m\u001b[38;5;241;43m=\u001b[39;49m\u001b[43mshading\u001b[49m\u001b[43m,\u001b[49m\u001b[43m \u001b[49m\u001b[43mantialiased\u001b[49m\u001b[38;5;241;43m=\u001b[39;49m\u001b[43mantialiased\u001b[49m\u001b[43m,\u001b[49m\n\u001b[1;32m   2721\u001b[0m \u001b[43m        \u001b[49m\u001b[38;5;241;43m*\u001b[39;49m\u001b[38;5;241;43m*\u001b[39;49m\u001b[43m(\u001b[49m\u001b[43m{\u001b[49m\u001b[38;5;124;43m\"\u001b[39;49m\u001b[38;5;124;43mdata\u001b[39;49m\u001b[38;5;124;43m\"\u001b[39;49m\u001b[43m:\u001b[49m\u001b[43m \u001b[49m\u001b[43mdata\u001b[49m\u001b[43m}\u001b[49m\u001b[43m \u001b[49m\u001b[38;5;28;43;01mif\u001b[39;49;00m\u001b[43m \u001b[49m\u001b[43mdata\u001b[49m\u001b[43m \u001b[49m\u001b[38;5;129;43;01mis\u001b[39;49;00m\u001b[43m \u001b[49m\u001b[38;5;129;43;01mnot\u001b[39;49;00m\u001b[43m \u001b[49m\u001b[38;5;28;43;01mNone\u001b[39;49;00m\u001b[43m \u001b[49m\u001b[38;5;28;43;01melse\u001b[39;49;00m\u001b[43m \u001b[49m\u001b[43m{\u001b[49m\u001b[43m}\u001b[49m\u001b[43m)\u001b[49m\u001b[43m,\u001b[49m\u001b[43m \u001b[49m\u001b[38;5;241;43m*\u001b[39;49m\u001b[38;5;241;43m*\u001b[39;49m\u001b[43mkwargs\u001b[49m\u001b[43m)\u001b[49m\n\u001b[1;32m   2722\u001b[0m     sci(__ret)\n\u001b[1;32m   2723\u001b[0m     \u001b[38;5;28;01mreturn\u001b[39;00m __ret\n",
      "File \u001b[0;32m~/opt/anaconda3/lib/python3.9/site-packages/matplotlib/__init__.py:1412\u001b[0m, in \u001b[0;36m_preprocess_data.<locals>.inner\u001b[0;34m(ax, data, *args, **kwargs)\u001b[0m\n\u001b[1;32m   1409\u001b[0m \u001b[38;5;129m@functools\u001b[39m\u001b[38;5;241m.\u001b[39mwraps(func)\n\u001b[1;32m   1410\u001b[0m \u001b[38;5;28;01mdef\u001b[39;00m \u001b[38;5;21minner\u001b[39m(ax, \u001b[38;5;241m*\u001b[39margs, data\u001b[38;5;241m=\u001b[39m\u001b[38;5;28;01mNone\u001b[39;00m, \u001b[38;5;241m*\u001b[39m\u001b[38;5;241m*\u001b[39mkwargs):\n\u001b[1;32m   1411\u001b[0m     \u001b[38;5;28;01mif\u001b[39;00m data \u001b[38;5;129;01mis\u001b[39;00m \u001b[38;5;28;01mNone\u001b[39;00m:\n\u001b[0;32m-> 1412\u001b[0m         \u001b[38;5;28;01mreturn\u001b[39;00m \u001b[43mfunc\u001b[49m\u001b[43m(\u001b[49m\u001b[43max\u001b[49m\u001b[43m,\u001b[49m\u001b[43m \u001b[49m\u001b[38;5;241;43m*\u001b[39;49m\u001b[38;5;28;43mmap\u001b[39;49m\u001b[43m(\u001b[49m\u001b[43msanitize_sequence\u001b[49m\u001b[43m,\u001b[49m\u001b[43m \u001b[49m\u001b[43margs\u001b[49m\u001b[43m)\u001b[49m\u001b[43m,\u001b[49m\u001b[43m \u001b[49m\u001b[38;5;241;43m*\u001b[39;49m\u001b[38;5;241;43m*\u001b[39;49m\u001b[43mkwargs\u001b[49m\u001b[43m)\u001b[49m\n\u001b[1;32m   1414\u001b[0m     bound \u001b[38;5;241m=\u001b[39m new_sig\u001b[38;5;241m.\u001b[39mbind(ax, \u001b[38;5;241m*\u001b[39margs, \u001b[38;5;241m*\u001b[39m\u001b[38;5;241m*\u001b[39mkwargs)\n\u001b[1;32m   1415\u001b[0m     auto_label \u001b[38;5;241m=\u001b[39m (bound\u001b[38;5;241m.\u001b[39marguments\u001b[38;5;241m.\u001b[39mget(label_namer)\n\u001b[1;32m   1416\u001b[0m                   \u001b[38;5;129;01mor\u001b[39;00m bound\u001b[38;5;241m.\u001b[39mkwargs\u001b[38;5;241m.\u001b[39mget(label_namer))\n",
      "File \u001b[0;32m~/opt/anaconda3/lib/python3.9/site-packages/matplotlib/axes/_axes.py:6062\u001b[0m, in \u001b[0;36mAxes.pcolormesh\u001b[0;34m(self, alpha, norm, cmap, vmin, vmax, shading, antialiased, *args, **kwargs)\u001b[0m\n\u001b[1;32m   6059\u001b[0m shading \u001b[38;5;241m=\u001b[39m shading\u001b[38;5;241m.\u001b[39mlower()\n\u001b[1;32m   6060\u001b[0m kwargs\u001b[38;5;241m.\u001b[39msetdefault(\u001b[38;5;124m'\u001b[39m\u001b[38;5;124medgecolors\u001b[39m\u001b[38;5;124m'\u001b[39m, \u001b[38;5;124m'\u001b[39m\u001b[38;5;124mnone\u001b[39m\u001b[38;5;124m'\u001b[39m)\n\u001b[0;32m-> 6062\u001b[0m X, Y, C, shading \u001b[38;5;241m=\u001b[39m \u001b[38;5;28;43mself\u001b[39;49m\u001b[38;5;241;43m.\u001b[39;49m\u001b[43m_pcolorargs\u001b[49m\u001b[43m(\u001b[49m\u001b[38;5;124;43m'\u001b[39;49m\u001b[38;5;124;43mpcolormesh\u001b[39;49m\u001b[38;5;124;43m'\u001b[39;49m\u001b[43m,\u001b[49m\u001b[43m \u001b[49m\u001b[38;5;241;43m*\u001b[39;49m\u001b[43margs\u001b[49m\u001b[43m,\u001b[49m\n\u001b[1;32m   6063\u001b[0m \u001b[43m                                    \u001b[49m\u001b[43mshading\u001b[49m\u001b[38;5;241;43m=\u001b[39;49m\u001b[43mshading\u001b[49m\u001b[43m,\u001b[49m\u001b[43m \u001b[49m\u001b[43mkwargs\u001b[49m\u001b[38;5;241;43m=\u001b[39;49m\u001b[43mkwargs\u001b[49m\u001b[43m)\u001b[49m\n\u001b[1;32m   6064\u001b[0m coords \u001b[38;5;241m=\u001b[39m np\u001b[38;5;241m.\u001b[39mstack([X, Y], axis\u001b[38;5;241m=\u001b[39m\u001b[38;5;241m-\u001b[39m\u001b[38;5;241m1\u001b[39m)\n\u001b[1;32m   6065\u001b[0m \u001b[38;5;66;03m# convert to one dimensional array\u001b[39;00m\n",
      "File \u001b[0;32m~/opt/anaconda3/lib/python3.9/site-packages/matplotlib/axes/_axes.py:5521\u001b[0m, in \u001b[0;36mAxes._pcolorargs\u001b[0;34m(self, funcname, shading, *args, **kwargs)\u001b[0m\n\u001b[1;32m   5519\u001b[0m \u001b[38;5;28;01mif\u001b[39;00m \u001b[38;5;28mlen\u001b[39m(args) \u001b[38;5;241m==\u001b[39m \u001b[38;5;241m1\u001b[39m:\n\u001b[1;32m   5520\u001b[0m     C \u001b[38;5;241m=\u001b[39m np\u001b[38;5;241m.\u001b[39masanyarray(args[\u001b[38;5;241m0\u001b[39m])\n\u001b[0;32m-> 5521\u001b[0m     nrows, ncols \u001b[38;5;241m=\u001b[39m C\u001b[38;5;241m.\u001b[39mshape\n\u001b[1;32m   5522\u001b[0m     \u001b[38;5;28;01mif\u001b[39;00m shading \u001b[38;5;129;01min\u001b[39;00m [\u001b[38;5;124m'\u001b[39m\u001b[38;5;124mgouraud\u001b[39m\u001b[38;5;124m'\u001b[39m, \u001b[38;5;124m'\u001b[39m\u001b[38;5;124mnearest\u001b[39m\u001b[38;5;124m'\u001b[39m]:\n\u001b[1;32m   5523\u001b[0m         X, Y \u001b[38;5;241m=\u001b[39m np\u001b[38;5;241m.\u001b[39mmeshgrid(np\u001b[38;5;241m.\u001b[39marange(ncols), np\u001b[38;5;241m.\u001b[39marange(nrows))\n",
      "\u001b[0;31mValueError\u001b[0m: too many values to unpack (expected 2)"
     ]
    },
    {
     "data": {
      "image/png": "[encoded data removed]",
      "text/plain": [
       "<Figure size 432x288 with 1 Axes>"
      ]
     },
     "metadata": {
      "needs_background": "light"
     },
     "output_type": "display_data"
    }
   ],
   "source": []
  },
  {
   "cell_type": "code",
   "execution_count": null,
   "id": "5efcd2e0-728c-49e1-b7a4-159a82ff268e",
   "metadata": {},
   "outputs": [],
   "source": [
    "Global_internal_energy_balance(\"./balance_nm_al_7MW.nc\")"
   ]
  },
  {
   "cell_type": "code",
   "execution_count": null,
   "id": "426d5312-3c0d-4215-9fc2-beeb07cf0ef0",
   "metadata": {},
   "outputs": [],
   "source": []
  }
 ],
 "metadata": {
  "kernelspec": {
   "display_name": "Python 3 (ipykernel)",
   "language": "python",
   "name": "python3"
  },
  "language_info": {
   "codemirror_mode": {
    "name": "ipython",
    "version": 3
   },
   "file_extension": ".py",
   "mimetype": "text/x-python",
   "name": "python",
   "nbconvert_exporter": "python",
   "pygments_lexer": "ipython3",
   "version": "3.9.12"
  }
 },
 "nbformat": 4,
 "nbformat_minor": 5
}
