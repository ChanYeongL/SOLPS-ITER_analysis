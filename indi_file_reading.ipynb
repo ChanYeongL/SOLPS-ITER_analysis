{
 "cells": [
  {
   "cell_type": "code",
   "execution_count": 1,
   "id": "cab7a8d5-ca4d-4adc-9291-b1a156cdfdfd",
   "metadata": {},
   "outputs": [
    {
     "name": "stdout",
     "output_type": "stream",
     "text": [
      "(3, 38, 98)\n",
      "(3, 38, 98)\n",
      "[ 1.46925157 -1.29399156]\n",
      "[-0.0715723  -0.07152744 -0.06704153 -0.06229474 -0.05731827 -0.05215115\n",
      " -0.04692141 -0.04169072 -0.03650874 -0.03143631 -0.02655407 -0.02190946\n",
      " -0.01750687 -0.01347613 -0.00982187 -0.00661739 -0.00386102 -0.00163475\n",
      "  0.          0.00099463  0.00205597  0.00379204  0.00621517  0.00931366\n",
      "  0.01314076  0.0176591   0.02284651  0.02871627  0.03528336  0.04247052\n",
      "  0.0503574   0.05881249  0.06791765  0.07758154  0.08785052  0.09866668\n",
      "  0.10996054  0.12180333]\n",
      "[ 1.49532367 -1.39853962]\n"
     ]
    },
    {
     "data": {
      "text/plain": [
       "[<matplotlib.lines.Line2D at 0x10ddf3460>]"
      ]
     },
     "execution_count": 1,
     "metadata": {},
     "output_type": "execute_result"
    },
    {
     "data": {
      "image/png": "[encoded data removed]",
      "text/plain": [
       "<Figure size 432x288 with 1 Axes>"
      ]
     },
     "metadata": {
      "needs_background": "light"
     },
     "output_type": "display_data"
    }
   ],
   "source": [
    "import numpy as np\n",
    "import matplotlib.pyplot as plt\n",
    "import matplotlib.ticker as ticker\n",
    "from scipy.special import rel_entr\n",
    "import pickle\n",
    "from mpl_toolkits.mplot3d import axes3d\n",
    "from scipy.ndimage.filters import gaussian_filter\n",
    "\n",
    "\n",
    "\n",
    "ny = 36\n",
    "nx = 96\n",
    "convmesh = np.load(\"./conv_geo_mesh_center.npy\")\n",
    "convmesh_x = np.load(\"./conv_geo_mesh_x.npy\")\n",
    "convmesh_y = np.load(\"./conv_geo_mesh_y.npy\")\n",
    "\n",
    "almesh = np.load(\"./al_geo_mesh_center.npy\")\n",
    "almesh_x = np.load(\"./al_geo_mesh_x.npy\")\n",
    "almesh_y = np.load(\"./al_geo_mesh_y.npy\")\n",
    "co_facing = np.load(\"./gs_b2fgmtry.npy\")\n",
    "al_facing = np.load(\"./gs_b2fgmtry_al.npy\")\n",
    "print(np.shape(co_facing))\n",
    "print(np.shape(al_facing))\n",
    "def conv_distance_center(first_point, second_point):\n",
    "    x_range = x_convmeshinfo[first_point[1],first_point[0]]-x_convmeshinfo[second_point[1],second_point[0]]\n",
    "    y_range = y_convmeshinfo[first_point[1],first_point[0]]-y_convmeshinfo[second_point[1],second_point[0]]\n",
    "    result = (x_range**2 + y_range**2)**(1/2)\n",
    "    return result\n",
    "\n",
    "def conv_distance_point(first_point, second_point):\n",
    "    x_range = convmesh_x[first_point[2],first_point[1],first_point[0]]-convmesh_x[second_point[2],second_point[1],second_point[0]]\n",
    "    y_range = convmesh_y[first_point[2],first_point[1],first_point[0]]-convmesh_y[second_point[2],second_point[1],second_point[0]]\n",
    "    result = (x_range**2 + y_range**2)**(1/2)\n",
    "    return result\n",
    "\n",
    "def al_distance_center(first_point, second_point):\n",
    "    x_range = x_almeshinfo[first_point[1],first_point[0]]-x_almeshinfo[second_point[1],second_point[0]]\n",
    "    y_range = y_almeshinfo[first_point[1],first_point[0]]-y_almeshinfo[second_point[1],second_point[0]]\n",
    "    result = (x_range**2 + y_range**2)**(1/2)\n",
    "    return result\n",
    "\n",
    "def al_distance_point(first_point, second_point):\n",
    "    x_range = almesh_x[first_point[2],first_point[1],first_point[0]]-almesh_x[second_point[2],second_point[1],second_point[0]]\n",
    "    y_range = almesh_y[first_point[2],first_point[1],first_point[0]]-almesh_y[second_point[2],second_point[1],second_point[0]]\n",
    "    result = (x_range**2 + y_range**2)**(1/2)\n",
    "    return result\n",
    "\n",
    "dumx_convmeshinfo = convmesh[:,0]\n",
    "dumy_convmeshinfo = convmesh[:,1]\n",
    "x_convmeshinfo = dumx_convmeshinfo.reshape(ny+2,nx+2)\n",
    "y_convmeshinfo = dumy_convmeshinfo.reshape(ny+2,nx+2)\n",
    "\n",
    "dumx_almeshinfo = almesh[:,0]\n",
    "dumy_almeshinfo = almesh[:,1]\n",
    "x_almeshinfo = dumx_almeshinfo.reshape(ny+2,nx+2)\n",
    "y_almeshinfo = dumy_almeshinfo.reshape(ny+2,nx+2)\n",
    "\n",
    "\n",
    "\n",
    "#po_dumx_meshinfo = convmesh[:,0]\n",
    "#po_dumy_meshinfo = convmesh[:,1]\n",
    "#po_x_meshinfo = dumx_meshinfo.reshape(4,ny+2,nx+2)\n",
    "#po_y_meshinfo = dumy_meshinfo.reshape(4,ny+2,nx+2)\n",
    "\n",
    "conv_sep_out_target = np.zeros(2)\n",
    "conv_sep_out_target[0] = convmesh_x[1,18,96]\n",
    "conv_sep_out_target[1] = convmesh_y[1,18,96]\n",
    "\n",
    "al_sep_out_target = np.zeros(2)\n",
    "al_sep_out_target[0] = almesh_x[1,18,96]\n",
    "al_sep_out_target[1] = almesh_y[1,18,96]\n",
    "convmesh_x_cen = np.sum(convmesh_x, axis = 0)/4\n",
    "convmesh_y_cen = np.sum(convmesh_y, axis = 0)/4\n",
    "almesh_x_cen = np.sum(almesh_x, axis = 0)/4\n",
    "almesh_y_cen = np.sum(almesh_y, axis = 0)/4\n",
    "print(conv_sep_out_target)\n",
    "conv_sep_out_target_dist = np.zeros(ny+2)\n",
    "for i in range(ny+2):\n",
    "    conv_sep_out_target_dist[i] = conv_distance_point([96,i,1],[96,18,1])\n",
    "    if i<18:\n",
    "        conv_sep_out_target_dist[i] = -conv_sep_out_target_dist[i]\n",
    "    \n",
    "conv_sep_in_target_dist = np.zeros(ny+2)\n",
    "for i in range(ny+2):\n",
    "    conv_sep_in_target_dist[i] = conv_distance_point([1,i,1],[1,18,1])\n",
    "    if i<18:\n",
    "        conv_sep_in_target_dist[i] = -conv_sep_in_target_dist[i]\n",
    "print(conv_sep_out_target_dist)\n",
    "\n",
    "print(al_sep_out_target)\n",
    "al_sep_out_target_dist = np.zeros(ny+2)\n",
    "for i in range(ny+2):\n",
    "    al_sep_out_target_dist[i] = al_distance_point([96,i,1],[96,18,1])\n",
    "    if i<18:\n",
    "        al_sep_out_target_dist[i] = -al_sep_out_target_dist[i]\n",
    "    \n",
    "al_sep_in_target_dist = np.zeros(ny+2)\n",
    "for i in range(ny+2):\n",
    "    al_sep_in_target_dist[i] = al_distance_point([1,i,1],[1,18,1])\n",
    "    if i<18:\n",
    "        al_sep_in_target_dist[i] = -al_sep_in_target_dist[i]\n",
    "\n",
    "\n",
    "        \n",
    "        \n",
    "conv_sep_out_midplane_dist = np.zeros(ny+2)\n",
    "for i in range(ny+2):\n",
    "    conv_sep_out_midplane_dist[i] = conv_distance_point([51,i,1],[51,18,1])\n",
    "    if i<18:\n",
    "        conv_sep_out_midplane_dist[i] = -conv_sep_out_midplane_dist[i]\n",
    "    \n",
    "conv_sep_in_midplane_dist = np.zeros(ny+2)\n",
    "for i in range(ny+2):\n",
    "    conv_sep_in_midplane_dist[i] = conv_distance_point([29,i,1],[29,18,1])\n",
    "    if i<18:\n",
    "        conv_sep_in_midplane_dist[i] = -conv_sep_in_midplane_dist[i]\n",
    "\n",
    "\n",
    "al_sep_out_midplane_dist = np.zeros(ny+2)\n",
    "for i in range(ny+2):\n",
    "    al_sep_out_midplane_dist[i] = al_distance_point([52,i,1],[52,18,1])\n",
    "    if i<18:\n",
    "        al_sep_out_midplane_dist[i] = -al_sep_out_midplane_dist[i]\n",
    "    \n",
    "al_sep_in_midplane_dist = np.zeros(ny+2)\n",
    "for i in range(ny+2):\n",
    "    al_sep_in_target_dist[i] = al_distance_point([29,i,1],[29,18,1])\n",
    "    if i<18:\n",
    "        al_sep_in_midplane_dist[i] = -al_sep_in_midplane_dist[i]\n",
    "        \n",
    "        \n",
    "        \n",
    "        \n",
    "plt.plot(conv_sep_out_target_dist)\n",
    "plt.plot(al_sep_out_target_dist)"
   ]
  },
  {
   "cell_type": "code",
   "execution_count": null,
   "id": "607121e9-669c-4267-ad6d-10323c07581c",
   "metadata": {},
   "outputs": [],
   "source": []
  },
  {
   "cell_type": "code",
   "execution_count": 69,
   "id": "982f3877-0065-4233-90a1-bb6fd256b8f1",
   "metadata": {},
   "outputs": [
    {
     "name": "stdout",
     "output_type": "stream",
     "text": [
      "(3725, 4)\n",
      "[[  0.           0.           0.           0.        ]\n",
      " [ -1.          -1.           0.           7.49948754]\n",
      " [  0.          -1.           0.          -4.74413165]\n",
      " ...\n",
      " [ 94.          36.           0.         120.50695282]\n",
      " [ 95.          36.           0.          66.11112204]\n",
      " [ 96.          36.           0.           6.37045578]]\n",
      "[95.         -1.          0.         13.36714708]\n",
      "[   95.            0.            0.        16752.0054021]\n",
      "[9.5000000e+01 1.0000000e+00 0.0000000e+00 2.2013042e+04]\n",
      "[9.50000000e+01 2.00000000e+00 0.00000000e+00 2.59768533e+04]\n",
      "[9.50000000e+01 3.00000000e+00 0.00000000e+00 2.90820744e+04]\n",
      "[9.50000000e+01 4.00000000e+00 0.00000000e+00 3.13674336e+04]\n",
      "[9.5000000e+01 5.0000000e+00 0.0000000e+00 3.3115727e+04]\n",
      "[9.50000000e+01 6.00000000e+00 0.00000000e+00 3.44513559e+04]\n",
      "[9.50000000e+01 7.00000000e+00 0.00000000e+00 3.53164251e+04]\n",
      "[9.50000000e+01 8.00000000e+00 0.00000000e+00 3.58386122e+04]\n",
      "[9.50000000e+01 9.00000000e+00 0.00000000e+00 3.55044353e+04]\n",
      "[9.50000000e+01 1.00000000e+01 0.00000000e+00 3.48114265e+04]\n",
      "[9.50000000e+01 1.10000000e+01 0.00000000e+00 3.32396121e+04]\n",
      "[9.50000000e+01 1.20000000e+01 0.00000000e+00 3.12988159e+04]\n",
      "[9.50000000e+01 1.30000000e+01 0.00000000e+00 2.90010328e+04]\n",
      "[9.50000000e+01 1.40000000e+01 0.00000000e+00 2.54360337e+04]\n",
      "[9.500000e+01 1.500000e+01 0.000000e+00 2.130597e+04]\n",
      "[9.50000000e+01 1.60000000e+01 0.00000000e+00 1.65159737e+04]\n",
      "[   95.           17.            0.        10483.8707094]\n",
      "[   95.            18.             0.         10949.03557029]\n",
      "[   95.            19.             0.         18670.85711048]\n",
      "[9.50000000e+01 2.00000000e+01 0.00000000e+00 2.68392207e+04]\n",
      "[9.50000000e+01 2.10000000e+01 0.00000000e+00 3.50736142e+04]\n",
      "[9.5000000e+01 2.2000000e+01 0.0000000e+00 4.3745818e+04]\n",
      "[9.50000000e+01 2.30000000e+01 0.00000000e+00 5.22965113e+04]\n",
      "[9.50000000e+01 2.40000000e+01 0.00000000e+00 6.09315157e+04]\n",
      "[9.50000000e+01 2.50000000e+01 0.00000000e+00 6.94053699e+04]\n",
      "[9.50000000e+01 2.60000000e+01 0.00000000e+00 7.86652408e+04]\n",
      "[9.50000000e+01 2.70000000e+01 0.00000000e+00 8.74113666e+04]\n",
      "[9.50000000e+01 2.80000000e+01 0.00000000e+00 9.71858972e+04]\n",
      "[9.50000000e+01 2.90000000e+01 0.00000000e+00 1.06627007e+05]\n",
      "[9.50000000e+01 3.00000000e+01 0.00000000e+00 1.16740538e+05]\n",
      "[9.50000000e+01 3.10000000e+01 0.00000000e+00 1.25349056e+05]\n",
      "[9.50000000e+01 3.20000000e+01 0.00000000e+00 1.34247561e+05]\n",
      "[9.50000000e+01 3.30000000e+01 0.00000000e+00 1.44287517e+05]\n",
      "[9.50000000e+01 3.40000000e+01 0.00000000e+00 1.51003333e+05]\n",
      "[9.50000000e+01 3.50000000e+01 0.00000000e+00 1.34840456e+05]\n",
      "[95.         36.          0.         66.11112204]\n"
     ]
    }
   ],
   "source": [
    "fname_or = \"fht_b2fstate_conv_KSTAR_check\"\n",
    "\n",
    "\n",
    "\n",
    "fname = \"./%s.txt\" %fname_or\n",
    "\n",
    "\n",
    "\n",
    "\n",
    "\n",
    "#def find_ni(fname):\n",
    "#    with open(fname) as f:\n",
    "#        line = f.readlines()\n",
    "#        print(line)\n",
    "#    return line\n",
    "    \n",
    "with open(fname,'r') as f:\n",
    "    line = f.readlines()\n",
    "a=type(line)\n",
    "k = len(line)\n",
    "data_array = np.array(line)\n",
    "full_length = np.size(data_array)\n",
    "k1 = np.zeros(k)\n",
    "\n",
    "    \n",
    "    \n",
    "raw_data = np.empty((full_length,4))\n",
    "\n",
    "\n",
    "\n",
    "\n",
    "for i in range(0, full_length):\n",
    "    dum = line[i].split()\n",
    "    dum2 = len(dum)\n",
    "    \n",
    "    for j in range(4):\n",
    "        if j+1<=len(dum):\n",
    "\n",
    "            dum3 = dum[j]\n",
    "            \n",
    "            try:\n",
    "                raw_data[i,j] = dum3\n",
    "            except ValueError as m:\n",
    "                raw_data[i,j] = 0\n",
    "            #print(dum3)\n",
    "        elif j+1>len(dum):\n",
    "            continue\n",
    "k=0            \n",
    "print(np.shape(raw_data))\n",
    "print(raw_data)\n",
    "total_flux = np.empty((38))\n",
    "for i in range(0,full_length):\n",
    "    if raw_data[i,0]==95:\n",
    "        print(raw_data[i,:])\n",
    "        total_flux[k] = raw_data[i,3]\n",
    "        k=k+1\n",
    "\n"
   ]
  },
  {
   "cell_type": "code",
   "execution_count": 70,
   "id": "51227650-6889-4991-8598-761c72f47b73",
   "metadata": {},
   "outputs": [
    {
     "name": "stdout",
     "output_type": "stream",
     "text": [
      "[1.33671471e+01 1.67520054e+04 2.20130420e+04 2.59768533e+04\n",
      " 2.90820744e+04 3.13674336e+04 3.31157270e+04 3.44513559e+04\n",
      " 3.53164251e+04 3.58386122e+04 3.55044353e+04 3.48114265e+04\n",
      " 3.32396121e+04 3.12988159e+04 2.90010328e+04 2.54360337e+04\n",
      " 2.13059700e+04 1.65159737e+04 1.04838707e+04 1.09490356e+04\n",
      " 1.86708571e+04 2.68392207e+04 3.50736142e+04 4.37458180e+04\n",
      " 5.22965113e+04 6.09315157e+04 6.94053699e+04 7.86652408e+04\n",
      " 8.74113666e+04 9.71858972e+04 1.06627007e+05 1.16740538e+05\n",
      " 1.25349056e+05 1.34247561e+05 1.44287517e+05 1.51003333e+05\n",
      " 1.34840456e+05 6.61111220e+01]\n"
     ]
    }
   ],
   "source": [
    "print(total_flux)"
   ]
  },
  {
   "cell_type": "code",
   "execution_count": 78,
   "id": "c682c57b-6c95-44d9-9e1a-6430f1035274",
   "metadata": {},
   "outputs": [
    {
     "data": {
      "text/plain": [
       "[<matplotlib.lines.Line2D at 0x10e440c40>]"
      ]
     },
     "execution_count": 78,
     "metadata": {},
     "output_type": "execute_result"
    },
    {
     "data": {
      "image/png": "[encoded data removed]",
      "text/plain": [
       "<Figure size 432x288 with 1 Axes>"
      ]
     },
     "metadata": {
      "needs_background": "light"
     },
     "output_type": "display_data"
    }
   ],
   "source": [
    "plt.plot(conv_sep_out_target_dist[1:], np.abs(total_flux[1:]/(co_facing[0,1:,96]*1000000)), label = \"2.5 MW \")"
   ]
  }
 ],
 "metadata": {
  "kernelspec": {
   "display_name": "Python 3 (ipykernel)",
   "language": "python",
   "name": "python3"
  },
  "language_info": {
   "codemirror_mode": {
    "name": "ipython",
    "version": 3
   },
   "file_extension": ".py",
   "mimetype": "text/x-python",
   "name": "python",
   "nbconvert_exporter": "python",
   "pygments_lexer": "ipython3",
   "version": "3.9.12"
  }
 },
 "nbformat": 4,
 "nbformat_minor": 5
}
