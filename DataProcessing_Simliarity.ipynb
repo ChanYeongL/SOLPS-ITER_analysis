{
 "cells": [
  {
   "cell_type": "markdown",
   "id": "e31dab78-4256-4394-b4b3-207bc6ad2c9e",
   "metadata": {},
   "source": [
    "<span style=\"color:#87cefa; font-size:300%\"> Statistical Significance</span> "
   ]
  },
  {
   "cell_type": "code",
   "execution_count": 1,
   "id": "f1319c4e-9b88-4c20-9d69-7ddfbae66f35",
   "metadata": {},
   "outputs": [],
   "source": [
    "import numpy as np\n",
    "import matplotlib.pyplot as plt\n",
    "import matplotlib.ticker as ticker\n",
    "from scipy.special import rel_entr\n",
    "import pickle\n",
    "from mpl_toolkits.mplot3d import axes3d\n",
    "from scipy.ndimage.filters import gaussian_filter\n",
    "\n"
   ]
  },
  {
   "cell_type": "markdown",
   "id": "815cea90-23a7-41ae-aa74-93fa1630eb93",
   "metadata": {},
   "source": [
    "<span style=\"color:#87cefa; font-size:150%\"> Select Data</span> "
   ]
  },
  {
   "cell_type": "code",
   "execution_count": 2,
   "id": "72a10533-0a6b-427a-81ef-781c59081f4f",
   "metadata": {},
   "outputs": [],
   "source": [
    "se = \"al\"\n",
    "se = \"conv\""
   ]
  },
  {
   "cell_type": "markdown",
   "id": "771d8987-92ee-493f-b7ec-f5093a1ae3c3",
   "metadata": {},
   "source": [
    "<span style=\"color:#87cefa; font-size:120%\"> Heat Flux</span> "
   ]
  },
  {
   "cell_type": "code",
   "execution_count": 3,
   "id": "bb63ce1c-5f55-4302-a968-db8be5a21697",
   "metadata": {},
   "outputs": [],
   "source": [
    "#ion_density = np.load(\"./na_b2fstate_al_KSTAR.npy\")\n",
    "#KSTAR Heating condition\n",
    "conv_KSTAR_ion_density = np.load(\"./na_b2fstate_co_KSTAR.npy\")\n",
    "al_KSTAR_ion_density = np.load(\"./na_b2fstate_al_KSTAR.npy\")\n",
    "\n",
    "conv_KSTAR_electron_heatflux = np.load(\"./fhe_b2fstate_co_KSTAR.npy\")\n",
    "al_KSTAR_electron_heatflux = np.load(\"./fhe_b2fstate_al_KSTAR.npy\")\n",
    "\n",
    "conv_KSTAR_ion_heatflux = np.load(\"./fhi_b2fstate_co_KSTAR.npy\")\n",
    "al_KSTAR_ion_heatflux = np.load(\"./fhi_b2fstate_al_KSTAR.npy\")\n",
    "\n",
    "#ITER Heating condition\n",
    "conv_ITER_ion_density = np.load(\"./na_b2fstate_co_ITER.npy\")\n",
    "al_ITER_ion_density = np.load(\"./na_b2fstate_al_ITER.npy\")\n",
    "\n",
    "conv_ITER_electron_heatflux = np.load(\"./fhe_b2fstate_co_ITER.npy\")\n",
    "al_ITER_electron_heatflux = np.load(\"./fhe_b2fstate_al_ITER.npy\")\n",
    "\n",
    "conv_ITER_ion_heatflux = np.load(\"./fhi_b2fstate_co_ITER.npy\")\n",
    "al_ITER_ion_heatflux = np.load(\"./fhi_b2fstate_al_ITER.npy\")\n",
    "\n",
    "#KDMO Heating condition\n",
    "conv_KDEMO_ion_density = np.load(\"./na_b2fstate_co_KDEMO.npy\")\n",
    "al_KDEMO_ion_density = np.load(\"./na_b2fstate_al_KDEMO.npy\")\n",
    "\n",
    "conv_KDEMO_electron_heatflux = np.load(\"./fhe_b2fstate_co_KDEMO.npy\")\n",
    "al_KDEMO_electron_heatflux = np.load(\"./fhe_b2fstate_al_KDEMO.npy\")\n",
    "\n",
    "conv_KDEMO_ion_heatflux = np.load(\"./fhi_b2fstate_co_KDEMO.npy\")\n",
    "al_KDEMO_ion_heatflux = np.load(\"./fhi_b2fstate_al_KDEMO.npy\")\n",
    "\n",
    "\n",
    "\n",
    "#KSTAR Heating condition\n",
    "#conv_KSTAR_ion_density_noNE = np.load(\"./na_b2fstate_co_KSTAR_noNE.npy\")\n",
    "#al_KSTAR_ion_density_noNE = np.load(\"./na_b2fstate_al_KSTAR.npy\")\n",
    "\n",
    "conv_KSTAR_electron_heatflux_noNE = np.load(\"./fhe_b2fstate_co_KSTAR_noNE.npy\")\n",
    "al_KSTAR_electron_heatflux_noNE = np.load(\"./fhe_b2fstate_al_KSTAR_noNE.npy\")\n",
    "\n",
    "conv_KSTAR_ion_heatflux_noNE = np.load(\"./fhi_b2fstate_co_KSTAR_noNE.npy\")\n",
    "al_KSTAR_ion_heatflux_noNE = np.load(\"./fhi_b2fstate_al_KSTAR_noNE.npy\")\n",
    "\n",
    "#ITER Heating condition\n",
    "conv_ITER_electron_heatflux_noNE = np.load(\"./fhe_b2fstate_co_ITER_noNE.npy\")\n",
    "al_ITER_electron_heatflux_noNE = np.load(\"./fhe_b2fstate_al_ITER_noNE.npy\")\n",
    "\n",
    "conv_ITER_ion_heatflux_noNE = np.load(\"./fhi_b2fstate_co_ITER_noNE.npy\")\n",
    "al_ITER_ion_heatflux_noNE = np.load(\"./fhi_b2fstate_al_ITER_noNE.npy\")\n",
    "\n",
    "#KDMO Heating condition\n",
    "conv_KDEMO_electron_heatflux_noNE = np.load(\"./fhe_b2fstate_co_KDEMO_noNE.npy\")\n",
    "al_KDEMO_electron_heatflux_noNE = np.load(\"./fhe_b2fstate_al_KDEMO_noNE.npy\")\n",
    "\n",
    "conv_KDEMO_ion_heatflux_noNE = np.load(\"./fhi_b2fstate_co_KDEMO_noNE.npy\")\n",
    "al_KDEMO_ion_heatflux_noNE = np.load(\"./fhi_b2fstate_al_KDEMO_noNE.npy\")\n",
    "\n",
    "\n",
    "#3.0e18\n",
    "al_KSTAR_ion_heatflux_3e18Ne = np.load(\"./fhi_b2fstate_al_KSTAR_3e18Ne.npy\")\n",
    "al_ITER_ion_heatflux_3e18Ne = np.load(\"./fhi_b2fstate_al_ITER_3e18Ne.npy\")\n",
    "\n",
    "al_KSTAR_electron_heatflux_3e18Ne = np.load(\"./fhe_b2fstate_al_KSTAR_3e18Ne.npy\")\n",
    "al_ITER_electron_heatflux_3e18Ne = np.load(\"./fhe_b2fstate_al_ITER_3e18Ne.npy\")"
   ]
  },
  {
   "cell_type": "code",
   "execution_count": 4,
   "id": "9e86e47a-91cf-4792-8bff-a6384cdb5360",
   "metadata": {},
   "outputs": [],
   "source": [
    "Kflux = np.load(\"./KSTAR_Flux.npy\")\n",
    "Iflux = np.load(\"./ITER_Flux.npy\")\n",
    "Dflux = np.load(\"./KDEMO_Flux.npy\")\n",
    "aIflux = np.load(\"./altergeo_ITER_Flux.npy\")\n",
    "convmesh = np.load(\"./conv_geo_mesh_center.npy\")\n",
    "convmesh_x = np.load(\"./conv_geo_mesh_x.npy\")\n",
    "convmesh_y = np.load(\"./conv_geo_mesh_y.npy\")\n",
    "\n",
    "almesh = np.load(\"./al_geo_mesh_center.npy\")\n",
    "almesh_x = np.load(\"./al_geo_mesh_x.npy\")\n",
    "almesh_y = np.load(\"./al_geo_mesh_y.npy\")\n",
    "\n",
    "\n",
    "\n",
    "\n",
    "\n",
    "#al_KSTAR_electron_particleflux = np.load(\"./fne_b2fstate_al_KSTAR.npy\")\n",
    "#al_ITER_electron_particleflux = np.load(\"./fne_b2fstate_al_ITER.npy\")\n",
    "#al_KDEMO_electron_particleflux = np.load(\"./fne_b2fstate_al_KDEMO.npy\")\n",
    "\n",
    "#al_KSTAR_electron_particleflux = np.load(\"./fne_b2fstate_al_KSTAR.npy\")\n",
    "#al_ITER_electron_particleflux = np.load(\"./fne_b2fstate_al_ITER.npy\")\n",
    "#al_KDEMO_electron_particleflux = np.load(\"./fne_b2fstate_al_KDEMO.npy\")\n",
    "\n",
    "#ion velocity\n",
    "#KSTAR Heating condition\n",
    "conv_KSTAR_ion_velocity = np.load(\"./ua_b2fstate_co_KSTAR.npy\")\n",
    "al_KSTAR_ion_velocity = np.load(\"./ua_b2fstate_al_KSTAR.npy\")\n",
    "\n",
    "\n",
    "#ITER Heating condition\n",
    "conv_ITER_ion_velocity = np.load(\"./ua_b2fstate_co_ITER.npy\")\n",
    "al_ITER_ion_velocity = np.load(\"./ua_b2fstate_al_ITER.npy\")\n",
    "\n",
    "\n",
    "\n",
    "#KDMO Heating condition\n",
    "conv_KDEMO_ion_velocity = np.load(\"./ua_b2fstate_co_KDEMO.npy\")\n",
    "al_KDEMO_ion_velocity = np.load(\"./ua_b2fstate_al_KDEMO.npy\")\n",
    "\n",
    "\n",
    "\n",
    "#electron temperature\n",
    "#KSTAR Heating condition\n",
    "conv_KSTAR_electron_temperature = np.load(\"./te_b2fstate_co_KSTAR.npy\")\n",
    "al_KSTAR_electron_temperature = np.load(\"./te_b2fstate_al_KSTAR.npy\")\n",
    "\n",
    "#ITER Heating condition\n",
    "conv_ITER_electron_temperature = np.load(\"./te_b2fstate_co_ITER.npy\")\n",
    "al_ITER_electron_temperature = np.load(\"./te_b2fstate_al_ITER.npy\")\n",
    "\n",
    "#KDMO Heating condition\n",
    "conv_KDEMO_electron_temperature = np.load(\"./te_b2fstate_co_KDEMO.npy\")\n",
    "al_KDEMO_electron_temperature = np.load(\"./te_b2fstate_al_KDEMO.npy\")\n",
    "\n",
    "\n",
    "#ion temperature\n",
    "#KSTAR Heating condition\n",
    "conv_KSTAR_ion_temperature = np.load(\"./ti_b2fstate_co_KSTAR.npy\")\n",
    "al_KSTAR_ion_temperature = np.load(\"./ti_b2fstate_al_KSTAR.npy\")\n",
    "\n",
    "#ITER Heating condition\n",
    "conv_ITER_ion_temperature = np.load(\"./ti_b2fstate_co_ITER.npy\")\n",
    "al_ITER_ion_temperature = np.load(\"./ti_b2fstate_al_ITER.npy\")\n",
    "\n",
    "#KDMO Heating condition\n",
    "conv_KDEMO_ion_temperature = np.load(\"./ti_b2fstate_co_KDEMO.npy\")\n",
    "al_KDEMO_ion_temperature = np.load(\"./ti_b2fstate_al_KDEMO.npy\")\n",
    "\n",
    "\n",
    "#electron density\n",
    "#KSTAR Heating condition\n",
    "conv_KSTAR_electron_density = np.load(\"./ne_b2fstate_co_KSTAR.npy\")\n",
    "al_KSTAR_electron_density = np.load(\"./ne_b2fstate_al_KSTAR.npy\")\n",
    "\n",
    "#ITER Heating condition\n",
    "conv_ITER_electron_density= np.load(\"./ne_b2fstate_co_ITER.npy\")\n",
    "al_ITER_electron_density = np.load(\"./ne_b2fstate_al_ITER.npy\")\n",
    "\n",
    "#KDMO Heating condition\n",
    "conv_KDEMO_electron_density = np.load(\"./ne_b2fstate_co_KDEMO.npy\")\n",
    "al_KDEMO_electron_density = np.load(\"./ne_b2fstate_al_KDEMO.npy\")\n",
    "\n",
    "\n",
    "#ion density 3.0e16\n",
    "#KSTAR Heating condition\n",
    "#conv_KSTAR_electron_density = np.load(\"./na_b2fstate_co_KSTAR.npy\")\n",
    "al_KSTAR_electron_density = np.load(\"./ne_b2fstate_al_KSTAR.npy\")\n",
    "\n",
    "#ITER Heating condition\n",
    "#conv_ITER_electron_density= np.load(\"./na_b2fstate_co_ITER.npy\")\n",
    "al_ITER_electron_density = np.load(\"./ne_b2fstate_al_ITER.npy\")\n",
    "\n",
    "#ion density 3.0e18\n",
    "#KSTAR Heating condition\n",
    "#conv_KSTAR_electron_density = np.load(\"./na_b2fstate_co_KSTAR.npy\")\n",
    "al_KSTAR_ion_density_3e19 = np.load(\"./na_b2fstate_al_KSTAR_3e19Ne.npy\")\n",
    "al_KSTAR_electron_density_3e19 = np.load(\"./ne_b2fstate_al_KSTAR_3e19Ne.npy\")\n",
    "al_ITER_electron_density_3e19 = np.load(\"./ne_b2fstate_al_ITER_3e19Ne.npy\")\n",
    "\n",
    "\n",
    "\n",
    "#ITER Heating condition\n",
    "#conv_ITER_electron_density= np.load(\"./na_b2fstate_co_ITER.npy\")\n",
    "al_ITER_ion_density_3e18 = np.load(\"./na_b2fstate_al_ITER_3e18Ne.npy\")\n",
    "al_ITER_ion_density_3e19 = np.load(\"./na_b2fstate_al_ITER_3e19Ne.npy\")\n",
    "\n",
    "\n",
    "#co_ITER_ion_density_3e18 = np.load(\"./na_b2fstate_co_ITER_3e18Ne.npy\")\n",
    "co_ITER_ion_density_3e19 = np.load(\"./na_b2fstate_co_ITER_3e19Ne.npy\")\n",
    "co_ITER_ion_density_3e19 = np.load(\"./na_b2fstate_co_ITER_3e19Ne.npy\")\n",
    "\n",
    "\n",
    "co_KSTAR_electron_density_3e19 = np.load(\"./ne_b2fstate_co_ITER_3e19Ne.npy\")\n",
    "\n",
    "\n",
    "#KDMO Heating condition\n",
    "#conv_KDEMO_electron_density = np.load(\"./na_b2fstate_co_KDEMO.npy\")\n",
    "#al_KDEMO_electron_density = np.load(\"./na_b2fstate_al_KDEMO.npy\")"
   ]
  },
  {
   "cell_type": "code",
   "execution_count": null,
   "id": "c156db1d-90eb-4e3d-bd38-59d5fdce6723",
   "metadata": {},
   "outputs": [],
   "source": []
  },
  {
   "cell_type": "code",
   "execution_count": 5,
   "id": "014f3f6e-58ec-48c8-9266-8fe322c49428",
   "metadata": {},
   "outputs": [
    {
     "name": "stdout",
     "output_type": "stream",
     "text": [
      "(3, 38, 98)\n",
      "(3, 38, 98)\n"
     ]
    }
   ],
   "source": [
    "co_facing = np.load(\"./gs_b2fgmtry.npy\")\n",
    "al_facing = np.load(\"./gs_b2fgmtry_al.npy\")\n",
    "print(np.shape(co_facing))\n",
    "print(np.shape(al_facing))"
   ]
  },
  {
   "cell_type": "code",
   "execution_count": 6,
   "id": "1f2706e2-e65f-4cde-b0b8-846d4501b1c3",
   "metadata": {},
   "outputs": [],
   "source": [
    "def conv_distance_center(first_point, second_point):\n",
    "   \n",
    "    x_range = x_convmeshinfo[first_point[1],first_point[0]]-x_convmeshinfo[second_point[1],second_point[0]]\n",
    "    y_range = y_convmeshinfo[first_point[1],first_point[0]]-y_convmeshinfo[second_point[1],second_point[0]]\n",
    "    result = (x_range**2 + y_range**2)**(1/2)\n",
    "    return result\n",
    "\n",
    "def conv_distance_point(first_point, second_point):\n",
    "    x_range = convmesh_x[first_point[2],first_point[1],first_point[0]]-convmesh_x[second_point[2],second_point[1],second_point[0]]\n",
    "    y_range = convmesh_y[first_point[2],first_point[1],first_point[0]]-convmesh_y[second_point[2],second_point[1],second_point[0]]\n",
    "    result = (x_range**2 + y_range**2)**(1/2)\n",
    "    return result\n",
    "\n",
    "def al_distance_center(first_point, second_point):\n",
    "    x_range = x_almeshinfo[first_point[1],first_point[0]]-x_almeshinfo[second_point[1],second_point[0]]\n",
    "    y_range = y_almeshinfo[first_point[1],first_point[0]]-y_almeshinfo[second_point[1],second_point[0]]\n",
    "    result = (x_range**2 + y_range**2)**(1/2)\n",
    "    return result\n",
    "\n",
    "def al_distance_point(first_point, second_point):\n",
    "    x_range = almesh_x[first_point[2],first_point[1],first_point[0]]-almesh_x[second_point[2],second_point[1],second_point[0]]\n",
    "    y_range = almesh_y[first_point[2],first_point[1],first_point[0]]-almesh_y[second_point[2],second_point[1],second_point[0]]\n",
    "    result = (x_range**2 + y_range**2)**(1/2)\n",
    "    return result"
   ]
  },
  {
   "cell_type": "code",
   "execution_count": 7,
   "id": "69554087-b800-4df9-aaf9-6c61db93f0f5",
   "metadata": {},
   "outputs": [],
   "source": [
    "ny = 36\n",
    "nx = 96"
   ]
  },
  {
   "cell_type": "code",
   "execution_count": null,
   "id": "1c2375a1-b5af-4e98-bf10-262ecc5517e7",
   "metadata": {},
   "outputs": [],
   "source": []
  },
  {
   "cell_type": "code",
   "execution_count": null,
   "id": "e2c526a6-78d9-41e3-bea0-3d0ee7e913c0",
   "metadata": {},
   "outputs": [],
   "source": []
  },
  {
   "cell_type": "code",
   "execution_count": 8,
   "id": "c252f94d-5936-4ddd-9ed5-9a091c81e97b",
   "metadata": {},
   "outputs": [],
   "source": [
    "dumx_convmeshinfo = convmesh[:,0]\n",
    "dumy_convmeshinfo = convmesh[:,1]\n",
    "x_convmeshinfo = dumx_convmeshinfo.reshape(ny+2,nx+2)\n",
    "y_convmeshinfo = dumy_convmeshinfo.reshape(ny+2,nx+2)\n",
    "\n",
    "dumx_almeshinfo = almesh[:,0]\n",
    "dumy_almeshinfo = almesh[:,1]\n",
    "x_almeshinfo = dumx_almeshinfo.reshape(ny+2,nx+2)\n",
    "y_almeshinfo = dumy_almeshinfo.reshape(ny+2,nx+2)\n",
    "\n",
    "\n",
    "\n",
    "#po_dumx_meshinfo = convmesh[:,0]\n",
    "#po_dumy_meshinfo = convmesh[:,1]\n",
    "#po_x_meshinfo = dumx_meshinfo.reshape(4,ny+2,nx+2)\n",
    "#po_y_meshinfo = dumy_meshinfo.reshape(4,ny+2,nx+2)\n",
    "\n",
    "conv_sep_out_target = np.zeros(2)\n",
    "conv_sep_out_target[0] = convmesh_x[1,18,96]\n",
    "conv_sep_out_target[1] = convmesh_y[1,18,96]\n",
    "\n",
    "al_sep_out_target = np.zeros(2)\n",
    "al_sep_out_target[0] = almesh_x[1,18,96]\n",
    "al_sep_out_target[1] = almesh_y[1,18,96]"
   ]
  },
  {
   "cell_type": "code",
   "execution_count": null,
   "id": "8cfbb74d-8985-496b-a937-60dfec519df5",
   "metadata": {},
   "outputs": [],
   "source": []
  },
  {
   "cell_type": "code",
   "execution_count": 9,
   "id": "dfc5d3d2-831c-4136-98e2-3ac8e2c36223",
   "metadata": {},
   "outputs": [
    {
     "name": "stdout",
     "output_type": "stream",
     "text": [
      "1.46893119 -1.24073988\n",
      "1.46995488 -1.24341402\n",
      "1.4696858 -1.24384009\n",
      "1.47070536 -1.24658604\n"
     ]
    }
   ],
   "source": [
    "print(convmesh_x[0,19,96],convmesh_y[0,1,96])\n",
    "print(convmesh_x[1,19,96],convmesh_y[1,1,96])\n",
    "print(convmesh_x[2,19,96],convmesh_y[2,1,96])\n",
    "print(convmesh_x[3,19,96],convmesh_y[3,1,96])"
   ]
  },
  {
   "cell_type": "code",
   "execution_count": 10,
   "id": "d3405d23-a1ee-4435-abb0-5b75ef40eb51",
   "metadata": {},
   "outputs": [
    {
     "data": {
      "image/png": "[encoded data removed]",
      "text/plain": [
       "<Figure size 432x288 with 2 Axes>"
      ]
     },
     "metadata": {
      "needs_background": "light"
     },
     "output_type": "display_data"
    }
   ],
   "source": [
    "map_plot = plt.pcolormesh(Iflux[1,:,:])\n",
    "\n",
    "plt.colorbar()\n",
    "plt.show()\n",
    "\n",
    "I = Iflux[1,:,:]\n",
    "K = Kflux[1,:,:]\n",
    "D = Dflux[1,:,:]\n",
    "aI = aIflux[1,:,:]\n",
    "Inorm = np.linalg.norm(I)\n",
    "Knorm = np.linalg.norm(K)\n",
    "Dnorm = np.linalg.norm(D)\n",
    "aInorm = np.linalg.norm(aI)"
   ]
  },
  {
   "cell_type": "markdown",
   "id": "8e46e6de-f01d-49ad-a0f0-ce07748767d6",
   "metadata": {},
   "source": [
    "<span style=\"color:#87cefa; font-size:200%\"> Plot w.r.t Separatrix</span> "
   ]
  },
  {
   "cell_type": "markdown",
   "id": "e2aa92e2-af55-499a-81ac-19c1d2cf80ec",
   "metadata": {},
   "source": [
    "<span style=\"color:#87cefa; font-size:150%\"> Outer target distance</span> "
   ]
  },
  {
   "cell_type": "code",
   "execution_count": 11,
   "id": "6ccf7701-f41c-48e6-a7b0-02be0ffd6c44",
   "metadata": {},
   "outputs": [
    {
     "name": "stdout",
     "output_type": "stream",
     "text": [
      "[ 1.46925157 -1.29399156]\n",
      "[-0.07399703 -0.07395281 -0.06953081 -0.06484629 -0.05993478 -0.0548547\n",
      " -0.04970174 -0.04455198 -0.03946435 -0.034482   -0.02969539 -0.02515139\n",
      " -0.02086512 -0.01694817 -0.01342549 -0.01037091 -0.00780999  0.00582633\n",
      "  0.00449096  0.00385691  0.00309133  0.00246599  0.00339832  0.00600347\n",
      "  0.00962033  0.01405269  0.019202    0.02504985  0.0316032   0.0387997\n",
      "  0.04667072  0.05514201  0.06423358  0.07390523  0.08417098  0.09497473\n",
      "  0.10627732  0.11807279]\n"
     ]
    }
   ],
   "source": [
    "print(conv_sep_out_target)\n",
    "conv_sep_out_target_dist = np.zeros(ny+2)\n",
    "for i in range(ny+2):\n",
    "    conv_sep_out_target_dist[i] = conv_distance_point([96,i,0],[96,18,1])\n",
    "    if i<17:\n",
    "        conv_sep_out_target_dist[i] = -conv_sep_out_target_dist[i]\n",
    "    \n",
    "conv_sep_in_target_dist = np.zeros(ny+2)\n",
    "for i in range(ny+2):\n",
    "    conv_sep_in_target_dist[i] = conv_distance_point([1,i,0],[1,18,1])\n",
    "    if i<17:\n",
    "        conv_sep_in_target_dist[i] = -conv_sep_in_target_dist[i]\n",
    "print(conv_sep_out_target_dist)"
   ]
  },
  {
   "cell_type": "code",
   "execution_count": 12,
   "id": "bedd07c0-0eec-4eb8-b1df-367faaf566c8",
   "metadata": {},
   "outputs": [
    {
     "name": "stdout",
     "output_type": "stream",
     "text": [
      "[ 1.49532367 -1.39853962]\n"
     ]
    }
   ],
   "source": [
    "print(al_sep_out_target)\n",
    "al_sep_out_target_dist = np.zeros(ny+2)\n",
    "for i in range(ny+2):\n",
    "    al_sep_out_target_dist[i] = al_distance_point([96,i,0],[96,18,1])\n",
    "    if i<17:\n",
    "        al_sep_out_target_dist[i] = -al_sep_out_target_dist[i]\n",
    "    \n",
    "al_sep_in_target_dist = np.zeros(ny+2)\n",
    "for i in range(ny+2):\n",
    "    al_sep_in_target_dist[i] = al_distance_point([1,i,0],[1,18,1])\n",
    "    if i<17:\n",
    "        al_sep_in_target_dist[i] = -al_sep_in_target_dist[i]\n",
    "\n",
    "        "
   ]
  },
  {
   "cell_type": "code",
   "execution_count": 13,
   "id": "f13ef4a4-467b-4541-b0c0-4d75f2f9d917",
   "metadata": {},
   "outputs": [
    {
     "data": {
      "text/plain": [
       "(3724, 2)"
      ]
     },
     "execution_count": 13,
     "metadata": {},
     "output_type": "execute_result"
    }
   ],
   "source": [
    "np.shape(convmesh)"
   ]
  },
  {
   "cell_type": "code",
   "execution_count": 14,
   "id": "aee91576-2f55-4ee9-aff7-0b34ab51c746",
   "metadata": {},
   "outputs": [
    {
     "data": {
      "text/plain": [
       "<matplotlib.collections.PathCollection at 0x10cc65f40>"
      ]
     },
     "execution_count": 14,
     "metadata": {},
     "output_type": "execute_result"
    },
    {
     "data": {
      "image/png": "[encoded data removed]",
      "text/plain": [
       "<Figure size 576x576 with 1 Axes>"
      ]
     },
     "metadata": {
      "needs_background": "light"
     },
     "output_type": "display_data"
    }
   ],
   "source": [
    "\n",
    "plt.figure(figsize=(8, 8))\n",
    "\n",
    "plt.axes().set_aspect('equal')\n",
    "plt.scatter(convmesh_x,convmesh_y, s=0.1)\n"
   ]
  },
  {
   "cell_type": "code",
   "execution_count": 15,
   "id": "02303742-a211-4666-9d88-4091c1f36138",
   "metadata": {},
   "outputs": [
    {
     "data": {
      "text/plain": [
       "(4, 38, 98)"
      ]
     },
     "execution_count": 15,
     "metadata": {},
     "output_type": "execute_result"
    }
   ],
   "source": [
    "al_sort = al_sep_out_target_dist.argsort()\n",
    "np.shape(convmesh_x)"
   ]
  },
  {
   "cell_type": "code",
   "execution_count": null,
   "id": "43537556-fcc1-4b66-ba30-814401d3d9d2",
   "metadata": {},
   "outputs": [],
   "source": [
    "\n"
   ]
  },
  {
   "cell_type": "code",
   "execution_count": 16,
   "id": "6cb979ae-df10-40a4-a4bb-4dc2350501eb",
   "metadata": {},
   "outputs": [],
   "source": [
    "convmesh_x_cen = np.sum(convmesh_x, axis = 0)/4\n",
    "convmesh_y_cen = np.sum(convmesh_y, axis = 0)/4\n",
    "almesh_x_cen = np.sum(almesh_x, axis = 0)/4\n",
    "almesh_y_cen = np.sum(almesh_y, axis = 0)/4"
   ]
  },
  {
   "cell_type": "code",
   "execution_count": 17,
   "id": "72b8cd79-3c2c-46c6-8286-71dc54d46d95",
   "metadata": {},
   "outputs": [
    {
     "name": "stdout",
     "output_type": "stream",
     "text": [
      "(20, 38, 98)\n",
      "(38, 98)\n"
     ]
    }
   ],
   "source": [
    "print(np.shape(co_ITER_ion_density_3e19))\n",
    "print(np.shape(co_KSTAR_electron_density_3e19))"
   ]
  },
  {
   "cell_type": "code",
   "execution_count": 21,
   "id": "8e67d651-9af8-4a68-9cb8-333ff0720e3e",
   "metadata": {},
   "outputs": [
    {
     "name": "stderr",
     "output_type": "stream",
     "text": [
      "/var/folders/6l/rtqlm1413nv4p09yfmh2nkhc0000gn/T/ipykernel_2194/1633237015.py:11: UserWarning: The input coordinates to pcolormesh are interpreted as cell centers, but are not monotonically increasing or decreasing. This may lead to incorrectly calculated cell edges, in which case, please supply explicit cell edges to pcolormesh.\n",
      "  plt.pcolormesh(convmesh_x_cen, convmesh_y_cen, dataiwant_conv)\n"
     ]
    },
    {
     "data": {
      "image/png": "[encoded data removed]",
      "text/plain": [
       "<Figure size 576x576 with 2 Axes>"
      ]
     },
     "metadata": {
      "needs_background": "light"
     },
     "output_type": "display_data"
    }
   ],
   "source": [
    "plt.figure(figsize=(8, 8))\n",
    "\n",
    "plt.axes().set_aspect('equal')\n",
    "\n",
    "plt.title(\"SAS Geometry impurity density(%)\")\n",
    "#plt.xlim(1.4,1.6)\n",
    "#plt.ylim(-1.4,-1.2)\n",
    "dataiwant_conv =  (co_ITER_ion_density_3e19[0,:,:]/conv_ITER_electron_density)\n",
    "#dataiwant_conv = dataiwant_conv.sum(axis=0)\n",
    "#plt.pcolormesh(convmesh_x_cen, convmesh_y_cen, co_ITER_ion_density_3e19[2,:,:])\n",
    "plt.pcolormesh(convmesh_x_cen, convmesh_y_cen, dataiwant_conv)\n",
    "\n",
    "\n",
    "plt.colorbar()\n",
    "\n",
    "plt.show()"
   ]
  },
  {
   "cell_type": "code",
   "execution_count": 35,
   "id": "a139fd55-9654-461c-b2fb-ac43d89fa6ff",
   "metadata": {},
   "outputs": [
    {
     "ename": "NameError",
     "evalue": "name 'co_KSTAR_ion_density_3e19' is not defined",
     "output_type": "error",
     "traceback": [
      "\u001b[0;31m---------------------------------------------------------------------------\u001b[0m",
      "\u001b[0;31mNameError\u001b[0m                                 Traceback (most recent call last)",
      "Input \u001b[0;32mIn [35]\u001b[0m, in \u001b[0;36m<cell line: 11>\u001b[0;34m()\u001b[0m\n\u001b[1;32m      8\u001b[0m dataiwant_conv \u001b[38;5;241m=\u001b[39m  (co_ITER_ion_density_3e19[\u001b[38;5;241m13\u001b[39m,:,:]\u001b[38;5;241m/\u001b[39mconv_ITER_electron_density)\n\u001b[1;32m      9\u001b[0m \u001b[38;5;66;03m#dataiwant_conv = dataiwant_conv.sum(axis=0)\u001b[39;00m\n\u001b[1;32m     10\u001b[0m \u001b[38;5;66;03m#plt.pcolormesh(convmesh_x_cen, convmesh_y_cen, co_ITER_ion_density_3e19[2,:,:])\u001b[39;00m\n\u001b[0;32m---> 11\u001b[0m plt\u001b[38;5;241m.\u001b[39mpcolormesh(convmesh_x_cen, convmesh_y_cen, \u001b[43mco_KSTAR_ion_density_3e19\u001b[49m[\u001b[38;5;241m0\u001b[39m,:,:])\n\u001b[1;32m     14\u001b[0m plt\u001b[38;5;241m.\u001b[39mcolorbar()\n\u001b[1;32m     16\u001b[0m plt\u001b[38;5;241m.\u001b[39mshow()\n",
      "\u001b[0;31mNameError\u001b[0m: name 'co_KSTAR_ion_density_3e19' is not defined"
     ]
    },
    {
     "data": {
      "image/png": "[encoded data removed]",
      "text/plain": [
       "<Figure size 576x576 with 1 Axes>"
      ]
     },
     "metadata": {
      "needs_background": "light"
     },
     "output_type": "display_data"
    }
   ],
   "source": [
    "plt.figure(figsize=(8, 8))\n",
    "\n",
    "plt.axes().set_aspect('equal')\n",
    "\n",
    "plt.title(\"SAS Geometry impurity density(%)\")\n",
    "plt.xlim(1.1,2.0)\n",
    "plt.ylim(-1.4,-0.4)\n",
    "dataiwant_conv =  (co_ITER_ion_density_3e19[13,:,:]/conv_ITER_electron_density)\n",
    "#dataiwant_conv = dataiwant_conv.sum(axis=0)\n",
    "#plt.pcolormesh(convmesh_x_cen, convmesh_y_cen, co_ITER_ion_density_3e19[2,:,:])\n",
    "plt.pcolormesh(convmesh_x_cen, convmesh_y_cen, co_KSTAR_ion_density_3e19[0,:,:])\n",
    "\n",
    "\n",
    "plt.colorbar()\n",
    "\n",
    "plt.show()"
   ]
  },
  {
   "cell_type": "code",
   "execution_count": 34,
   "id": "ec8bb3f4-95d3-4744-aca0-bb7594ea043d",
   "metadata": {},
   "outputs": [
    {
     "name": "stdout",
     "output_type": "stream",
     "text": [
      "[[[1.21266624e+09 1.21125158e+09 1.10310808e+09 ... 4.27766824e+08\n",
      "   4.29416727e+08 4.29444446e+08]\n",
      "  [1.14773062e+09 1.14639172e+09 1.04205917e+09 ... 4.13493116e+08\n",
      "   4.15054782e+08 4.15081574e+08]\n",
      "  [1.09812154e+09 1.09657108e+09 9.96180824e+08 ... 3.84168003e+08\n",
      "   3.84894983e+08 3.84753835e+08]\n",
      "  ...\n",
      "  [1.32321195e+08 1.29146114e+08 1.04542850e+08 ... 5.09258701e+09\n",
      "   6.62707333e+09 6.69122389e+09]\n",
      "  [9.27982937e+07 9.18161819e+07 8.27702128e+07 ... 5.91253874e+09\n",
      "   7.76600365e+09 7.81355791e+09]\n",
      "  [1.02632726e+08 1.01546533e+08 9.26790666e+07 ... 6.45464371e+09\n",
      "   8.46398939e+09 8.51581770e+09]]\n",
      "\n",
      " [[9.30688565e+18 9.30649738e+18 9.55525010e+18 ... 2.44776841e+18\n",
      "   2.26764491e+18 2.27810756e+18]\n",
      "  [9.90421589e+18 9.90380270e+18 1.01762418e+19 ... 2.53804643e+18\n",
      "   2.35061868e+18 2.36146416e+18]\n",
      "  [1.14757746e+19 1.14726437e+19 1.18567636e+19 ... 2.81768451e+18\n",
      "   2.60724534e+18 2.62750984e+18]\n",
      "  ...\n",
      "  [1.41359520e+19 1.41831319e+19 1.29265492e+19 ... 1.11585578e+20\n",
      "   1.00893111e+20 1.00928830e+20]\n",
      "  [7.74032107e+18 7.73881538e+18 7.22800434e+18 ... 8.14607603e+19\n",
      "   6.98786225e+19 6.98940501e+19]\n",
      "  [6.58021540e+18 6.57893538e+18 6.17948279e+18 ... 7.31438183e+19\n",
      "   6.28114791e+19 6.28253464e+19]]\n",
      "\n",
      " [[3.65358881e+06 3.65024171e+06 3.32805553e+06 ... 3.59006588e+04\n",
      "   3.59233888e+04 3.59203051e+04]\n",
      "  [3.45791403e+06 3.45474619e+06 3.14385943e+06 ... 3.47028085e+04\n",
      "   3.47219913e+04 3.47190107e+04]\n",
      "  [3.30382310e+06 3.30034987e+06 3.00312316e+06 ... 3.21949124e+04\n",
      "   3.21492535e+04 3.21316067e+04]\n",
      "  ...\n",
      "  [1.00000000e+04 1.00000000e+04 1.00000000e+04 ... 4.38714204e+06\n",
      "   5.45654854e+06 5.45504194e+06]\n",
      "  [1.00000000e+04 1.00000000e+04 1.00000000e+04 ... 5.15902077e+06\n",
      "   6.56116689e+06 6.56986642e+06]\n",
      "  [1.00000000e+04 1.00000000e+04 1.00000000e+04 ... 5.63396739e+06\n",
      "   7.15370320e+06 7.16318838e+06]]\n",
      "\n",
      " ...\n",
      "\n",
      " [[5.89987574e+13 5.89761779e+13 6.20634505e+13 ... 1.65538135e+14\n",
      "   1.48860368e+14 1.48873950e+14]\n",
      "  [6.27841165e+13 6.27600882e+13 6.60965531e+13 ... 1.71667029e+14\n",
      "   1.54331258e+14 1.54345339e+14]\n",
      "  [6.79214272e+13 6.78955012e+13 7.19952681e+13 ... 1.89110801e+14\n",
      "   1.68995767e+14 1.68946926e+14]\n",
      "  ...\n",
      "  [1.28852438e+17 1.28727317e+17 2.15216553e+17 ... 1.35219402e+16\n",
      "   9.63565756e+15 9.64066322e+15]\n",
      "  [1.47275784e+17 1.47023219e+17 2.24654058e+17 ... 9.77293100e+15\n",
      "   6.85317209e+15 6.85682950e+15]\n",
      "  [1.25234427e+17 1.25019660e+17 1.92121198e+17 ... 8.77568226e+15\n",
      "   6.16023999e+15 6.16352760e+15]]\n",
      "\n",
      " [[8.77818117e+11 8.77523864e+11 9.26112155e+11 ... 1.16792394e+13\n",
      "   1.05752091e+13 1.05775100e+13]\n",
      "  [9.34141569e+11 9.33828436e+11 9.86297601e+11 ... 1.21115994e+13\n",
      "   1.09638176e+13 1.09662029e+13]\n",
      "  [9.99394069e+11 9.99068150e+11 1.06229041e+12 ... 1.34613949e+13\n",
      "   1.21120529e+13 1.21099043e+13]\n",
      "  ...\n",
      "  [4.26467064e+16 4.26052719e+16 7.11813006e+16 ... 2.33684163e+15\n",
      "   1.65419376e+15 1.65486015e+15]\n",
      "  [4.93971613e+16 4.93143300e+16 7.53737742e+16 ... 1.66331307e+15\n",
      "   1.16478021e+15 1.16541685e+15]\n",
      "  [4.20041506e+16 4.19337162e+16 6.44588166e+16 ... 1.49358796e+15\n",
      "   1.04701146e+15 1.04758373e+15]]\n",
      "\n",
      " [[4.03530387e+10 4.03391398e+10 4.29548912e+10 ... 2.53378352e+12\n",
      "   2.29389075e+12 2.29441863e+12]\n",
      "  [4.29421870e+10 4.29273963e+10 4.57463541e+10 ... 2.62758080e+12\n",
      "   2.37818355e+12 2.37873084e+12]\n",
      "  [4.51060378e+10 4.50907520e+10 4.83805958e+10 ... 2.92187588e+12\n",
      "   2.62834350e+12 2.62790926e+12]\n",
      "  ...\n",
      "  [1.97235834e+16 1.97043367e+16 3.29220339e+16 ... 2.22461366e+14\n",
      "   1.44586855e+14 1.44685659e+14]\n",
      "  [2.35104616e+16 2.34714670e+16 3.58934301e+16 ... 1.43926581e+14\n",
      "   9.41248198e+13 9.42042165e+13]\n",
      "  [1.99917232e+16 1.99585648e+16 3.06957364e+16 ... 1.29244832e+14\n",
      "   8.46104056e+13 8.46817766e+13]]]\n"
     ]
    }
   ],
   "source": [
    "print(co_ITER_ion_density_3e19)"
   ]
  },
  {
   "cell_type": "code",
   "execution_count": null,
   "id": "bcc18ac9-4b01-4dfe-9572-8c15bc2bac95",
   "metadata": {},
   "outputs": [],
   "source": []
  },
  {
   "cell_type": "code",
   "execution_count": null,
   "id": "53d1a376-0fdc-4bac-aafd-eace13f1f970",
   "metadata": {},
   "outputs": [],
   "source": []
  },
  {
   "cell_type": "code",
   "execution_count": null,
   "id": "5eb93f59-3f83-49e5-a461-c07812ff5d06",
   "metadata": {},
   "outputs": [],
   "source": [
    "plt.figure(figsize=(9, 9))\n",
    "\n",
    "plt.axes().set_aspect('equal')\n",
    "\n",
    "\n",
    "dataiwant_al =  al_KSTAR_ion_density[7:,:,:]\n",
    "#dataiwant_al = dataiwant_al.sum(axis=0)\n",
    "#plt.xlim(1.2,1.7)\n",
    "#plt.ylim(-1.4,-0.8)\n",
    "check_load = np.load(\"./ne_b2fstate_al_KSTAR_3e19Ne.npy\")\n",
    "plt.pcolormesh(almesh_x_cen, almesh_y_cen,al_KSTAR_electron_density_3e19)\n",
    "plt.colorbar()\n",
    "#plt.title\n",
    "\n",
    "plt.show()"
   ]
  },
  {
   "cell_type": "code",
   "execution_count": null,
   "id": "6fc77eef-e542-4fd5-ba9a-f9a611795f23",
   "metadata": {},
   "outputs": [],
   "source": [
    "print(check_load)"
   ]
  },
  {
   "cell_type": "code",
   "execution_count": null,
   "id": "b403dd37-d7b6-44a9-8d0a-0ebf415abe4a",
   "metadata": {},
   "outputs": [],
   "source": [
    "print(co_KSTAR_electron_density_3e19)"
   ]
  },
  {
   "cell_type": "code",
   "execution_count": null,
   "id": "39507d8d-59b4-4639-aa78-d7ca3343cb0f",
   "metadata": {},
   "outputs": [],
   "source": [
    "plt.figure(figsize=(9, 9))\n",
    "\n",
    "plt.axes().set_aspect('equal')\n",
    "\n",
    "\n",
    "dataiwant_al =  al_KSTAR_ion_density[7:,:,:]\n",
    "#dataiwant_al = dataiwant_al.sum(axis=0)\n",
    "plt.xlim(1.4,1.6)\n",
    "plt.ylim(-1.4,-1.2)\n",
    "plt.pcolormesh(almesh_x_cen, almesh_y_cen,al_KSTAR_electron_density_3e19[:,:])\n",
    "plt.colorbar()\n",
    "#plt.title\n",
    "\n",
    "plt.show()"
   ]
  },
  {
   "cell_type": "code",
   "execution_count": null,
   "id": "75cd87fb-df50-499c-98d1-1e02860c3347",
   "metadata": {},
   "outputs": [],
   "source": [
    "print(al_KSTAR_electron_density_3e19)"
   ]
  },
  {
   "cell_type": "code",
   "execution_count": null,
   "id": "f7adf914-7f33-4eb7-82aa-9a634c8030f2",
   "metadata": {},
   "outputs": [],
   "source": []
  },
  {
   "cell_type": "code",
   "execution_count": null,
   "id": "bb5ba963-6d71-4f42-89d5-bc08e5432413",
   "metadata": {},
   "outputs": [],
   "source": [
    "plt.title(\"D2 Density in outer divertor\")\n",
    "\n",
    "plt.scatter(conv_sep_out_target_dist ,conv_KSTAR_ion_density[0,:,97],linewidth = 0, label = \"conventional KSTAR\")\n",
    "plt.scatter(al_sep_out_target_dist[al_sort],al_KSTAR_ion_density[0,:,97][al_sort],marker = 'x' ,linewidth = 1,label = \"alternative KSTAR\")\n",
    "plt.legend()\n",
    "plt.show()"
   ]
  },
  {
   "cell_type": "code",
   "execution_count": null,
   "id": "4dd9e13c-5043-426c-8f74-d6180bd21ed3",
   "metadata": {},
   "outputs": [],
   "source": [
    "plt.title(\"KDEMO Heating D2 Density in outer divertor\")\n",
    "\n",
    "plt.scatter(conv_sep_out_target_dist ,conv_KDEMO_ion_density[0,:,97],linewidth = 0, label = \"conventional\")\n",
    "plt.scatter(al_sep_out_target_dist,al_KDEMO_ion_density[0,:,97],marker = 'x' ,linewidth = 1,label = \"alternative\")\n",
    "plt.legend()\n",
    "plt.show()"
   ]
  },
  {
   "cell_type": "code",
   "execution_count": null,
   "id": "c4afd21c-2b76-4127-b92c-36c7c46cf674",
   "metadata": {},
   "outputs": [],
   "source": [
    "plt.title(\"KDEMO Heating D2 Density inner divertor\")\n",
    "\n",
    "plt.scatter(conv_sep_in_target_dist ,conv_KDEMO_ion_density[1,:,1],linewidth = 0, label = \"conventional \")\n",
    "plt.scatter(al_sep_in_target_dist,al_KDEMO_ion_density[1,:,1],marker = 'x' ,linewidth = 1,label = \"alternative \")\n",
    "plt.legend()\n",
    "plt.show()"
   ]
  },
  {
   "cell_type": "code",
   "execution_count": null,
   "id": "ae6f69d2-5769-447f-967f-547050074a06",
   "metadata": {},
   "outputs": [],
   "source": [
    "print(np.shape(co_facing[1,:,1]))\n",
    "print(al_facing[1,1:,1])\n",
    "print(np.shape(conv_KSTAR_electron_heatflux[1,:,1]))"
   ]
  },
  {
   "cell_type": "markdown",
   "id": "b6285e8a-466a-4bb4-8df9-3f131009415b",
   "metadata": {},
   "source": [
    "<span style=\"color:#87cefa; font-size:150%\"> Heat Flux : KSTAR</span> "
   ]
  },
  {
   "cell_type": "code",
   "execution_count": null,
   "id": "7502297b-7ca2-4317-b8ca-5a023e1b092f",
   "metadata": {},
   "outputs": [],
   "source": [
    "\n",
    "fa, (ax1, ax2) = plt.subplots(2,sharex=True)\n",
    "\n",
    "plt.suptitle('KSTAR Heating radial electron heat flux',fontsize=10)\n",
    "\n",
    "ax1.set_title('inner target', fontsize = 8)\n",
    "ax1.scatter(conv_sep_in_target_dist[1:] ,abs(conv_KSTAR_electron_heatflux[1,1:,1]/(co_facing[1,1:,0]*1000000)),marker = 'v',linewidth = 0, label = \"conventional KSTAR\")\n",
    "ax1.scatter(al_sep_in_target_dist[1:],abs(al_KSTAR_electron_heatflux[1,1:,1]/(1000000*al_facing[1,1:,0])),marker = 'x' ,linewidth = 1,label = \"alternative KSTAR\")\n",
    "ax1.legend()\n",
    "\n",
    "\n",
    "ax2.set_title('outer target', fontsize = 8)\n",
    "ax2.scatter(conv_sep_in_target_dist[1:] ,abs(conv_KDEMO_electron_heatflux[1,1:,97]/(co_facing[1,1:,97]*1000000)),marker = 'v',linewidth = 0, label = \"conventional KSTAR\")\n",
    "ax2.scatter(al_sep_in_target_dist[1:],abs(al_KDEMO_electron_heatflux[1,1:,97]/(al_facing[1,1:,97]*1000000)),marker = 'x' ,linewidth = 1,label = \"alternative KSTAR\")\n",
    "ax2.legend()\n",
    "#plt.show()\n",
    "\n",
    "\n",
    "plt.tight_layout()\n",
    "plt.savefig('./KSTAR Heating radial electron heat flux.png')"
   ]
  },
  {
   "cell_type": "code",
   "execution_count": null,
   "id": "c684cb7f-7ffc-4054-8a73-caef3aa2f431",
   "metadata": {},
   "outputs": [],
   "source": [
    "fa, (ax1, ax2) = plt.subplots(2,sharex=True)\n",
    "\n",
    "plt.suptitle('KSTAR Heating radial electron heat flux',fontsize=10)\n",
    "\n",
    "total_conv = np.load(\"./fht_b2fplasmf_conv_KSTAR.npy\")\n",
    "ax1.set_title('inner target', fontsize = 8)\n",
    "ax1.scatter(conv_sep_in_target_dist[1:] ,abs(total_conv[1,1:,1]/(co_facing[1,1:,1]*1000000)),marker = 'v',linewidth = 0, label = \"total conventional KSTAR\")\n",
    "ax1.scatter(al_sep_in_target_dist[1:],abs(al_KSTAR_electron_heatflux[1,1:,1]/(1000000*al_facing[1,1:,1])),marker = 'x' ,linewidth = 1,label = \"alternative KSTAR\")\n",
    "ax1.legend()\n",
    "\n"
   ]
  },
  {
   "cell_type": "code",
   "execution_count": null,
   "id": "97685a76-74f7-4fc2-8a47-476016b5e32c",
   "metadata": {},
   "outputs": [],
   "source": [
    "al_facing[0,:,97]"
   ]
  },
  {
   "cell_type": "code",
   "execution_count": null,
   "id": "9bf758e2-c17d-4dc6-aeee-a9fadea623aa",
   "metadata": {},
   "outputs": [],
   "source": [
    "fa, (ax1, ax2) = plt.subplots(2,sharex=True)\n",
    "\n",
    "plt.suptitle('KSTAR Heating poloridal e heat flux',fontsize=10)\n",
    "\n",
    "ax1.set_title('inner target', fontsize = 8)\n",
    "ax1.scatter(conv_sep_in_target_dist,np.abs(conv_KSTAR_electron_heatflux[0,:,1]/(co_facing[0,:,1]*1000000)),marker = 'v',linewidth = 0, label = \"conventional KSTAR\")\n",
    "ax1.scatter(al_sep_in_target_dist,np.abs(al_KSTAR_electron_heatflux[0,:,1]/(al_facing[0,:,1]*1000000)),marker = 'x' ,linewidth = 1,label = \"alternative KSTAR\")\n",
    "ax1.legend()\n",
    "\n",
    "\n",
    "ax2.set_title('outer target', fontsize = 8)\n",
    "ax2.scatter(conv_sep_in_target_dist ,np.abs(conv_KSTAR_electron_heatflux[0,:,96]/(co_facing[0,:,96]*1000000)),marker = 'v',linewidth = 0, label = \"conventional KSTAR\")\n",
    "ax2.scatter(al_sep_in_target_dist,np.abs(al_KSTAR_electron_heatflux[0,:,96]/(al_facing[0,:,96]*1000000)),marker = 'x' ,linewidth = 1,label = \"alternative KSTAR\")\n",
    "ax2.legend()\n",
    "#plt.show()\n",
    "plt.tight_layout()\n",
    "plt.savefig('./KSTAR Heating poloridal e heat flux.png')"
   ]
  },
  {
   "cell_type": "code",
   "execution_count": null,
   "id": "a28ded89-147d-4e21-8a31-952253e4f81e",
   "metadata": {},
   "outputs": [],
   "source": []
  },
  {
   "cell_type": "code",
   "execution_count": null,
   "id": "0dc7c684-87f7-464a-93e9-a57b1cadf805",
   "metadata": {},
   "outputs": [],
   "source": [
    "fa, (ax1, ax2) = plt.subplots(2,sharex=True)\n",
    "\n",
    "plt.suptitle('KSTAR Heating radial ion heat flux',fontsize=10)\n",
    "\n",
    "ax1.set_title('inner target', fontsize = 8)\n",
    "ax1.scatter(conv_sep_in_target_dist ,conv_KSTAR_ion_heatflux[1,:,1],marker = 'v',linewidth = 0, label = \"conventional KSTAR\")\n",
    "ax1.scatter(al_sep_in_target_dist,al_KSTAR_ion_heatflux[1,:,1],marker = 'x' ,linewidth = 1,label = \"alternative KSTAR\")\n",
    "ax1.legend()\n",
    "\n",
    "\n",
    "ax2.set_title('outer target', fontsize = 8)\n",
    "ax2.scatter(conv_sep_in_target_dist ,conv_KSTAR_ion_heatflux[1,:,96],marker = 'v',linewidth = 0, label = \"conventional KSTAR\")\n",
    "ax2.scatter(al_sep_in_target_dist,al_KSTAR_ion_heatflux[1,:,96],marker = 'x' ,linewidth = 1,label = \"alternative KSTAR\")\n",
    "ax2.legend()\n",
    "#plt.show()\n",
    "plt.tight_layout()\n",
    "plt.savefig('./KSTAR Heating radial ion heat flux.png')"
   ]
  },
  {
   "cell_type": "code",
   "execution_count": null,
   "id": "8b82bcff-9abe-4782-866b-ef3474d20f83",
   "metadata": {},
   "outputs": [],
   "source": [
    "fa, (ax1, ax2) = plt.subplots(2,sharex=True)\n",
    "\n",
    "plt.suptitle('KSTAR Heating poloridal ion heat flux',fontsize=10)\n",
    "\n",
    "ax1.set_title('inner target', fontsize = 8)\n",
    "ax1.scatter(conv_sep_in_target_dist ,conv_KSTAR_ion_heatflux[0,:,1],marker = 'v',linewidth = 0, label = \"conventional KSTAR\")\n",
    "ax1.scatter(al_sep_in_target_dist,al_KSTAR_ion_heatflux[0,:,1],marker = 'x' ,linewidth = 1,label = \"alternative KSTAR\")\n",
    "ax1.legend()\n",
    "\n",
    "\n",
    "ax2.set_title('outer target', fontsize = 8)\n",
    "ax2.scatter(conv_sep_in_target_dist ,conv_KSTAR_ion_heatflux[0,:,96],marker = 'v',linewidth = 0, label = \"conventional KSTAR\")\n",
    "ax2.scatter(al_sep_in_target_dist,al_KSTAR_ion_heatflux[0,:,96],marker = 'x' ,linewidth = 1,label = \"alternative KSTAR\")\n",
    "ax2.legend()\n",
    "plt.show()"
   ]
  },
  {
   "cell_type": "markdown",
   "id": "e74bd7c8-2c1a-4df7-9cfe-9d51a16286b2",
   "metadata": {},
   "source": [
    "<span style=\"color:#87cefa; font-size:150%\"> Heat Flux : ITER</span> "
   ]
  },
  {
   "cell_type": "code",
   "execution_count": null,
   "id": "869464b8-eefd-43f6-96f5-c4f234547167",
   "metadata": {},
   "outputs": [],
   "source": [
    "fa, (ax1, ax2) = plt.subplots(2,sharex=True)\n",
    "\n",
    "plt.suptitle('ITER Heating radial electron heat flux',fontsize=10)\n",
    "\n",
    "ax1.set_title('inner target', fontsize = 8)\n",
    "ax1.scatter(conv_sep_in_target_dist ,conv_ITER_electron_heatflux[1,:,1],marker = 'v',linewidth = 0, label = \"conventional KSTAR\")\n",
    "ax1.scatter(al_sep_in_target_dist,al_ITER_electron_heatflux[1,:,1],marker = 'x' ,linewidth = 1,label = \"alternative KSTAR\")\n",
    "ax1.legend()\n",
    "\n",
    "\n",
    "ax2.set_title('outer target', fontsize = 8)\n",
    "ax2.scatter(conv_sep_in_target_dist[1:] ,conv_ITER_electron_heatflux[1,1:,96]/(co_facing[1,1:,96]*1000000),marker = 'v',linewidth = 0, label = \"conventional KSTAR\")\n",
    "ax2.scatter(al_sep_in_target_dist[1:],al_ITER_electron_heatflux[1,1:,96]/(al_facing[1,1:,96]*1000000),marker = 'x' ,linewidth = 1,label = \"alternative KSTAR\")\n",
    "ax2.legend()\n",
    "plt.show()"
   ]
  },
  {
   "cell_type": "code",
   "execution_count": null,
   "id": "51cf41d5-aed7-4045-84df-4343c19e946e",
   "metadata": {},
   "outputs": [],
   "source": [
    "fa, (ax1, ax2) = plt.subplots(2,sharex=True)\n",
    "\n",
    "plt.suptitle('ITER Heating poloridal electron heat flux',fontsize=10)\n",
    "\n",
    "ax1.set_title('inner target', fontsize = 8)\n",
    "ax1.scatter(conv_sep_in_target_dist ,conv_ITER_electron_heatflux[0,:,1],marker = 'v',linewidth = 0, label = \"conventional KSTAR\")\n",
    "ax1.scatter(al_sep_in_target_dist,al_ITER_electron_heatflux[0,:,1],marker = 'x' ,linewidth = 1,label = \"alternative KSTAR\")\n",
    "ax1.legend()\n",
    "\n",
    "\n",
    "ax2.set_title('outer target', fontsize = 8)\n",
    "ax2.scatter(conv_sep_in_target_dist ,conv_ITER_electron_heatflux[0,:,96],marker = 'v',linewidth = 0, label = \"conventional KSTAR\")\n",
    "ax2.scatter(al_sep_in_target_dist,al_ITER_electron_heatflux[0,:,96],marker = 'x' ,linewidth = 1,label = \"alternative KSTAR\")\n",
    "ax2.legend()\n",
    "#ax2.set_yscale('log')\n",
    "\n",
    "\n",
    "plt.show()"
   ]
  },
  {
   "cell_type": "code",
   "execution_count": null,
   "id": "f328e1c2-1670-4232-8423-9efc20f018df",
   "metadata": {},
   "outputs": [],
   "source": [
    "fa, (ax1, ax2) = plt.subplots(2,sharex=True)\n",
    "\n",
    "plt.suptitle('ITER Heating radial ion heat flux',fontsize=10)\n",
    "\n",
    "ax1.set_title('inner target', fontsize = 8)\n",
    "ax1.scatter(conv_sep_in_target_dist ,conv_ITER_ion_heatflux[1,:,1],marker = 'v',linewidth = 0, label = \"conventional KSTAR\")\n",
    "ax1.scatter(al_sep_in_target_dist,al_ITER_ion_heatflux[1,:,1],marker = 'x' ,linewidth = 1,label = \"alternative KSTAR\")\n",
    "ax1.legend()\n",
    "\n",
    "\n",
    "ax2.set_title('outer target', fontsize = 8)\n",
    "ax2.scatter(conv_sep_in_target_dist ,conv_ITER_ion_heatflux[1,:,96],marker = 'v',linewidth = 0, label = \"conventional KSTAR\")\n",
    "ax2.scatter(al_sep_in_target_dist,al_ITER_ion_heatflux[1,:,96],marker = 'x' ,linewidth = 1,label = \"alternative KSTAR\")\n",
    "ax2.legend()\n",
    "#ax2.set_yscale('log')\n",
    "plt.show()"
   ]
  },
  {
   "cell_type": "code",
   "execution_count": null,
   "id": "22e5c124-9f66-48f3-9f64-22c6be471c8f",
   "metadata": {},
   "outputs": [],
   "source": [
    "fa, (ax1, ax2) = plt.subplots(2,sharex=True)\n",
    "\n",
    "plt.suptitle('ITER Heating poloridal ion heat flux',fontsize=10)\n",
    "\n",
    "ax1.set_title('inner target', fontsize = 8)\n",
    "ax1.scatter(conv_sep_in_target_dist ,conv_ITER_ion_heatflux[0,:,1],marker = 'v',linewidth = 0, label = \"conventional ITER\")\n",
    "ax1.scatter(al_sep_in_target_dist,al_ITER_ion_heatflux[0,:,1],marker = 'x' ,linewidth = 1,label = \"alternative ITER\")\n",
    "ax1.legend()\n",
    "\n",
    "\n",
    "ax2.set_title('outer target', fontsize = 8)\n",
    "ax2.scatter(conv_sep_in_target_dist ,conv_ITER_ion_heatflux[0,:,96],marker = 'v',linewidth = 0, label = \"conventional ITER\")\n",
    "ax2.scatter(al_sep_in_target_dist,al_ITER_ion_heatflux[0,:,96],marker = 'x' ,linewidth = 1,label = \"alternative ITER\")\n",
    "ax2.legend()\n",
    "#ax2.set_yscale('log')\n",
    "plt.show()"
   ]
  },
  {
   "cell_type": "markdown",
   "id": "694fb069-9506-4b53-b917-f093d22aafcf",
   "metadata": {},
   "source": [
    "<span style=\"color:#87cefa; font-size:150%\"> Heat Flux : KDEMO</span> "
   ]
  },
  {
   "cell_type": "code",
   "execution_count": null,
   "id": "6ad43bb3-3aa1-4f4b-96ca-28dbbdb1f690",
   "metadata": {},
   "outputs": [],
   "source": [
    "fa, (ax1, ax2) = plt.subplots(2,sharex=True)\n",
    "\n",
    "\n",
    "plt.suptitle('ITER Heating radial electron heat flux',fontsize=10)\n",
    "\n",
    "ax1.set_title('inner target', fontsize = 8)\n",
    "ax1.scatter(conv_sep_in_target_dist ,conv_ITER_electron_heatflux[1,:,1],marker = 'v',linewidth = 0, label = \"conventional KSTAR\")\n",
    "ax1.scatter(al_sep_in_target_dist,al_ITER_electron_heatflux[1,:,1],marker = 'x' ,linewidth = 1,label = \"alternative KSTAR\")\n",
    "ax1.legend()\n",
    "\n",
    "\n",
    "ax2.set_title('outer target', fontsize = 8)\n",
    "ax2.scatter(conv_sep_in_target_dist ,conv_ITER_electron_heatflux[1,:,96],marker = 'v',linewidth = 0, label = \"conventional KSTAR\")\n",
    "ax2.scatter(al_sep_in_target_dist,al_ITER_electron_heatflux[1,:,96],marker = 'x' ,linewidth = 1,label = \"alternative KSTAR\")\n",
    "ax2.legend()\n",
    "plt.show()"
   ]
  },
  {
   "cell_type": "code",
   "execution_count": null,
   "id": "820d485f-09e7-45a2-8b52-54263bb30034",
   "metadata": {},
   "outputs": [],
   "source": [
    "fa, (ax1, ax2) = plt.subplots(2,sharex=True)\n",
    "\n",
    "plt.suptitle('KDEMO Heating poloridal electron heat flux',fontsize=10)\n",
    "\n",
    "ax1.set_title('inner target', fontsize = 8)\n",
    "ax1.scatter(conv_sep_in_target_dist ,conv_KDEMO_electron_heatflux[0,:,1],marker = 'v',linewidth = 0, label = \"conventional KSTAR\")\n",
    "ax1.scatter(al_sep_in_target_dist,al_KDEMO_electron_heatflux[0,:,1],marker = 'x' ,linewidth = 1,label = \"alternative KSTAR\")\n",
    "ax1.legend()\n",
    "\n",
    "\n",
    "ax2.set_title('outer target', fontsize = 8)\n",
    "    ax2.scatter(conv_sep_in_target_dist ,conv_KDEMO_electron_heatflux[0,:,96],marker = 'v',linewidth = 0, label = \"conventional KSTAR\")\n",
    "ax2.scatter(al_sep_in_target_dist,al_KDEMO_electron_heatflux[0,:,96],marker = 'x' ,linewidth = 1,label = \"alternative KSTAR\")\n",
    "ax2.set_yscale('log')\n",
    "\n",
    "\n",
    "ax2.legend()\n",
    "plt.show()"
   ]
  },
  {
   "cell_type": "code",
   "execution_count": null,
   "id": "8dcb1578-6e50-4f87-aa29-33a519fd086a",
   "metadata": {},
   "outputs": [],
   "source": [
    "fa, (ax1, ax2) = plt.subplots(2,sharex=True)\n",
    "\n",
    "plt.suptitle('KDEMO Heating radia ion heat flux',fontsize=10)\n",
    "\n",
    "ax1.set_title('inner target', fontsize = 8)\n",
    "ax1.scatter(conv_sep_in_target_dist ,conv_KDEMO_ion_heatflux[1,:,1],marker = 'v',linewidth = 0, label = \"conventional KSTAR\")\n",
    "ax1.scatter(al_sep_in_target_dist,al_KDEMO_ion_heatflux[1,:,1],marker = 'x' ,linewidth = 1,label = \"alternative KSTAR\")\n",
    "ax1.legend()\n",
    "\n",
    "\n",
    "ax2.set_title('outer target', fontsize = 8)\n",
    "ax2.scatter(conv_sep_in_target_dist ,conv_KDEMO_ion_heatflux[1,:,96],marker = 'v',linewidth = 0, label = \"conventional KSTAR\")\n",
    "ax2.scatter(al_sep_in_target_dist,al_KDEMO_ion_heatflux[1,:,96],marker = 'x' ,linewidth = 1,label = \"alternative KSTAR\")\n",
    "ax2.legend()\n",
    "#ax2.set_yscale('log')\n",
    "plt.show()"
   ]
  },
  {
   "cell_type": "code",
   "execution_count": null,
   "id": "1efad0fd-ab23-43e8-bb7d-bd65cb10cc75",
   "metadata": {},
   "outputs": [],
   "source": [
    "fa, (ax1, ax2) = plt.subplots(2,sharex=True)\n",
    "\n",
    "plt.suptitle('KDEMO Heating radial ion heat flux',fontsize=10)\n",
    "\n",
    "ax1.set_title('inner target', fontsize = 8)\n",
    "ax1.scatter(conv_sep_in_target_dist ,conv_KDEMO_ion_heatflux_noNE[1,:,1],marker = 'v',linewidth = 0, label = \"conventional KSTAR\")\n",
    "ax1.scatter(al_sep_in_target_dist,al_KDEMO_ion_heatflux_noNE[1,:,1],marker = 'x' ,linewidth = 1,label = \"alternative KSTAR\")\n",
    "ax1.legend()\n",
    "\n",
    "\n",
    "ax2.set_title('outer target', fontsize = 8)\n",
    "ax2.scatter(al_sep_in_target_dist ,al_KDEMO_ion_heatflux[1,:,96],marker = 'v',linewidth = 0, label = \"conventional KSTAR\")\n",
    "ax2.scatter(al_sep_in_target_dist,al_KDEMO_ion_heatflux_noNE[1,:,96],marker = 'x' ,linewidth = 1,label = \"alternative KSTAR\")\n",
    "ax2.legend()\n",
    "#ax2.set_yscale('log')\n",
    "plt.show()"
   ]
  },
  {
   "cell_type": "code",
   "execution_count": null,
   "id": "2415c6b9-29e5-4de8-b2f6-5c40ae3fb819",
   "metadata": {},
   "outputs": [],
   "source": [
    "fa, (ax1, ax2) = plt.subplots(2,sharex=True)\n",
    "\n",
    "plt.suptitle('KDEMO Heating poloridal ion heat flux',fontsize=10)\n",
    "\n",
    "ax1.set_title('inner target', fontsize = 8)\n",
    "ax1.scatter(conv_sep_in_target_dist ,conv_KDEMO_ion_heatflux[0,:,1],marker = 'v',linewidth = 0, label = \"conventional KDEMO\")\n",
    "ax1.scatter(al_sep_in_target_dist,al_KDEMO_ion_heatflux[0,:,1],marker = 'x' ,linewidth = 1,label = \"alternative KDEMO\")\n",
    "ax1.legend()\n",
    "\n",
    "\n",
    "ax2.set_title('outer target', fontsize = 8)\n",
    "ax2.scatter(conv_sep_in_target_dist ,conv_KDEMO_ion_heatflux[0,:,96],marker = 'v',linewidth = 0, label = \"conventional KDEMO\")\n",
    "ax2.scatter(al_sep_in_target_dist,al_KDEMO_ion_heatflux[0,:,96],marker = 'x' ,linewidth = 1,label = \"alternative KDEMO\")\n",
    "ax2.legend()\n",
    "#ax2.set_yscale('log')\n",
    "plt.show()"
   ]
  },
  {
   "cell_type": "code",
   "execution_count": null,
   "id": "b6d290c1-5707-4905-9fa5-718937ddecb5",
   "metadata": {},
   "outputs": [],
   "source": [
    "fa, (ax1, ax2) = plt.subplots(2,sharex=True)\n",
    "\n",
    "plt.suptitle('KDEMO Heating poloridal ion heat flux',fontsize=10)\n",
    "\n",
    "ax1.set_title('inner target', fontsize = 8)\n",
    "ax1.scatter(conv_sep_in_target_dist ,conv_KDEMO_ion_heatflux_noNE[0,:,1],marker = 'v',linewidth = 0, label = \"no Ne KDEMO\")\n",
    "ax1.scatter(al_sep_in_target_dist,conv_KDEMO_ion_heatflux[0,:,1],marker = 'x' ,linewidth = 1,label = \"Ne 3.0e16 KDEMO\")\n",
    "ax1.legend()\n",
    "\n",
    "\n",
    "ax2.set_title('outer target', fontsize = 8)\n",
    "ax2.scatter(al_sep_in_target_dist ,al_KDEMO_ion_heatflux_noNE[0,:,96],marker = 'v',linewidth = 0, label = \"no Ne KDEMO\")\n",
    "ax2.scatter(al_sep_in_target_dist,al_KDEMO_ion_heatflux[0,:,96],marker = 'x' ,linewidth = 1,label = \"Ne 3.0e16 KDEMO\")\n",
    "ax2.legend()\n",
    "#ax2.set_yscale('log')\n",
    "plt.show()"
   ]
  },
  {
   "cell_type": "code",
   "execution_count": null,
   "id": "0352d3b1-0dba-4a67-8518-60834b70ec36",
   "metadata": {},
   "outputs": [],
   "source": [
    "plt.title('outer target', fontsize = 8)\n",
    "plt.scatter(al_sep_in_target_dist ,al_ITER_ion_heatflux[0,:,96],marker = 'v',linewidth = 0, label = \"alternative ITER\")\n",
    "plt.scatter(al_sep_in_target_dist,al_KDEMO_ion_heatflux[0,:,96],marker = 'x' ,linewidth = 1,label = \"alternative KDEMO\")\n",
    "plt.legend()\n",
    "#ax2.set_yscale('log')\n",
    "plt.show()"
   ]
  },
  {
   "cell_type": "code",
   "execution_count": null,
   "id": "a37311aa-3243-4dc5-8531-9a30d07218d6",
   "metadata": {},
   "outputs": [],
   "source": [
    "\n",
    "fa, (ax1, ax2) = plt.subplots(2,sharex=True)\n",
    "plt.suptitle('KSTAR poloridal Heat heat flux different puff rate',fontsize=10)\n",
    "\n",
    "\n",
    "ax1.set_title('inner target', fontsize = 8)\n",
    "ax1.scatter(al_sep_in_target_dist ,al_KSTAR_ion_heatflux_noNE[0,:,1],marker = 'v',linewidth = 0, label = \"no Ne KSTAR\")\n",
    "ax1.scatter(al_sep_in_target_dist ,al_KSTAR_ion_heatflux[0,:,1],marker = 'v',linewidth = 0, label = \"3e16 Nee KSTAR\")\n",
    "ax1.scatter(al_sep_in_target_dist,al_KSTAR_ion_heatflux_3e18Ne[0,:,1],marker = 'x' ,linewidth = 1,label = \"3e18 Ne KSTAR\")\n",
    "ax1.legend()\n",
    "\n",
    "\n",
    "ax2.set_title('outer target', fontsize = 8)\n",
    "ax2.scatter(al_sep_in_target_dist ,al_KSTAR_ion_heatflux_noNE[0,:,96],marker = 'v',linewidth = 0, label = \"no Ne KSTAR\")\n",
    "ax2.scatter(al_sep_in_target_dist ,al_KSTAR_ion_heatflux[0,:,96],marker = 'v',linewidth = 0, label = \"3e16 Ne KSTAR\")\n",
    "ax2.scatter(al_sep_in_target_dist,al_KSTAR_ion_heatflux_3e18Ne[0,:,96],marker = 'x' ,linewidth = 1,label = \"3e18 Ne KSTAR\")\n",
    "ax2.legend()\n",
    "#plt.show()\n",
    "plt.tight_layout()\n",
    "plt.figure(figsize=(20, 10))\n",
    "plt.savefig('./KSTAR Heating radial electron heat flux.png')"
   ]
  },
  {
   "cell_type": "code",
   "execution_count": null,
   "id": "c7349218-6f4c-4cdd-a9c2-087044716d96",
   "metadata": {},
   "outputs": [],
   "source": []
  },
  {
   "cell_type": "code",
   "execution_count": null,
   "id": "e33e3232-1760-468f-8149-4ad5abae21f3",
   "metadata": {},
   "outputs": [],
   "source": [
    "fa, (ax1, ax2) = plt.subplots(2,sharex=True)\n",
    "\n",
    "plt.suptitle('ITER poloridal Heat heat flux different puff rate',fontsize=10)\n",
    "\n",
    "ax1.set_title('inner target', fontsize = 8)\n",
    "ax1.scatter(al_sep_in_target_dist ,al_ITER_ion_heatflux_noNE[0,:,1],marker = 'v',linewidth = 0, label = \"no Ne\")\n",
    "ax1.scatter(al_sep_in_target_dist ,al_ITER_ion_heatflux[0,:,1],marker = 'v',linewidth = 0, label = \"3e16 Ne\")\n",
    "ax1.scatter(al_sep_in_target_dist,al_ITER_ion_heatflux_3e18Ne[0,:,1],marker = 'x' ,linewidth = 1,label = \"3e18 Ne\")\n",
    "ax1.legend()\n",
    "\n",
    "\n",
    "ax2.set_title('outer target', fontsize = 8)\n",
    "ax2.scatter(al_sep_in_target_dist ,al_ITER_ion_heatflux_noNE[0,:,96],marker = 'v',linewidth = 0, label = \"no Ne\")\n",
    "ax2.scatter(al_sep_in_target_dist ,al_ITER_ion_heatflux[0,:,96],marker = 'v',linewidth = 0, label = \"3e16 Ne\")\n",
    "ax2.scatter(al_sep_in_target_dist,al_ITER_ion_heatflux_3e18Ne[0,:,96],marker = 'x' ,linewidth = 1,label = \"3e18 Ne\")\n",
    "ax2.legend()\n",
    "#plt.show()\n",
    "plt.tight_layout()\n",
    "plt.savefig('./KSTAR Heating radial electron heat flux.png')"
   ]
  },
  {
   "cell_type": "code",
   "execution_count": null,
   "id": "7a515329-34ed-4370-9580-b92c055c2d13",
   "metadata": {},
   "outputs": [],
   "source": [
    "fa, (ax1, ax2) = plt.subplots(2,sharex=True)\n",
    "\n",
    "plt.suptitle('KSTAR radial Heat heat flux different puff rate',fontsize=10)\n",
    "\n",
    "ax1.set_title('inner target', fontsize = 8)\n",
    "ax1.scatter(al_sep_in_target_dist ,al_KSTAR_ion_heatflux_noNE[1,:,1],marker = 'v',linewidth = 0, label = \"no Ne\")\n",
    "ax1.scatter(al_sep_in_target_dist ,al_KSTAR_ion_heatflux[1,:,1],marker = 'v',linewidth = 0, label = \"3e16 Ne\")\n",
    "ax1.scatter(al_sep_in_target_dist ,al_KSTAR_ion_heatflux_3e18Ne[1,:,1],marker = 'x' ,linewidth = 1,label = \"3e18 Ne\")\n",
    "ax1.legend()\n",
    "\n",
    "\n",
    "ax2.set_title('Outer target', fontsize = 8)\n",
    "ax2.scatter(al_sep_in_target_dist ,al_KSTAR_ion_heatflux_noNE[1,:,96],marker = 'v',linewidth = 0, label = \"no Ne\")\n",
    "ax2.scatter(al_sep_in_target_dist ,al_KSTAR_ion_heatflux[1,:,96],marker = 'v',linewidth = 0, label = \"3e16 Ne\")\n",
    "ax2.scatter(al_sep_in_target_dist ,al_KSTAR_ion_heatflux_3e18Ne[1,:,96],marker = 'x' ,linewidth = 1,label = \"3e18 Ne\")\n",
    "ax2.legend()\n",
    "#plt.show()\n",
    "plt.tight_layout()\n",
    "plt.savefig('./KSTAR Heating radial electron heat flux.png')"
   ]
  },
  {
   "cell_type": "code",
   "execution_count": null,
   "id": "cceaacd4-b20b-49a6-9679-e213f2ca2e69",
   "metadata": {},
   "outputs": [],
   "source": [
    "fa, (ax1, ax2) = plt.subplots(2,sharex=True)\n",
    "\n",
    "plt.suptitle('ITER radial Heat heat flux different puff rate',fontsize=10)\n",
    "\n",
    "ax1.set_title('inner target', fontsize = 8)\n",
    "ax1.scatter(al_sep_in_target_dist ,al_ITER_ion_heatflux_noNE[1,:,1],marker = 'v',linewidth = 0, label = \"no Ne\")\n",
    "ax1.scatter(al_sep_in_target_dist ,al_ITER_ion_heatflux[1,:,1],marker = 'v',linewidth = 0, label = \"3e16 Ne\")\n",
    "ax1.scatter(al_sep_in_target_dist,al_ITER_ion_heatflux_3e18Ne[1,:,1],marker = 'x' ,linewidth = 1,label = \"3e18 Ne\")\n",
    "ax1.legend()\n",
    "\n",
    "\n",
    "ax2.set_title('Outer target', fontsize = 8)\n",
    "ax2.scatter(al_sep_in_target_dist ,al_ITER_ion_heatflux_noNE[1,:,96],marker = 'v',linewidth = 0, label = \"no Ne\")\n",
    "ax2.scatter(al_sep_in_target_dist ,al_ITER_ion_heatflux[1,:,96],marker = 'v',linewidth = 0, label = \"3e16 Ne\")\n",
    "ax2.scatter(al_sep_in_target_dist,al_ITER_ion_heatflux_3e18Ne[1,:,96],marker = 'x' ,linewidth = 1,label = \"3e18 Ne\")\n",
    "ax2.legend()\n",
    "#plt.show()\n",
    "plt.tight_layout()\n",
    "plt.savefig('./KSTAR Heating radial electron heat flux.png')"
   ]
  },
  {
   "cell_type": "code",
   "execution_count": null,
   "id": "b0dbbf00-0b30-46dc-88a1-7d795c9add37",
   "metadata": {},
   "outputs": [],
   "source": [
    "fa, (ax1, ax2) = plt.subplots(2,sharex=True)\n",
    "\n",
    "plt.suptitle('ITER radial electron Heat heat flux different puff rate',fontsize=10)\n",
    "\n",
    "ax1.set_title('inner target', fontsize = 8)\n",
    "ax1.scatter(al_sep_in_target_dist ,al_KSTAR_electron_heatflux_noNE[0,:,1],marker = 'v',linewidth = 0, label = \"no Ne\")\n",
    "ax1.scatter(al_sep_in_target_dist ,al_KSTAR_electron_heatflux[0,:,1],marker = 'v',linewidth = 0, label = \"3e16 Ne\")\n",
    "ax1.scatter(al_sep_in_target_dist,al_KSTAR_electron_heatflux_3e18Ne[0,:,1],marker = 'x' ,linewidth = 1,label = \"3e18 Ne\")\n",
    "ax1.legend()\n",
    "\n",
    "\n",
    "ax2.set_title('Outer target', fontsize = 8)\n",
    "ax2.scatter(al_sep_in_target_dist ,al_KSTAR_electron_heatflux_noNE[0,:,96],marker = 'v',linewidth = 0, label = \"no Ne\")\n",
    "ax2.scatter(al_sep_in_target_dist ,al_KSTAR_electron_heatflux[0,:,96],marker = 'v',linewidth = 0, label = \"3e16 Ne\")\n",
    "ax2.scatter(al_sep_in_target_dist,al_ITER_electron_heatflux_3e18Ne[0,:,96],marker = 'x' ,linewidth = 1,label = \"3e18 Ne\")\n",
    "ax2.legend()\n",
    "#plt.show()\n",
    "plt.tight_layout()\n",
    "plt.savefig('./KSTAR Heating radial electron heat flux.png')"
   ]
  }
 ],
 "metadata": {
  "kernelspec": {
   "display_name": "Python 3 (ipykernel)",
   "language": "python",
   "name": "python3"
  },
  "language_info": {
   "codemirror_mode": {
    "name": "ipython",
    "version": 3
   },
   "file_extension": ".py",
   "mimetype": "text/x-python",
   "name": "python",
   "nbconvert_exporter": "python",
   "pygments_lexer": "ipython3",
   "version": "3.9.12"
  }
 },
 "nbformat": 4,
 "nbformat_minor": 5
}
