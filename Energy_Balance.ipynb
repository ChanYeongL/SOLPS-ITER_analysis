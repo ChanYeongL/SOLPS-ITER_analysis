{
 "cells": [
  {
   "cell_type": "code",
   "execution_count": 1,
   "id": "fc146ffb-94c9-4530-b1ca-605f65c1b08c",
   "metadata": {},
   "outputs": [],
   "source": [
    "import numpy as np\n",
    "import matplotlib.pyplot as plt\n",
    "import matplotlib.ticker as ticker\n",
    "from scipy.special import rel_entr\n",
    "import pickle\n",
    "from mpl_toolkits.mplot3d import axes3d\n",
    "from scipy.ndimage.filters import gaussian_filter\n",
    "\n",
    "import matplotlib.patches as patches\n",
    "\n",
    "\n",
    "\n"
   ]
  },
  {
   "cell_type": "code",
   "execution_count": 2,
   "id": "5c9aa38e-b066-4281-bdea-a963eecadc9a",
   "metadata": {
    "tags": []
   },
   "outputs": [
    {
     "name": "stdout",
     "output_type": "stream",
     "text": [
      "(3, 38, 98)\n",
      "(3, 38, 98)\n",
      "[ 1.46925157 -1.29399156]\n",
      "[-0.0715723  -0.07152744 -0.06704153 -0.06229474 -0.05731827 -0.05215115\n",
      " -0.04692141 -0.04169072 -0.03650874 -0.03143631 -0.02655407 -0.02190946\n",
      " -0.01750687 -0.01347613 -0.00982187 -0.00661739 -0.00386102 -0.00163475\n",
      "  0.          0.00099463  0.00205597  0.00379204  0.00621517  0.00931366\n",
      "  0.01314076  0.0176591   0.02284651  0.02871627  0.03528336  0.04247052\n",
      "  0.0503574   0.05881249  0.06791765  0.07758154  0.08785052  0.09866668\n",
      "  0.10996054  0.12180333]\n",
      "[ 1.49532367 -1.39853962]\n",
      "[0.         0.02024052 0.0430307  0.06776496 0.09401868 0.12139181\n",
      " 0.14949061 0.17792684 0.2063151  0.23427089 0.26140689 0.28732694\n",
      " 0.31161978 0.33386324 0.35365201 0.37062728 0.38446747 0.39484765\n",
      " 0.40141755 0.40372746]\n",
      "[0.         0.0254457  0.05394852 0.08486258 0.11766655 0.15185898\n",
      " 0.18694875 0.22245149 0.25788705 0.29277786 0.3266464  0.35900945\n",
      " 0.3893695  0.41720759 0.44200125 0.46327177 0.48060219 0.49359053\n",
      " 0.50180683 0.50469472]\n"
     ]
    }
   ],
   "source": [
    "ny = 36\n",
    "nx = 96\n",
    "convmesh = np.load(\"./conv_geo_mesh_center.npy\")\n",
    "convmesh_x = np.load(\"./conv_geo_mesh_x.npy\")\n",
    "convmesh_y = np.load(\"./conv_geo_mesh_y.npy\")\n",
    "\n",
    "almesh = np.load(\"./al_geo_mesh_center.npy\")\n",
    "almesh_x = np.load(\"./al_geo_mesh_x.npy\")\n",
    "almesh_y = np.load(\"./al_geo_mesh_y.npy\")\n",
    "co_facing = np.load(\"./gs_b2fgmtry.npy\")\n",
    "al_facing = np.load(\"./gs_b2fgmtry_al.npy\")\n",
    "print(np.shape(co_facing))\n",
    "print(np.shape(al_facing))\n",
    "def conv_distance_center(first_point, second_point):\n",
    "    x_range = x_convmeshinfo[first_point[1],first_point[0]]-x_convmeshinfo[second_point[1],second_point[0]]\n",
    "    y_range = y_convmeshinfo[first_point[1],first_point[0]]-y_convmeshinfo[second_point[1],second_point[0]]\n",
    "    result = (x_range**2 + y_range**2)**(1/2)\n",
    "    return result\n",
    "\n",
    "def conv_distance_point(first_point, second_point):\n",
    "    x_range = convmesh_x[first_point[2],first_point[1],first_point[0]]-convmesh_x[second_point[2],second_point[1],second_point[0]]\n",
    "    y_range = convmesh_y[first_point[2],first_point[1],first_point[0]]-convmesh_y[second_point[2],second_point[1],second_point[0]]\n",
    "    result = (x_range**2 + y_range**2)**(1/2)\n",
    "    return result\n",
    "\n",
    "def al_distance_center(first_point, second_point):\n",
    "    x_range = x_almeshinfo[first_point[1],first_point[0]]-x_almeshinfo[second_point[1],second_point[0]]\n",
    "    y_range = y_almeshinfo[first_point[1],first_point[0]]-y_almeshinfo[second_point[1],second_point[0]]\n",
    "    result = (x_range**2 + y_range**2)**(1/2)\n",
    "    return result\n",
    "\n",
    "def al_distance_point(first_point, second_point):\n",
    "    x_range = almesh_x[first_point[2],first_point[1],first_point[0]]-almesh_x[second_point[2],second_point[1],second_point[0]]\n",
    "    y_range = almesh_y[first_point[2],first_point[1],first_point[0]]-almesh_y[second_point[2],second_point[1],second_point[0]]\n",
    "    result = (x_range**2 + y_range**2)**(1/2)\n",
    "    return result\n",
    "\n",
    "\n",
    "\n",
    "def total_pressure(ne,te,na,ti):\n",
    "    pr = ne[:,:]*te[:,:] + na[1,:,:]*ti[:,:] +np.sum(na[2:9,:,:]*ti[:,:],axis = 0)+np.sum(na[9:,:,:]*ti[:,:],axis = 0)\n",
    "    return pr\n",
    "\n",
    "def neutral_pressure(na,ti):\n",
    "    pr = na[0,:,:]*ti[:,:]+ na[0,:,:]*ti[:,:]+ na[2,:,:]*ti[:,:]+na[2,:,:]*ti[:,:]+na[9,:,:]*ti[:,:]\n",
    "    return pr\n",
    "dumx_convmeshinfo = convmesh[:,0]\n",
    "dumy_convmeshinfo = convmesh[:,1]\n",
    "x_convmeshinfo = dumx_convmeshinfo.reshape(ny+2,nx+2)\n",
    "y_convmeshinfo = dumy_convmeshinfo.reshape(ny+2,nx+2)\n",
    "\n",
    "dumx_almeshinfo = almesh[:,0]\n",
    "dumy_almeshinfo = almesh[:,1]\n",
    "x_almeshinfo = dumx_almeshinfo.reshape(ny+2,nx+2)\n",
    "y_almeshinfo = dumy_almeshinfo.reshape(ny+2,nx+2)\n",
    "\n",
    "\n",
    "\n",
    "#po_dumx_meshinfo = convmesh[:,0]\n",
    "#po_dumy_meshinfo = convmesh[:,1]\n",
    "#po_x_meshinfo = dumx_meshinfo.reshape(4,ny+2,nx+2)\n",
    "#po_y_meshinfo = dumy_meshinfo.reshape(4,ny+2,nx+2)\n",
    "\n",
    "conv_sep_out_target = np.zeros(2)\n",
    "conv_sep_out_target[0] = convmesh_x[1,18,96]\n",
    "conv_sep_out_target[1] = convmesh_y[1,18,96]\n",
    "\n",
    "al_sep_out_target = np.zeros(2)\n",
    "al_sep_out_target[0] = almesh_x[1,18,96]\n",
    "al_sep_out_target[1] = almesh_y[1,18,96]\n",
    "convmesh_x_cen = np.sum(convmesh_x, axis = 0)/4\n",
    "convmesh_y_cen = np.sum(convmesh_y, axis = 0)/4\n",
    "almesh_x_cen = np.sum(almesh_x, axis = 0)/4\n",
    "almesh_y_cen = np.sum(almesh_y, axis = 0)/4\n",
    "print(conv_sep_out_target)\n",
    "conv_sep_out_target_dist = np.zeros(ny+2)\n",
    "X_point = []\n",
    "for i in range(ny+2):\n",
    "    conv_sep_out_target_dist[i] = conv_distance_point([96,i,1],[96,18,1])\n",
    "    if i<18:\n",
    "        conv_sep_out_target_dist[i] = -conv_sep_out_target_dist[i]\n",
    "    \n",
    "conv_sep_in_target_dist = np.zeros(ny+2)\n",
    "for i in range(ny+2):\n",
    "    conv_sep_in_target_dist[i] = conv_distance_point([1,i,1],[1,18,1])\n",
    "    if i<18:\n",
    "        conv_sep_in_target_dist[i] = -conv_sep_in_target_dist[i]\n",
    "print(conv_sep_out_target_dist)\n",
    "\n",
    "print(al_sep_out_target)\n",
    "al_sep_out_target_dist = np.zeros(ny+2)\n",
    "for i in range(ny+2):\n",
    "    al_sep_out_target_dist[i] = al_distance_point([96,i,1],[96,18,1])\n",
    "    if i<18:\n",
    "        al_sep_out_target_dist[i] = -al_sep_out_target_dist[i]\n",
    "    \n",
    "al_sep_in_target_dist = np.zeros(ny+2)\n",
    "for i in range(ny+2):\n",
    "    al_sep_in_target_dist[i] = al_distance_point([1,i,1],[1,18,1])\n",
    "    if i<18:\n",
    "        al_sep_in_target_dist[i] = -al_sep_in_target_dist[i]\n",
    "\n",
    "\n",
    "        \n",
    "        \n",
    "conv_sep_out_midplane_dist = np.zeros(ny+2)\n",
    "for i in range(ny+2):\n",
    "    conv_sep_out_midplane_dist[i] = conv_distance_point([51,i,1],[51,18,1])\n",
    "    if i<18:\n",
    "        conv_sep_out_midplane_dist[i] = -conv_sep_out_midplane_dist[i]\n",
    "    \n",
    "conv_sep_in_midplane_dist = np.zeros(ny+2)\n",
    "for i in range(ny+2):\n",
    "    conv_sep_in_midplane_dist[i] = conv_distance_point([29,i,1],[29,18,1])\n",
    "    if i<18:\n",
    "        conv_sep_in_midplane_dist[i] = -conv_sep_in_midplane_dist[i]\n",
    "\n",
    "\n",
    "al_sep_out_midplane_dist = np.zeros(ny+2)\n",
    "for i in range(ny+2):\n",
    "    al_sep_out_midplane_dist[i] = al_distance_point([52,i,1],[52,18,1])\n",
    "    if i<18:\n",
    "        al_sep_out_midplane_dist[i] = -al_sep_out_midplane_dist[i]\n",
    "    \n",
    "al_sep_in_midplane_dist = np.zeros(ny+2)\n",
    "for i in range(ny+2):\n",
    "    al_sep_in_midplane_dist[i] = al_distance_point([29,i,1],[29,18,1])\n",
    "    if i<18:\n",
    "        al_sep_in_midplane_dist[i] = -al_sep_in_midplane_dist[i]\n",
    "\n",
    "    \n",
    "conv_Xpt_dist = np.zeros(20)\n",
    "for i in range(20):\n",
    "    conv_Xpt_dist[i] = conv_distance_center([78,18],[78+i,18])\n",
    "\n",
    "    \n",
    "    \n",
    "al_Xpt_dist = np.zeros(20)\n",
    "for i in range(20):\n",
    "    al_Xpt_dist[i] = al_distance_center([78,18],[78+i,18])\n",
    "print(conv_Xpt_dist)\n",
    "print(al_Xpt_dist)\n",
    "\n",
    "\n",
    "\n",
    "\n"
   ]
  },
  {
   "cell_type": "markdown",
   "id": "2d7289ad-d8f7-44a0-85b5-2aaed140d05e",
   "metadata": {},
   "source": [
    "<span style=\"color:#87cefa; font-size:150%\">죽이고 싶은 fort.44와의 44선</span> "
   ]
  },
  {
   "cell_type": "code",
   "execution_count": 3,
   "id": "49b8a495-ef58-442b-8dda-21b730707bf1",
   "metadata": {},
   "outputs": [
    {
     "name": "stdout",
     "output_type": "stream",
     "text": [
      "79474 78753 76592\n"
     ]
    }
   ],
   "source": [
    "with open(\"./20220718_data/fort44_b2fplasmf_co_Ne_zero\",'r') as f:\n",
    "    line = f.readlines()\n",
    "    #line_1 = line.split()\n",
    "    \n",
    "data_array = np.array(line)\n",
    "full_length = np.size(data_array)\n",
    "\n",
    "raw_data = np.empty((1,5))\n",
    "\n",
    "emolrad = np\n",
    "\n",
    "for i in range(full_length):\n",
    "    switch = data_array[i]\n",
    "    if \"eneutrad\" in switch:\n",
    "        start_neu = i\n",
    "    elif \"emolrad\" in switch:\n",
    "        start_mol = i\n",
    "    elif \"eionrad\" in switch:\n",
    "        start_ion = i\n",
    "        \n",
    "total_neu_rad=0\n",
    "total_mol_rad=0\n",
    "total_ion_rad=0\n",
    "\n",
    "\n",
    "\n",
    "\n",
    "print(start_ion,start_mol,start_neu)\n",
    "for j in range(start_neu+1,full_length):\n",
    "    if \"*eirene\" in data_array[j]:\n",
    "        break;\n",
    "    else:\n",
    "        damn_array = np.array(data_array[j].split())\n",
    "        total_neu_rad += np.sum(damn_array.astype(np.float64))\n",
    "for j in range(start_mol+1,full_length):\n",
    "    if \"*eirene\" in data_array[j]:\n",
    "        break;\n",
    "    else:\n",
    "        damn_array = np.array(data_array[j].split())\n",
    "        total_mol_rad += np.sum(damn_array.astype(np.float64))\n",
    "\n",
    "for j in range(start_ion+1,full_length):\n",
    "    if \"*eirene\" in data_array[j]:\n",
    "        break;\n",
    "    else:\n",
    "        damn_array = np.array(data_array[j].split())\n",
    "        total_ion_rad += np.sum(damn_array.astype(np.float64))\n",
    "\n",
    "\n"
   ]
  },
  {
   "cell_type": "code",
   "execution_count": 4,
   "id": "89395e1a-da7a-483c-9001-b86ef75d82ea",
   "metadata": {},
   "outputs": [
    {
     "name": "stdout",
     "output_type": "stream",
     "text": [
      "*eirene data field dab2 with size  10368\n",
      "\n",
      "(10368,)\n",
      "[8.4516520e+17 7.6618243e+17 7.2932614e+17 7.0427645e+17 6.4551408e+17\n",
      " 6.9643871e+17 6.6279303e+17 5.5565088e+17 5.6788692e+17 4.1976759e+17\n",
      " 0.0000000e+00 0.0000000e+00 0.0000000e+00 0.0000000e+00 5.7835022e+13\n",
      " 4.5606250e+14 1.3492385e+14 2.7715291e+14 1.2049089e+14 5.2230571e+14\n",
      " 3.7188285e+14 2.5650187e+14 8.5787753e+14 8.8959379e+13 3.3678865e+14\n",
      " 9.8151363e+14 2.2716276e+14 7.2265636e+14 3.3485564e+14 5.1332319e+14\n",
      " 3.4304566e+14 0.0000000e+00 7.6875082e+13 1.4982842e+14 2.3327757e+14\n",
      " 0.0000000e+00 1.0261910e+14 1.1868951e+14 7.2700744e+13 2.7904022e+14\n",
      " 5.1975186e+14 7.8757336e+13 1.8775535e+14 4.4405902e+14 1.1741717e+15\n",
      " 1.0448720e+15 7.9665648e+14 1.3696402e+15 1.1790956e+15 1.6850613e+15\n",
      " 1.8358645e+15 1.7427202e+15 1.1798204e+15 9.9184295e+14 1.3721657e+15\n",
      " 1.6977340e+15 1.8631857e+15 2.7743233e+15 1.8448730e+15 2.2156954e+15\n",
      " 2.3170651e+15 2.4941999e+15 2.6099606e+15 1.6999828e+15 1.5550323e+15\n",
      " 6.8632662e+14 1.0459550e+15 1.1531711e+15 3.3157387e+13 1.5808044e+14\n",
      " 3.7908687e+14 4.2576304e+14 0.0000000e+00 0.0000000e+00 0.0000000e+00\n",
      " 0.0000000e+00 5.3712209e+17 4.9470579e+17 4.1753578e+17 4.4938069e+17\n",
      " 4.7856371e+17 3.6079391e+17 3.4482841e+17 3.6595194e+17 3.7586757e+17\n",
      " 3.5639569e+17 4.2672220e+17 3.5023227e+17 3.5444651e+17 3.2354139e+17\n",
      " 3.1592223e+17 4.5381845e+17 3.8436790e+17 2.8709133e+17 3.8440896e+17\n",
      " 3.2431229e+17]\n"
     ]
    }
   ],
   "source": [
    "#density for sure.......\n",
    "for j in range(full_length):\n",
    "    if \"dab2\" in data_array[j]:\n",
    "        print(data_array[j])\n",
    "        den_start = j\n",
    "        break;\n",
    "        \n",
    "neuden_array = (np.array(data_array[den_start+1].split())).astype(np.float64)\n",
    "for j in range(den_start+2,full_length):\n",
    "    if \"*eirene\" in data_array[j]:\n",
    "        break;\n",
    "    else:\n",
    "        a = (np.array(data_array[j].split())).astype(np.float64)\n",
    "        neuden_array = np.concatenate([neuden_array,a])\n",
    "print(np.shape(neuden_array))\n",
    "#print(neuden_array)\n",
    "neuden_array = neuden_array.reshape(3,36,96)\n",
    "\n",
    "print(neuden_array[0,0,:])"
   ]
  },
  {
   "cell_type": "code",
   "execution_count": 5,
   "id": "ba1e2ee5-e25f-4c44-9f4a-6f70af6b70a4",
   "metadata": {},
   "outputs": [
    {
     "data": {
      "text/plain": [
       "(3, 38, 98)"
      ]
     },
     "execution_count": 5,
     "metadata": {},
     "output_type": "execute_result"
    }
   ],
   "source": [
    "np.shape(co_facing)"
   ]
  },
  {
   "cell_type": "code",
   "execution_count": 6,
   "id": "3d75d664-1eeb-4952-8cdb-0684aa27f7d6",
   "metadata": {},
   "outputs": [
    {
     "name": "stdout",
     "output_type": "stream",
     "text": [
      "*eirene data field pefluxa with size  10368\n",
      "\n",
      "(10368,)\n",
      "*eirene data field pefluxm with size   3456\n",
      "\n",
      "(3456,)\n"
     ]
    }
   ],
   "source": [
    "#go for flux .......\n",
    "for j in range(full_length):\n",
    "    if \"pefluxa\" in data_array[j]:\n",
    "        print(data_array[j])\n",
    "        ahf_start = j\n",
    "        break;\n",
    "        \n",
    "a_pol_heatflux = (np.array(data_array[den_start+1].split())).astype(np.float64)\n",
    "for j in range(ahf_start+2,full_length):\n",
    "    if \"*eirene\" in data_array[j]:\n",
    "        break;\n",
    "    else:\n",
    "        a = (np.array(data_array[j].split())).astype(np.float64)\n",
    "        a_pol_heatflux = np.concatenate([a_pol_heatflux,a])\n",
    "print(np.shape(a_pol_heatflux))\n",
    "#print(neuden_array)\n",
    "a_pol_heatflux = a_pol_heatflux.reshape(3,36,96)\n",
    "\n",
    "a_pol_heatflux[0,:,:] = a_pol_heatflux[0,:,:]*co_facing[0,2:,2:]\n",
    "a_pol_heatflux[1,:,:] = a_pol_heatflux[1,:,:]*co_facing[0,2:,2:]\n",
    "a_pol_heatflux[2,:,:] = a_pol_heatflux[2,:,:]*co_facing[0,2:,2:]\n",
    "\n",
    "\n",
    "for j in range(full_length):\n",
    "    if \"pefluxm\" in data_array[j]:\n",
    "        print(data_array[j])\n",
    "        ahf_start = j\n",
    "        break;\n",
    "        \n",
    "m_pol_heatflux = (np.array(data_array[den_start+1].split())).astype(np.float64)\n",
    "for j in range(ahf_start+2,full_length):\n",
    "    if \"*eirene\" in data_array[j]:\n",
    "        break;\n",
    "    else:\n",
    "        m = (np.array(data_array[j].split())).astype(np.float64)\n",
    "        m_pol_heatflux = np.concatenate([m_pol_heatflux,m])\n",
    "print(np.shape(m_pol_heatflux))\n",
    "#print(neuden_array)\n",
    "m_pol_heatflux = m_pol_heatflux.reshape(36,96)\n",
    "\n",
    "m_pol_heatflux[:,:] = m_pol_heatflux[:,:]*co_facing[0,2:,2:]\n"
   ]
  },
  {
   "cell_type": "code",
   "execution_count": 7,
   "id": "0bfac762-458d-43ad-9fd6-a34ed5612063",
   "metadata": {},
   "outputs": [
    {
     "name": "stdout",
     "output_type": "stream",
     "text": [
      "*eirene data field refluxa with size  10368\n",
      "\n",
      "(10368,)\n",
      "*eirene data field refluxm with size   3456\n",
      "\n",
      "(36, 96)\n"
     ]
    }
   ],
   "source": [
    "#go for flux .......\n",
    "for j in range(full_length):\n",
    "    if \"refluxa\" in data_array[j]:\n",
    "        print(data_array[j])\n",
    "        ahf_start = j\n",
    "        break;\n",
    "        \n",
    "a_rad_heatflux = (np.array(data_array[den_start+1].split())).astype(np.float64)\n",
    "for j in range(ahf_start+2,full_length):\n",
    "    if \"*eirene\" in data_array[j]:\n",
    "        break;\n",
    "    else:\n",
    "        a1 = (np.array(data_array[j].split())).astype(np.float64)\n",
    "        a_rad_heatflux = np.concatenate([a_rad_heatflux,a1])\n",
    "print(np.shape(a_rad_heatflux))\n",
    "#print(neuden_array)\n",
    "a_rad_heatflux = a_rad_heatflux.reshape(3,36,96)\n",
    "\n",
    "a_rad_heatflux[0,:,:] = a_rad_heatflux[0,:,:]*co_facing[1,2:,2:]\n",
    "a_rad_heatflux[1,:,:] = a_rad_heatflux[1,:,:]*co_facing[1,2:,2:]\n",
    "a_rad_heatflux[2,:,:] = a_rad_heatflux[2,:,:]*co_facing[1,2:,2:]\n",
    "\n",
    "\n",
    "for j in range(full_length):\n",
    "    if \"refluxm\" in data_array[j]:\n",
    "        print(data_array[j])\n",
    "        ahf_start = j\n",
    "        break;\n",
    "        \n",
    "m_rad_heatflux = (np.array(data_array[den_start+1].split())).astype(np.float64)\n",
    "for j in range(ahf_start+2,full_length):\n",
    "    if \"*eirene\" in data_array[j]:\n",
    "        break;\n",
    "    else:\n",
    "        m1 = (np.array(data_array[j].split())).astype(np.float64)\n",
    "        m_rad_heatflux = np.concatenate([m_rad_heatflux,m1])\n",
    "print(np.shape(m_pol_heatflux))\n",
    "#print(neuden_array)\n",
    "m_rad_heatflux = m_rad_heatflux.reshape(36,96)\n",
    "\n",
    "m_rad_heatflux[:,:] = m_rad_heatflux[:,:]*co_facing[1,2:,2:]\n",
    "\n",
    "\n"
   ]
  },
  {
   "cell_type": "code",
   "execution_count": 14,
   "id": "de0fcc10-4091-4e3a-a66f-9e6dc4e80583",
   "metadata": {},
   "outputs": [
    {
     "ename": "FileNotFoundError",
     "evalue": "[Errno 2] No such file or directory: './fht_b2fplasmf_co_KSTAR_noNe.npy'",
     "output_type": "error",
     "traceback": [
      "\u001b[0;31m---------------------------------------------------------------------------\u001b[0m",
      "\u001b[0;31mFileNotFoundError\u001b[0m                         Traceback (most recent call last)",
      "Input \u001b[0;32mIn [14]\u001b[0m, in \u001b[0;36m<cell line: 1>\u001b[0;34m()\u001b[0m\n\u001b[0;32m----> 1\u001b[0m fht_b2fplasmf_co_KSTAR_noNe  \u001b[38;5;241m=\u001b[39m\u001b[43mnp\u001b[49m\u001b[38;5;241;43m.\u001b[39;49m\u001b[43mload\u001b[49m\u001b[43m(\u001b[49m\u001b[38;5;124;43m\"\u001b[39;49m\u001b[38;5;124;43m./fht_b2fplasmf_co_KSTAR_noNe.npy\u001b[39;49m\u001b[38;5;124;43m\"\u001b[39;49m\u001b[43m)\u001b[49m\n\u001b[1;32m      3\u001b[0m fhi_b2fplasmf_co_KSTAR_noNe  \u001b[38;5;241m=\u001b[39mnp\u001b[38;5;241m.\u001b[39mload(\u001b[38;5;124m\"\u001b[39m\u001b[38;5;124m./fhi_b2fplasmf_co_KSTAR_noNe.npy\u001b[39m\u001b[38;5;124m\"\u001b[39m)\n\u001b[1;32m      4\u001b[0m fhe_b2fplasmf_co_KSTAR_noNe  \u001b[38;5;241m=\u001b[39mnp\u001b[38;5;241m.\u001b[39mload(\u001b[38;5;124m\"\u001b[39m\u001b[38;5;124m./fhe_b2fplasmf_co_KSTAR_noNe.npy\u001b[39m\u001b[38;5;124m\"\u001b[39m)\n",
      "File \u001b[0;32m~/opt/anaconda3/lib/python3.9/site-packages/numpy/lib/npyio.py:417\u001b[0m, in \u001b[0;36mload\u001b[0;34m(file, mmap_mode, allow_pickle, fix_imports, encoding)\u001b[0m\n\u001b[1;32m    415\u001b[0m     own_fid \u001b[38;5;241m=\u001b[39m \u001b[38;5;28;01mFalse\u001b[39;00m\n\u001b[1;32m    416\u001b[0m \u001b[38;5;28;01melse\u001b[39;00m:\n\u001b[0;32m--> 417\u001b[0m     fid \u001b[38;5;241m=\u001b[39m stack\u001b[38;5;241m.\u001b[39menter_context(\u001b[38;5;28;43mopen\u001b[39;49m\u001b[43m(\u001b[49m\u001b[43mos_fspath\u001b[49m\u001b[43m(\u001b[49m\u001b[43mfile\u001b[49m\u001b[43m)\u001b[49m\u001b[43m,\u001b[49m\u001b[43m \u001b[49m\u001b[38;5;124;43m\"\u001b[39;49m\u001b[38;5;124;43mrb\u001b[39;49m\u001b[38;5;124;43m\"\u001b[39;49m\u001b[43m)\u001b[49m)\n\u001b[1;32m    418\u001b[0m     own_fid \u001b[38;5;241m=\u001b[39m \u001b[38;5;28;01mTrue\u001b[39;00m\n\u001b[1;32m    420\u001b[0m \u001b[38;5;66;03m# Code to distinguish from NumPy binary files and pickles.\u001b[39;00m\n",
      "\u001b[0;31mFileNotFoundError\u001b[0m: [Errno 2] No such file or directory: './fht_b2fplasmf_co_KSTAR_noNe.npy'"
     ]
    }
   ],
   "source": [
    "fht_b2fplasmf_co_KSTAR_noNe  =np.load(\"./fht_b2fplasmf_co_KSTAR_noNe.npy\")\n",
    "fhi_b2fplasmf_co_KSTAR_noNe  =np.load(\"./fhi_b2fplasmf_co_KSTAR_noNe.npy\")\n",
    "fhe_b2fplasmf_co_KSTAR_noNe  =np.load(\"./fhe_b2fplasmf_co_KSTAR_noNe.npy\")\n",
    "\n",
    "rsahi_b2fplasmf_co_KSTAR_noNe=np.load(\"./rsahi_b2fplasmf_co_KSTAR_noNe.npy\")\n",
    "rsana_b2fplasmf_co_KSTAR_noNe=np.load(\"./rsana_b2fplasmf_co_KSTAR_noNe.npy\")\n",
    "rcxhi_b2fplasmf_co_KSTAR_noNe=np.load(\"./rcxhi_b2fplasmf_co_KSTAR_noNe.npy\")\n",
    "rrahi_b2fplasmf_co_KSTAR_noNe=np.load(\"./rrahi_b2fplasmf_co_KSTAR_noNe.npy\")\n",
    "rqrad_b2fplasmf_co_KSTAR_noNe=np.load(\"./rqrad_b2fplasmf_co_KSTAR_noNe.npy\")\n",
    "total_heat = 2.5*1000000"
   ]
  },
  {
   "cell_type": "code",
   "execution_count": null,
   "id": "307388bd-b45b-4b47-b6ed-74eb5feb0206",
   "metadata": {},
   "outputs": [],
   "source": [
    "\n",
    "plt.figure(figsize=(8, 8))\n",
    "\n",
    "\n",
    "plt.axes().set_aspect('equal')\n",
    "\n",
    "plt.title(\"Boundary?\")\n",
    "#plt.xlim(1.2,1.8)\n",
    "#plt.ylim(-1.4,-0.8)\n",
    "#for i in range(36):\n",
    "#    ra_index = i\n",
    "#    plt.plot(convmesh_x_cen[ra_index,:],convmesh_y_cen[ra_index,:], color='Black')\n",
    "#plt.scatter(convmesh_x_cen[ra_index,:],convmesh_y_cen[ra_index,:], color='red', )\n",
    "plt.plot(convmesh_x_cen[36,:],convmesh_y_cen[36,:],label=\"SOL Boundary\")\n",
    "plt.plot(convmesh_x_cen[0,11:77],convmesh_y_cen[0,11:77],label =\"Core boundary\")\n",
    "\n",
    "\n",
    "plt.plot(convmesh_x_cen[1:,1],convmesh_y_cen[1:,1],label=\"inner target\")\n",
    "plt.plot(convmesh_x_cen[1:,96],convmesh_y_cen[1:,96],label=\"outer target\")\n",
    "\n",
    "\n",
    "plt.plot(convmesh_x_cen[1,:11],convmesh_y_cen[1,:11],label=\"PFR Boundary1\")\n",
    "plt.plot(convmesh_x_cen[1,77:],convmesh_y_cen[1,77:],label=\"PFR Boundary2\")\n",
    "\n",
    "\n",
    "\n",
    "\n",
    "\n",
    "\n",
    "plt.legend()\n",
    "\n",
    "#plt.colorbar()\n",
    "\n",
    "plt.show()"
   ]
  },
  {
   "cell_type": "code",
   "execution_count": null,
   "id": "8eae69fe-56e1-4afc-9f6d-dc09e37d957a",
   "metadata": {},
   "outputs": [],
   "source": [
    "heat_core = (np.sum(fht_b2fplasmf_co_KSTAR_noNe[0,0,11:77])+np.sum(fht_b2fplasmf_co_KSTAR_noNe[1,0,11:77]))/total_heat\n",
    "print(heat_core)\n"
   ]
  },
  {
   "cell_type": "code",
   "execution_count": null,
   "id": "edc11261-8de3-4e7c-b724-4e5c48c9f068",
   "metadata": {},
   "outputs": [],
   "source": [
    "np.shape(a_rad_heatflux)"
   ]
  },
  {
   "cell_type": "code",
   "execution_count": null,
   "id": "cb921b88-e9a2-44de-8837-8f054c63bf6a",
   "metadata": {},
   "outputs": [],
   "source": [
    "a_rad_heatflux_sum = np.sum(a_rad_heatflux,axis=0)\n",
    "a_pol_heatflux_sum = np.sum(a_pol_heatflux,axis=0)\n",
    "\n",
    "\n",
    "\n",
    "print(np.sum(a_rad_heatflux_sum[:,95]))\n",
    "print(np.sum(a_pol_heatflux_sum[:,95]))\n",
    "\n",
    "print(np.sum(a_rad_heatflux_sum[:,0]))\n",
    "print(np.sum(a_pol_heatflux_sum[:,0]))\n",
    "\n",
    "print(np.sum(m_rad_heatflux[:,95]))\n",
    "print(np.sum(m_pol_heatflux[:,95]))\n",
    "\n",
    "print(np.sum(m_rad_heatflux[:,0]))\n",
    "print(np.sum(m_pol_heatflux[:,0]))\n",
    "\n"
   ]
  },
  {
   "cell_type": "code",
   "execution_count": null,
   "id": "ac398084-2672-4bb8-a834-d6f10fe5415b",
   "metadata": {},
   "outputs": [],
   "source": [
    "print(m_pol_heatflux[:,35])"
   ]
  },
  {
   "cell_type": "code",
   "execution_count": null,
   "id": "7d945e88-106d-4e0c-9de3-565490a193e6",
   "metadata": {},
   "outputs": [],
   "source": [
    "\n",
    "plt.plot(convmesh_x_cen[36,:],convmesh_y_cen[36,:])\n",
    "\n"
   ]
  },
  {
   "cell_type": "code",
   "execution_count": null,
   "id": "f366c234-08e6-4efa-880b-91de9573bccc",
   "metadata": {},
   "outputs": [],
   "source": [
    "print(heat_core*total_heat)"
   ]
  },
  {
   "cell_type": "code",
   "execution_count": null,
   "id": "41c7b7d9-8fe3-448e-8c75-eac214e3f722",
   "metadata": {},
   "outputs": [],
   "source": [
    "abs_heat_outer_diver = np.sum(abs(fht_b2fplasmf_co_KSTAR_noNe[1,1:,96]))/total_heat+ np.sum(abs(fht_b2fplasmf_co_KSTAR_noNe[0,1:,96]))/total_heat\n",
    "\n",
    "abs_heat_inner_diver = np.sum(abs(fht_b2fplasmf_co_KSTAR_noNe[1,1:,1]))/total_heat+np.sum(abs(fht_b2fplasmf_co_KSTAR_noNe[0,1:,1]))/total_heat\n",
    "\n",
    "abs_heat_PRF = (np.sum(abs(fht_b2fplasmf_co_KSTAR_noNe[1,1,77:]))+np.sum(abs(fht_b2fplasmf_co_KSTAR_noNe[0,1,77:]))+np.sum(abs(fht_b2fplasmf_co_KSTAR_noNe[1,1,:11]))+np.sum(abs(fht_b2fplasmf_co_KSTAR_noNe[0,1,:11])))/total_heat\n",
    "\n",
    "abs_total_rad = np.sum(abs(rqrad_b2fplasmf_co_KSTAR_noNe))/total_heat\n",
    "\n",
    "abs_vessel_heat = (np.sum(abs(fht_b2fplasmf_co_KSTAR_noNe[0,37,:]))+np.sum(abs(fht_b2fplasmf_co_KSTAR_noNe[1,37,:])))/total_heat\n",
    "\n",
    "abs_heat_sink = (np.sum(abs(rrahi_b2fplasmf_co_KSTAR_noNe))+np.sum(abs(rcxhi_b2fplasmf_co_KSTAR_noNe))+np.sum(abs(rsahi_b2fplasmf_co_KSTAR_noNe)))/total_heat\n",
    "\n",
    "abs_inner_heat = (np.sum(abs(fht_b2fplasmf_co_KSTAR_noNe[0,0,11:77]))+np.sum(abs(fht_b2fplasmf_co_KSTAR_noNe[1,0,11:77])))/total_heat"
   ]
  },
  {
   "cell_type": "code",
   "execution_count": null,
   "id": "64f3c6a3-01b7-423d-9e5e-ead281953771",
   "metadata": {},
   "outputs": [],
   "source": [
    "rad_correction = np.sum(np.sum(rqrad_b2fplasmf_co_KSTAR_noNe,axis = 2),axis=1)\n",
    "rad_corr = rad_correction[0]+rad_correction[2]+rad_correction[9]"
   ]
  },
  {
   "cell_type": "code",
   "execution_count": null,
   "id": "8bbd7e43-b794-419b-8d2a-da6b601d76aa",
   "metadata": {},
   "outputs": [],
   "source": [
    "heat_outer_diver = np.sum((fht_b2fplasmf_co_KSTAR_noNe[1,1:,96]))/total_heat+ np.sum((fht_b2fplasmf_co_KSTAR_noNe[0,1:,96]))/total_heat\n",
    "\n",
    "heat_inner_diver = -np.sum((fht_b2fplasmf_co_KSTAR_noNe[1,1:,1]))/total_heat-np.sum((fht_b2fplasmf_co_KSTAR_noNe[0,1:,1]))/total_heat\n",
    "\n",
    "heat_PRF = -(np.sum((fht_b2fplasmf_co_KSTAR_noNe[1,1,77:]))+np.sum((fht_b2fplasmf_co_KSTAR_noNe[1,1,:11])))/total_heat\n",
    "\n",
    "total_rad = (np.sum(rqrad_b2fplasmf_co_KSTAR_noNe)-rad_corr-total_ion_rad-total_mol_rad-total_neu_rad)/total_heat\n",
    "\n",
    "vessel_heat = (np.sum(fht_b2fplasmf_co_KSTAR_noNe[0,37,:])+np.sum(fht_b2fplasmf_co_KSTAR_noNe[1,37,:]))/total_heat\n",
    "\n",
    "heat_sink = (np.sum(rrahi_b2fplasmf_co_KSTAR_noNe)+np.sum(rcxhi_b2fplasmf_co_KSTAR_noNe)+np.sum(rsahi_b2fplasmf_co_KSTAR_noNe))/total_heat\n",
    "\n",
    "inner_heat = -(np.sum((fht_b2fplasmf_co_KSTAR_noNe[0,0,11:77]))-np.sum((fht_b2fplasmf_co_KSTAR_noNe[1,0,11:77])))/total_heat\n",
    "\n",
    "\n",
    "print(heat_inner_diver+heat_outer_diver+vessel_heat+heat_sink+total_rad+heat_PRF+inner_heat)\n",
    "\n"
   ]
  },
  {
   "cell_type": "code",
   "execution_count": null,
   "id": "6dffd7b5-0ea6-452b-9268-30ca7c74ebb0",
   "metadata": {},
   "outputs": [],
   "source": [
    "eheat_outer_diver = np.sum((fhe_b2fplasmf_co_KSTAR_noNe[1,1:,96]))/total_heat+ np.sum((fhe_b2fplasmf_co_KSTAR_noNe[0,1:,96]))/total_heat\n",
    "\n",
    "eheat_inner_diver = -np.sum((fhe_b2fplasmf_co_KSTAR_noNe[1,1:,1]))/total_heat-np.sum((fhe_b2fplasmf_co_KSTAR_noNe[0,1:,1]))/total_heat\n",
    "\n",
    "eheat_PRF = -(np.sum((fhe_b2fplasmf_co_KSTAR_noNe[1,1,77:]))+np.sum((fhe_b2fplasmf_co_KSTAR_noNe[1,1,:11])))/total_heat\n",
    "\n",
    "evessel_heat = (np.sum(fhe_b2fplasmf_co_KSTAR_noNe[0,37,:])+np.sum(fhe_b2fplasmf_co_KSTAR_noNe[1,37,:]))/total_heat\n",
    "\n",
    "einner_heat = -(np.sum((fhe_b2fplasmf_co_KSTAR_noNe[0,0,11:77]))-np.sum((fhe_b2fplasmf_co_KSTAR_noNe[1,0,11:77])))/total_heat\n",
    "\n",
    "\n",
    "\n",
    "iheat_outer_diver = np.sum((fhi_b2fplasmf_co_KSTAR_noNe[1,1:,96]))/total_heat+ np.sum((fhi_b2fplasmf_co_KSTAR_noNe[0,1:,96]))/total_heat\n",
    "\n",
    "iheat_inner_diver = -np.sum((fhi_b2fplasmf_co_KSTAR_noNe[1,1:,1]))/total_heat-np.sum((fhi_b2fplasmf_co_KSTAR_noNe[0,1:,1]))/total_heat\n",
    "\n",
    "iheat_PRF = -(np.sum((fhi_b2fplasmf_co_KSTAR_noNe[1,1,77:]))+np.sum((fhi_b2fplasmf_co_KSTAR_noNe[1,1,:11])))/total_heat\n",
    "\n",
    "ivessel_heat = (np.sum(fhi_b2fplasmf_co_KSTAR_noNe[0,37,:])+np.sum(fhi_b2fplasmf_co_KSTAR_noNe[1,37,:]))/total_heat\n",
    "\n",
    "iinner_heat = -(np.sum((fhi_b2fplasmf_co_KSTAR_noNe[0,0,11:77]))-np.sum((fhi_b2fplasmf_co_KSTAR_noNe[1,0,11:77])))/total_heat\n",
    "\n",
    "\n",
    "print(total_rad+eheat_inner_diver+eheat_outer_diver+evessel_heat+eheat_PRF+einner_heat+iheat_inner_diver+iheat_outer_diver+ivessel_heat+iheat_PRF+iinner_heat)\n",
    "\n",
    "\n"
   ]
  },
  {
   "cell_type": "code",
   "execution_count": null,
   "id": "e35a7f16-7ece-46e9-9599-2155de90d0cd",
   "metadata": {},
   "outputs": [],
   "source": [
    "np.sum(np.sum(rqrad_b2fplasmf_co_KSTAR_noNe,axis = 2),axis=1)"
   ]
  },
  {
   "cell_type": "code",
   "execution_count": null,
   "id": "b0f8b743-dc5e-4f13-a018-1a3855ff0ecb",
   "metadata": {},
   "outputs": [],
   "source": [
    "print(heat_inner_diver+heat_outer_diver+vessel_heat+heat_sink+total_rad+heat_PRF+inner_heat)\n",
    "\n"
   ]
  },
  {
   "cell_type": "code",
   "execution_count": null,
   "id": "e8664975-2002-4aa8-a9e2-d68d947ec7bf",
   "metadata": {},
   "outputs": [],
   "source": [
    "print(heat_inner_diver,heat_outer_diver, vessel_heat, heat_sink,total_rad)"
   ]
  },
  {
   "cell_type": "code",
   "execution_count": null,
   "id": "44112919-8d35-448e-82ed-17191e344a70",
   "metadata": {},
   "outputs": [],
   "source": [
    "dum1_vessel_heat = np.sum(fht_b2fplasmf_co_KSTAR_noNe[0,36,:])+np.sum(fht_b2fplasmf_co_KSTAR_noNe[1,36,:])\n",
    "dum2_vessel_heat = np.sum(fht_b2fplasmf_co_KSTAR_noNe[0,37,:])+np.sum(fht_b2fplasmf_co_KSTAR_noNe[1,37,:])\n",
    "\n",
    "print(dum1_vessel_heat/total_heat)\n",
    "print(dum2_vessel_heat/total_heat)\n"
   ]
  },
  {
   "cell_type": "code",
   "execution_count": null,
   "id": "8a1df3c2-3aee-4c1f-9471-3d771171c7d4",
   "metadata": {},
   "outputs": [],
   "source": [
    "print(np.shape(convmesh_x_cen[1,77:]))\n",
    "print(np.shape(convmesh_x_cen[1,-21:]))"
   ]
  },
  {
   "cell_type": "code",
   "execution_count": null,
   "id": "06711970-553c-40b5-a8ec-45a11a28e362",
   "metadata": {},
   "outputs": [],
   "source": [
    "print((convmesh_x_cen[1,77:]))\n",
    "print((convmesh_x_cen[1,-21:]))"
   ]
  }
 ],
 "metadata": {
  "kernelspec": {
   "display_name": "Python 3.9.12",
   "language": "python",
   "name": "python3"
  },
  "language_info": {
   "codemirror_mode": {
    "name": "ipython",
    "version": 3
   },
   "file_extension": ".py",
   "mimetype": "text/x-python",
   "name": "python",
   "nbconvert_exporter": "python",
   "pygments_lexer": "ipython3",
   "version": "3.9.12"
  },
  "vscode": {
   "interpreter": {
    "hash": "df48fff27f64f3b68374eea5916fcf98c15539d1aa4691aec81d7ba803e7f0a1"
   }
  }
 },
 "nbformat": 4,
 "nbformat_minor": 5
}
