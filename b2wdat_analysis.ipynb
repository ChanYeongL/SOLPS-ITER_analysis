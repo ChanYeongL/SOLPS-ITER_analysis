{
 "cells": [
  {
   "cell_type": "markdown",
   "id": "5052190a-dd29-421b-8f61-3b2dc5c0f143",
   "metadata": {},
   "source": [
    "<span style=\"color:#87cefa; font-size:200%\">Energy Balance Plot Code</span> "
   ]
  },
  {
   "cell_type": "code",
   "execution_count": 1,
   "id": "fc146ffb-94c9-4530-b1ca-605f65c1b08c",
   "metadata": {},
   "outputs": [],
   "source": [
    "import numpy as np\n",
    "import matplotlib.pyplot as plt\n",
    "import matplotlib.ticker as ticker\n",
    "from scipy.special import rel_entr\n",
    "import pickle\n",
    "from mpl_toolkits.mplot3d import axes3d\n",
    "from scipy.ndimage.filters import gaussian_filter\n",
    "\n",
    "import matplotlib.patches as patches\n",
    "\n",
    "import os, sys\n",
    "import paramiko\n",
    "\n",
    "from netCDF4 import Dataset\n",
    "import numpy as np"
   ]
  },
  {
   "cell_type": "code",
   "execution_count": 2,
   "id": "5c9aa38e-b066-4281-bdea-a963eecadc9a",
   "metadata": {
    "tags": []
   },
   "outputs": [
    {
     "name": "stdout",
     "output_type": "stream",
     "text": [
      "(3, 38, 98)\n",
      "(3, 38, 98)\n",
      "[ 1.46925157 -1.29399156]\n",
      "[-0.0715723  -0.07152744 -0.06704153 -0.06229474 -0.05731827 -0.05215115\n",
      " -0.04692141 -0.04169072 -0.03650874 -0.03143631 -0.02655407 -0.02190946\n",
      " -0.01750687 -0.01347613 -0.00982187 -0.00661739 -0.00386102 -0.00163475\n",
      "  0.          0.00099463  0.00205597  0.00379204  0.00621517  0.00931366\n",
      "  0.01314076  0.0176591   0.02284651  0.02871627  0.03528336  0.04247052\n",
      "  0.0503574   0.05881249  0.06791765  0.07758154  0.08785052  0.09866668\n",
      "  0.10996054  0.12180333]\n",
      "[ 1.49532367 -1.39853962]\n",
      "[0.         0.02024052 0.0430307  0.06776496 0.09401868 0.12139181\n",
      " 0.14949061 0.17792684 0.2063151  0.23427089 0.26140689 0.28732694\n",
      " 0.31161978 0.33386324 0.35365201 0.37062728 0.38446747 0.39484765\n",
      " 0.40141755 0.40372746]\n",
      "[0.         0.0254457  0.05394852 0.08486258 0.11766655 0.15185898\n",
      " 0.18694875 0.22245149 0.25788705 0.29277786 0.3266464  0.35900945\n",
      " 0.3893695  0.41720759 0.44200125 0.46327177 0.48060219 0.49359053\n",
      " 0.50180683 0.50469472]\n"
     ]
    }
   ],
   "source": [
    "ny = 36\n",
    "nx = 96\n",
    "convmesh = np.load(\"./conv_geo_mesh_center.npy\")\n",
    "convmesh_x = np.load(\"./conv_geo_mesh_x.npy\")\n",
    "convmesh_y = np.load(\"./conv_geo_mesh_y.npy\")\n",
    "\n",
    "almesh = np.load(\"./al_geo_mesh_center.npy\")\n",
    "almesh_x = np.load(\"./al_geo_mesh_x.npy\")\n",
    "almesh_y = np.load(\"./al_geo_mesh_y.npy\")\n",
    "co_facing = np.load(\"./gs_b2fgmtry.npy\")\n",
    "al_facing = np.load(\"./gs_b2fgmtry_al.npy\")\n",
    "print(np.shape(co_facing))\n",
    "print(np.shape(al_facing))\n",
    "def conv_distance_center(first_point, second_point):\n",
    "    x_range = x_convmeshinfo[first_point[1],first_point[0]]-x_convmeshinfo[second_point[1],second_point[0]]\n",
    "    y_range = y_convmeshinfo[first_point[1],first_point[0]]-y_convmeshinfo[second_point[1],second_point[0]]\n",
    "    result = (x_range**2 + y_range**2)**(1/2)\n",
    "    return result\n",
    "\n",
    "def conv_distance_point(first_point, second_point):\n",
    "    x_range = convmesh_x[first_point[2],first_point[1],first_point[0]]-convmesh_x[second_point[2],second_point[1],second_point[0]]\n",
    "    y_range = convmesh_y[first_point[2],first_point[1],first_point[0]]-convmesh_y[second_point[2],second_point[1],second_point[0]]\n",
    "    result = (x_range**2 + y_range**2)**(1/2)\n",
    "    return result\n",
    "\n",
    "def al_distance_center(first_point, second_point):\n",
    "    x_range = x_almeshinfo[first_point[1],first_point[0]]-x_almeshinfo[second_point[1],second_point[0]]\n",
    "    y_range = y_almeshinfo[first_point[1],first_point[0]]-y_almeshinfo[second_point[1],second_point[0]]\n",
    "    result = (x_range**2 + y_range**2)**(1/2)\n",
    "    return result\n",
    "\n",
    "def al_distance_point(first_point, second_point):\n",
    "    x_range = almesh_x[first_point[2],first_point[1],first_point[0]]-almesh_x[second_point[2],second_point[1],second_point[0]]\n",
    "    y_range = almesh_y[first_point[2],first_point[1],first_point[0]]-almesh_y[second_point[2],second_point[1],second_point[0]]\n",
    "    result = (x_range**2 + y_range**2)**(1/2)\n",
    "    return result\n",
    "\n",
    "\n",
    "\n",
    "def total_pressure(ne,te,na,ti):\n",
    "    pr = ne[:,:]*te[:,:] + na[1,:,:]*ti[:,:] +np.sum(na[2:9,:,:]*ti[:,:],axis = 0)+np.sum(na[9:,:,:]*ti[:,:],axis = 0)\n",
    "    return pr\n",
    "\n",
    "def neutral_pressure(na,ti):\n",
    "    pr = na[0,:,:]*ti[:,:]+ na[0,:,:]*ti[:,:]+ na[2,:,:]*ti[:,:]+na[2,:,:]*ti[:,:]+na[9,:,:]*ti[:,:]\n",
    "    return pr\n",
    "dumx_convmeshinfo = convmesh[:,0]\n",
    "dumy_convmeshinfo = convmesh[:,1]\n",
    "x_convmeshinfo = dumx_convmeshinfo.reshape(ny+2,nx+2)\n",
    "y_convmeshinfo = dumy_convmeshinfo.reshape(ny+2,nx+2)\n",
    "\n",
    "dumx_almeshinfo = almesh[:,0]\n",
    "dumy_almeshinfo = almesh[:,1]\n",
    "x_almeshinfo = dumx_almeshinfo.reshape(ny+2,nx+2)\n",
    "y_almeshinfo = dumy_almeshinfo.reshape(ny+2,nx+2)\n",
    "\n",
    "\n",
    "\n",
    "#po_dumx_meshinfo = convmesh[:,0]\n",
    "#po_dumy_meshinfo = convmesh[:,1]\n",
    "#po_x_meshinfo = dumx_meshinfo.reshape(4,ny+2,nx+2)\n",
    "#po_y_meshinfo = dumy_meshinfo.reshape(4,ny+2,nx+2)\n",
    "\n",
    "conv_sep_out_target = np.zeros(2)\n",
    "conv_sep_out_target[0] = convmesh_x[1,18,96]\n",
    "conv_sep_out_target[1] = convmesh_y[1,18,96]\n",
    "\n",
    "al_sep_out_target = np.zeros(2)\n",
    "al_sep_out_target[0] = almesh_x[1,18,96]\n",
    "al_sep_out_target[1] = almesh_y[1,18,96]\n",
    "convmesh_x_cen = np.sum(convmesh_x, axis = 0)/4\n",
    "convmesh_y_cen = np.sum(convmesh_y, axis = 0)/4\n",
    "almesh_x_cen = np.sum(almesh_x, axis = 0)/4\n",
    "almesh_y_cen = np.sum(almesh_y, axis = 0)/4\n",
    "print(conv_sep_out_target)\n",
    "conv_sep_out_target_dist = np.zeros(ny+2)\n",
    "X_point = []\n",
    "for i in range(ny+2):\n",
    "    conv_sep_out_target_dist[i] = conv_distance_point([96,i,1],[96,18,1])\n",
    "    if i<18:\n",
    "        conv_sep_out_target_dist[i] = -conv_sep_out_target_dist[i]\n",
    "    \n",
    "conv_sep_in_target_dist = np.zeros(ny+2)\n",
    "for i in range(ny+2):\n",
    "    conv_sep_in_target_dist[i] = conv_distance_point([1,i,1],[1,18,1])\n",
    "    if i<18:\n",
    "        conv_sep_in_target_dist[i] = -conv_sep_in_target_dist[i]\n",
    "print(conv_sep_out_target_dist)\n",
    "\n",
    "print(al_sep_out_target)\n",
    "al_sep_out_target_dist = np.zeros(ny+2)\n",
    "for i in range(ny+2):\n",
    "    al_sep_out_target_dist[i] = al_distance_point([96,i,1],[96,18,1])\n",
    "    if i<18:\n",
    "        al_sep_out_target_dist[i] = -al_sep_out_target_dist[i]\n",
    "    \n",
    "al_sep_in_target_dist = np.zeros(ny+2)\n",
    "for i in range(ny+2):\n",
    "    al_sep_in_target_dist[i] = al_distance_point([1,i,1],[1,18,1])\n",
    "    if i<18:\n",
    "        al_sep_in_target_dist[i] = -al_sep_in_target_dist[i]\n",
    "\n",
    "\n",
    "        \n",
    "        \n",
    "conv_sep_out_midplane_dist = np.zeros(ny+2)\n",
    "for i in range(ny+2):\n",
    "    conv_sep_out_midplane_dist[i] = conv_distance_point([51,i,1],[51,18,1])\n",
    "    if i<18:\n",
    "        conv_sep_out_midplane_dist[i] = -conv_sep_out_midplane_dist[i]\n",
    "    \n",
    "conv_sep_in_midplane_dist = np.zeros(ny+2)\n",
    "for i in range(ny+2):\n",
    "    conv_sep_in_midplane_dist[i] = conv_distance_point([29,i,1],[29,18,1])\n",
    "    if i<18:\n",
    "        conv_sep_in_midplane_dist[i] = -conv_sep_in_midplane_dist[i]\n",
    "\n",
    "\n",
    "al_sep_out_midplane_dist = np.zeros(ny+2)\n",
    "for i in range(ny+2):\n",
    "    al_sep_out_midplane_dist[i] = al_distance_point([52,i,1],[52,18,1])\n",
    "    if i<18:\n",
    "        al_sep_out_midplane_dist[i] = -al_sep_out_midplane_dist[i]\n",
    "    \n",
    "al_sep_in_midplane_dist = np.zeros(ny+2)\n",
    "for i in range(ny+2):\n",
    "    al_sep_in_midplane_dist[i] = al_distance_point([29,i,1],[29,18,1])\n",
    "    if i<18:\n",
    "        al_sep_in_midplane_dist[i] = -al_sep_in_midplane_dist[i]\n",
    "\n",
    "    \n",
    "conv_Xpt_dist = np.zeros(20)\n",
    "for i in range(20):\n",
    "    conv_Xpt_dist[i] = conv_distance_center([78,18],[78+i,18])\n",
    "\n",
    "    \n",
    "    \n",
    "al_Xpt_dist = np.zeros(20)\n",
    "for i in range(20):\n",
    "    al_Xpt_dist[i] = al_distance_center([78,18],[78+i,18])\n",
    "print(conv_Xpt_dist)\n",
    "print(al_Xpt_dist)\n",
    "\n",
    "\n",
    "\n",
    "\n"
   ]
  },
  {
   "cell_type": "markdown",
   "id": "dc8a1a88-01be-4de4-98e7-b15d99c984c1",
   "metadata": {},
   "source": [
    "<span style=\"color:#87cefa; font-size:150%\">Data reading</span> "
   ]
  },
  {
   "cell_type": "code",
   "execution_count": 3,
   "id": "023229e9-ae88-482b-b8d0-3144fe0c782c",
   "metadata": {},
   "outputs": [],
   "source": [
    "def datfile_read(file_dir):\n",
    "    with open('./output/%s.txt' %file_dir,'r') as f:\n",
    "        raw_data = f.readlines()\n",
    "        \n",
    "    sp_raw_data =  raw_data[0].split()\n",
    "    for row in range(1, len(raw_data)):\n",
    "        dummy_array= np.array(raw_data[row].split())\n",
    "        sp_raw_data = np.vstack([sp_raw_data, dummy_array[1:]])\n",
    "    sp_raw_data = sp_raw_data[1:,:]\n",
    "    return(sp_raw_data)\n",
    "\n",
    "def makeitfloat(filename):\n",
    "    a = filename.astype(np.float64)\n",
    "    return a"
   ]
  },
  {
   "cell_type": "markdown",
   "id": "785248d8-be4f-446b-ac18-35e3c1be7bec",
   "metadata": {},
   "source": [
    "<span style=\"color:#87cefa; font-size:150%\">List of the file names and corresponding paths</span> "
   ]
  },
  {
   "cell_type": "markdown",
   "id": "3e11134b-09c0-4e30-9ac0-508df63563ef",
   "metadata": {},
   "source": [
    "<span style=\"color:#87cefa; font-size:100%\">\"Numbered\" values</span> "
   ]
  },
  {
   "cell_type": "code",
   "execution_count": 4,
   "id": "dcb5d672-e125-4231-ac18-654936b763d9",
   "metadata": {
    "tags": []
   },
   "outputs": [
    {
     "name": "stdout",
     "output_type": "stream",
     "text": [
      "[]\n",
      "[]\n"
     ]
    }
   ],
   "source": [
    "value_list = list()\n",
    "\n",
    "#value_list.append(\"b2npmo_resmo\")\n",
    "#value_list.append(\"b2stbr_smo_eir\")\n",
    "valuename = list()\n",
    "\n",
    "for j in range(len(value_list)):\n",
    "    list_first_part = value_list[j]\n",
    "    for i in range(20):\n",
    "        if i<10:\n",
    "            valuename.append(\"%s00%i\" %(list_first_part, i))\n",
    "        else:\n",
    "            valuename.append(\"%s0%i\" %(list_first_part, i))\n",
    "\n",
    "for to in range(len(valuename)):\n",
    "    if \"eir\" in valuename[to] and \"000\" in valuename[to]:\n",
    "        valuename[to]=0\n",
    "    elif \"eir\" in valuename[to] and \"002\" in valuename[to]:\n",
    "        valuename[to]=0\n",
    "    elif \"eir\" in valuename[to] and \"009\" in valuename[to]:\n",
    "        valuename[to]=0\n",
    "\n",
    "remove_set = {0}\n",
    "\n",
    "valuename = [i for i in valuename if i not in remove_set]\n",
    "print(valuename)\n",
    "\n",
    "for k in range(len(valuename)):\n",
    "    globals()['%s' %valuename[k]] = list()\n",
    "    \n",
    "print(valuename)\n",
    "\n",
    "\n"
   ]
  },
  {
   "cell_type": "markdown",
   "id": "d72b51df-3ed9-418e-ba73-714654301cd1",
   "metadata": {},
   "source": [
    "<span style=\"color:#87cefa; font-size:100%\">\"Unumbered\" values</span> "
   ]
  },
  {
   "cell_type": "code",
   "execution_count": 5,
   "id": "01d99b2c-9904-467a-9abd-9360e524428f",
   "metadata": {},
   "outputs": [],
   "source": [
    "un_valuename = list()\n",
    "\n",
    "un_valuename.append(\"b2npht_she\")\n",
    "un_valuename.append(\"b2sihs__shedu\")\n",
    "\n",
    "\n",
    "\n",
    "un_valuename.append(\"b2npht_shi\")\n",
    "un_valuename.append(\"b2stbr_shi_eir\")\n",
    "un_valuename.append(\"b2sihs__shidu\")\n",
    "\n",
    "un_valuename.append(\"b2npht_shei\")\n",
    "\n",
    "\n"
   ]
  },
  {
   "cell_type": "code",
   "execution_count": 6,
   "id": "3a66b0a1-0fd4-4095-ba34-e43af73c80b8",
   "metadata": {},
   "outputs": [
    {
     "name": "stdout",
     "output_type": "stream",
     "text": [
      "['b2npht_she', 'b2sihs__shedu', 'b2npht_shi', 'b2stbr_shi_eir', 'b2sihs__shidu', 'b2npht_shei']\n"
     ]
    }
   ],
   "source": [
    "total_valuename = valuename+un_valuename\n",
    "print(total_valuename)"
   ]
  },
  {
   "cell_type": "markdown",
   "id": "8b8c43e1-60df-4c73-a181-62cb2674c455",
   "metadata": {},
   "source": [
    "<span style=\"color:#87cefa; font-size:150%\">scp part</span> "
   ]
  },
  {
   "cell_type": "code",
   "execution_count": 7,
   "id": "f64f8817-df80-4510-9481-6c373443e979",
   "metadata": {},
   "outputs": [],
   "source": [
    "fname_list = total_valuename\n",
    "fpath_list = list()\n",
    "base_list  = list()\n",
    "base_list.append(\"Con_noNe\")\n",
    "fpath_list.append(\"/home/chanyeong/solps-iter/runs/conventionalgeo_no_neon/Baseline_KSTAR/output/\")\n",
    "\n",
    "\n",
    "\n",
    "\n",
    "ssh = paramiko.SSHClient()\n",
    "ssh.set_missing_host_key_policy(paramiko.AutoAddPolicy)\n",
    "ssh.connect(\"143.248.99.71\",username=\"chanyeong\",password=\"satirev147\")\n",
    "sftp = ssh.open_sftp()\n",
    "\n",
    "\n",
    "for base_num in range(len(base_list)):\n",
    "    now_base = base_list[base_num]\n",
    "    for path_num in range(len(fpath_list)):\n",
    "        now_path = fpath_list[path_num]\n",
    "        for name_len in range(len(total_valuename)):\n",
    "            try:\n",
    "                file = sftp.get('%s%s.dat'%(now_path,fname_list[name_len]), './output/%s_%s.txt' %(now_base, total_valuename[name_len]))\n",
    "            except FileNotFoundError as e:\n",
    "                print('%s%s.dat'%(now_path,fname_list[name_len]))\n",
    "                print(total_valuename)\n",
    "                print(fname_list)\n",
    "ssh.close()\n",
    "\n"
   ]
  },
  {
   "cell_type": "code",
   "execution_count": 8,
   "id": "b7b63f41-939e-4b9c-9e5f-372a020515f5",
   "metadata": {},
   "outputs": [
    {
     "name": "stdout",
     "output_type": "stream",
     "text": [
      "b2npht_she\n",
      "b2sihs__shedu\n",
      "b2npht_shi\n",
      "b2stbr_shi_eir\n",
      "b2sihs__shidu\n",
      "b2npht_shei\n"
     ]
    }
   ],
   "source": [
    "for k in range(len(fname_list)):\n",
    "    print(fname_list[k])"
   ]
  },
  {
   "cell_type": "markdown",
   "id": "7959f362-ccfe-4b0a-8d90-cb0646afcec9",
   "metadata": {},
   "source": [
    "<span style=\"color:#87cefa; font-size:250%\">Balance Calculation</span> "
   ]
  },
  {
   "cell_type": "markdown",
   "id": "8dbc96f3-55b9-4d46-ba5b-e206991c9b6c",
   "metadata": {},
   "source": [
    "<span style=\"color:#87cefa; font-size:190%\">Energy Balance</span> "
   ]
  },
  {
   "cell_type": "code",
   "execution_count": 9,
   "id": "6691ad3f-573a-499e-8804-03821ff1b579",
   "metadata": {},
   "outputs": [],
   "source": [
    "for k in range(len(fname_list)):\n",
    "    sim_name = fname_list[k]\n",
    "    globals()['%s' %sim_name] = makeitfloat(datfile_read(\"Con_noNe_%s\" %sim_name))\n"
   ]
  },
  {
   "cell_type": "code",
   "execution_count": null,
   "id": "53609d80-f3ad-4996-a317-c375838f8608",
   "metadata": {},
   "outputs": [],
   "source": []
  },
  {
   "cell_type": "code",
   "execution_count": 10,
   "id": "5337accb-0116-4c1a-8dac-233eeb837c43",
   "metadata": {},
   "outputs": [],
   "source": [
    "last = np.sum(b2npht_she)+np.sum(b2sihs__shedu)+np.sum(b2npht_shi)+np.sum(b2stbr_shi_eir)-np.sum(b2sihs__shidu)"
   ]
  },
  {
   "cell_type": "code",
   "execution_count": 11,
   "id": "ad44f9e8-e84a-4e51-ac20-3126a85d3cf8",
   "metadata": {},
   "outputs": [
    {
     "name": "stdout",
     "output_type": "stream",
     "text": [
      "2726.0624908228638\n"
     ]
    }
   ],
   "source": [
    "source = np.sum(b2npht_she)+ np.sum(b2npht_shi)\n",
    "print(source)"
   ]
  },
  {
   "cell_type": "code",
   "execution_count": 12,
   "id": "4aaf2616-3fff-423e-8bbc-805805bff914",
   "metadata": {},
   "outputs": [
    {
     "name": "stdout",
     "output_type": "stream",
     "text": [
      "electron =  -965720.1565412233\n",
      "ion =  968446.2190320462\n"
     ]
    }
   ],
   "source": [
    "print(\"electron = \", np.sum(b2npht_she))\n",
    "print(\"ion = \", np.sum(b2npht_shi))"
   ]
  },
  {
   "cell_type": "code",
   "execution_count": 13,
   "id": "a6442969-0b24-4dfe-96cd-7626b396de7e",
   "metadata": {},
   "outputs": [
    {
     "data": {
      "text/plain": [
       "968446.2190320462"
      ]
     },
     "execution_count": 13,
     "metadata": {},
     "output_type": "execute_result"
    }
   ],
   "source": [
    "np.sum(b2npht_shi)"
   ]
  },
  {
   "cell_type": "code",
   "execution_count": null,
   "id": "b4b01267-e280-4579-b5d8-202d74388790",
   "metadata": {},
   "outputs": [],
   "source": []
  },
  {
   "cell_type": "code",
   "execution_count": 14,
   "id": "44fdf1a1-903e-4e56-9830-01a22cbed0d3",
   "metadata": {},
   "outputs": [],
   "source": [
    "fh = Dataset(\"./b2tallies.nc\", mode='r')"
   ]
  },
  {
   "cell_type": "code",
   "execution_count": 15,
   "id": "36b04818-181c-4929-acd0-91c82e63f829",
   "metadata": {},
   "outputs": [
    {
     "name": "stdout",
     "output_type": "stream",
     "text": [
      "<class 'netCDF4._netCDF4.Dataset'>\n",
      "root group (NETCDF3_CLASSIC data model, file format NETCDF3):\n",
      "    dimensions(sizes): vreg(5), xreg(7), yreg(8), ns(20), speclng(13), time(1)\n",
      "    variables(dimensions): float64 times(time), |S1 species(ns, speclng), float64 tereg(time, vreg), float64 nereg(time, vreg), float64 ne2reg(time, vreg), float64 tireg(time, vreg), float64 nireg(time, vreg), float64 poreg(time, vreg), float64 volreg(time, vreg), float64 b2stbr_sne_reg(time, vreg), float64 b2stbr_she_reg(time, vreg), float64 b2stbr_shi_reg(time, vreg), float64 b2stbr_sch_reg(time, vreg), float64 b2stbc_sne_reg(time, vreg), float64 b2stbc_she_reg(time, vreg), float64 b2stbc_shi_reg(time, vreg), float64 b2stbc_sch_reg(time, vreg), float64 b2stbm_sne_reg(time, vreg), float64 b2stbm_she_reg(time, vreg), float64 b2stbm_shi_reg(time, vreg), float64 b2stbm_sch_reg(time, vreg), float64 b2sext_sne_reg(time, vreg), float64 b2sext_she_reg(time, vreg), float64 b2sext_shi_reg(time, vreg), float64 b2sext_sch_reg(time, vreg), float64 b2qie(time, vreg), float64 b2divue(time, vreg), float64 b2divua(time, vreg), float64 b2exbe(time, vreg), float64 b2exba(time, vreg), float64 b2visa(time, vreg), float64 b2joule(time, vreg), float64 b2fraa(time, vreg), float64 b2str(time, vreg), float64 b2wrong1(time, vreg), float64 b2wrong2(time, vreg), float64 b2wrong3(time, vreg), float64 b2she(time, vreg), float64 b2shi(time, vreg), float64 b2she0(time, vreg), float64 b2shi0(time, vreg), float64 reshe_reg(time, vreg), float64 reshi_reg(time, vreg), float64 resmt_reg(time, vreg), float64 respo_reg(time, vreg), float64 b2bremreg(time, vreg), float64 b2radreg(time, vreg), float64 rdneureg(time, vreg), float64 rsanareg(time, ns, vreg), float64 rsahireg(time, ns, vreg), float64 rsamoreg(time, ns, vreg), float64 rranareg(time, ns, vreg), float64 rrahireg(time, ns, vreg), float64 rramoreg(time, ns, vreg), float64 rqahereg(time, ns, vreg), float64 rqradreg(time, ns, vreg), float64 rqbrmreg(time, ns, vreg), float64 rcxnareg(time, ns, vreg), float64 rcxhireg(time, ns, vreg), float64 rcxmoreg(time, ns, vreg), float64 nareg(time, ns, vreg), float64 b2stbr_sna_reg(time, ns, vreg), float64 b2stbr_smo_reg(time, ns, vreg), float64 b2stbc_sna_reg(time, ns, vreg), float64 b2stbc_smo_reg(time, ns, vreg), float64 b2stbm_sna_reg(time, ns, vreg), float64 b2stbm_smo_reg(time, ns, vreg), float64 b2sext_sna_reg(time, ns, vreg), float64 b2sext_smo_reg(time, ns, vreg), float64 resco_reg(time, ns, vreg), float64 resmo_reg(time, ns, vreg), float64 fhixreg(time, xreg), float64 fhexreg(time, xreg), float64 fchxreg(time, xreg), float64 fhtxreg(time, xreg), float64 fhjxreg(time, xreg), float64 qconvexreg(time, xreg), float64 fnaxreg(time, ns, xreg), float64 fhmxreg(time, ns, xreg), float64 fhpxreg(time, ns, xreg), float64 qconvixreg(time, ns, xreg), float64 fhiyreg(time, yreg), float64 fheyreg(time, yreg), float64 fchyreg(time, yreg), float64 fhtyreg(time, yreg), float64 fhjyreg(time, yreg), float64 qconveyreg(time, yreg), float64 fnayreg(time, ns, yreg), float64 fhmyreg(time, ns, yreg), float64 fhpyreg(time, ns, yreg), float64 qconviyreg(time, ns, yreg)\n",
      "    groups: \n"
     ]
    }
   ],
   "source": [
    "print(fh)"
   ]
  },
  {
   "cell_type": "code",
   "execution_count": 16,
   "id": "4ac326a2-7672-46c3-873c-a9739e20a5fb",
   "metadata": {},
   "outputs": [
    {
     "name": "stdout",
     "output_type": "stream",
     "text": [
      "[[      0.          -49355.47267022 -104734.25219238  125406.17274523\n",
      "    52781.35905121 -103108.04290249   -1111.23070621]]\n"
     ]
    }
   ],
   "source": [
    "fhixreg = fh.variables['fhixreg'][:]\n",
    "print(fhixreg)\n",
    "\n"
   ]
  }
 ],
 "metadata": {
  "kernelspec": {
   "display_name": "Python 3 (ipykernel)",
   "language": "python",
   "name": "python3"
  },
  "language_info": {
   "codemirror_mode": {
    "name": "ipython",
    "version": 3
   },
   "file_extension": ".py",
   "mimetype": "text/x-python",
   "name": "python",
   "nbconvert_exporter": "python",
   "pygments_lexer": "ipython3",
   "version": "3.9.12"
  }
 },
 "nbformat": 4,
 "nbformat_minor": 5
}
