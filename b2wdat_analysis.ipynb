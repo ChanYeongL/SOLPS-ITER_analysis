{
 "cells": [
  {
   "cell_type": "markdown",
   "id": "5052190a-dd29-421b-8f61-3b2dc5c0f143",
   "metadata": {},
   "source": [
    "<span style=\"color:#87cefa; font-size:200%\">Energy Balance Plot Code</span> "
   ]
  },
  {
   "cell_type": "code",
   "execution_count": 1,
   "id": "fc146ffb-94c9-4530-b1ca-605f65c1b08c",
   "metadata": {},
   "outputs": [],
   "source": [
    "import numpy as np\n",
    "import matplotlib.pyplot as plt\n",
    "import matplotlib.ticker as ticker\n",
    "from scipy.special import rel_entr\n",
    "import pickle\n",
    "from mpl_toolkits.mplot3d import axes3d\n",
    "from scipy.ndimage.filters import gaussian_filter\n",
    "\n",
    "import matplotlib.patches as patches\n",
    "\n",
    "import os, sys\n",
    "import paramiko\n",
    "\n",
    "from netCDF4 import Dataset\n",
    "import numpy as np"
   ]
  },
  {
   "cell_type": "code",
   "execution_count": 2,
   "id": "5c9aa38e-b066-4281-bdea-a963eecadc9a",
   "metadata": {
    "jupyter": {
     "source_hidden": true
    },
    "tags": []
   },
   "outputs": [
    {
     "name": "stdout",
     "output_type": "stream",
     "text": [
      "(3, 38, 98)\n",
      "(3, 38, 98)\n",
      "[ 1.46925157 -1.29399156]\n",
      "[-0.0715723  -0.07152744 -0.06704153 -0.06229474 -0.05731827 -0.05215115\n",
      " -0.04692141 -0.04169072 -0.03650874 -0.03143631 -0.02655407 -0.02190946\n",
      " -0.01750687 -0.01347613 -0.00982187 -0.00661739 -0.00386102 -0.00163475\n",
      "  0.          0.00099463  0.00205597  0.00379204  0.00621517  0.00931366\n",
      "  0.01314076  0.0176591   0.02284651  0.02871627  0.03528336  0.04247052\n",
      "  0.0503574   0.05881249  0.06791765  0.07758154  0.08785052  0.09866668\n",
      "  0.10996054  0.12180333]\n",
      "[ 1.49532367 -1.39853962]\n",
      "[0.         0.02024052 0.0430307  0.06776496 0.09401868 0.12139181\n",
      " 0.14949061 0.17792684 0.2063151  0.23427089 0.26140689 0.28732694\n",
      " 0.31161978 0.33386324 0.35365201 0.37062728 0.38446747 0.39484765\n",
      " 0.40141755 0.40372746]\n",
      "[0.         0.0254457  0.05394852 0.08486258 0.11766655 0.15185898\n",
      " 0.18694875 0.22245149 0.25788705 0.29277786 0.3266464  0.35900945\n",
      " 0.3893695  0.41720759 0.44200125 0.46327177 0.48060219 0.49359053\n",
      " 0.50180683 0.50469472]\n"
     ]
    }
   ],
   "source": [
    "ny = 36\n",
    "nx = 96\n",
    "convmesh = np.load(\"./conv_geo_mesh_center.npy\")\n",
    "convmesh_x = np.load(\"./conv_geo_mesh_x.npy\")\n",
    "convmesh_y = np.load(\"./conv_geo_mesh_y.npy\")\n",
    "\n",
    "almesh = np.load(\"./al_geo_mesh_center.npy\")\n",
    "almesh_x = np.load(\"./al_geo_mesh_x.npy\")\n",
    "almesh_y = np.load(\"./al_geo_mesh_y.npy\")\n",
    "co_facing = np.load(\"./gs_b2fgmtry.npy\")\n",
    "al_facing = np.load(\"./gs_b2fgmtry_al.npy\")\n",
    "print(np.shape(co_facing))\n",
    "print(np.shape(al_facing))\n",
    "def conv_distance_center(first_point, second_point):\n",
    "    x_range = x_convmeshinfo[first_point[1],first_point[0]]-x_convmeshinfo[second_point[1],second_point[0]]\n",
    "    y_range = y_convmeshinfo[first_point[1],first_point[0]]-y_convmeshinfo[second_point[1],second_point[0]]\n",
    "    result = (x_range**2 + y_range**2)**(1/2)\n",
    "    return result\n",
    "\n",
    "def conv_distance_point(first_point, second_point):\n",
    "    x_range = convmesh_x[first_point[2],first_point[1],first_point[0]]-convmesh_x[second_point[2],second_point[1],second_point[0]]\n",
    "    y_range = convmesh_y[first_point[2],first_point[1],first_point[0]]-convmesh_y[second_point[2],second_point[1],second_point[0]]\n",
    "    result = (x_range**2 + y_range**2)**(1/2)\n",
    "    return result\n",
    "\n",
    "def al_distance_center(first_point, second_point):\n",
    "    x_range = x_almeshinfo[first_point[1],first_point[0]]-x_almeshinfo[second_point[1],second_point[0]]\n",
    "    y_range = y_almeshinfo[first_point[1],first_point[0]]-y_almeshinfo[second_point[1],second_point[0]]\n",
    "    result = (x_range**2 + y_range**2)**(1/2)\n",
    "    return result\n",
    "\n",
    "def al_distance_point(first_point, second_point):\n",
    "    x_range = almesh_x[first_point[2],first_point[1],first_point[0]]-almesh_x[second_point[2],second_point[1],second_point[0]]\n",
    "    y_range = almesh_y[first_point[2],first_point[1],first_point[0]]-almesh_y[second_point[2],second_point[1],second_point[0]]\n",
    "    result = (x_range**2 + y_range**2)**(1/2)\n",
    "    return result\n",
    "\n",
    "\n",
    "\n",
    "def total_pressure(ne,te,na,ti):\n",
    "    pr = ne[:,:]*te[:,:] + na[1,:,:]*ti[:,:] +np.sum(na[2:9,:,:]*ti[:,:],axis = 0)+np.sum(na[9:,:,:]*ti[:,:],axis = 0)\n",
    "    return pr\n",
    "\n",
    "def neutral_pressure(na,ti):\n",
    "    pr = na[0,:,:]*ti[:,:]+ na[0,:,:]*ti[:,:]+ na[2,:,:]*ti[:,:]+na[2,:,:]*ti[:,:]+na[9,:,:]*ti[:,:]\n",
    "    return pr\n",
    "dumx_convmeshinfo = convmesh[:,0]\n",
    "dumy_convmeshinfo = convmesh[:,1]\n",
    "x_convmeshinfo = dumx_convmeshinfo.reshape(ny+2,nx+2)\n",
    "y_convmeshinfo = dumy_convmeshinfo.reshape(ny+2,nx+2)\n",
    "\n",
    "dumx_almeshinfo = almesh[:,0]\n",
    "dumy_almeshinfo = almesh[:,1]\n",
    "x_almeshinfo = dumx_almeshinfo.reshape(ny+2,nx+2)\n",
    "y_almeshinfo = dumy_almeshinfo.reshape(ny+2,nx+2)\n",
    "\n",
    "\n",
    "\n",
    "#po_dumx_meshinfo = convmesh[:,0]\n",
    "#po_dumy_meshinfo = convmesh[:,1]\n",
    "#po_x_meshinfo = dumx_meshinfo.reshape(4,ny+2,nx+2)\n",
    "#po_y_meshinfo = dumy_meshinfo.reshape(4,ny+2,nx+2)\n",
    "\n",
    "conv_sep_out_target = np.zeros(2)\n",
    "conv_sep_out_target[0] = convmesh_x[1,18,96]\n",
    "conv_sep_out_target[1] = convmesh_y[1,18,96]\n",
    "\n",
    "al_sep_out_target = np.zeros(2)\n",
    "al_sep_out_target[0] = almesh_x[1,18,96]\n",
    "al_sep_out_target[1] = almesh_y[1,18,96]\n",
    "convmesh_x_cen = np.sum(convmesh_x, axis = 0)/4\n",
    "convmesh_y_cen = np.sum(convmesh_y, axis = 0)/4\n",
    "almesh_x_cen = np.sum(almesh_x, axis = 0)/4\n",
    "almesh_y_cen = np.sum(almesh_y, axis = 0)/4\n",
    "print(conv_sep_out_target)\n",
    "conv_sep_out_target_dist = np.zeros(ny+2)\n",
    "X_point = []\n",
    "for i in range(ny+2):\n",
    "    conv_sep_out_target_dist[i] = conv_distance_point([96,i,1],[96,18,1])\n",
    "    if i<18:\n",
    "        conv_sep_out_target_dist[i] = -conv_sep_out_target_dist[i]\n",
    "    \n",
    "conv_sep_in_target_dist = np.zeros(ny+2)\n",
    "for i in range(ny+2):\n",
    "    conv_sep_in_target_dist[i] = conv_distance_point([1,i,1],[1,18,1])\n",
    "    if i<18:\n",
    "        conv_sep_in_target_dist[i] = -conv_sep_in_target_dist[i]\n",
    "print(conv_sep_out_target_dist)\n",
    "\n",
    "print(al_sep_out_target)\n",
    "al_sep_out_target_dist = np.zeros(ny+2)\n",
    "for i in range(ny+2):\n",
    "    al_sep_out_target_dist[i] = al_distance_point([96,i,1],[96,18,1])\n",
    "    if i<18:\n",
    "        al_sep_out_target_dist[i] = -al_sep_out_target_dist[i]\n",
    "    \n",
    "al_sep_in_target_dist = np.zeros(ny+2)\n",
    "for i in range(ny+2):\n",
    "    al_sep_in_target_dist[i] = al_distance_point([1,i,1],[1,18,1])\n",
    "    if i<18:\n",
    "        al_sep_in_target_dist[i] = -al_sep_in_target_dist[i]\n",
    "\n",
    "\n",
    "        \n",
    "        \n",
    "conv_sep_out_midplane_dist = np.zeros(ny+2)\n",
    "for i in range(ny+2):\n",
    "    conv_sep_out_midplane_dist[i] = conv_distance_point([51,i,1],[51,18,1])\n",
    "    if i<18:\n",
    "        conv_sep_out_midplane_dist[i] = -conv_sep_out_midplane_dist[i]\n",
    "    \n",
    "conv_sep_in_midplane_dist = np.zeros(ny+2)\n",
    "for i in range(ny+2):\n",
    "    conv_sep_in_midplane_dist[i] = conv_distance_point([29,i,1],[29,18,1])\n",
    "    if i<18:\n",
    "        conv_sep_in_midplane_dist[i] = -conv_sep_in_midplane_dist[i]\n",
    "\n",
    "\n",
    "al_sep_out_midplane_dist = np.zeros(ny+2)\n",
    "for i in range(ny+2):\n",
    "    al_sep_out_midplane_dist[i] = al_distance_point([52,i,1],[52,18,1])\n",
    "    if i<18:\n",
    "        al_sep_out_midplane_dist[i] = -al_sep_out_midplane_dist[i]\n",
    "    \n",
    "al_sep_in_midplane_dist = np.zeros(ny+2)\n",
    "for i in range(ny+2):\n",
    "    al_sep_in_midplane_dist[i] = al_distance_point([29,i,1],[29,18,1])\n",
    "    if i<18:\n",
    "        al_sep_in_midplane_dist[i] = -al_sep_in_midplane_dist[i]\n",
    "\n",
    "    \n",
    "conv_Xpt_dist = np.zeros(20)\n",
    "for i in range(20):\n",
    "    conv_Xpt_dist[i] = conv_distance_center([78,18],[78+i,18])\n",
    "\n",
    "    \n",
    "    \n",
    "al_Xpt_dist = np.zeros(20)\n",
    "for i in range(20):\n",
    "    al_Xpt_dist[i] = al_distance_center([78,18],[78+i,18])\n",
    "print(conv_Xpt_dist)\n",
    "print(al_Xpt_dist)\n",
    "\n",
    "\n",
    "\n",
    "\n"
   ]
  },
  {
   "cell_type": "markdown",
   "id": "dc8a1a88-01be-4de4-98e7-b15d99c984c1",
   "metadata": {},
   "source": [
    "<span style=\"color:#87cefa; font-size:150%\">Data reading</span> "
   ]
  },
  {
   "cell_type": "code",
   "execution_count": 3,
   "id": "023229e9-ae88-482b-b8d0-3144fe0c782c",
   "metadata": {},
   "outputs": [],
   "source": [
    "condition = \"con_Ne_0\"\n",
    "\n",
    "def datfile_read(name):\n",
    "    with open('./../output_new/output_%s/%s.dat' %(condition,name),'r') as f:\n",
    "        raw_data = f.readlines()\n",
    "        \n",
    "    sp_raw_data =  raw_data[0].split()\n",
    "    for row in range(1, len(raw_data)):\n",
    "        dummy_array= np.array(raw_data[row].split())\n",
    "        sp_raw_data = np.vstack([sp_raw_data, dummy_array[1:]])\n",
    "    sp_raw_data = sp_raw_data[1:,:]\n",
    "    sp_raw_data = sp_raw_data.astype('float64')\n",
    "    return(sp_raw_data)\n",
    "\n",
    "def makeitfloat(filename):\n",
    "    a = filename.astype(np.float64)\n",
    "    return a"
   ]
  },
  {
   "cell_type": "code",
   "execution_count": 4,
   "id": "954cc4a6-1092-43d6-b595-34a474c8179b",
   "metadata": {},
   "outputs": [],
   "source": [
    "def heat_flux(valname):\n",
    "    total_heat_loc = 1\n",
    "    fht_local = valname\n",
    "\n",
    "    heat_outer_diver = np.sum((fht_local[1,1:,96]))/total_heat_loc+np.sum((fht_local[0,1:,96]))/total_heat_loc\n",
    "\n",
    "    heat_inner_diver = np.sum((fht_local[1,1:,1]))/total_heat_loc+np.sum((fht_local[0,1:,1]))/total_heat_loc\n",
    "\n",
    "    heat_PRF = (np.sum((fht_local[1,1,77:]))+np.sum((fht_local[1,1,:11])))/total_heat_loc\n",
    "\n",
    "    sol_heat = (np.sum(fht_local[0,37,:])+np.sum(fht_local[1,37,:]))/total_heat_loc\n",
    "\n",
    "    core_heat = (np.sum((fht_local[0,0,11:77]))+np.sum((fht_local[1,0,11:77])))/total_heat_loc\n",
    "\n",
    "    return heat_outer_diver,-heat_inner_diver,heat_PRF,sol_heat,-core_heat\n",
    "\n"
   ]
  },
  {
   "cell_type": "code",
   "execution_count": null,
   "id": "eb497d74-c887-4111-888f-971a3aefc219",
   "metadata": {},
   "outputs": [],
   "source": []
  },
  {
   "cell_type": "markdown",
   "id": "785248d8-be4f-446b-ac18-35e3c1be7bec",
   "metadata": {},
   "source": [
    "<span style=\"color:#87cefa; font-size:150%\">List of the file names and corresponding paths</span> "
   ]
  },
  {
   "cell_type": "markdown",
   "id": "3e11134b-09c0-4e30-9ac0-508df63563ef",
   "metadata": {},
   "source": [
    "<span style=\"color:#87cefa; font-size:100%\">\"Numbered\" values</span> "
   ]
  },
  {
   "cell_type": "code",
   "execution_count": 5,
   "id": "dcb5d672-e125-4231-ac18-654936b763d9",
   "metadata": {
    "tags": []
   },
   "outputs": [
    {
     "name": "stdout",
     "output_type": "stream",
     "text": [
      "[]\n",
      "[]\n"
     ]
    }
   ],
   "source": [
    "value_list = list()\n",
    "\n",
    "#value_list.append(\"b2npmo_resmo\")\n",
    "#value_list.append(\"b2stbr_smo_eir\")\n",
    "valuename = list()\n",
    "\n",
    "for j in range(len(value_list)):\n",
    "    list_first_part = value_list[j]\n",
    "    for i in range(20):\n",
    "        if i<10:\n",
    "            valuename.append(\"%s00%i\" %(list_first_part, i))\n",
    "        else:\n",
    "            valuename.append(\"%s0%i\" %(list_first_part, i))\n",
    "\n",
    "for to in range(len(valuename)):\n",
    "    if \"eir\" in valuename[to] and \"000\" in valuename[to]:\n",
    "        valuename[to]=0\n",
    "    elif \"eir\" in valuename[to] and \"002\" in valuename[to]:\n",
    "        valuename[to]=0\n",
    "    elif \"eir\" in valuename[to] and \"009\" in valuename[to]:\n",
    "        valuename[to]=0\n",
    "\n",
    "remove_set = {0}\n",
    "\n",
    "valuename = [i for i in valuename if i not in remove_set]\n",
    "print(valuename)\n",
    "\n",
    "for k in range(len(valuename)):\n",
    "    globals()['%s' %valuename[k]] = list()\n",
    "    \n",
    "print(valuename)\n",
    "\n",
    "\n"
   ]
  },
  {
   "cell_type": "markdown",
   "id": "d72b51df-3ed9-418e-ba73-714654301cd1",
   "metadata": {},
   "source": [
    "<span style=\"color:#87cefa; font-size:100%\">\"Unumbered\" values</span> "
   ]
  },
  {
   "cell_type": "code",
   "execution_count": 6,
   "id": "01d99b2c-9904-467a-9abd-9360e524428f",
   "metadata": {},
   "outputs": [],
   "source": [
    "un_valuename = list()\n",
    "\n",
    "un_valuename.append(\"b2npht_she\")\n",
    "un_valuename.append(\"b2sihs__shedu\")\n",
    "\n",
    "\n",
    "\n",
    "un_valuename.append(\"b2npht_shi\")\n",
    "un_valuename.append(\"b2stbr_shi_eir\")\n",
    "un_valuename.append(\"b2sihs__shidu\")\n",
    "\n",
    "un_valuename.append(\"b2npht_shei\")\n",
    "\n",
    "\n"
   ]
  },
  {
   "cell_type": "code",
   "execution_count": 7,
   "id": "3a66b0a1-0fd4-4095-ba34-e43af73c80b8",
   "metadata": {},
   "outputs": [
    {
     "name": "stdout",
     "output_type": "stream",
     "text": [
      "['b2npht_she', 'b2sihs__shedu', 'b2npht_shi', 'b2stbr_shi_eir', 'b2sihs__shidu', 'b2npht_shei']\n"
     ]
    }
   ],
   "source": [
    "total_valuename = valuename+un_valuename\n",
    "print(total_valuename)"
   ]
  },
  {
   "cell_type": "markdown",
   "id": "8b8c43e1-60df-4c73-a181-62cb2674c455",
   "metadata": {
    "tags": []
   },
   "source": [
    "<span style=\"color:#87cefa; font-size:150%\">scp part</span> "
   ]
  },
  {
   "cell_type": "code",
   "execution_count": 8,
   "id": "f64f8817-df80-4510-9481-6c373443e979",
   "metadata": {
    "tags": []
   },
   "outputs": [],
   "source": [
    "#dPfname_list = total_valuename\n",
    "#fpath_list = list()\n",
    "#base_list  = list()\n",
    "#base_list.append(\"Con_noNe\")\n",
    "#fpath_list.append(\"/home/chanyeong/solps-iter/runs/conventionalgeo_no_neon/Baseline_KSTAR/output/\")\n",
    "\n",
    "\n",
    "\n",
    "\n",
    "#ssh = paramiko.SSHClient()\n",
    "#ssh.set_missing_host_key_policy(paramiko.AutoAddPolicy)\n",
    "#ssh.connect(\"143.248.99.71\",username=\"chanyeong\",password=\"\")\n",
    "#sftp = ssh.open_sftp()\n",
    "\n",
    "\n",
    "#for base_num in range(len(base_list)):\n",
    "#    now_base = base_list[base_num]\n",
    "#    for path_num in range(len(fpath_list)):\n",
    "#        now_path = fpath_list[path_num]\n",
    "#        for name_len in range(len(total_valuename)):\n",
    "#            try:\n",
    "#                file = sftp.get('%s%s.dat'%(now_path,fname_list[name_len]), './../output_new/%s_%s.txt' %(now_base, total_valuename[name_len]))\n",
    "#            except FileNotFoundError as e:\n",
    "#                print('%s%s.dat'%(now_path,fname_list[name_len]))\n",
    "#                print(total_valuename)\n",
    "#                print(fname_list)\n",
    "#ssh.close()\n",
    "\n"
   ]
  },
  {
   "cell_type": "code",
   "execution_count": 9,
   "id": "b7b63f41-939e-4b9c-9e5f-372a020515f5",
   "metadata": {},
   "outputs": [],
   "source": [
    "sink_e = datfile_read(\"b2npht_she\")\n",
    "sink_i = datfile_read(\"b2npht_shi\")\n",
    "resi_e = datfile_read(\"b2npht_reshe\")\n",
    "resi_i = datfile_read(\"b2npht_reshi\")\n",
    "\n",
    "ano_e = datfile_read(\"b2sihs__shedu\")\n",
    "ano_i = datfile_read(\"b2sihs__shidu\")\n",
    "\n",
    "vol = datfile_read(\"vol\")\n",
    "#fhe = np.load(\"%s/fhe_b2fplasmf_new_mesh_al_Ne_0.npy\" %dir_location)\n",
    "#fhi = np.load(\"%s/fhi_b2fplasmf_new_mesh_al_Ne_0.npy\"  %dir_location)\n",
    "\n",
    "fhe_out = np.stack([datfile_read(\"b2npht_fhex\"),datfile_read(\"b2npht_fhey\")])\n",
    "fhi_out = np.stack([datfile_read(\"b2npht_fhix\"),datfile_read(\"b2npht_fhiy\")])\n"
   ]
  },
  {
   "cell_type": "code",
   "execution_count": 10,
   "id": "fbd6eb86-f82d-4c64-8af0-8110fb5cef72",
   "metadata": {},
   "outputs": [],
   "source": [
    "new_fhe_out = np.zeros([2, 38,98])\n",
    "new_fhi_out = np.zeros([2, 38,98])\n",
    "\n",
    "\n",
    "for i in range(38):\n",
    "    new_fhe_out[:,i,:] = fhe_out[:,37-i,:]\n",
    "    new_fhi_out[:,i,:] = fhi_out[:,37-i,:]\n",
    "\n"
   ]
  },
  {
   "cell_type": "code",
   "execution_count": 11,
   "id": "c5878adb-f954-4b21-a6eb-dfce06172057",
   "metadata": {},
   "outputs": [
    {
     "name": "stdout",
     "output_type": "stream",
     "text": [
      "74.91357266640432\n"
     ]
    }
   ],
   "source": [
    "print(np.sum(datfile_read(\"b2sihs__shefr\")))\n",
    "\n"
   ]
  },
  {
   "cell_type": "code",
   "execution_count": 12,
   "id": "268a92a5-89b4-4721-be26-612038f974ab",
   "metadata": {},
   "outputs": [],
   "source": [
    "sink_e_sum = np.sum(datfile_read(\"b2npht_she\"))\n",
    "sink_i_sum = np.sum(datfile_read(\"b2npht_shi\"))\n",
    "resi_e_sum = np.sum(datfile_read(\"b2npht_reshe\"))\n",
    "resi_i_sum = np.sum(datfile_read(\"b2npht_reshi\"))\n",
    "ano_e_sum = np.sum(datfile_read(\"b2sihs__shedu\"))\n",
    "ano_i_sum = np.sum(datfile_read(\"b2sihs__shidu\"))\n",
    "vol = datfile_read(\"vol\")"
   ]
  },
  {
   "cell_type": "code",
   "execution_count": 13,
   "id": "8b0885bd-0be4-4041-bd65-eb223dfdb54d",
   "metadata": {},
   "outputs": [],
   "source": [
    "#fhe_sum = np.sum(heat_flux(fhe))\n",
    "#fhi_sum = np.sum(heat_flux(fhi))\n",
    "\n",
    "\n",
    "fhe_out_sum = np.sum(heat_flux(new_fhe_out))\n",
    "fhi_out_sum = np.sum(heat_flux(new_fhi_out))\n",
    "\n",
    "e_eir = np.sum(datfile_read(\"b2stbr_she_eir\"))\n",
    "i_eir = np.sum(datfile_read(\"b2stbr_shi_eir\"))\n",
    "\n",
    "\n",
    "loss_rad = np.sum(datfile_read(\"b2stel_she_rad\"))\n",
    "\n",
    "#these two terms are negligible\n",
    "loss_ion = np.sum(datfile_read(\"b2stel_shi_ion\"))\n",
    "loss_rec = np.sum(datfile_read(\"b2stel_shi_rec\"))\n",
    "\n",
    "\n",
    "vis = np.sum(datfile_read(\"b2sihs__shivc\"))+np.sum(datfile_read(\"b2sihs__shiva\"))\n",
    "\n",
    "fht = np.load(\"./../output_new/output_%s/fht_b2fplasmf_%s.npy\" %(condition, condition))\n",
    "\n",
    "\n",
    "e_friction = np.sum(datfile_read(\"b2sihs__shefr\"))\n",
    "ion_friction = np.sum(datfile_read(\"b2sihs__shifr\"))\n",
    "\n",
    "fri =e_friction-ion_friction\n",
    "\n",
    "\n",
    "fht_plz = heat_flux(fht)"
   ]
  },
  {
   "cell_type": "code",
   "execution_count": 14,
   "id": "ef7d870f-0902-4679-b9c1-e67096858fd6",
   "metadata": {},
   "outputs": [
    {
     "data": {
      "text/plain": [
       "2838.871260047097"
      ]
     },
     "execution_count": 14,
     "metadata": {},
     "output_type": "execute_result"
    }
   ],
   "source": [
    "#np.sum(datfile_read(\"b2sihs__shivc\"))\n",
    "np.sum(datfile_read(\"b2sihs__shiva\"))"
   ]
  },
  {
   "cell_type": "code",
   "execution_count": 15,
   "id": "bf2aed4d-c083-47fd-b2c9-125b37084744",
   "metadata": {},
   "outputs": [],
   "source": [
    "co = -np.sum(datfile_read(\"b2sihs__shidu\"))+ np.sum(datfile_read(\"b2sihs__shedu\"))"
   ]
  },
  {
   "cell_type": "code",
   "execution_count": 16,
   "id": "4d810089-35dd-4a2c-9120-0c617063443c",
   "metadata": {},
   "outputs": [
    {
     "name": "stdout",
     "output_type": "stream",
     "text": [
      "(429453.4933470227, 347489.5804725783, -1544.043854144737, 358648.259302195, 61401.58043016137)\n"
     ]
    }
   ],
   "source": [
    "print(fht_plz)"
   ]
  },
  {
   "cell_type": "code",
   "execution_count": 17,
   "id": "53bb9f63-bf50-47a1-8d94-aba9d82911df",
   "metadata": {},
   "outputs": [
    {
     "name": "stdout",
     "output_type": "stream",
     "text": [
      "2263192.627035048 -15840.297431027197 -13786.508641832317 -818131.730192 43645503.70072596\n"
     ]
    }
   ],
   "source": [
    "print(fhe_out_sum+fhi_out_sum, e_eir,i_eir,loss_rad,vis)"
   ]
  },
  {
   "cell_type": "code",
   "execution_count": 18,
   "id": "dfab66d4-8f1c-4f7e-8003-23e9211a3841",
   "metadata": {},
   "outputs": [
    {
     "data": {
      "text/plain": [
       "1.244380465319963"
      ]
     },
     "execution_count": 18,
     "metadata": {},
     "output_type": "execute_result"
    }
   ],
   "source": [
    "(fhe_out_sum+fhi_out_sum-e_eir-i_eir-loss_rad)/2500000"
   ]
  },
  {
   "cell_type": "code",
   "execution_count": 19,
   "id": "f776e162-99e2-4ba6-ae9a-9e1fbcc779dd",
   "metadata": {},
   "outputs": [
    {
     "data": {
      "text/plain": [
       "0.8172829623850689"
      ]
     },
     "execution_count": 19,
     "metadata": {},
     "output_type": "execute_result"
    }
   ],
   "source": [
    "(np.sum(fht_plz)-e_eir-i_eir-loss_rad)/2500000"
   ]
  },
  {
   "cell_type": "code",
   "execution_count": 20,
   "id": "a3c20c92-fc0c-48c1-b49a-be93a51e2ea3",
   "metadata": {},
   "outputs": [
    {
     "name": "stdout",
     "output_type": "stream",
     "text": [
      "-0.0027620286561302024\n"
     ]
    }
   ],
   "source": [
    "print(fri/2500000)"
   ]
  },
  {
   "cell_type": "code",
   "execution_count": 21,
   "id": "ea9dda4f-a249-499e-a236-59bff64cf4d3",
   "metadata": {},
   "outputs": [
    {
     "name": "stdout",
     "output_type": "stream",
     "text": [
      "-2.344356385244\n",
      "16.77979098281882\n"
     ]
    }
   ],
   "source": [
    "print(np.sum(datfile_read(\"b2npht_reshe\"))/2500000)\n",
    "print(np.sum(datfile_read(\"b2npht_reshi\"))/2500000)"
   ]
  },
  {
   "cell_type": "code",
   "execution_count": 22,
   "id": "f6f76a41-95a7-47fb-a55a-f8382b2e2298",
   "metadata": {},
   "outputs": [
    {
     "data": {
      "image/png": "[encoded data removed]",
      "text/plain": [
       "<Figure size 288x504 with 1 Axes>"
      ]
     },
     "metadata": {
      "needs_background": "light"
     },
     "output_type": "display_data"
    }
   ],
   "source": [
    "data1=[(np.sum(fht_plz))/2500000]\n",
    "data2=[(-e_eir-i_eir)/2500000]\n",
    "data3=[-loss_rad/2500000]\n",
    "\n",
    "year=[\"Power balance\"]\n",
    "plt.figure(figsize=(4,7))\n",
    "plt.bar(year,data3,color=\"green\",label=\"heat flux\")\n",
    "plt.bar(year,data2,color=\"yellow\",bottom=data3,label=\"eirene\")\n",
    "plt.bar(year,data1,color=\"blue\",bottom=[sum(data) for data in zip(data2,data3)],label=\"radiation\")\n",
    "plt.legend(loc=\"lower left\",bbox_to_anchor=(0.8,1.0))\n",
    "plt.show()"
   ]
  },
  {
   "cell_type": "code",
   "execution_count": 23,
   "id": "c9ea9896-9dab-48fc-97c5-5c066eeb74cf",
   "metadata": {},
   "outputs": [
    {
     "name": "stdout",
     "output_type": "stream",
     "text": [
      "(375336.60793157003, 621623.4657701001, -4860.415689288652, 113210.31504500017, -0.0)\n",
      "(384973.6024906501, 656647.8189486901, -5335.984213999999, 121597.12619555001, 0.0905567758)\n"
     ]
    }
   ],
   "source": [
    "print(heat_flux(new_fhi_out))\n",
    "print(heat_flux(new_fhe_out))"
   ]
  },
  {
   "cell_type": "code",
   "execution_count": null,
   "id": "cbbd908c-48d4-4863-ab9a-e3f8d62261b6",
   "metadata": {},
   "outputs": [],
   "source": []
  },
  {
   "cell_type": "code",
   "execution_count": 24,
   "id": "bc61dba5-1ad0-4efa-a4ec-42c33b265b1b",
   "metadata": {},
   "outputs": [
    {
     "data": {
      "text/plain": [
       "<matplotlib.collections.QuadMesh at 0x1175d5820>"
      ]
     },
     "execution_count": 24,
     "metadata": {},
     "output_type": "execute_result"
    },
    {
     "data": {
      "image/png": "[encoded data removed]",
      "text/plain": [
       "<Figure size 432x288 with 1 Axes>"
      ]
     },
     "metadata": {
      "needs_background": "light"
     },
     "output_type": "display_data"
    }
   ],
   "source": [
    "plt.pcolormesh(fhi_out[0,:,:])"
   ]
  },
  {
   "cell_type": "code",
   "execution_count": 25,
   "id": "bfac6767-1ec3-4035-8967-a2a5e7f5c2e8",
   "metadata": {},
   "outputs": [
    {
     "data": {
      "text/plain": [
       "array([[0., 0., 0., ..., 0., 0., 0.],\n",
       "       [0., 0., 0., ..., 0., 0., 0.],\n",
       "       [0., 0., 0., ..., 0., 0., 0.],\n",
       "       ...,\n",
       "       [0., 0., 0., ..., 0., 0., 0.],\n",
       "       [0., 0., 0., ..., 0., 0., 0.],\n",
       "       [0., 0., 0., ..., 0., 0., 0.]])"
      ]
     },
     "execution_count": 25,
     "metadata": {},
     "output_type": "execute_result"
    }
   ],
   "source": [
    "fhe_out[0,:,:]-datfile_read(\"b2npht_fhex\")"
   ]
  },
  {
   "cell_type": "markdown",
   "id": "7959f362-ccfe-4b0a-8d90-cb0646afcec9",
   "metadata": {},
   "source": [
    "<span style=\"color:#87cefa; font-size:250%\">Balance Calculation</span> "
   ]
  },
  {
   "cell_type": "markdown",
   "id": "8dbc96f3-55b9-4d46-ba5b-e206991c9b6c",
   "metadata": {},
   "source": [
    "<span style=\"color:#87cefa; font-size:190%\">Energy Balance</span> "
   ]
  },
  {
   "cell_type": "code",
   "execution_count": null,
   "id": "6691ad3f-573a-499e-8804-03821ff1b579",
   "metadata": {},
   "outputs": [],
   "source": []
  },
  {
   "cell_type": "code",
   "execution_count": 26,
   "id": "5b46972b-f67b-4ce6-b057-b6db9196d209",
   "metadata": {},
   "outputs": [
    {
     "ename": "NameError",
     "evalue": "name 'ion' is not defined",
     "output_type": "error",
     "traceback": [
      "\u001b[0;31m---------------------------------------------------------------------------\u001b[0m",
      "\u001b[0;31mNameError\u001b[0m                                 Traceback (most recent call last)",
      "Input \u001b[0;32mIn [26]\u001b[0m, in \u001b[0;36m<cell line: 3>\u001b[0;34m()\u001b[0m\n\u001b[1;32m      1\u001b[0m plt\u001b[38;5;241m.\u001b[39mfigure(figsize\u001b[38;5;241m=\u001b[39m(\u001b[38;5;241m8\u001b[39m, \u001b[38;5;241m8\u001b[39m))\n\u001b[1;32m      2\u001b[0m plt\u001b[38;5;241m.\u001b[39maxes()\u001b[38;5;241m.\u001b[39mset_aspect(\u001b[38;5;124m'\u001b[39m\u001b[38;5;124mequal\u001b[39m\u001b[38;5;124m'\u001b[39m)\n\u001b[0;32m----> 3\u001b[0m plt\u001b[38;5;241m.\u001b[39mpcolormesh(convmesh_x_cen,convmesh_y_cen, \u001b[43mion\u001b[49m)\n\u001b[1;32m      4\u001b[0m plt\u001b[38;5;241m.\u001b[39mcolorbar()\n",
      "\u001b[0;31mNameError\u001b[0m: name 'ion' is not defined"
     ]
    },
    {
     "data": {
      "image/png": "[encoded data removed]",
      "text/plain": [
       "<Figure size 576x576 with 1 Axes>"
      ]
     },
     "metadata": {
      "needs_background": "light"
     },
     "output_type": "display_data"
    }
   ],
   "source": [
    "plt.figure(figsize=(8, 8))\n",
    "plt.axes().set_aspect('equal')\n",
    "plt.pcolormesh(convmesh_x_cen,convmesh_y_cen, ion)\n",
    "plt.colorbar()"
   ]
  },
  {
   "cell_type": "code",
   "execution_count": null,
   "id": "7a88e701-7e5e-440c-839a-33709a8474ac",
   "metadata": {},
   "outputs": [],
   "source": [
    "print(ion)"
   ]
  },
  {
   "cell_type": "code",
   "execution_count": null,
   "id": "53609d80-f3ad-4996-a317-c375838f8608",
   "metadata": {},
   "outputs": [],
   "source": [
    "print(np.shape(vol))\n",
    "print(np.shape(ion))"
   ]
  },
  {
   "cell_type": "code",
   "execution_count": null,
   "id": "5337accb-0116-4c1a-8dac-233eeb837c43",
   "metadata": {},
   "outputs": [],
   "source": [
    "vol = datfile_read(\"vol\")\n",
    "\n",
    "ion = datfile_read(\"b2npht_shi\")\n",
    "ion1 = datfile_read(\"b2sihs__shidu\")\n",
    "ion2 = datfile_read(\"b2stbr_shi_eir\")\n",
    "\n",
    "\n",
    "\n",
    "electron = datfile_read(\"b2npht_she\")\n",
    "electron1 = datfile_read(\"b2sihs__shedu\")\n",
    "\n",
    "\n",
    "i_e = datfile_read(\"b2npht_shei\")"
   ]
  },
  {
   "cell_type": "code",
   "execution_count": null,
   "id": "757c7098-f2c0-4d45-a3cc-ab34cb95b51e",
   "metadata": {},
   "outputs": [],
   "source": [
    "(np.sum(ion)-np.sum(datfile_read(\"b2sihs__shedu\"))-np.sum(electron)+np.sum(datfile_read(\"b2sihs__shedd\")))/1000000\n",
    "\n"
   ]
  },
  {
   "cell_type": "code",
   "execution_count": null,
   "id": "95753c4d-fd5a-4ad7-a803-3495f782cc42",
   "metadata": {},
   "outputs": [],
   "source": [
    "print(np.sum(datfile_read(\"b2tfhe__qe_32y\"))+np.sum(datfile_read(\"b2tfhe__qe_32x\")))\n",
    "\n"
   ]
  },
  {
   "cell_type": "code",
   "execution_count": null,
   "id": "1fb2ffef-b16f-48b7-9c84-89500a072c41",
   "metadata": {},
   "outputs": [],
   "source": [
    "print(0.5*np.sum(datfile_read(\"b2sihs__shidu\")))\n",
    "print(np.sum(datfile_read(\"b2stel_rqrad000\")\n",
    "             +datfile_read(\"b2stel_rqrad001\")\n",
    "             +datfile_read(\"b2stel_rqrad002\")\n",
    "             +datfile_read(\"b2stel_rqrad003\")\n",
    "             +datfile_read(\"b2stel_rqrad004\")\n",
    "             +datfile_read(\"b2stel_rqrad005\")\n",
    "             +datfile_read(\"b2stel_rqrad006\")\n",
    "             +datfile_read(\"b2stel_rqrad007\")\n",
    "             +datfile_read(\"b2stel_rqrad008\")\n",
    "             +datfile_read(\"b2stel_rqrad009\")\n",
    "             +datfile_read(\"b2stel_rqrad010\")\n",
    "             +datfile_read(\"b2stel_rqrad011\")\n",
    "             +datfile_read(\"b2stel_rqrad012\")\n",
    "             +datfile_read(\"b2stel_rqrad013\")\n",
    "             +datfile_read(\"b2stel_rqrad014\")\n",
    "             +datfile_read(\"b2stel_rqrad015\")\n",
    "             +datfile_read(\"b2stel_rqrad016\")\n",
    "             +datfile_read(\"b2stel_rqrad017\")\n",
    "             +datfile_read(\"b2stel_rqrad018\")\n",
    "             +datfile_read(\"b2stel_rqrad019\"))/1000000)\n"
   ]
  },
  {
   "cell_type": "code",
   "execution_count": null,
   "id": "ad44f9e8-e84a-4e51-ac20-3126a85d3cf8",
   "metadata": {},
   "outputs": [],
   "source": [
    "source = np.sum(ion)+ np.sum(electron)\n",
    "print(source)"
   ]
  },
  {
   "cell_type": "code",
   "execution_count": null,
   "id": "4aaf2616-3fff-423e-8bbc-805805bff914",
   "metadata": {},
   "outputs": [],
   "source": [
    "print(\"electron = \", np.sum(b2npht_she))\n",
    "print(\"ion = \", np.sum(b2npht_shi))"
   ]
  },
  {
   "cell_type": "code",
   "execution_count": null,
   "id": "a6442969-0b24-4dfe-96cd-7626b396de7e",
   "metadata": {},
   "outputs": [],
   "source": [
    "qe32x = datfile_read(\"b2tfhe__qe_32x\")*hx/vol\n",
    "b2fhe = np.load(\"./../fhe_b2fplasmf_co_KSTAR_noNe.npy\")"
   ]
  },
  {
   "cell_type": "code",
   "execution_count": null,
   "id": "0b116212-e0f8-4c24-b71e-8df7f49362fe",
   "metadata": {},
   "outputs": [],
   "source": [
    "print((np.sum(vis1)+np.sum(vis2))/1000000)"
   ]
  },
  {
   "cell_type": "code",
   "execution_count": null,
   "id": "e45c5ed8-047a-4f4b-bb59-cd3daf382704",
   "metadata": {},
   "outputs": [],
   "source": [
    "print(qe32x-b2fhe[0,:,:])"
   ]
  },
  {
   "cell_type": "code",
   "execution_count": null,
   "id": "ff220725-ef12-47fc-9e0f-c6f3a25684c2",
   "metadata": {},
   "outputs": [],
   "source": []
  }
 ],
 "metadata": {
  "kernelspec": {
   "display_name": "Python 3 (ipykernel)",
   "language": "python",
   "name": "python3"
  },
  "language_info": {
   "codemirror_mode": {
    "name": "ipython",
    "version": 3
   },
   "file_extension": ".py",
   "mimetype": "text/x-python",
   "name": "python",
   "nbconvert_exporter": "python",
   "pygments_lexer": "ipython3",
   "version": "3.9.12"
  }
 },
 "nbformat": 4,
 "nbformat_minor": 5
}
