{
 "cells": [
  {
   "cell_type": "code",
   "execution_count": 1,
   "metadata": {},
   "outputs": [
    {
     "name": "stdout",
     "output_type": "stream",
     "text": [
      "VERSION03.000.008 3.0.8-17-g7ceb865-dirty         \n",
      "\n",
      "*cf:    int                2    nx,ny                           \n",
      "\n",
      "*cf:    char             120    label                           \n",
      "\n",
      " b2ag     B2.5 bjb99/7 SOLPS-ITER  2022-07-04  12:37 chanyeonExpSAS.v027.geo                                             \n",
      "\n",
      "*cf:    int                1    isymm                           \n",
      "\n",
      "*cf:    real           14896    crx                             \n",
      "\n",
      "*cf:    real           14896    cry                             \n",
      "\n",
      "*cf:    real           14896    fpsi                            \n",
      "\n",
      "*cf:    real           14896    ffbz                            \n",
      "\n",
      "*cf:    real           14896    bb                              \n",
      "\n",
      "*cf:    real            3724    vol                             \n",
      "\n",
      "*cf:    real            3724    hx                              \n",
      "\n",
      "*cf:    real            3724    hy                              \n",
      "\n",
      "*cf:    real            7448    qz                              \n",
      "\n",
      "*cf:    real            3724    qc                              \n",
      "\n",
      "*cf:    real           11172    gs                              \n",
      "\n",
      "*cf:    int                1    nlreg                           \n",
      "\n",
      "*cf:    int                0    nlxlo                           \n",
      "\n",
      "*cf:    int                0    nlxhi                           \n",
      "\n",
      "*cf:    int                0    nlylo                           \n",
      "\n",
      "*cf:    int                0    nlyhi                           \n",
      "\n",
      "*cf:    int                0    nlloc                           \n",
      "\n",
      "*cf:    int                1    nncut                           \n",
      "\n",
      "*cf:    int                1    leftcut                         \n",
      "\n",
      "*cf:    int                1    rightcut                        \n",
      "\n",
      "*cf:    int                1    topcut                          \n",
      "\n",
      "*cf:    int                1    bottomcut                       \n",
      "\n",
      "*cf:    int             3724    leftix                          \n",
      "\n",
      "*cf:    int             3724    rightix                         \n",
      "\n",
      "*cf:    int             3724    topix                           \n",
      "\n",
      "*cf:    int             3724    bottomix                        \n",
      "\n",
      "*cf:    int             3724    leftiy                          \n",
      "\n",
      "*cf:    int             3724    rightiy                         \n",
      "\n",
      "*cf:    int             3724    topiy                           \n",
      "\n",
      "*cf:    int             3724    bottomiy                        \n",
      "\n",
      "*cf:    int            11172    region                          \n",
      "\n",
      "*cf:    int                3    nnreg                           \n",
      "\n",
      "*cf:    int             7448    resignore                       \n",
      "\n",
      "*cf:    int                1    periodic_bc                     \n",
      "\n",
      "*cf:    real            7448    pbs                             \n",
      "\n",
      "*cf:    int                1    redef_gmtry                     \n",
      "\n",
      "*cf:    real           14896    wbbl                            \n",
      "\n",
      "*cf:    int            18620    cflags                          \n",
      "\n",
      "*cf:    real            3724    cell_width                      \n",
      "\n",
      "*cf:    real            3724    cell_height                     \n",
      "\n",
      "*cf:    real             100    parg                            \n",
      "\n"
     ]
    }
   ],
   "source": [
    "import numpy\n",
    "import Mesh_data\n",
    "import reconstructing\n",
    "import var_reading"
   ]
  },
  {
   "cell_type": "code",
   "execution_count": null,
   "metadata": {},
   "outputs": [],
   "source": []
  }
 ],
 "metadata": {
  "kernelspec": {
   "display_name": "Python 3.9.12",
   "language": "python",
   "name": "python3"
  },
  "language_info": {
   "codemirror_mode": {
    "name": "ipython",
    "version": 3
   },
   "file_extension": ".py",
   "mimetype": "text/x-python",
   "name": "python",
   "nbconvert_exporter": "python",
   "pygments_lexer": "ipython3",
   "version": "3.9.12"
  },
  "orig_nbformat": 4,
  "vscode": {
   "interpreter": {
    "hash": "df48fff27f64f3b68374eea5916fcf98c15539d1aa4691aec81d7ba803e7f0a1"
   }
  }
 },
 "nbformat": 4,
 "nbformat_minor": 2
}
