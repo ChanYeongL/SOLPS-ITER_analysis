{
 "cells": [
  {
   "cell_type": "code",
   "execution_count": 32,
   "metadata": {},
   "outputs": [],
   "source": [
    "import numpy as np\n",
    "import Mesh_data\n",
    "import reconstructing\n",
    "import var_reading\n",
    "import Mesh_data\n",
    "import matplotlib.pyplot as plt"
   ]
  },
  {
   "cell_type": "code",
   "execution_count": 39,
   "metadata": {},
   "outputs": [],
   "source": [
    "SAS_08MW_current_raw   = np.load(\"./data_Heating_Geo/fch_b2fplasmf_SAS_8MW_noNe_sep.npy\")\n",
    "SAS_16MW_current_raw   = np.load(\"./data_Heating_Geo/fch_b2fplasmf_SAS_16MW_noNe_sep.npy\")\n",
    "SAS_32MW_current_raw   = np.load(\"./data_Heating_Geo/fch_b2fplasmf_SAS_32MW_noNe_sep.npy\")\n",
    "\n",
    "Con_08MW_current_raw   = np.load(\"./data_Heating_Geo/fch_b2fplasmf_co_8MW_noNe_sep.npy\")\n",
    "Con_16MW_current_raw   = np.load(\"./data_Heating_Geo/fch_b2fplasmf_co_16MW_noNe_sep.npy\")\n",
    "Con_32MW_current_raw   = np.load(\"./data_Heating_Geo/fch_b2fplasmf_co_32MW_noNe_sep.npy\")"
   ]
  },
  {
   "cell_type": "code",
   "execution_count": 17,
   "metadata": {},
   "outputs": [
    {
     "name": "stdout",
     "output_type": "stream",
     "text": [
      "[-0.06505391 -0.06501476 -0.06110008 -0.05687987 -0.05240732 -0.04778892\n",
      " -0.04311281 -0.03834991 -0.03364605 -0.02903033 -0.02458067 -0.02027223\n",
      " -0.01623888 -0.01250869 -0.00915133 -0.00613599 -0.00357882 -0.00152085\n",
      "  0.          0.00093256  0.00192815  0.00355044  0.00578644  0.00411577\n",
      "  0.00205212  0.00041127  0.00327492  0.00656628  0.01029403  0.01448508\n",
      "  0.01912936  0.02424678  0.02986975  0.03599677  0.04263366  0.04984192\n",
      "  0.04087156  0.02902876]\n",
      "[-0.0715723  -0.07152744 -0.06704153 -0.06229474 -0.05731827 -0.05215115\n",
      " -0.04692141 -0.04169072 -0.03650874 -0.03143631 -0.02655407 -0.02190946\n",
      " -0.01750687 -0.01347613 -0.00982187 -0.00661739 -0.00386102 -0.00163475\n",
      "  0.          0.00099463  0.00205597  0.00379204  0.00621517  0.00931366\n",
      "  0.01314076  0.0176591   0.02284651  0.02871627  0.03528336  0.04247052\n",
      "  0.0503574   0.05881249  0.06791765  0.07758154  0.08785052  0.09866668\n",
      "  0.10996054  0.12180333]\n",
      "[-0.07913743 -0.07893919 -0.05947398 -0.0457634  -0.04219542 -0.03850401\n",
      " -0.03473597 -0.03095054 -0.02718484 -0.02346737 -0.01984794 -0.01639709\n",
      " -0.01314467 -0.01013289 -0.00741106 -0.00497741 -0.0029028  -0.00123407\n",
      "  0.          0.00075671  0.00156498  0.00288894  0.00472367  0.00556324\n",
      "  0.00640054  0.00829104  0.01109808  0.01468209  0.01894047  0.02381451\n",
      "  0.02936906  0.03391922  0.0385602   0.04366392  0.04922988  0.05523978\n",
      "  0.05821457  0.06281729]\n"
     ]
    }
   ],
   "source": [
    "print(Mesh_data.newSAS_sep_out_target_dist)\n",
    "\n",
    "print(Mesh_data.co_new_mesh_sep_out_target_dist)\n",
    "\n",
    "print(Mesh_data.al_new_mesh_sep_out_target_dist)"
   ]
  },
  {
   "cell_type": "code",
   "execution_count": 18,
   "metadata": {},
   "outputs": [
    {
     "data": {
      "text/plain": [
       "(2, 38, 98)"
      ]
     },
     "execution_count": 18,
     "metadata": {},
     "output_type": "execute_result"
    }
   ],
   "source": [
    "np.shape(SAS_08MW_current_raw)"
   ]
  },
  {
   "cell_type": "code",
   "execution_count": 40,
   "metadata": {},
   "outputs": [],
   "source": [
    "Check_SAS_08MW_peak = (abs(SAS_08MW_current_raw[0,:,:])+abs(SAS_08MW_current_raw[1,:,:]))[1:,96]\n",
    "Check_SAS_16MW_peak = (abs(SAS_16MW_current_raw[0,:,:])+abs(SAS_16MW_current_raw[1,:,:]))[1:,96]\n",
    "Check_SAS_32MW_peak = (abs(SAS_32MW_current_raw[0,:,:])+abs(SAS_32MW_current_raw[1,:,:]))[1:,96]\n",
    "\n",
    "Check_Con_08MW_peak = (abs(Con_08MW_current_raw[0,:,:])+abs(Con_08MW_current_raw[1,:,:]))[1:,96]\n",
    "Check_Con_16MW_peak = (abs(Con_16MW_current_raw[0,:,:])+abs(Con_16MW_current_raw[1,:,:]))[1:,96]\n",
    "Check_Con_32MW_peak = (abs(Con_32MW_current_raw[0,:,:])+abs(Con_32MW_current_raw[1,:,:]))[1:,96]\n",
    "\n"
   ]
  },
  {
   "cell_type": "code",
   "execution_count": 41,
   "metadata": {},
   "outputs": [
    {
     "data": {
      "text/plain": [
       "[<matplotlib.lines.Line2D at 0x133c4a640>]"
      ]
     },
     "execution_count": 41,
     "metadata": {},
     "output_type": "execute_result"
    },
    {
     "data": {
      "image/png": "[encoded data removed]",
      "text/plain": [
       "<Figure size 432x288 with 1 Axes>"
      ]
     },
     "metadata": {
      "needs_background": "light"
     },
     "output_type": "display_data"
    }
   ],
   "source": [
    "x_axis =  [8.0,16.0,32.0]\n",
    "SAS_yaxis = [np.max(Check_SAS_08MW_peak),np.max(Check_SAS_16MW_peak),np.max(Check_SAS_32MW_peak)]\n",
    "\n",
    "plt.plot(x_axis, SAS_yaxis)"
   ]
  },
  {
   "cell_type": "code",
   "execution_count": 54,
   "metadata": {},
   "outputs": [
    {
     "data": {
      "text/plain": [
       "[<matplotlib.lines.Line2D at 0x1436a6bb0>]"
      ]
     },
     "execution_count": 54,
     "metadata": {},
     "output_type": "execute_result"
    },
    {
     "data": {
      "image/png": "[encoded data removed]",
      "text/plain": [
       "<Figure size 432x288 with 1 Axes>"
      ]
     },
     "metadata": {
      "needs_background": "light"
     },
     "output_type": "display_data"
    }
   ],
   "source": [
    "x_axis =  [8.0,16.0,32.0]\n",
    "Con_yaxis = [np.max(Check_Con_08MW_peak),np.max(Check_Con_16MW_peak),np.max(Check_Con_32MW_peak)]\n",
    "\n",
    "plt.plot(x_axis, Con_yaxis)"
   ]
  },
  {
   "cell_type": "code",
   "execution_count": null,
   "metadata": {},
   "outputs": [],
   "source": []
  }
 ],
 "metadata": {
  "kernelspec": {
   "display_name": "Python 3.9.12",
   "language": "python",
   "name": "python3"
  },
  "language_info": {
   "codemirror_mode": {
    "name": "ipython",
    "version": 3
   },
   "file_extension": ".py",
   "mimetype": "text/x-python",
   "name": "python",
   "nbconvert_exporter": "python",
   "pygments_lexer": "ipython3",
   "version": "3.9.12"
  },
  "orig_nbformat": 4,
  "vscode": {
   "interpreter": {
    "hash": "df48fff27f64f3b68374eea5916fcf98c15539d1aa4691aec81d7ba803e7f0a1"
   }
  }
 },
 "nbformat": 4,
 "nbformat_minor": 2
}
