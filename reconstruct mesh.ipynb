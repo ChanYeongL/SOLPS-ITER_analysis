{
 "cells": [
  {
   "cell_type": "markdown",
   "id": "0f20abfb-ede2-4131-97e7-4a992311560f",
   "metadata": {},
   "source": [
    "<span style=\"color:black; background-color:White; font-size:150%\">Modules </span> "
   ]
  },
  {
   "cell_type": "code",
   "execution_count": 1,
   "id": "09065735-70de-4379-8ad5-11465b4cdc7b",
   "metadata": {},
   "outputs": [],
   "source": [
    "import numpy as np\n",
    "import matplotlib.pyplot as plt\n",
    "import matplotlib.ticker as ticker\n",
    "from scipy.special import rel_entr\n",
    "import pickle"
   ]
  },
  {
   "cell_type": "markdown",
   "id": "ad3c407d-558a-40db-b634-5fce5c33c0bf",
   "metadata": {},
   "source": [
    "<span style=\"color:black; background-color:White; font-size:150%\"> Some functions & Parameters </span> "
   ]
  },
  {
   "cell_type": "code",
   "execution_count": 2,
   "id": "7bdec8c3-74f0-480d-83cc-c85c9f76bf07",
   "metadata": {},
   "outputs": [],
   "source": [
    "def is_valid_float(element: str) -> bool:\n",
    "    try:\n",
    "        float(element)\n",
    "        return True\n",
    "    except ValueError:\n",
    "        return False\n",
    "    "
   ]
  },
  {
   "cell_type": "code",
   "execution_count": 3,
   "id": "390c9a1a-1508-4951-a1d6-db0419f36255",
   "metadata": {},
   "outputs": [],
   "source": [
    "def check_float(element):\n",
    "    partition = element.partition('.')\n",
    "    \n",
    "    if element.isdigit():\n",
    "      newelement = float(element)\n",
    "      print('string is valid')\n",
    "\n",
    "    elif (partition[0].isdigit() and partition[1] == '.' and partition[2].isdigit()) or (partition[0] == '' and partition[1] == '.' and partition[2].isdigit()) or (partition[0].isdigit() and partition[1] == '.' and partition[2] == ''):\n",
    "            newelement = float(element)\n",
    "            print(newelement)\n",
    "            print(\"String is also valid !\")\n",
    "    else:\n",
    "        print(\"string is not valid !\")"
   ]
  },
  {
   "cell_type": "code",
   "execution_count": 4,
   "id": "a7abc4c5-3a85-4569-9231-345e7139ab3b",
   "metadata": {},
   "outputs": [],
   "source": [
    "def is_valid_string(element):\n",
    "    if element.isdigit():\n",
    "        print(\"String is valid\")\n",
    "    else:\n",
    "        print(\"String is not valid\")"
   ]
  },
  {
   "cell_type": "code",
   "execution_count": 5,
   "id": "10f8cb95-69fa-41c1-8542-286036254f3d",
   "metadata": {},
   "outputs": [],
   "source": [
    "def get_distance(first_point, second_point):\n",
    "   \n",
    "    x_range = x_center_data[first_point[1],first_point[0]]-x_center_data[second_point[1],second_point[0]]\n",
    "    y_range = y_center_data[first_point[1],first_point[0]]-y_center_data[second_point[1],second_point[0]]\n",
    "    \n",
    "    result = (x_range**2 + y_range**2)**(1/2)\n",
    "    \n",
    "    return result"
   ]
  },
  {
   "cell_type": "markdown",
   "id": "a005fa0b-a850-4246-adbe-2b5c7d3242a1",
   "metadata": {},
   "source": [
    "<span style=\"color:White; background-color:Black; font-size:130%\"> Data </span> "
   ]
  },
  {
   "cell_type": "code",
   "execution_count": 6,
   "id": "1847b617-82c4-436f-b0b3-e53d258cb245",
   "metadata": {},
   "outputs": [],
   "source": [
    "#fname_or = \"_co\"\n",
    "fname_or = \"new_SAS\"\n",
    "\n",
    "\n",
    "fname = \"./b2fgmtry_%s.txt\" %fname_or\n",
    "\n",
    "#def find_ni(fname):\n",
    "#    with open(fname) as f:\n",
    "#        line = f.readlines()\n",
    "#        print(line)\n",
    "#    return line\n",
    "    \n",
    "with open(fname,'r') as f:\n",
    "    line = f.readlines()\n",
    "    #line_1 = line.split()\n",
    "\n",
    "a=type(line)\n",
    "k = len(line)\n",
    "data_array = np.array(line)\n",
    "full_length = np.size(data_array)\n",
    "k1 = np.zeros(k)\n",
    "\n"
   ]
  },
  {
   "cell_type": "code",
   "execution_count": 7,
   "id": "90676af3-517f-4e1d-ac65-8665369056c5",
   "metadata": {},
   "outputs": [
    {
     "name": "stdout",
     "output_type": "stream",
     "text": [
      "         96         36\n",
      "\n"
     ]
    }
   ],
   "source": [
    "print(line[2])\n",
    "mesh = line[2].split()\n",
    "nx = int(mesh[0])\n",
    "ny = int(mesh[1])\n",
    "#ns = int(mesh[2])\n",
    "x_name = 'crx'\n",
    "y_name = 'cry'\n",
    "data_name ='gs'\n",
    "\n"
   ]
  },
  {
   "cell_type": "markdown",
   "id": "59b0d71d-2d39-4c04-88c9-3bd1e6413c50",
   "metadata": {},
   "source": [
    "<span style= \"color:#5cffd1;font-size:250%\"> Main Code</span>  "
   ]
  },
  {
   "cell_type": "code",
   "execution_count": 8,
   "id": "57eb8eed-6441-49c4-8e5e-0d3c589a68c4",
   "metadata": {},
   "outputs": [],
   "source": [
    "raw_data = np.empty((full_length,6))\n",
    "\n",
    "for i in range(0, full_length):\n",
    "    \n",
    "    dum = line[i].split()\n",
    "    dum2 = len(dum)\n",
    "    \n",
    "    for j in range(6):\n",
    "        if j+1<=len(dum):\n",
    "\n",
    "            dum3 = dum[j]\n",
    "            \n",
    "            try:\n",
    "                raw_data[i,j] = dum3\n",
    "            except ValueError as m:\n",
    "                raw_data[i,j] = 0\n",
    "            #print(dum3)\n",
    "        elif j+1>len(dum):\n",
    "            continue\n",
    "\n"
   ]
  },
  {
   "cell_type": "code",
   "execution_count": 9,
   "id": "500ba8c0-091c-4cb5-b78f-8dd566021ff9",
   "metadata": {},
   "outputs": [
    {
     "name": "stdout",
     "output_type": "stream",
     "text": [
      "VERSION03.000.008 3.0.8-17-g7ceb865-dirty         \n",
      "\n",
      "*cf:    int                2    nx,ny                           \n",
      "\n",
      "*cf:    char             120    label                           \n",
      "\n",
      " b2ag     B2.5 bjb99/7 SOLPS-ITER  2022-07-04  12:37 chanyeonExpSAS.v027.geo                                             \n",
      "\n",
      "*cf:    int                1    isymm                           \n",
      "\n",
      "*cf:    real           14896    crx                             \n",
      "\n",
      "*cf:    real           14896    cry                             \n",
      "\n",
      "*cf:    real           14896    fpsi                            \n",
      "\n",
      "*cf:    real           14896    ffbz                            \n",
      "\n",
      "*cf:    real           14896    bb                              \n",
      "\n",
      "*cf:    real            3724    vol                             \n",
      "\n",
      "*cf:    real            3724    hx                              \n",
      "\n",
      "*cf:    real            3724    hy                              \n",
      "\n",
      "*cf:    real            7448    qz                              \n",
      "\n",
      "*cf:    real            3724    qc                              \n",
      "\n",
      "*cf:    real           11172    gs                              \n",
      "\n",
      "*cf:    int                1    nlreg                           \n",
      "\n",
      "*cf:    int                0    nlxlo                           \n",
      "\n",
      "*cf:    int                0    nlxhi                           \n",
      "\n",
      "*cf:    int                0    nlylo                           \n",
      "\n",
      "*cf:    int                0    nlyhi                           \n",
      "\n",
      "*cf:    int                0    nlloc                           \n",
      "\n",
      "*cf:    int                1    nncut                           \n",
      "\n",
      "*cf:    int                1    leftcut                         \n",
      "\n",
      "*cf:    int                1    rightcut                        \n",
      "\n",
      "*cf:    int                1    topcut                          \n",
      "\n",
      "*cf:    int                1    bottomcut                       \n",
      "\n",
      "*cf:    int             3724    leftix                          \n",
      "\n",
      "*cf:    int             3724    rightix                         \n",
      "\n",
      "*cf:    int             3724    topix                           \n",
      "\n",
      "*cf:    int             3724    bottomix                        \n",
      "\n",
      "*cf:    int             3724    leftiy                          \n",
      "\n",
      "*cf:    int             3724    rightiy                         \n",
      "\n",
      "*cf:    int             3724    topiy                           \n",
      "\n",
      "*cf:    int             3724    bottomiy                        \n",
      "\n",
      "*cf:    int            11172    region                          \n",
      "\n",
      "*cf:    int                3    nnreg                           \n",
      "\n",
      "*cf:    int             7448    resignore                       \n",
      "\n",
      "*cf:    int                1    periodic_bc                     \n",
      "\n",
      "*cf:    real            7448    pbs                             \n",
      "\n",
      "*cf:    int                1    redef_gmtry                     \n",
      "\n",
      "*cf:    real           14896    wbbl                            \n",
      "\n",
      "*cf:    int            18620    cflags                          \n",
      "\n",
      "*cf:    real            3724    cell_width                      \n",
      "\n",
      "*cf:    real            3724    cell_height                     \n",
      "\n",
      "*cf:    real             100    parg                            \n",
      "\n"
     ]
    }
   ],
   "source": [
    "for i in range(0, full_length):  \n",
    "    dum = line[i].split()\n",
    "    dum2 = len(dum)\n",
    "    for j in range(6):\n",
    "        if j+1<=len(dum):\n",
    "            dum3 = dum[j]\n",
    "            try:\n",
    "                raw_data[i,j] = dum3\n",
    "            except ValueError as m:\n",
    "                raw_data[i,j] = 0\n",
    "                print(line[i])\n",
    "                break;\n",
    "        elif j+1>len(dum):\n",
    "            continue"
   ]
  },
  {
   "cell_type": "markdown",
   "id": "81375113-0ec5-4531-ba1d-636bf65ab092",
   "metadata": {},
   "source": [
    "<span style=\"font-size:150%\"> **Check data's Location**</span>  "
   ]
  },
  {
   "cell_type": "code",
   "execution_count": 10,
   "id": "a24e6139-9149-4cc5-985e-b210d5c79a42",
   "metadata": {},
   "outputs": [
    {
     "name": "stdout",
     "output_type": "stream",
     "text": [
      "first x line 8\n",
      "first x line   1.2599828100000E+000  1.2600000000000E+000  1.2617193100000E+000  1.2657978800000E+000  1.2717931400000E+000  1.2792169100000E+000\n",
      "\n",
      "last x line 2490\n",
      "last x line   1.5525755100000E+000  1.5544401700000E+000  1.5554633300000E+000  1.5554735600000E+000\n",
      "\n",
      "first y line 2492\n",
      "first y line  -9.6419271000000E-001 -9.6419990000000E-001 -9.6491924000000E-001 -9.6670490000000E-001 -9.6953193000000E-001 -9.7338264000000E-001\n",
      "\n",
      "last y line 4974\n",
      "last y line  -1.3644113200000E+000 -1.3747144900000E+000 -1.3802033200000E+000 -1.3802582100000E+000\n",
      "\n",
      "x data info ['*cf:', 'real', '14896', 'crx']\n",
      "x data info 14896\n",
      "y data info ['*cf:', 'real', '14896', 'cry']\n",
      "y data info 14896\n"
     ]
    }
   ],
   "source": [
    "check_array = np.empty((1,6))\n",
    "\n",
    "for ch in range(full_length):\n",
    "    if x_name in line[ch]:\n",
    "        x_start = ch+1\n",
    "        break;\n",
    "    else:\n",
    "        continue\n",
    "\n",
    "for ch in range(full_length):\n",
    "    if y_name in line[ch]:\n",
    "        y_start = ch+1\n",
    "        break;\n",
    "    else:\n",
    "        continue\n",
    "    \n",
    "for ch2 in range(x_start+1,full_length):\n",
    "    try:\n",
    "        check_cf = line[ch2].split()\n",
    "        check_er = float(check_cf[0])\n",
    "    except ValueError as m:\n",
    "        x_end = ch2-1\n",
    "        break;\n",
    "    \n",
    "for ch2 in range(y_start+1,full_length):\n",
    "    try:\n",
    "        check_cf = line[ch2].split()\n",
    "        check_er = float(check_cf[0])\n",
    "    except ValueError as m:\n",
    "        y_end = ch2-1\n",
    "        break;\n",
    "        \n",
    "    \n",
    "\n",
    "print(\"first x line\", x_start)\n",
    "print(\"first x line\", line[x_start])\n",
    "print(\"last x line\", x_end)\n",
    "print(\"last x line\", line[x_end])\n",
    "\n",
    "print(\"first y line\", y_start)\n",
    "print(\"first y line\", line[y_start])\n",
    "print(\"last y line\", y_end)\n",
    "print(\"last y line\", line[y_end])\n",
    "\n",
    "#print(line[position_end])\n",
    "x_check_length = line[x_start-1].split()\n",
    "x_tot_len =int(x_check_length[2])\n",
    "print(\"x data info\",x_check_length)\n",
    "print(\"x data info\",x_tot_len)\n",
    "\n",
    "y_check_length = line[y_start-1].split()\n",
    "y_tot_len =int(y_check_length[2])\n",
    "print(\"y data info\",y_check_length)\n",
    "print(\"y data info\",y_tot_len)\n"
   ]
  },
  {
   "cell_type": "code",
   "execution_count": null,
   "id": "313cb633-c60e-42fc-aaa5-2cad2c1e9dbd",
   "metadata": {},
   "outputs": [],
   "source": []
  },
  {
   "cell_type": "code",
   "execution_count": 11,
   "id": "9e4deff7-1b68-4ddd-811f-f55832a2f707",
   "metadata": {},
   "outputs": [],
   "source": [
    "x_selected_length = x_end-x_start\n",
    "x_selected_data = np.zeros((x_selected_length+1,6))\n",
    "\n",
    "for i in range(x_start,x_end+1):\n",
    "    dum = line[i].split()\n",
    "    #print(line[i])\n",
    "    dum2 = len(dum)\n",
    "    for j in range(dum2):\n",
    "        dum3 = dum[j]\n",
    "        x_selected_data[i-x_start,j] = dum3    \n",
    "\n",
    "y_selected_length = y_end-y_start\n",
    "y_selected_data = np.zeros((y_selected_length+1,6))\n",
    "\n",
    "for i in range(y_start,y_end+1):\n",
    "    dum = line[i].split()\n",
    "    #print(line[i])\n",
    "    dum2 = len(dum)\n",
    "    for j in range(dum2):\n",
    "        dum3 = dum[j]\n",
    "        y_selected_data[i-y_start,j] = dum3    \n",
    "#    for j in range(6):\n",
    "#        if j+1<=len(dum):\n",
    "#            dum3 = dum[j]\n",
    "#            try:\n",
    "#                selected_data[i-position_start,j] = dum3\n",
    "#            except ValueError as m:\n",
    "#                selected_data[i-position_start,j] = 0.0\n",
    "#            #print(dum3)\n",
    "#        elif j+1>len(dum):\n",
    "#            continue"
   ]
  },
  {
   "cell_type": "code",
   "execution_count": 12,
   "id": "176267d1-25ca-4a02-912e-7620c5605c0e",
   "metadata": {},
   "outputs": [
    {
     "name": "stdout",
     "output_type": "stream",
     "text": [
      "selected x [[1.25998281 1.26       1.26171931 1.26579788 1.27179314 1.27921691]\n",
      " [1.28753354 1.29619013 1.30469068 1.31253214 1.3195129  1.50428509]\n",
      " [1.50258108 1.50062884 1.49731207 1.48892844 1.4764062  1.46055533]\n",
      " ...\n",
      " [1.5428935  1.53752963 1.53395588 1.53200967 1.53156141 1.532405  ]\n",
      " [1.53430741 1.5370077  1.54023522 1.54364066 1.5469801  1.55002555]\n",
      " [1.55257551 1.55444017 1.55546333 1.55547356 0.         0.        ]]\n",
      "selected x (2483, 6)\n",
      "2482\n",
      "(2483, 6)\n",
      "data len :  14898\n",
      "before end   1.5343074100000E+000  1.5370077000000E+000  1.5402352200000E+000  1.5436406600000E+000  1.5469801000000E+000  1.5500255500000E+000\n",
      "\n",
      "end   1.5525755100000E+000  1.5544401700000E+000  1.5554633300000E+000  1.5554735600000E+000\n",
      "\n",
      "next data *cf:    real           14896    cry                             \n",
      "\n",
      "start [1.28753354 1.29619013 1.30469068 1.31253214 1.3195129  1.50428509]\n"
     ]
    }
   ],
   "source": [
    "print(\"selected x\" , x_selected_data)\n",
    "print(\"selected x\" , np.shape(x_selected_data))\n",
    "\n",
    "\n",
    "print(x_selected_length)\n",
    "print(np.shape(x_selected_data))\n",
    "x_numerical_len = np.shape(x_selected_data)[0]*np.shape(x_selected_data)[1]\n",
    "\n",
    "print(\"data len : \", x_numerical_len)\n",
    "print(\"before end\", line[x_end-1])\n",
    "print(\"end\", line[x_end])\n",
    "print(\"next data\", line[x_end+1])\n",
    "\n",
    "\n",
    "print(\"start\", raw_data[x_start+1,:])\n",
    "\n"
   ]
  },
  {
   "cell_type": "code",
   "execution_count": 13,
   "id": "ce1cadc5-cbc9-46f3-9fed-b5928c37fe80",
   "metadata": {},
   "outputs": [
    {
     "name": "stdout",
     "output_type": "stream",
     "text": [
      "selected y [[-0.96419271 -0.9641999  -0.96491924 -0.9667049  -0.96953193 -0.97338264]\n",
      " [-0.97825457 -0.9840769  -0.99060669 -0.99759514 -1.00460968 -0.69512349]\n",
      " [-0.69398425 -0.69265317 -0.69033867 -0.68385359 -0.67234789 -0.65406797]\n",
      " ...\n",
      " [-1.03985628 -1.06703379 -1.09632144 -1.12690631 -1.15840348 -1.19053901]\n",
      " [-1.22264311 -1.25365286 -1.28248741 -1.30839037 -1.33090226 -1.34968674]\n",
      " [-1.36441132 -1.37471449 -1.38020332 -1.38025821  0.          0.        ]]\n",
      "selected y (2483, 6)\n",
      "2482\n",
      "(2483, 6)\n",
      "data len :  14898\n",
      "before end  -1.2226431100000E+000 -1.2536528600000E+000 -1.2824874100000E+000 -1.3083903700000E+000 -1.3309022600000E+000 -1.3496867400000E+000\n",
      "\n",
      "end  -1.3644113200000E+000 -1.3747144900000E+000 -1.3802033200000E+000 -1.3802582100000E+000\n",
      "\n",
      "next data *cf:    real           14896    fpsi                            \n",
      "\n",
      "start [-0.97825457 -0.9840769  -0.99060669 -0.99759514 -1.00460968 -0.69512349]\n"
     ]
    }
   ],
   "source": [
    "print(\"selected y\" , y_selected_data)\n",
    "print(\"selected y\" , np.shape(y_selected_data))\n",
    "\n",
    "\n",
    "print(y_selected_length)\n",
    "print(np.shape(y_selected_data))\n",
    "y_numerical_len = np.shape(y_selected_data)[0]*np.shape(y_selected_data)[1]\n",
    "\n",
    "print(\"data len : \", y_numerical_len)\n",
    "print(\"before end\", line[y_end-1])\n",
    "print(\"end\", line[y_end])\n",
    "print(\"next data\", line[y_end+1])\n",
    "\n",
    "\n",
    "print(\"start\", raw_data[y_start+1,:])"
   ]
  },
  {
   "cell_type": "code",
   "execution_count": null,
   "id": "4a090f80-f01b-47b3-aa48-0699305908f5",
   "metadata": {},
   "outputs": [],
   "source": []
  },
  {
   "cell_type": "code",
   "execution_count": null,
   "id": "a6542e38-ef04-495b-a823-db1515cb6aed",
   "metadata": {},
   "outputs": [],
   "source": []
  },
  {
   "cell_type": "code",
   "execution_count": 14,
   "id": "c72dd38c-d82c-442b-9a81-ee870ff7bfd5",
   "metadata": {},
   "outputs": [],
   "source": [
    "np.shape(x_selected_data)\n",
    "x_selected_data_merged = x_selected_data.reshape(x_numerical_len,1)\n",
    "x_selected_data_merged_deleted = x_selected_data_merged[:x_tot_len,0]\n",
    "\n",
    "np.shape(y_selected_data)\n",
    "y_selected_data_merged = y_selected_data.reshape(y_numerical_len,1)\n",
    "y_selected_data_merged_deleted = y_selected_data_merged[:y_tot_len,0]\n"
   ]
  },
  {
   "cell_type": "code",
   "execution_count": null,
   "id": "71c35f56-90c6-4e1c-bfca-e25283f3737e",
   "metadata": {},
   "outputs": [],
   "source": []
  },
  {
   "cell_type": "code",
   "execution_count": 28,
   "id": "2fe265cc-fa2a-4078-a4cb-a4789729fb77",
   "metadata": {},
   "outputs": [
    {
     "name": "stdout",
     "output_type": "stream",
     "text": [
      "[[1.2599914 ]\n",
      " [1.26085978]\n",
      " [1.26375912]\n",
      " ...\n",
      " [1.55346601]\n",
      " [1.55490991]\n",
      " [1.55542658]]\n",
      "[[-0.96417551]\n",
      " [-0.9645387 ]\n",
      " [-0.96579101]\n",
      " ...\n",
      " [-1.36952173]\n",
      " [-1.37741721]\n",
      " [-1.38018889]]\n"
     ]
    },
    {
     "data": {
      "image/png": "[encoded data removed]",
      "text/plain": [
       "<Figure size 432x288 with 1 Axes>"
      ]
     },
     "metadata": {
      "needs_background": "light"
     },
     "output_type": "display_data"
    },
    {
     "name": "stdout",
     "output_type": "stream",
     "text": [
      "(38, 98)\n"
     ]
    },
    {
     "data": {
      "text/plain": [
       "<Figure size 432x288 with 0 Axes>"
      ]
     },
     "metadata": {},
     "output_type": "display_data"
    }
   ],
   "source": [
    "x_selected_data_final =x_selected_data_merged_deleted.reshape(4, ny+2,nx+2)\n",
    "y_selected_data_final =y_selected_data_merged_deleted.reshape(4, ny+2,nx+2)\n",
    "\n",
    "x_center_data = x_selected_data_final.sum(axis = 0)/4\n",
    "y_center_data = y_selected_data_final.sum(axis = 0)/4\n",
    "x_tot_len1 = int(x_tot_len/4)\n",
    "y_tot_len1 = int(y_tot_len/4)\n",
    "\n",
    "\n",
    "x_center_data_final = x_center_data.reshape(x_tot_len1,1)\n",
    "y_center_data_final = y_center_data.reshape(y_tot_len1,1)\n",
    "\n",
    "\n",
    "x_corner_data = x_selected_data_final[1,:,:]\n",
    "y_corner_data = y_selected_data_final[1,:,:]\n",
    "al_x_center_data_final = x_corner_data.reshape(x_tot_len1,1)\n",
    "al_y_center_data_final = y_corner_data.reshape(y_tot_len1,1)\n",
    "\n",
    "print(x_center_data_final)\n",
    "print(y_center_data_final)\n",
    "#x,y = np.meshgrid(al_x_center_data_final, al_y_center_data_final)\n",
    "#plt.figure()\n",
    "\n",
    "#plt.figure(figsize=(6,12))\n",
    "plt.axes().set_aspect('equal')\n",
    "\n",
    "\n",
    "plt.scatter(x_center_data_final,y_center_data_final, s=0.5)\n",
    "\n",
    "plt.xlim([1.4, 1.6])\n",
    "plt.ylim([-1.6, -1.1])\n",
    "\n",
    "\n",
    "plt.show()\n",
    "print(np.shape(x_center_data))\n",
    "plt.savefig('./mesh.png', dpi=200)\n"
   ]
  },
  {
   "cell_type": "code",
   "execution_count": 16,
   "id": "0fcfd4b9-5995-4812-85b5-cfe6745aebe1",
   "metadata": {},
   "outputs": [
    {
     "data": {
      "text/plain": [
       "<matplotlib.collections.PathCollection at 0x1243b1dc0>"
      ]
     },
     "execution_count": 16,
     "metadata": {},
     "output_type": "execute_result"
    },
    {
     "data": {
      "image/png": "[encoded data removed]",
      "text/plain": [
       "<Figure size 432x288 with 1 Axes>"
      ]
     },
     "metadata": {
      "needs_background": "light"
     },
     "output_type": "display_data"
    }
   ],
   "source": [
    "\n",
    "plt.scatter(x_selected_data_final[0,:,:],y_selected_data_final[0,:,:], s=0.1)\n",
    "plt.scatter(x_selected_data_final[1,:,:],y_selected_data_final[1,:,:], s=0.1)\n",
    "plt.scatter(x_selected_data_final[2,:,:],y_selected_data_final[2,:,:], s=0.1)\n",
    "plt.scatter(x_selected_data_final[3,:,:],y_selected_data_final[3,:,:], s=0.1)\n",
    "\n",
    "\n",
    "\n"
   ]
  },
  {
   "cell_type": "code",
   "execution_count": 17,
   "id": "93417257-9b9e-4943-ab6a-8426ebee52bb",
   "metadata": {},
   "outputs": [
    {
     "name": "stdout",
     "output_type": "stream",
     "text": [
      "[[1.2599914 ]\n",
      " [1.26085978]\n",
      " [1.26375912]\n",
      " ...\n",
      " [1.55346601]\n",
      " [1.55490991]\n",
      " [1.55542658]]\n",
      "[[-0.96417551]\n",
      " [-0.9645387 ]\n",
      " [-0.96579101]\n",
      " ...\n",
      " [-1.36952173]\n",
      " [-1.37741721]\n",
      " [-1.38018889]]\n"
     ]
    }
   ],
   "source": [
    "np.shape(x_center_data_final)\n",
    "x_center_data_final_fl = np.squeeze(x_center_data_final)\n",
    "y_center_data_final_fl = np.squeeze(y_center_data_final)\n",
    "\n",
    "\n",
    "print(x_center_data_final)\n",
    "print(y_center_data_final)\n",
    "\n"
   ]
  },
  {
   "cell_type": "code",
   "execution_count": 18,
   "id": "0e7d2819-bc0c-4fd9-b94c-be844da4dd5b",
   "metadata": {},
   "outputs": [],
   "source": [
    "selected_mesh_final = np.concatenate((x_center_data_final,y_center_data_final),axis=1)\n"
   ]
  },
  {
   "cell_type": "code",
   "execution_count": 19,
   "id": "04d52c18-0c5a-4219-b1fa-6d3e8fab1e87",
   "metadata": {},
   "outputs": [
    {
     "name": "stdout",
     "output_type": "stream",
     "text": [
      "[[ 1.2599914  -0.96417551]\n",
      " [ 1.26085978 -0.9645387 ]\n",
      " [ 1.26375912 -0.96579101]\n",
      " ...\n",
      " [ 1.55346601 -1.36952173]\n",
      " [ 1.55490991 -1.37741721]\n",
      " [ 1.55542658 -1.38018889]]\n"
     ]
    }
   ],
   "source": [
    "print(selected_mesh_final)"
   ]
  },
  {
   "cell_type": "code",
   "execution_count": 20,
   "id": "0237df55-27b0-4827-b876-c60d9792afec",
   "metadata": {},
   "outputs": [],
   "source": [
    "np.save(\"./%s_geo_mesh_center\" % fname_or,selected_mesh_final)\n",
    "\n",
    "np.save(\"./%s_geo_mesh_x\" % fname_or,x_selected_data_final)\n",
    "np.save(\"./%s_geo_mesh_y\" % fname_or,y_selected_data_final)\n",
    "\n",
    "\n"
   ]
  },
  {
   "cell_type": "code",
   "execution_count": 21,
   "id": "a635d7a3-1361-4740-8cb7-51864ee97fc8",
   "metadata": {},
   "outputs": [
    {
     "name": "stdout",
     "output_type": "stream",
     "text": [
      "0.011060717121180537\n"
     ]
    }
   ],
   "source": [
    "a = get_distance([1,2], [3,4])\n",
    "print(a)"
   ]
  },
  {
   "cell_type": "code",
   "execution_count": 22,
   "id": "4a77d434-8f85-4df1-add8-b8849e31ad12",
   "metadata": {},
   "outputs": [
    {
     "data": {
      "text/plain": [
       "0.004745121275455576"
      ]
     },
     "execution_count": 22,
     "metadata": {},
     "output_type": "execute_result"
    }
   ],
   "source": [
    "get_distance([1,2],[2,3])"
   ]
  },
  {
   "cell_type": "code",
   "execution_count": 23,
   "id": "5df1151e-89cd-4a66-ab9d-7862b5144c42",
   "metadata": {},
   "outputs": [
    {
     "data": {
      "text/plain": [
       "<matplotlib.collections.PathCollection at 0x124425460>"
      ]
     },
     "execution_count": 23,
     "metadata": {},
     "output_type": "execute_result"
    },
    {
     "data": {
      "image/png": "[encoded data removed]",
      "text/plain": [
       "<Figure size 432x288 with 1 Axes>"
      ]
     },
     "metadata": {
      "needs_background": "light"
     },
     "output_type": "display_data"
    }
   ],
   "source": [
    "plt.scatter(x_selected_data_final[0,:,96],y_selected_data_final[0,:,96], s=0.5)\n",
    "plt.scatter(x_selected_data_final[0,:,97],y_selected_data_final[0,:,97], s=0.5)"
   ]
  },
  {
   "cell_type": "code",
   "execution_count": 24,
   "id": "8072817e-8597-492a-8272-9680e22a36f1",
   "metadata": {},
   "outputs": [
    {
     "name": "stdout",
     "output_type": "stream",
     "text": [
      "0.011060717121180537\n"
     ]
    }
   ],
   "source": [
    "a = get_distance([1,2], [3,4])\n",
    "print(a)"
   ]
  }
 ],
 "metadata": {
  "kernelspec": {
   "display_name": "Python 3.9.12",
   "language": "python",
   "name": "python3"
  },
  "language_info": {
   "codemirror_mode": {
    "name": "ipython",
    "version": 3
   },
   "file_extension": ".py",
   "mimetype": "text/x-python",
   "name": "python",
   "nbconvert_exporter": "python",
   "pygments_lexer": "ipython3",
   "version": "3.9.12"
  },
  "toc-autonumbering": true,
  "toc-showmarkdowntxt": true,
  "toc-showtags": true,
  "vscode": {
   "interpreter": {
    "hash": "df48fff27f64f3b68374eea5916fcf98c15539d1aa4691aec81d7ba803e7f0a1"
   }
  }
 },
 "nbformat": 4,
 "nbformat_minor": 5
}
