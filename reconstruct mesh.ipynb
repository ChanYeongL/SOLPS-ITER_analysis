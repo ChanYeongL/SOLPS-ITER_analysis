{
 "cells": [
  {
   "cell_type": "markdown",
   "id": "0f20abfb-ede2-4131-97e7-4a992311560f",
   "metadata": {},
   "source": [
    "<span style=\"color:black; background-color:White; font-size:150%\">Modules </span> "
   ]
  },
  {
   "cell_type": "code",
   "execution_count": 1,
   "id": "09065735-70de-4379-8ad5-11465b4cdc7b",
   "metadata": {},
   "outputs": [],
   "source": [
    "import numpy as np\n",
    "import matplotlib.pyplot as plt\n",
    "import matplotlib.ticker as ticker\n",
    "from scipy.special import rel_entr\n",
    "import pickle"
   ]
  },
  {
   "cell_type": "markdown",
   "id": "ad3c407d-558a-40db-b634-5fce5c33c0bf",
   "metadata": {},
   "source": [
    "<span style=\"color:black; background-color:White; font-size:150%\"> Some functions & Parameters </span> "
   ]
  },
  {
   "cell_type": "code",
   "execution_count": 2,
   "id": "7bdec8c3-74f0-480d-83cc-c85c9f76bf07",
   "metadata": {},
   "outputs": [],
   "source": [
    "def is_valid_float(element: str) -> bool:\n",
    "    try:\n",
    "        float(element)\n",
    "        return True\n",
    "    except ValueError:\n",
    "        return False\n",
    "    "
   ]
  },
  {
   "cell_type": "code",
   "execution_count": 3,
   "id": "390c9a1a-1508-4951-a1d6-db0419f36255",
   "metadata": {},
   "outputs": [],
   "source": [
    "def check_float(element):\n",
    "    partition = element.partition('.')\n",
    "    \n",
    "    if element.isdigit():\n",
    "      newelement = float(element)\n",
    "      print('string is valid')\n",
    "\n",
    "    elif (partition[0].isdigit() and partition[1] == '.' and partition[2].isdigit()) or (partition[0] == '' and partition[1] == '.' and partition[2].isdigit()) or (partition[0].isdigit() and partition[1] == '.' and partition[2] == ''):\n",
    "            newelement = float(element)\n",
    "            print(newelement)\n",
    "            print(\"String is also valid !\")\n",
    "    else:\n",
    "        print(\"string is not valid !\")"
   ]
  },
  {
   "cell_type": "code",
   "execution_count": 4,
   "id": "a7abc4c5-3a85-4569-9231-345e7139ab3b",
   "metadata": {},
   "outputs": [],
   "source": [
    "def is_valid_string(element):\n",
    "    if element.isdigit():\n",
    "        print(\"String is valid\")\n",
    "    else:\n",
    "        print(\"String is not valid\")"
   ]
  },
  {
   "cell_type": "code",
   "execution_count": 5,
   "id": "10f8cb95-69fa-41c1-8542-286036254f3d",
   "metadata": {},
   "outputs": [],
   "source": [
    "def get_distance(first_point, second_point):\n",
    "   \n",
    "    x_range = x_center_data[first_point[1],first_point[0]]-x_center_data[second_point[1],second_point[0]]\n",
    "    y_range = y_center_data[first_point[1],first_point[0]]-y_center_data[second_point[1],second_point[0]]\n",
    "    \n",
    "    result = (x_range**2 + y_range**2)**(1/2)\n",
    "    \n",
    "    return result"
   ]
  },
  {
   "cell_type": "markdown",
   "id": "a005fa0b-a850-4246-adbe-2b5c7d3242a1",
   "metadata": {},
   "source": [
    "<span style=\"color:White; background-color:Black; font-size:130%\"> Data </span> "
   ]
  },
  {
   "cell_type": "code",
   "execution_count": 6,
   "id": "1847b617-82c4-436f-b0b3-e53d258cb245",
   "metadata": {},
   "outputs": [],
   "source": [
    "#fname_or = \"_co\"\n",
    "fname_or = \"ng\"\n",
    "#fname_or = \"v1_SAS\"\n",
    "\n",
    "\n",
    "fname = \"./b2fgmtry_%s\" %fname_or\n",
    "\n",
    "#def find_ni(fname):\n",
    "#    with open(fname) as f:\n",
    "#        line = f.readlines()\n",
    "#        print(line)\n",
    "#    return line\n",
    "    \n",
    "with open(fname,'r') as f:\n",
    "    line = f.readlines()\n",
    "    #line_1 = line.split()\n",
    "\n",
    "a=type(line)\n",
    "k = len(line)\n",
    "data_array = np.array(line)\n",
    "full_length = np.size(data_array)\n",
    "k1 = np.zeros(k)\n",
    "\n"
   ]
  },
  {
   "cell_type": "code",
   "execution_count": 7,
   "id": "90676af3-517f-4e1d-ac65-8665369056c5",
   "metadata": {},
   "outputs": [
    {
     "name": "stdout",
     "output_type": "stream",
     "text": [
      "         96         36\n",
      "\n"
     ]
    }
   ],
   "source": [
    "print(line[2])\n",
    "mesh = line[2].split()\n",
    "nx = int(mesh[0])\n",
    "ny = int(mesh[1])\n",
    "#ns = int(mesh[2])\n",
    "x_name = 'crx'\n",
    "y_name = 'cry'\n",
    "data_name ='gs'\n",
    "\n"
   ]
  },
  {
   "cell_type": "markdown",
   "id": "59b0d71d-2d39-4c04-88c9-3bd1e6413c50",
   "metadata": {},
   "source": [
    "<span style= \"color:#5cffd1;font-size:250%\"> Main Code</span>  "
   ]
  },
  {
   "cell_type": "code",
   "execution_count": 8,
   "id": "57eb8eed-6441-49c4-8e5e-0d3c589a68c4",
   "metadata": {},
   "outputs": [],
   "source": [
    "raw_data = np.empty((full_length,6))\n",
    "\n",
    "for i in range(0, full_length):\n",
    "    \n",
    "    dum = line[i].split()\n",
    "    dum2 = len(dum)\n",
    "    \n",
    "    for j in range(6):\n",
    "        if j+1<=len(dum):\n",
    "\n",
    "            dum3 = dum[j]\n",
    "            \n",
    "            try:\n",
    "                raw_data[i,j] = dum3\n",
    "            except ValueError as m:\n",
    "                raw_data[i,j] = 0\n",
    "            #print(dum3)\n",
    "        elif j+1>len(dum):\n",
    "            continue\n",
    "\n"
   ]
  },
  {
   "cell_type": "code",
   "execution_count": 9,
   "id": "500ba8c0-091c-4cb5-b78f-8dd566021ff9",
   "metadata": {},
   "outputs": [
    {
     "name": "stdout",
     "output_type": "stream",
     "text": [
      "VERSION03.000.008 3.0.8-17-g7ceb865-dirty         \n",
      "\n",
      "*cf:    int                2    nx,ny                           \n",
      "\n",
      "*cf:    char             120    label                           \n",
      "\n",
      " b2ag     B2.5 bjb99/7 SOLPS-ITER  2022-09-04  14:09 chanyeonanother_gfile_SAS.v010.geo                                  \n",
      "\n",
      "*cf:    int                1    isymm                           \n",
      "\n",
      "*cf:    real           14896    crx                             \n",
      "\n",
      "*cf:    real           14896    cry                             \n",
      "\n",
      "*cf:    real           14896    fpsi                            \n",
      "\n",
      "*cf:    real           14896    ffbz                            \n",
      "\n",
      "*cf:    real           14896    bb                              \n",
      "\n",
      "*cf:    real            3724    vol                             \n",
      "\n",
      "*cf:    real            3724    hx                              \n",
      "\n",
      "*cf:    real            3724    hy                              \n",
      "\n",
      "*cf:    real            7448    qz                              \n",
      "\n",
      "*cf:    real            3724    qc                              \n",
      "\n",
      "*cf:    real           11172    gs                              \n",
      "\n",
      "*cf:    int                1    nlreg                           \n",
      "\n",
      "*cf:    int                0    nlxlo                           \n",
      "\n",
      "*cf:    int                0    nlxhi                           \n",
      "\n",
      "*cf:    int                0    nlylo                           \n",
      "\n",
      "*cf:    int                0    nlyhi                           \n",
      "\n",
      "*cf:    int                0    nlloc                           \n",
      "\n",
      "*cf:    int                1    nncut                           \n",
      "\n",
      "*cf:    int                1    leftcut                         \n",
      "\n",
      "*cf:    int                1    rightcut                        \n",
      "\n",
      "*cf:    int                1    topcut                          \n",
      "\n",
      "*cf:    int                1    bottomcut                       \n",
      "\n",
      "*cf:    int             3724    leftix                          \n",
      "\n",
      "*cf:    int             3724    rightix                         \n",
      "\n",
      "*cf:    int             3724    topix                           \n",
      "\n",
      "*cf:    int             3724    bottomix                        \n",
      "\n",
      "*cf:    int             3724    leftiy                          \n",
      "\n",
      "*cf:    int             3724    rightiy                         \n",
      "\n",
      "*cf:    int             3724    topiy                           \n",
      "\n",
      "*cf:    int             3724    bottomiy                        \n",
      "\n",
      "*cf:    int            11172    region                          \n",
      "\n",
      "*cf:    int                3    nnreg                           \n",
      "\n",
      "*cf:    int             7448    resignore                       \n",
      "\n",
      "*cf:    int                1    periodic_bc                     \n",
      "\n",
      "*cf:    real            7448    pbs                             \n",
      "\n",
      "*cf:    int                1    redef_gmtry                     \n",
      "\n",
      "*cf:    real           14896    wbbl                            \n",
      "\n",
      "*cf:    int            18620    cflags                          \n",
      "\n",
      "*cf:    real            3724    cell_width                      \n",
      "\n",
      "*cf:    real            3724    cell_height                     \n",
      "\n",
      "*cf:    real             100    parg                            \n",
      "\n"
     ]
    }
   ],
   "source": [
    "for i in range(0, full_length):  \n",
    "    dum = line[i].split()\n",
    "    dum2 = len(dum)\n",
    "    for j in range(6):\n",
    "        if j+1<=len(dum):\n",
    "            dum3 = dum[j]\n",
    "            try:\n",
    "                raw_data[i,j] = dum3\n",
    "            except ValueError as m:\n",
    "                raw_data[i,j] = 0\n",
    "                print(line[i])\n",
    "                break;\n",
    "        elif j+1>len(dum):\n",
    "            continue"
   ]
  },
  {
   "cell_type": "markdown",
   "id": "81375113-0ec5-4531-ba1d-636bf65ab092",
   "metadata": {},
   "source": [
    "<span style=\"font-size:150%\"> **Check data's Location**</span>  "
   ]
  },
  {
   "cell_type": "code",
   "execution_count": 10,
   "id": "a24e6139-9149-4cc5-985e-b210d5c79a42",
   "metadata": {},
   "outputs": [
    {
     "name": "stdout",
     "output_type": "stream",
     "text": [
      "first x line 8\n",
      "first x line   1.2599098000000E+000  1.2600000000000E+000  1.2690197700000E+000  1.2777692500000E+000  1.2862499400000E+000  1.2944586500000E+000\n",
      "\n",
      "last x line 2490\n",
      "last x line   1.5693454800000E+000  1.5712194800000E+000  1.5722368000000E+000  1.5722469800000E+000\n",
      "\n",
      "first y line 2492\n",
      "first y line  -9.6733753000000E-001 -9.6737449000000E-001 -9.7107098000000E-001 -9.7526688000000E-001 -9.7983034000000E-001 -9.8466882000000E-001\n",
      "\n",
      "last y line 4974\n",
      "last y line  -1.3784546300000E+000 -1.3905662000000E+000 -1.3969767900000E+000 -1.3970409000000E+000\n",
      "\n",
      "x data info ['*cf:', 'real', '14896', 'crx']\n",
      "x data info 14896\n",
      "y data info ['*cf:', 'real', '14896', 'cry']\n",
      "y data info 14896\n"
     ]
    }
   ],
   "source": [
    "check_array = np.empty((1,6))\n",
    "\n",
    "for ch in range(full_length):\n",
    "    if x_name in line[ch]:\n",
    "        x_start = ch+1\n",
    "        break;\n",
    "    else:\n",
    "        continue\n",
    "\n",
    "for ch in range(full_length):\n",
    "    if y_name in line[ch]:\n",
    "        y_start = ch+1\n",
    "        break;\n",
    "    else:\n",
    "        continue\n",
    "    \n",
    "for ch2 in range(x_start+1,full_length):\n",
    "    try:\n",
    "        check_cf = line[ch2].split()\n",
    "        check_er = float(check_cf[0])\n",
    "    except ValueError as m:\n",
    "        x_end = ch2-1\n",
    "        break;\n",
    "    \n",
    "for ch2 in range(y_start+1,full_length):\n",
    "    try:\n",
    "        check_cf = line[ch2].split()\n",
    "        check_er = float(check_cf[0])\n",
    "    except ValueError as m:\n",
    "        y_end = ch2-1\n",
    "        break;\n",
    "        \n",
    "    \n",
    "\n",
    "print(\"first x line\", x_start)\n",
    "print(\"first x line\", line[x_start])\n",
    "print(\"last x line\", x_end)\n",
    "print(\"last x line\", line[x_end])\n",
    "\n",
    "print(\"first y line\", y_start)\n",
    "print(\"first y line\", line[y_start])\n",
    "print(\"last y line\", y_end)\n",
    "print(\"last y line\", line[y_end])\n",
    "\n",
    "#print(line[position_end])\n",
    "x_check_length = line[x_start-1].split()\n",
    "x_tot_len =int(x_check_length[2])\n",
    "print(\"x data info\",x_check_length)\n",
    "print(\"x data info\",x_tot_len)\n",
    "\n",
    "y_check_length = line[y_start-1].split()\n",
    "y_tot_len =int(y_check_length[2])\n",
    "print(\"y data info\",y_check_length)\n",
    "print(\"y data info\",y_tot_len)\n"
   ]
  },
  {
   "cell_type": "code",
   "execution_count": null,
   "id": "313cb633-c60e-42fc-aaa5-2cad2c1e9dbd",
   "metadata": {},
   "outputs": [],
   "source": []
  },
  {
   "cell_type": "code",
   "execution_count": 11,
   "id": "9e4deff7-1b68-4ddd-811f-f55832a2f707",
   "metadata": {},
   "outputs": [],
   "source": [
    "x_selected_length = x_end-x_start\n",
    "x_selected_data = np.zeros((x_selected_length+1,6))\n",
    "\n",
    "for i in range(x_start,x_end+1):\n",
    "    dum = line[i].split()\n",
    "    #print(line[i])\n",
    "    dum2 = len(dum)\n",
    "    for j in range(dum2):\n",
    "        dum3 = dum[j]\n",
    "        x_selected_data[i-x_start,j] = dum3    \n",
    "\n",
    "y_selected_length = y_end-y_start\n",
    "y_selected_data = np.zeros((y_selected_length+1,6))\n",
    "\n",
    "for i in range(y_start,y_end+1):\n",
    "    dum = line[i].split()\n",
    "    #print(line[i])\n",
    "    dum2 = len(dum)\n",
    "    for j in range(dum2):\n",
    "        dum3 = dum[j]\n",
    "        y_selected_data[i-y_start,j] = dum3    \n",
    "#    for j in range(6):\n",
    "#        if j+1<=len(dum):\n",
    "#            dum3 = dum[j]\n",
    "#            try:\n",
    "#                selected_data[i-position_start,j] = dum3\n",
    "#            except ValueError as m:\n",
    "#                selected_data[i-position_start,j] = 0.0\n",
    "#            #print(dum3)\n",
    "#        elif j+1>len(dum):\n",
    "#            continue"
   ]
  },
  {
   "cell_type": "code",
   "execution_count": 12,
   "id": "176267d1-25ca-4a02-912e-7620c5605c0e",
   "metadata": {},
   "outputs": [
    {
     "name": "stdout",
     "output_type": "stream",
     "text": [
      "selected x [[1.2599098  1.26       1.26901977 1.27776925 1.28624994 1.29445865]\n",
      " [1.30221959 1.30952589 1.3164857  1.32276239 1.32860324 1.51683596]\n",
      " [1.51526877 1.51368404 1.51183043 1.50925203 1.50269063 1.4921673 ]\n",
      " ...\n",
      " [1.5645183  1.55766235 1.55249896 1.54924963 1.54828864 1.54900621]\n",
      " [1.55099502 1.55380157 1.55703266 1.56043557 1.56378234 1.56679889]\n",
      " [1.56934548 1.57121948 1.5722368  1.57224698 0.         0.        ]]\n",
      "selected x (2483, 6)\n",
      "2482\n",
      "(2483, 6)\n",
      "data len :  14898\n",
      "before end   1.5509950200000E+000  1.5538015700000E+000  1.5570326600000E+000  1.5604355700000E+000  1.5637823400000E+000  1.5667988900000E+000\n",
      "\n",
      "end   1.5693454800000E+000  1.5712194800000E+000  1.5722368000000E+000  1.5722469800000E+000\n",
      "\n",
      "next data *cf:    real           14896    cry                             \n",
      "\n",
      "start [1.30221959 1.30952589 1.3164857  1.32276239 1.32860324 1.51683596]\n"
     ]
    }
   ],
   "source": [
    "print(\"selected x\" , x_selected_data)\n",
    "print(\"selected x\" , np.shape(x_selected_data))\n",
    "\n",
    "\n",
    "print(x_selected_length)\n",
    "print(np.shape(x_selected_data))\n",
    "x_numerical_len = np.shape(x_selected_data)[0]*np.shape(x_selected_data)[1]\n",
    "\n",
    "print(\"data len : \", x_numerical_len)\n",
    "print(\"before end\", line[x_end-1])\n",
    "print(\"end\", line[x_end])\n",
    "print(\"next data\", line[x_end+1])\n",
    "\n",
    "\n",
    "print(\"start\", raw_data[x_start+1,:])\n",
    "\n"
   ]
  },
  {
   "cell_type": "code",
   "execution_count": 13,
   "id": "ce1cadc5-cbc9-46f3-9fed-b5928c37fe80",
   "metadata": {},
   "outputs": [
    {
     "name": "stdout",
     "output_type": "stream",
     "text": [
      "selected y [[-0.96733753 -0.96737449 -0.97107098 -0.97526688 -0.97983034 -0.98466882]\n",
      " [-0.98992063 -0.99549243 -1.00111592 -1.00705324 -1.01290486 -0.66803722]\n",
      " [-0.66713956 -0.66608093 -0.66484272 -0.66312029 -0.65860647 -0.65024057]\n",
      " ...\n",
      " [-1.00687331 -1.03434913 -1.06668203 -1.10255536 -1.14050216 -1.17892742]\n",
      " [-1.21629662 -1.25153429 -1.28407499 -1.31350663 -1.33938114 -1.36120947]\n",
      " [-1.37845463 -1.3905662  -1.39697679 -1.3970409   0.          0.        ]]\n",
      "selected y (2483, 6)\n",
      "2482\n",
      "(2483, 6)\n",
      "data len :  14898\n",
      "before end  -1.2162966200000E+000 -1.2515342900000E+000 -1.2840749900000E+000 -1.3135066300000E+000 -1.3393811400000E+000 -1.3612094700000E+000\n",
      "\n",
      "end  -1.3784546300000E+000 -1.3905662000000E+000 -1.3969767900000E+000 -1.3970409000000E+000\n",
      "\n",
      "next data *cf:    real           14896    fpsi                            \n",
      "\n",
      "start [-0.98992063 -0.99549243 -1.00111592 -1.00705324 -1.01290486 -0.66803722]\n"
     ]
    }
   ],
   "source": [
    "print(\"selected y\" , y_selected_data)\n",
    "print(\"selected y\" , np.shape(y_selected_data))\n",
    "\n",
    "\n",
    "print(y_selected_length)\n",
    "print(np.shape(y_selected_data))\n",
    "y_numerical_len = np.shape(y_selected_data)[0]*np.shape(y_selected_data)[1]\n",
    "\n",
    "print(\"data len : \", y_numerical_len)\n",
    "print(\"before end\", line[y_end-1])\n",
    "print(\"end\", line[y_end])\n",
    "print(\"next data\", line[y_end+1])\n",
    "\n",
    "\n",
    "print(\"start\", raw_data[y_start+1,:])"
   ]
  },
  {
   "cell_type": "code",
   "execution_count": null,
   "id": "4a090f80-f01b-47b3-aa48-0699305908f5",
   "metadata": {},
   "outputs": [],
   "source": []
  },
  {
   "cell_type": "code",
   "execution_count": null,
   "id": "a6542e38-ef04-495b-a823-db1515cb6aed",
   "metadata": {},
   "outputs": [],
   "source": []
  },
  {
   "cell_type": "code",
   "execution_count": 14,
   "id": "c72dd38c-d82c-442b-9a81-ee870ff7bfd5",
   "metadata": {},
   "outputs": [],
   "source": [
    "np.shape(x_selected_data)\n",
    "x_selected_data_merged = x_selected_data.reshape(x_numerical_len,1)\n",
    "x_selected_data_merged_deleted = x_selected_data_merged[:x_tot_len,0]\n",
    "\n",
    "np.shape(y_selected_data)\n",
    "y_selected_data_merged = y_selected_data.reshape(y_numerical_len,1)\n",
    "y_selected_data_merged_deleted = y_selected_data_merged[:y_tot_len,0]\n"
   ]
  },
  {
   "cell_type": "code",
   "execution_count": null,
   "id": "71c35f56-90c6-4e1c-bfca-e25283f3737e",
   "metadata": {},
   "outputs": [],
   "source": []
  },
  {
   "cell_type": "code",
   "execution_count": 15,
   "id": "2fe265cc-fa2a-4078-a4cb-a4789729fb77",
   "metadata": {},
   "outputs": [
    {
     "name": "stdout",
     "output_type": "stream",
     "text": [
      "[[1.25995489]\n",
      " [1.26451049]\n",
      " [1.27339635]\n",
      " ...\n",
      " [1.57026288]\n",
      " [1.57170851]\n",
      " [1.57222229]]\n",
      "[[-0.96733303]\n",
      " [-0.96919939]\n",
      " [-0.9731449 ]\n",
      " ...\n",
      " [-1.38449141]\n",
      " [-1.39375205]\n",
      " [-1.39698924]]\n"
     ]
    },
    {
     "data": {
      "image/png": "[encoded data removed]",
      "text/plain": [
       "<Figure size 432x288 with 1 Axes>"
      ]
     },
     "metadata": {
      "needs_background": "light"
     },
     "output_type": "display_data"
    },
    {
     "name": "stdout",
     "output_type": "stream",
     "text": [
      "(38, 98)\n"
     ]
    },
    {
     "data": {
      "text/plain": [
       "<Figure size 432x288 with 0 Axes>"
      ]
     },
     "metadata": {},
     "output_type": "display_data"
    }
   ],
   "source": [
    "x_selected_data_final =x_selected_data_merged_deleted.reshape(4, ny+2,nx+2)\n",
    "y_selected_data_final =y_selected_data_merged_deleted.reshape(4, ny+2,nx+2)\n",
    "\n",
    "x_center_data = x_selected_data_final.sum(axis = 0)/4\n",
    "y_center_data = y_selected_data_final.sum(axis = 0)/4\n",
    "x_tot_len1 = int(x_tot_len/4)\n",
    "y_tot_len1 = int(y_tot_len/4)\n",
    "\n",
    "\n",
    "x_center_data_final = x_center_data.reshape(x_tot_len1,1)\n",
    "y_center_data_final = y_center_data.reshape(y_tot_len1,1)\n",
    "\n",
    "\n",
    "x_corner_data = x_selected_data_final[1,:,:]\n",
    "y_corner_data = y_selected_data_final[1,:,:]\n",
    "al_x_center_data_final = x_corner_data.reshape(x_tot_len1,1)\n",
    "al_y_center_data_final = y_corner_data.reshape(y_tot_len1,1)\n",
    "\n",
    "print(x_center_data_final)\n",
    "print(y_center_data_final)\n",
    "#x,y = np.meshgrid(al_x_center_data_final, al_y_center_data_final)\n",
    "#plt.figure()\n",
    "\n",
    "#plt.figure(figsize=(6,12))\n",
    "plt.axes().set_aspect('equal')\n",
    "\n",
    "\n",
    "plt.scatter(x_center_data_final,y_center_data_final, s=0.5)\n",
    "\n",
    "plt.xlim([1.4, 1.6])\n",
    "plt.ylim([-1.6, -1.1])\n",
    "\n",
    "\n",
    "plt.show()\n",
    "print(np.shape(x_center_data))\n",
    "plt.savefig('./mesh.png', dpi=200)\n"
   ]
  },
  {
   "cell_type": "code",
   "execution_count": 16,
   "id": "0fcfd4b9-5995-4812-85b5-cfe6745aebe1",
   "metadata": {},
   "outputs": [
    {
     "data": {
      "text/plain": [
       "<matplotlib.collections.PathCollection at 0x127eacd90>"
      ]
     },
     "execution_count": 16,
     "metadata": {},
     "output_type": "execute_result"
    },
    {
     "data": {
      "image/png": "[encoded data removed]",
      "text/plain": [
       "<Figure size 432x288 with 1 Axes>"
      ]
     },
     "metadata": {
      "needs_background": "light"
     },
     "output_type": "display_data"
    }
   ],
   "source": [
    "\n",
    "plt.scatter(x_selected_data_final[0,:,:],y_selected_data_final[0,:,:], s=0.1)\n",
    "plt.scatter(x_selected_data_final[1,:,:],y_selected_data_final[1,:,:], s=0.1)\n",
    "plt.scatter(x_selected_data_final[2,:,:],y_selected_data_final[2,:,:], s=0.1)\n",
    "plt.scatter(x_selected_data_final[3,:,:],y_selected_data_final[3,:,:], s=0.1)\n",
    "\n",
    "\n",
    "\n"
   ]
  },
  {
   "cell_type": "code",
   "execution_count": 17,
   "id": "93417257-9b9e-4943-ab6a-8426ebee52bb",
   "metadata": {},
   "outputs": [
    {
     "name": "stdout",
     "output_type": "stream",
     "text": [
      "[[1.25995489]\n",
      " [1.26451049]\n",
      " [1.27339635]\n",
      " ...\n",
      " [1.57026288]\n",
      " [1.57170851]\n",
      " [1.57222229]]\n",
      "[[-0.96733303]\n",
      " [-0.96919939]\n",
      " [-0.9731449 ]\n",
      " ...\n",
      " [-1.38449141]\n",
      " [-1.39375205]\n",
      " [-1.39698924]]\n"
     ]
    }
   ],
   "source": [
    "np.shape(x_center_data_final)\n",
    "x_center_data_final_fl = np.squeeze(x_center_data_final)\n",
    "y_center_data_final_fl = np.squeeze(y_center_data_final)\n",
    "\n",
    "\n",
    "print(x_center_data_final)\n",
    "print(y_center_data_final)\n",
    "\n"
   ]
  },
  {
   "cell_type": "code",
   "execution_count": 18,
   "id": "0e7d2819-bc0c-4fd9-b94c-be844da4dd5b",
   "metadata": {},
   "outputs": [],
   "source": [
    "selected_mesh_final = np.concatenate((x_center_data_final,y_center_data_final),axis=1)\n"
   ]
  },
  {
   "cell_type": "code",
   "execution_count": 19,
   "id": "04d52c18-0c5a-4219-b1fa-6d3e8fab1e87",
   "metadata": {},
   "outputs": [
    {
     "name": "stdout",
     "output_type": "stream",
     "text": [
      "[[ 1.25995489 -0.96733303]\n",
      " [ 1.26451049 -0.96919939]\n",
      " [ 1.27339635 -0.9731449 ]\n",
      " ...\n",
      " [ 1.57026288 -1.38449141]\n",
      " [ 1.57170851 -1.39375205]\n",
      " [ 1.57222229 -1.39698924]]\n"
     ]
    }
   ],
   "source": [
    "print(selected_mesh_final)"
   ]
  },
  {
   "cell_type": "code",
   "execution_count": 20,
   "id": "0237df55-27b0-4827-b876-c60d9792afec",
   "metadata": {},
   "outputs": [],
   "source": [
    "np.save(\"./%s_geo_mesh_center\" % fname_or,selected_mesh_final)\n",
    "\n",
    "np.save(\"./%s_geo_mesh_x\" % fname_or,x_selected_data_final)\n",
    "np.save(\"./%s_geo_mesh_y\" % fname_or,y_selected_data_final)\n",
    "\n",
    "\n"
   ]
  },
  {
   "cell_type": "code",
   "execution_count": 21,
   "id": "a635d7a3-1361-4740-8cb7-51864ee97fc8",
   "metadata": {},
   "outputs": [
    {
     "name": "stdout",
     "output_type": "stream",
     "text": [
      "0.019612387140307528\n"
     ]
    }
   ],
   "source": [
    "a = get_distance([1,2], [3,4])\n",
    "print(a)"
   ]
  },
  {
   "cell_type": "code",
   "execution_count": 22,
   "id": "4a77d434-8f85-4df1-add8-b8849e31ad12",
   "metadata": {},
   "outputs": [
    {
     "data": {
      "text/plain": [
       "0.009682093853362848"
      ]
     },
     "execution_count": 22,
     "metadata": {},
     "output_type": "execute_result"
    }
   ],
   "source": [
    "get_distance([1,2],[2,3])"
   ]
  },
  {
   "cell_type": "code",
   "execution_count": 23,
   "id": "5df1151e-89cd-4a66-ab9d-7862b5144c42",
   "metadata": {},
   "outputs": [
    {
     "data": {
      "text/plain": [
       "<matplotlib.collections.PathCollection at 0x127f4b880>"
      ]
     },
     "execution_count": 23,
     "metadata": {},
     "output_type": "execute_result"
    },
    {
     "data": {
      "image/png": "[encoded data removed]",
      "text/plain": [
       "<Figure size 432x288 with 1 Axes>"
      ]
     },
     "metadata": {
      "needs_background": "light"
     },
     "output_type": "display_data"
    }
   ],
   "source": [
    "plt.scatter(x_selected_data_final[0,:,96],y_selected_data_final[0,:,96], s=0.5)\n",
    "plt.scatter(x_selected_data_final[0,:,97],y_selected_data_final[0,:,97], s=0.5)"
   ]
  },
  {
   "cell_type": "code",
   "execution_count": 24,
   "id": "8072817e-8597-492a-8272-9680e22a36f1",
   "metadata": {},
   "outputs": [
    {
     "name": "stdout",
     "output_type": "stream",
     "text": [
      "0.019612387140307528\n"
     ]
    }
   ],
   "source": [
    "a = get_distance([1,2], [3,4])\n",
    "print(a)"
   ]
  }
 ],
 "metadata": {
  "kernelspec": {
   "display_name": "Python 3.9.12",
   "language": "python",
   "name": "python3"
  },
  "language_info": {
   "codemirror_mode": {
    "name": "ipython",
    "version": 3
   },
   "file_extension": ".py",
   "mimetype": "text/x-python",
   "name": "python",
   "nbconvert_exporter": "python",
   "pygments_lexer": "ipython3",
   "version": "3.9.12"
  },
  "toc-autonumbering": true,
  "toc-showmarkdowntxt": true,
  "toc-showtags": true,
  "vscode": {
   "interpreter": {
    "hash": "df48fff27f64f3b68374eea5916fcf98c15539d1aa4691aec81d7ba803e7f0a1"
   }
  }
 },
 "nbformat": 4,
 "nbformat_minor": 5
}
