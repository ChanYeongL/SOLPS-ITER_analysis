{
 "cells": [
  {
   "cell_type": "markdown",
   "id": "0f20abfb-ede2-4131-97e7-4a992311560f",
   "metadata": {},
   "source": [
    "<span style=\"color:black; background-color:White; font-size:150%\">Modules </span> "
   ]
  },
  {
   "cell_type": "code",
   "execution_count": 1,
   "id": "09065735-70de-4379-8ad5-11465b4cdc7b",
   "metadata": {},
   "outputs": [],
   "source": [
    "import numpy as np\n",
    "import matplotlib.pyplot as plt\n",
    "import matplotlib.ticker as ticker\n",
    "from scipy.special import rel_entr\n",
    "import pickle"
   ]
  },
  {
   "cell_type": "markdown",
   "id": "ad3c407d-558a-40db-b634-5fce5c33c0bf",
   "metadata": {},
   "source": [
    "<span style=\"color:black; background-color:White; font-size:150%\"> Some functions & Parameters </span> "
   ]
  },
  {
   "cell_type": "code",
   "execution_count": 2,
   "id": "7bdec8c3-74f0-480d-83cc-c85c9f76bf07",
   "metadata": {},
   "outputs": [],
   "source": [
    "def is_valid_float(element: str) -> bool:\n",
    "    try:\n",
    "        float(element)\n",
    "        return True\n",
    "    except ValueError:\n",
    "        return False\n",
    "    "
   ]
  },
  {
   "cell_type": "code",
   "execution_count": 3,
   "id": "390c9a1a-1508-4951-a1d6-db0419f36255",
   "metadata": {},
   "outputs": [],
   "source": [
    "def check_float(element):\n",
    "    partition = element.partition('.')\n",
    "    \n",
    "    if element.isdigit():\n",
    "      newelement = float(element)\n",
    "      print('string is valid')\n",
    "\n",
    "    elif (partition[0].isdigit() and partition[1] == '.' and partition[2].isdigit()) or (partition[0] == '' and partition[1] == '.' and partition[2].isdigit()) or (partition[0].isdigit() and partition[1] == '.' and partition[2] == ''):\n",
    "            newelement = float(element)\n",
    "            print(newelement)\n",
    "            print(\"String is also valid !\")\n",
    "    else:\n",
    "        print(\"string is not valid !\")"
   ]
  },
  {
   "cell_type": "code",
   "execution_count": 4,
   "id": "a7abc4c5-3a85-4569-9231-345e7139ab3b",
   "metadata": {},
   "outputs": [],
   "source": [
    "def is_valid_string(element):\n",
    "    if element.isdigit():\n",
    "        print(\"String is valid\")\n",
    "    else:\n",
    "        print(\"String is not valid\")"
   ]
  },
  {
   "cell_type": "markdown",
   "id": "a005fa0b-a850-4246-adbe-2b5c7d3242a1",
   "metadata": {},
   "source": [
    "<span style=\"color:White; background-color:Black; font-size:130%\"> Data </span> "
   ]
  },
  {
   "cell_type": "code",
   "execution_count": 5,
   "id": "1847b617-82c4-436f-b0b3-e53d258cb245",
   "metadata": {},
   "outputs": [],
   "source": [
    "#fname_or = \"_co\"\n",
    "fname_or = \"new_mesh_co\"\n",
    "\n",
    "\n",
    "fname = \"./b2fgmtry_%s.txt\" %fname_or\n",
    "\n",
    "#def find_ni(fname):\n",
    "#    with open(fname) as f:\n",
    "#        line = f.readlines()\n",
    "#        print(line)\n",
    "#    return line\n",
    "    \n",
    "with open(fname,'r') as f:\n",
    "    line = f.readlines()\n",
    "    #line_1 = line.split()\n",
    "\n",
    "a=type(line)\n",
    "k = len(line)\n",
    "data_array = np.array(line)\n",
    "full_length = np.size(data_array)\n",
    "k1 = np.zeros(k)\n",
    "\n",
    "\n",
    "\n",
    "\n"
   ]
  },
  {
   "cell_type": "code",
   "execution_count": 6,
   "id": "90676af3-517f-4e1d-ac65-8665369056c5",
   "metadata": {},
   "outputs": [
    {
     "name": "stdout",
     "output_type": "stream",
     "text": [
      "         96         36\n",
      "\n"
     ]
    }
   ],
   "source": [
    "print(line[2])\n",
    "mesh = line[2].split()\n",
    "nx = 96\n",
    "ny = 36\n",
    "ns = 3\n",
    "data_name = 'gs'\n",
    "\n"
   ]
  },
  {
   "cell_type": "code",
   "execution_count": 7,
   "id": "d39783ff-5c61-46f8-a197-8c070cc1a36b",
   "metadata": {},
   "outputs": [
    {
     "name": "stdout",
     "output_type": "stream",
     "text": [
      "         96         36\n",
      "\n"
     ]
    }
   ],
   "source": [
    "print(line[2])\n"
   ]
  },
  {
   "cell_type": "code",
   "execution_count": null,
   "id": "9d18db59-905c-4f2c-ae20-bbb418954dbb",
   "metadata": {},
   "outputs": [],
   "source": []
  },
  {
   "cell_type": "markdown",
   "id": "59b0d71d-2d39-4c04-88c9-3bd1e6413c50",
   "metadata": {},
   "source": [
    "<span style= \"color:#5cffd1;font-size:250%\"> Main Code</span>  "
   ]
  },
  {
   "cell_type": "code",
   "execution_count": 8,
   "id": "57eb8eed-6441-49c4-8e5e-0d3c589a68c4",
   "metadata": {},
   "outputs": [],
   "source": [
    "raw_data = np.empty((full_length,6))\n",
    "\n",
    "for i in range(0, full_length):\n",
    "    \n",
    "    dum = line[i].split()\n",
    "    dum2 = len(dum)\n",
    "    \n",
    "    for j in range(6):\n",
    "        if j+1<=len(dum):\n",
    "\n",
    "            dum3 = dum[j]\n",
    "            \n",
    "            try:\n",
    "                raw_data[i,j] = dum3\n",
    "            except ValueError as m:\n",
    "                raw_data[i,j] = 0\n",
    "            #print(dum3)\n",
    "        elif j+1>len(dum):\n",
    "            continue\n",
    "\n"
   ]
  },
  {
   "cell_type": "code",
   "execution_count": 9,
   "id": "cf48be06-bf43-404b-ac4c-b2fa475fedaf",
   "metadata": {},
   "outputs": [
    {
     "name": "stdout",
     "output_type": "stream",
     "text": [
      "VERSION03.000.008 3.0.8-17-g7ceb865-dirty         \n",
      "\n",
      "*cf:    int                2    nx,ny                           \n",
      "\n",
      "*cf:    char             120    label                           \n",
      "\n",
      " b2ag     B2.5 bjb99/7 SOLPS-ITER  2022-06-24  13:28 chanyeonnew_convgeo_kstar24848.v002.geo                             \n",
      "\n",
      "*cf:    int                1    isymm                           \n",
      "\n",
      "*cf:    real           14896    crx                             \n",
      "\n",
      "*cf:    real           14896    cry                             \n",
      "\n",
      "*cf:    real           14896    fpsi                            \n",
      "\n",
      "*cf:    real           14896    ffbz                            \n",
      "\n",
      "*cf:    real           14896    bb                              \n",
      "\n",
      "*cf:    real            3724    vol                             \n",
      "\n",
      "*cf:    real            3724    hx                              \n",
      "\n",
      "*cf:    real            3724    hy                              \n",
      "\n",
      "*cf:    real            7448    qz                              \n",
      "\n",
      "*cf:    real            3724    qc                              \n",
      "\n",
      "*cf:    real           11172    gs                              \n",
      "\n",
      "*cf:    int                1    nlreg                           \n",
      "\n",
      "*cf:    int                0    nlxlo                           \n",
      "\n",
      "*cf:    int                0    nlxhi                           \n",
      "\n",
      "*cf:    int                0    nlylo                           \n",
      "\n",
      "*cf:    int                0    nlyhi                           \n",
      "\n",
      "*cf:    int                0    nlloc                           \n",
      "\n",
      "*cf:    int                1    nncut                           \n",
      "\n",
      "*cf:    int                1    leftcut                         \n",
      "\n",
      "*cf:    int                1    rightcut                        \n",
      "\n",
      "*cf:    int                1    topcut                          \n",
      "\n",
      "*cf:    int                1    bottomcut                       \n",
      "\n",
      "*cf:    int             3724    leftix                          \n",
      "\n",
      "*cf:    int             3724    rightix                         \n",
      "\n",
      "*cf:    int             3724    topix                           \n",
      "\n",
      "*cf:    int             3724    bottomix                        \n",
      "\n",
      "*cf:    int             3724    leftiy                          \n",
      "\n",
      "*cf:    int             3724    rightiy                         \n",
      "\n",
      "*cf:    int             3724    topiy                           \n",
      "\n",
      "*cf:    int             3724    bottomiy                        \n",
      "\n",
      "*cf:    int            11172    region                          \n",
      "\n",
      "*cf:    int                3    nnreg                           \n",
      "\n",
      "*cf:    int             7448    resignore                       \n",
      "\n",
      "*cf:    int                1    periodic_bc                     \n",
      "\n",
      "*cf:    real            7448    pbs                             \n",
      "\n",
      "*cf:    int                1    redef_gmtry                     \n",
      "\n",
      "*cf:    real           14896    wbbl                            \n",
      "\n",
      "*cf:    int            18620    cflags                          \n",
      "\n",
      "*cf:    real            3724    cell_width                      \n",
      "\n",
      "*cf:    real            3724    cell_height                     \n",
      "\n",
      "*cf:    real             100    parg                            \n",
      "\n"
     ]
    }
   ],
   "source": [
    "for i in range(0, full_length):  \n",
    "    dum = line[i].split()\n",
    "    dum2 = len(dum)\n",
    "    for j in range(6):\n",
    "        if j+1<=len(dum):\n",
    "            dum3 = dum[j]\n",
    "            try:\n",
    "                raw_data[i,j] = dum3\n",
    "            except ValueError as m:\n",
    "                raw_data[i,j] = 0\n",
    "                print(line[i])\n",
    "                break;\n",
    "        elif j+1>len(dum):\n",
    "            continue"
   ]
  },
  {
   "cell_type": "code",
   "execution_count": null,
   "id": "bc2fbbe1-f2bc-4914-95bd-bce5d5dc0515",
   "metadata": {},
   "outputs": [],
   "source": []
  },
  {
   "cell_type": "code",
   "execution_count": null,
   "id": "ad0d0e0b-9bf5-4878-87df-1541d4195d1f",
   "metadata": {},
   "outputs": [],
   "source": []
  },
  {
   "cell_type": "code",
   "execution_count": 10,
   "id": "ef4e7f38-3544-4dbc-8a8a-0eaa270e183f",
   "metadata": {},
   "outputs": [
    {
     "name": "stdout",
     "output_type": "stream",
     "text": [
      "first line 25822\n",
      "first line           9          9          9          9          9          9          9          9          9          9          9          9\n",
      "\n",
      "last line 27373\n",
      "last line           0          0          0          0          0          0          0          0\n",
      "\n",
      "data info ['*cf:', 'int', '18620', 'cflags']\n",
      "data info 18620\n"
     ]
    }
   ],
   "source": [
    "check_array = np.empty((1,6))\n",
    "for ch in range(full_length):\n",
    "    if data_name in line[ch]:\n",
    "        position_start = ch+1\n",
    "    else:\n",
    "        continue\n",
    "        \n",
    "for ch2 in range(position_start+1,full_length):\n",
    "    try:\n",
    "        check_cf = line[ch2].split()\n",
    "        check_er = float(check_cf[0])\n",
    "    except ValueError as m:\n",
    "        position_end = ch2-1\n",
    "#        print(ch2)\n",
    "        break;    \n",
    "print(\"first line\", position_start)\n",
    "print(\"first line\", line[position_start])\n",
    "print(\"last line\", position_end)\n",
    "print(\"last line\", line[position_end])\n",
    "\n",
    "\n",
    "#print(line[position_end])\n",
    "check_length = line[position_start-1].split()\n",
    "tot_len =int(check_length[2])\n",
    "print(\"data info\",check_length)\n",
    "print(\"data info\",tot_len)\n",
    "\n",
    "\n"
   ]
  },
  {
   "cell_type": "markdown",
   "id": "81375113-0ec5-4531-ba1d-636bf65ab092",
   "metadata": {},
   "source": [
    "<span style=\"font-size:150%\"> **Check data's Location**</span>  "
   ]
  },
  {
   "cell_type": "code",
   "execution_count": 11,
   "id": "a24e6139-9149-4cc5-985e-b210d5c79a42",
   "metadata": {},
   "outputs": [
    {
     "name": "stdout",
     "output_type": "stream",
     "text": [
      "first line 16159\n",
      "first line   0.0000000000000E+000  3.2941860919620E-004  3.3245207262332E-004  3.3836338126474E-004  3.4750386574923E-004  3.5874048294377E-004\n",
      "\n",
      "last line 18020\n",
      "last line   1.6077790321995E-006  1.3028771977489E-006  9.8670382879938E-007  6.4676332855030E-007  2.8367548189995E-007  2.8362737999806E-009\n",
      "\n",
      "data info ['*cf:', 'real', '11172', 'gs']\n",
      "data info 11172\n"
     ]
    }
   ],
   "source": [
    "check_array = np.empty((1,6))\n",
    "for ch in range(full_length):\n",
    "    if data_name in line[ch]:\n",
    "        if line[ch].split()[3]==data_name:\n",
    "            position_start = ch+1\n",
    "            break;\n",
    "        else:\n",
    "            continue\n",
    "    else:\n",
    "        continue\n",
    "        \n",
    "for ch2 in range(position_start+1,full_length):\n",
    "    try:\n",
    "        check_cf = line[ch2].split()\n",
    "        check_er = float(check_cf[0])\n",
    "    except ValueError as m:\n",
    "        position_end = ch2-1\n",
    "#        print(ch2)\n",
    "        break;    \n",
    "print(\"first line\", position_start)\n",
    "print(\"first line\", line[position_start])\n",
    "print(\"last line\", position_end)\n",
    "print(\"last line\", line[position_end])\n",
    "\n",
    "\n",
    "#print(line[position_end])\n",
    "check_length = line[position_start-1].split()\n",
    "tot_len =int(check_length[2])\n",
    "print(\"data info\",check_length)\n",
    "print(\"data info\",tot_len)\n",
    "\n"
   ]
  },
  {
   "cell_type": "code",
   "execution_count": 12,
   "id": "313cb633-c60e-42fc-aaa5-2cad2c1e9dbd",
   "metadata": {},
   "outputs": [
    {
     "name": "stdout",
     "output_type": "stream",
     "text": [
      "  0.0000000000000E+000  3.2941860919620E-004  3.3245207262332E-004  3.3836338126474E-004  3.4750386574923E-004  3.5874048294377E-004\n",
      "\n"
     ]
    }
   ],
   "source": [
    "print(line[position_start])"
   ]
  },
  {
   "cell_type": "code",
   "execution_count": 13,
   "id": "9e4deff7-1b68-4ddd-811f-f55832a2f707",
   "metadata": {},
   "outputs": [],
   "source": [
    "selected_length = position_end-position_start\n",
    "selected_data = np.zeros((selected_length+1,6))\n",
    "\n",
    "for i in range(position_start, position_end+1):\n",
    "    dum = line[i].split()\n",
    "    #print(line[i])\n",
    "    dum2 = len(dum)\n",
    "    for j in range(dum2):\n",
    "        dum3 = dum[j]\n",
    "        selected_data[i-position_start,j] = dum3    \n",
    "    \n",
    "#    for j in range(6):\n",
    "#        if j+1<=len(dum):\n",
    "#            dum3 = dum[j]\n",
    "#            try:\n",
    "#                selected_data[i-position_start,j] = dum3\n",
    "#            except ValueError as m:\n",
    "#                selected_data[i-position_start,j] = 0.0\n",
    "#            #print(dum3)\n",
    "#        elif j+1>len(dum):\n",
    "#            continue"
   ]
  },
  {
   "cell_type": "code",
   "execution_count": null,
   "id": "ebd1ec3c-a0bf-432e-bb57-4391a1678153",
   "metadata": {},
   "outputs": [],
   "source": []
  },
  {
   "cell_type": "code",
   "execution_count": 14,
   "id": "f8d1bb60-a9aa-451e-9b68-b3d47ca6e057",
   "metadata": {},
   "outputs": [
    {
     "name": "stdout",
     "output_type": "stream",
     "text": [
      "['1.6077790321995E-006', '1.3028771977489E-006', '9.8670382879938E-007', '6.4676332855030E-007', '2.8367548189995E-007', '2.8362737999806E-009']\n"
     ]
    }
   ],
   "source": [
    "print(line[position_end].split())"
   ]
  },
  {
   "cell_type": "code",
   "execution_count": 15,
   "id": "eac14ff4-7926-439f-a9ca-711abaecf3eb",
   "metadata": {},
   "outputs": [
    {
     "name": "stdout",
     "output_type": "stream",
     "text": [
      "0\n",
      "1\n",
      "2\n"
     ]
    }
   ],
   "source": [
    "for i in range(3):\n",
    "    print(i)"
   ]
  },
  {
   "cell_type": "code",
   "execution_count": null,
   "id": "181ecf08-d3dd-49ec-b055-f52c9b72dec5",
   "metadata": {},
   "outputs": [],
   "source": []
  },
  {
   "cell_type": "code",
   "execution_count": 16,
   "id": "46a04c54-c174-4f45-8863-fea9b60d2018",
   "metadata": {},
   "outputs": [
    {
     "data": {
      "text/plain": [
       "array([4.13708306e-02, 4.13847863e-04, 9.39601650e-10, 9.47145450e-08,\n",
       "       2.32667788e-07, 3.42204400e-07])"
      ]
     },
     "execution_count": 16,
     "metadata": {},
     "output_type": "execute_result"
    }
   ],
   "source": [
    "selected_data[1241,:]"
   ]
  },
  {
   "cell_type": "code",
   "execution_count": 17,
   "id": "176267d1-25ca-4a02-912e-7620c5605c0e",
   "metadata": {},
   "outputs": [
    {
     "name": "stdout",
     "output_type": "stream",
     "text": [
      "selected_data [[0.00000000e+00 3.29418609e-04 3.32452073e-04 3.38363381e-04\n",
      "  3.47503866e-04 3.58740483e-04]\n",
      " [3.65887233e-04 3.75446168e-04 3.80142467e-04 3.79477675e-04\n",
      "  3.78157813e-04 5.46164450e-04]\n",
      " [5.47439618e-04 5.51225104e-04 5.49692335e-04 5.44475281e-04\n",
      "  5.40403379e-04 5.29560239e-04]\n",
      " ...\n",
      " [1.18211065e-06 1.64337519e-06 2.40764140e-06 3.08615368e-06\n",
      "  3.43552307e-06 3.49102091e-06]\n",
      " [3.34693698e-06 3.09204875e-06 2.80005243e-06 2.49963369e-06\n",
      "  2.20162665e-06 1.90647450e-06]\n",
      " [1.60777903e-06 1.30287720e-06 9.86703829e-07 6.46763329e-07\n",
      "  2.83675482e-07 2.83627380e-09]]\n",
      "selected_data (1862, 6)\n",
      "1861\n",
      "(1862, 6)\n",
      "data len :  11172\n",
      "before end   3.3469369807056E-006  3.0920487492004E-006  2.8000524311979E-006  2.4996336853482E-006  2.2016266526499E-006  1.9064745020997E-006\n",
      "\n",
      "end   1.6077790321995E-006  1.3028771977489E-006  9.8670382879938E-007  6.4676332855030E-007  2.8367548189995E-007  2.8362737999806E-009\n",
      "\n",
      "next data *cf:    int                1    nlreg                           \n",
      "\n",
      "start [0.00036589 0.00037545 0.00038014 0.00037948 0.00037816 0.00054616]\n"
     ]
    }
   ],
   "source": [
    "print(\"selected_data\" , selected_data)\n",
    "print(\"selected_data\" , np.shape(selected_data))\n",
    "\n",
    "\n",
    "print(selected_length)\n",
    "print(np.shape(selected_data))\n",
    "numerical_len = np.shape(selected_data)[0]*np.shape(selected_data)[1]\n",
    "\n",
    "print(\"data len : \", numerical_len)\n",
    "print(\"before end\", line[position_end-1])\n",
    "print(\"end\", line[position_end])\n",
    "print(\"next data\", line[position_end+1])\n",
    "\n",
    "\n",
    "print(\"start\", raw_data[position_start+1,:])\n",
    "\n"
   ]
  },
  {
   "cell_type": "code",
   "execution_count": 18,
   "id": "c72dd38c-d82c-442b-9a81-ee870ff7bfd5",
   "metadata": {},
   "outputs": [
    {
     "name": "stdout",
     "output_type": "stream",
     "text": [
      "me [[0.00000000e+00]\n",
      " [3.29418609e-04]\n",
      " [3.32452073e-04]\n",
      " ...\n",
      " [6.46763329e-07]\n",
      " [2.83675482e-07]\n",
      " [2.83627380e-09]]\n",
      "de [0.00000000e+00 3.29418609e-04 3.32452073e-04 ... 6.46763329e-07\n",
      " 2.83675482e-07 2.83627380e-09]\n",
      "(11172, 1)\n",
      "me check [3.422044e-07]\n",
      "(11172,)\n",
      "de check 0.00041384786324026\n"
     ]
    }
   ],
   "source": [
    "np.shape(selected_data)\n",
    "selected_data_merged = selected_data.reshape(numerical_len,1)\n",
    "selected_data_merged_deleted = selected_data_merged[:tot_len,0]\n",
    "\n",
    "print(\"me\",selected_data_merged)\n",
    "print(\"de\",selected_data_merged_deleted)\n",
    "print(np.shape(selected_data_merged))\n",
    "print(\"me check\",selected_data_merged[7451])\n",
    "print(np.shape(selected_data_merged_deleted))\n",
    "print(\"de check\",selected_data_merged_deleted[7447])\n",
    "\n"
   ]
  },
  {
   "cell_type": "code",
   "execution_count": null,
   "id": "5a83bf0d-6403-4847-9810-81eab161cae3",
   "metadata": {},
   "outputs": [],
   "source": []
  },
  {
   "cell_type": "code",
   "execution_count": 19,
   "id": "59629308-ef69-45f5-a51c-b68036ee2bd2",
   "metadata": {},
   "outputs": [
    {
     "name": "stdout",
     "output_type": "stream",
     "text": [
      "[[[0.00000000e+00 3.29418609e-04 3.32452073e-04 ... 3.82577921e-04\n",
      "   3.94512122e-04 3.99858017e-04]\n",
      "  [0.00000000e+00 3.29394859e-02 3.32489383e-02 ... 3.83010750e-02\n",
      "   3.94998587e-02 4.00312039e-02]\n",
      "  [0.00000000e+00 3.57642841e-02 3.60709428e-02 ... 4.07587005e-02\n",
      "   4.19415517e-02 4.24565898e-02]\n",
      "  ...\n",
      "  [0.00000000e+00 1.88104676e-01 1.89713657e-01 ... 1.09285644e-01\n",
      "   1.09539605e-01 1.09494277e-01]\n",
      "  [0.00000000e+00 2.20197854e-01 2.21702341e-01 ... 1.14035431e-01\n",
      "   1.14963342e-01 1.15424960e-01]\n",
      "  [0.00000000e+00 2.20198250e-03 2.21676802e-03 ... 1.14344165e-03\n",
      "   1.15273137e-03 1.15737978e-03]]\n",
      "\n",
      " [[0.00000000e+00 0.00000000e+00 0.00000000e+00 ... 0.00000000e+00\n",
      "   0.00000000e+00 0.00000000e+00]\n",
      "  [1.93856859e-04 1.94044261e-02 4.71469542e-02 ... 5.12668334e-02\n",
      "   2.29997379e-02 2.30075056e-04]\n",
      "  [1.98955676e-04 1.99175544e-02 4.84326628e-02 ... 5.27551693e-02\n",
      "   2.36598595e-02 2.36629911e-04]\n",
      "  ...\n",
      "  [3.12214851e-04 3.12478758e-02 7.64039129e-02 ... 9.11058212e-02\n",
      "   4.03099045e-02 4.03242058e-04]\n",
      "  [3.13108234e-04 3.13333825e-02 7.65424801e-02 ... 9.18573173e-02\n",
      "   4.06389979e-02 4.06526225e-04]\n",
      "  [3.17065993e-04 3.17213040e-02 7.73946203e-02 ... 9.35189587e-02\n",
      "   4.13708306e-02 4.13847863e-04]]\n",
      "\n",
      " [[9.39601650e-10 9.47145450e-08 2.32667788e-07 ... 1.28283263e-07\n",
      "   5.71579364e-08 5.71084250e-10]\n",
      "  [9.56887240e-08 9.64414049e-06 2.36825985e-05 ... 1.30111831e-05\n",
      "   5.79927225e-06 5.79365442e-08]\n",
      "  [1.07712656e-07 1.08457209e-05 2.67278060e-05 ... 1.43860585e-05\n",
      "   6.36649771e-06 6.34184312e-08]\n",
      "  ...\n",
      "  [4.15732410e-07 4.22832939e-05 1.03462288e-04 ... 6.07690947e-05\n",
      "   2.65499895e-05 2.64766785e-07]\n",
      "  [4.06719273e-07 4.12779163e-05 1.00663365e-04 ... 6.41432795e-05\n",
      "   2.81767890e-05 2.81746707e-07]\n",
      "  [3.70159910e-09 3.76120479e-07 9.11278624e-07 ... 6.46763329e-07\n",
      "   2.83675482e-07 2.83627380e-09]]]\n"
     ]
    }
   ],
   "source": [
    "selected_data_final = selected_data_merged_deleted.reshape(ns, ny+2,nx+2)\n",
    "\n",
    "print(selected_data_final)"
   ]
  },
  {
   "cell_type": "code",
   "execution_count": 20,
   "id": "4a885de9-2e61-4845-a3f2-9c9405cc19c1",
   "metadata": {},
   "outputs": [
    {
     "data": {
      "text/plain": [
       "str"
      ]
     },
     "execution_count": 20,
     "metadata": {},
     "output_type": "execute_result"
    }
   ],
   "source": [
    "type(data_name)"
   ]
  },
  {
   "cell_type": "code",
   "execution_count": 21,
   "id": "0ff8c064-e7fc-4aa9-a0a5-655c523b9944",
   "metadata": {},
   "outputs": [
    {
     "name": "stdout",
     "output_type": "stream",
     "text": [
      "[[[0.00000000e+00 3.29418609e-04 3.32452073e-04 ... 3.82577921e-04\n",
      "   3.94512122e-04 3.99858017e-04]\n",
      "  [0.00000000e+00 3.29394859e-02 3.32489383e-02 ... 3.83010750e-02\n",
      "   3.94998587e-02 4.00312039e-02]\n",
      "  [0.00000000e+00 3.57642841e-02 3.60709428e-02 ... 4.07587005e-02\n",
      "   4.19415517e-02 4.24565898e-02]\n",
      "  ...\n",
      "  [0.00000000e+00 1.88104676e-01 1.89713657e-01 ... 1.09285644e-01\n",
      "   1.09539605e-01 1.09494277e-01]\n",
      "  [0.00000000e+00 2.20197854e-01 2.21702341e-01 ... 1.14035431e-01\n",
      "   1.14963342e-01 1.15424960e-01]\n",
      "  [0.00000000e+00 2.20198250e-03 2.21676802e-03 ... 1.14344165e-03\n",
      "   1.15273137e-03 1.15737978e-03]]\n",
      "\n",
      " [[0.00000000e+00 0.00000000e+00 0.00000000e+00 ... 0.00000000e+00\n",
      "   0.00000000e+00 0.00000000e+00]\n",
      "  [1.93856859e-04 1.94044261e-02 4.71469542e-02 ... 5.12668334e-02\n",
      "   2.29997379e-02 2.30075056e-04]\n",
      "  [1.98955676e-04 1.99175544e-02 4.84326628e-02 ... 5.27551693e-02\n",
      "   2.36598595e-02 2.36629911e-04]\n",
      "  ...\n",
      "  [3.12214851e-04 3.12478758e-02 7.64039129e-02 ... 9.11058212e-02\n",
      "   4.03099045e-02 4.03242058e-04]\n",
      "  [3.13108234e-04 3.13333825e-02 7.65424801e-02 ... 9.18573173e-02\n",
      "   4.06389979e-02 4.06526225e-04]\n",
      "  [3.17065993e-04 3.17213040e-02 7.73946203e-02 ... 9.35189587e-02\n",
      "   4.13708306e-02 4.13847863e-04]]\n",
      "\n",
      " [[9.39601650e-10 9.47145450e-08 2.32667788e-07 ... 1.28283263e-07\n",
      "   5.71579364e-08 5.71084250e-10]\n",
      "  [9.56887240e-08 9.64414049e-06 2.36825985e-05 ... 1.30111831e-05\n",
      "   5.79927225e-06 5.79365442e-08]\n",
      "  [1.07712656e-07 1.08457209e-05 2.67278060e-05 ... 1.43860585e-05\n",
      "   6.36649771e-06 6.34184312e-08]\n",
      "  ...\n",
      "  [4.15732410e-07 4.22832939e-05 1.03462288e-04 ... 6.07690947e-05\n",
      "   2.65499895e-05 2.64766785e-07]\n",
      "  [4.06719273e-07 4.12779163e-05 1.00663365e-04 ... 6.41432795e-05\n",
      "   2.81767890e-05 2.81746707e-07]\n",
      "  [3.70159910e-09 3.76120479e-07 9.11278624e-07 ... 6.46763329e-07\n",
      "   2.83675482e-07 2.83627380e-09]]]\n"
     ]
    },
    {
     "data": {
      "image/png": "[encoded data removed]",
      "text/plain": [
       "<Figure size 432x288 with 2 Axes>"
      ]
     },
     "metadata": {
      "needs_background": "light"
     },
     "output_type": "display_data"
    }
   ],
   "source": [
    "print(selected_data_final)\n",
    "map_plot = plt.pcolormesh(selected_data_final[0,:,:])\n",
    "plt.savefig(data_name)\n",
    "plt.title(data_name)\n",
    "plt.colorbar()\n",
    "#plt.show()\n",
    "np.save(\"./%s_%s\" %(data_name,fname_or), selected_data_final)"
   ]
  },
  {
   "cell_type": "code",
   "execution_count": 22,
   "id": "73864c8f-82c0-453c-afe9-254d591d0cfc",
   "metadata": {},
   "outputs": [
    {
     "name": "stdout",
     "output_type": "stream",
     "text": [
      "I love gs in \n"
     ]
    }
   ],
   "source": [
    "print(\"I love %s in \" % data_name)"
   ]
  },
  {
   "cell_type": "code",
   "execution_count": null,
   "id": "b0c05d9f-3717-4bd6-9c63-a32f54b509e9",
   "metadata": {},
   "outputs": [],
   "source": []
  },
  {
   "cell_type": "markdown",
   "id": "1b258eef-1564-4c8a-a15f-a6f9226a6155",
   "metadata": {},
   "source": [
    "<span style=\"color:#87cefa; font-size:150%\"> Heat flux calculation</span> "
   ]
  },
  {
   "cell_type": "code",
   "execution_count": null,
   "id": "f57383c4-5943-4be1-98d2-c4383a4bc758",
   "metadata": {},
   "outputs": [],
   "source": []
  },
  {
   "cell_type": "markdown",
   "id": "d67d3e82-6572-4ea8-9b95-b294a2766bd4",
   "metadata": {},
   "source": [
    "<span style=\"font-size:130%\"> Poloidal Flux</span> "
   ]
  },
  {
   "cell_type": "markdown",
   "id": "b31200a5-e621-43dd-9fe6-f8387f045cab",
   "metadata": {},
   "source": [
    "<span style=\"font-size:130%\"> Radial Flux</span> "
   ]
  }
 ],
 "metadata": {
  "kernelspec": {
   "display_name": "Python 3 (ipykernel)",
   "language": "python",
   "name": "python3"
  },
  "language_info": {
   "codemirror_mode": {
    "name": "ipython",
    "version": 3
   },
   "file_extension": ".py",
   "mimetype": "text/x-python",
   "name": "python",
   "nbconvert_exporter": "python",
   "pygments_lexer": "ipython3",
   "version": "3.9.12"
  },
  "toc-autonumbering": true,
  "toc-showmarkdowntxt": true,
  "toc-showtags": true
 },
 "nbformat": 4,
 "nbformat_minor": 5
}
