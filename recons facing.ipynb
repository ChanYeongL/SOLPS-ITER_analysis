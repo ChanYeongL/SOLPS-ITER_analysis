{
 "cells": [
  {
   "cell_type": "markdown",
   "id": "0f20abfb-ede2-4131-97e7-4a992311560f",
   "metadata": {},
   "source": [
    "<span style=\"color:black; background-color:White; font-size:150%\">Modules </span> "
   ]
  },
  {
   "cell_type": "code",
   "execution_count": 109,
   "id": "09065735-70de-4379-8ad5-11465b4cdc7b",
   "metadata": {},
   "outputs": [],
   "source": [
    "import numpy as np\n",
    "import matplotlib.pyplot as plt\n",
    "import matplotlib.ticker as ticker\n",
    "from scipy.special import rel_entr\n",
    "import pickle"
   ]
  },
  {
   "cell_type": "markdown",
   "id": "ad3c407d-558a-40db-b634-5fce5c33c0bf",
   "metadata": {},
   "source": [
    "<span style=\"color:black; background-color:White; font-size:150%\"> Some functions & Parameters </span> "
   ]
  },
  {
   "cell_type": "code",
   "execution_count": 110,
   "id": "7bdec8c3-74f0-480d-83cc-c85c9f76bf07",
   "metadata": {},
   "outputs": [],
   "source": [
    "def is_valid_float(element: str) -> bool:\n",
    "    try:\n",
    "        float(element)\n",
    "        return True\n",
    "    except ValueError:\n",
    "        return False\n",
    "    "
   ]
  },
  {
   "cell_type": "code",
   "execution_count": 111,
   "id": "390c9a1a-1508-4951-a1d6-db0419f36255",
   "metadata": {},
   "outputs": [],
   "source": [
    "def check_float(element):\n",
    "    partition = element.partition('.')\n",
    "    \n",
    "    if element.isdigit():\n",
    "      newelement = float(element)\n",
    "      print('string is valid')\n",
    "\n",
    "    elif (partition[0].isdigit() and partition[1] == '.' and partition[2].isdigit()) or (partition[0] == '' and partition[1] == '.' and partition[2].isdigit()) or (partition[0].isdigit() and partition[1] == '.' and partition[2] == ''):\n",
    "            newelement = float(element)\n",
    "            print(newelement)\n",
    "            print(\"String is also valid !\")\n",
    "    else:\n",
    "        print(\"string is not valid !\")"
   ]
  },
  {
   "cell_type": "code",
   "execution_count": 112,
   "id": "a7abc4c5-3a85-4569-9231-345e7139ab3b",
   "metadata": {},
   "outputs": [],
   "source": [
    "def is_valid_string(element):\n",
    "    if element.isdigit():\n",
    "        print(\"String is valid\")\n",
    "    else:\n",
    "        print(\"String is not valid\")"
   ]
  },
  {
   "cell_type": "markdown",
   "id": "a005fa0b-a850-4246-adbe-2b5c7d3242a1",
   "metadata": {},
   "source": [
    "<span style=\"color:White; background-color:Black; font-size:130%\"> Data </span> "
   ]
  },
  {
   "cell_type": "code",
   "execution_count": 113,
   "id": "1847b617-82c4-436f-b0b3-e53d258cb245",
   "metadata": {},
   "outputs": [],
   "source": [
    "#fname_or = \"_co\"\n",
    "fname_or = \"new_mesh_co\"\n",
    "\n",
    "\n",
    "fname = \"./b2fgmtry_new_mesh_co.txt\" \n",
    "\n",
    "#def find_ni(fname):\n",
    "#    with open(fname) as f:\n",
    "#        line = f.readlines()\n",
    "#        print(line)\n",
    "#    return line\n",
    "    \n",
    "with open(fname,'r') as f:\n",
    "    line = f.readlines()\n",
    "    #line_1 = line.split()\n",
    "\n",
    "a=type(line)\n",
    "k = len(line)\n",
    "data_array = np.array(line)\n",
    "full_length = np.size(data_array)\n",
    "k1 = np.zeros(k)\n",
    "\n",
    "\n",
    "\n",
    "\n"
   ]
  },
  {
   "cell_type": "code",
   "execution_count": 114,
   "id": "90676af3-517f-4e1d-ac65-8665369056c5",
   "metadata": {},
   "outputs": [
    {
     "name": "stdout",
     "output_type": "stream",
     "text": [
      "         96         36\n",
      "\n"
     ]
    }
   ],
   "source": [
    "print(line[2])\n",
    "mesh = line[2].split()\n",
    "nx = 96\n",
    "ny = 36\n",
    "ns = 3\n",
    "data_name = 'qc'\n",
    "\n"
   ]
  },
  {
   "cell_type": "code",
   "execution_count": 115,
   "id": "d39783ff-5c61-46f8-a197-8c070cc1a36b",
   "metadata": {},
   "outputs": [
    {
     "name": "stdout",
     "output_type": "stream",
     "text": [
      "         96         36\n",
      "\n"
     ]
    }
   ],
   "source": [
    "print(line[2])\n"
   ]
  },
  {
   "cell_type": "code",
   "execution_count": null,
   "id": "9d18db59-905c-4f2c-ae20-bbb418954dbb",
   "metadata": {},
   "outputs": [],
   "source": []
  },
  {
   "cell_type": "markdown",
   "id": "59b0d71d-2d39-4c04-88c9-3bd1e6413c50",
   "metadata": {},
   "source": [
    "<span style= \"color:#5cffd1;font-size:250%\"> Main Code</span>  "
   ]
  },
  {
   "cell_type": "code",
   "execution_count": 116,
   "id": "57eb8eed-6441-49c4-8e5e-0d3c589a68c4",
   "metadata": {},
   "outputs": [],
   "source": [
    "raw_data = np.empty((full_length,6))\n",
    "\n",
    "for i in range(0, full_length):\n",
    "    \n",
    "    dum = line[i].split()\n",
    "    dum2 = len(dum)\n",
    "    \n",
    "    for j in range(6):\n",
    "        if j+1<=len(dum):\n",
    "\n",
    "            dum3 = dum[j]\n",
    "            \n",
    "            try:\n",
    "                raw_data[i,j] = dum3\n",
    "            except ValueError as m:\n",
    "                raw_data[i,j] = 0\n",
    "            #print(dum3)\n",
    "        elif j+1>len(dum):\n",
    "            continue\n",
    "\n"
   ]
  },
  {
   "cell_type": "code",
   "execution_count": 117,
   "id": "cf48be06-bf43-404b-ac4c-b2fa475fedaf",
   "metadata": {},
   "outputs": [
    {
     "name": "stdout",
     "output_type": "stream",
     "text": [
      "VERSION03.000.008 3.0.8-17-g7ceb865-dirty         \n",
      "\n",
      "*cf:    int                2    nx,ny                           \n",
      "\n",
      "*cf:    char             120    label                           \n",
      "\n",
      " b2ag     B2.5 bjb99/7 SOLPS-ITER  2022-06-24  13:28 chanyeonnew_convgeo_kstar24848.v002.geo                             \n",
      "\n",
      "*cf:    int                1    isymm                           \n",
      "\n",
      "*cf:    real           14896    crx                             \n",
      "\n",
      "*cf:    real           14896    cry                             \n",
      "\n",
      "*cf:    real           14896    fpsi                            \n",
      "\n",
      "*cf:    real           14896    ffbz                            \n",
      "\n",
      "*cf:    real           14896    bb                              \n",
      "\n",
      "*cf:    real            3724    vol                             \n",
      "\n",
      "*cf:    real            3724    hx                              \n",
      "\n",
      "*cf:    real            3724    hy                              \n",
      "\n",
      "*cf:    real            7448    qz                              \n",
      "\n",
      "*cf:    real            3724    qc                              \n",
      "\n",
      "*cf:    real           11172    gs                              \n",
      "\n",
      "*cf:    int                1    nlreg                           \n",
      "\n",
      "*cf:    int                0    nlxlo                           \n",
      "\n",
      "*cf:    int                0    nlxhi                           \n",
      "\n",
      "*cf:    int                0    nlylo                           \n",
      "\n",
      "*cf:    int                0    nlyhi                           \n",
      "\n",
      "*cf:    int                0    nlloc                           \n",
      "\n",
      "*cf:    int                1    nncut                           \n",
      "\n",
      "*cf:    int                1    leftcut                         \n",
      "\n",
      "*cf:    int                1    rightcut                        \n",
      "\n",
      "*cf:    int                1    topcut                          \n",
      "\n",
      "*cf:    int                1    bottomcut                       \n",
      "\n",
      "*cf:    int             3724    leftix                          \n",
      "\n",
      "*cf:    int             3724    rightix                         \n",
      "\n",
      "*cf:    int             3724    topix                           \n",
      "\n",
      "*cf:    int             3724    bottomix                        \n",
      "\n",
      "*cf:    int             3724    leftiy                          \n",
      "\n",
      "*cf:    int             3724    rightiy                         \n",
      "\n",
      "*cf:    int             3724    topiy                           \n",
      "\n",
      "*cf:    int             3724    bottomiy                        \n",
      "\n",
      "*cf:    int            11172    region                          \n",
      "\n",
      "*cf:    int                3    nnreg                           \n",
      "\n",
      "*cf:    int             7448    resignore                       \n",
      "\n",
      "*cf:    int                1    periodic_bc                     \n",
      "\n",
      "*cf:    real            7448    pbs                             \n",
      "\n",
      "*cf:    int                1    redef_gmtry                     \n",
      "\n",
      "*cf:    real           14896    wbbl                            \n",
      "\n",
      "*cf:    int            18620    cflags                          \n",
      "\n",
      "*cf:    real            3724    cell_width                      \n",
      "\n",
      "*cf:    real            3724    cell_height                     \n",
      "\n",
      "*cf:    real             100    parg                            \n",
      "\n"
     ]
    }
   ],
   "source": [
    "for i in range(0, full_length):  \n",
    "    dum = line[i].split()\n",
    "    dum2 = len(dum)\n",
    "    for j in range(6):\n",
    "        if j+1<=len(dum):\n",
    "            dum3 = dum[j]\n",
    "            try:\n",
    "                raw_data[i,j] = dum3\n",
    "            except ValueError as m:\n",
    "                raw_data[i,j] = 0\n",
    "                print(line[i])\n",
    "                break;\n",
    "        elif j+1>len(dum):\n",
    "            continue"
   ]
  },
  {
   "cell_type": "code",
   "execution_count": null,
   "id": "bc2fbbe1-f2bc-4914-95bd-bce5d5dc0515",
   "metadata": {},
   "outputs": [],
   "source": []
  },
  {
   "cell_type": "code",
   "execution_count": null,
   "id": "ad0d0e0b-9bf5-4878-87df-1541d4195d1f",
   "metadata": {},
   "outputs": [],
   "source": []
  },
  {
   "cell_type": "code",
   "execution_count": 118,
   "id": "ef4e7f38-3544-4dbc-8a8a-0eaa270e183f",
   "metadata": {},
   "outputs": [
    {
     "name": "stdout",
     "output_type": "stream",
     "text": [
      "first line 15537\n",
      "first line   9.2233629161774E-001  9.2242995533357E-001  9.2736502131903E-001  9.3304228086118E-001  9.3969879133160E-001  9.4542046741324E-001\n",
      "\n",
      "last line 16157\n",
      "last line   5.9686621029889E-001  5.7986192934280E-001  5.6875018440122E-001  5.6555753442036E-001\n",
      "\n",
      "data info ['*cf:', 'real', '3724', 'qc']\n",
      "data info 3724\n"
     ]
    }
   ],
   "source": [
    "check_array = np.empty((1,6))\n",
    "for ch in range(full_length):\n",
    "    if data_name in line[ch]:\n",
    "        position_start = ch+1\n",
    "    else:\n",
    "        continue\n",
    "        \n",
    "for ch2 in range(position_start+1,full_length):\n",
    "    try:\n",
    "        check_cf = line[ch2].split()\n",
    "        check_er = float(check_cf[0])\n",
    "    except ValueError as m:\n",
    "        position_end = ch2-1\n",
    "#        print(ch2)\n",
    "        break;    \n",
    "print(\"first line\", position_start)\n",
    "print(\"first line\", line[position_start])\n",
    "print(\"last line\", position_end)\n",
    "print(\"last line\", line[position_end])\n",
    "\n",
    "\n",
    "#print(line[position_end])\n",
    "check_length = line[position_start-1].split()\n",
    "tot_len =int(check_length[2])\n",
    "print(\"data info\",check_length)\n",
    "print(\"data info\",tot_len)\n",
    "\n",
    "\n"
   ]
  },
  {
   "cell_type": "markdown",
   "id": "81375113-0ec5-4531-ba1d-636bf65ab092",
   "metadata": {},
   "source": [
    "<span style=\"font-size:150%\"> **Check data's Location**</span>  "
   ]
  },
  {
   "cell_type": "code",
   "execution_count": 119,
   "id": "a24e6139-9149-4cc5-985e-b210d5c79a42",
   "metadata": {},
   "outputs": [
    {
     "name": "stdout",
     "output_type": "stream",
     "text": [
      "first line 15537\n",
      "first line   9.2233629161774E-001  9.2242995533357E-001  9.2736502131903E-001  9.3304228086118E-001  9.3969879133160E-001  9.4542046741324E-001\n",
      "\n",
      "last line 16157\n",
      "last line   5.9686621029889E-001  5.7986192934280E-001  5.6875018440122E-001  5.6555753442036E-001\n",
      "\n",
      "data info ['*cf:', 'real', '3724', 'qc']\n",
      "data info 3724\n"
     ]
    }
   ],
   "source": [
    "check_array = np.empty((1,6))\n",
    "for ch in range(full_length):\n",
    "    if data_name in line[ch]:\n",
    "        if line[ch].split()[3]==data_name:\n",
    "            position_start = ch+1\n",
    "            break;\n",
    "        else:\n",
    "            continue\n",
    "    else:\n",
    "        continue\n",
    "        \n",
    "for ch2 in range(position_start+1,full_length):\n",
    "    try:\n",
    "        check_cf = line[ch2].split()\n",
    "        check_er = float(check_cf[0])\n",
    "    except ValueError as m:\n",
    "        position_end = ch2-1\n",
    "#        print(ch2)\n",
    "        break;    \n",
    "print(\"first line\", position_start)\n",
    "print(\"first line\", line[position_start])\n",
    "print(\"last line\", position_end)\n",
    "print(\"last line\", line[position_end])\n",
    "\n",
    "\n",
    "#print(line[position_end])\n",
    "check_length = line[position_start-1].split()\n",
    "tot_len =int(check_length[2])\n",
    "print(\"data info\",check_length)\n",
    "print(\"data info\",tot_len)\n",
    "\n"
   ]
  },
  {
   "cell_type": "code",
   "execution_count": 120,
   "id": "313cb633-c60e-42fc-aaa5-2cad2c1e9dbd",
   "metadata": {},
   "outputs": [
    {
     "name": "stdout",
     "output_type": "stream",
     "text": [
      "  9.2233629161774E-001  9.2242995533357E-001  9.2736502131903E-001  9.3304228086118E-001  9.3969879133160E-001  9.4542046741324E-001\n",
      "\n"
     ]
    }
   ],
   "source": [
    "print(line[position_start])"
   ]
  },
  {
   "cell_type": "code",
   "execution_count": 121,
   "id": "9e4deff7-1b68-4ddd-811f-f55832a2f707",
   "metadata": {},
   "outputs": [],
   "source": [
    "selected_length = position_end-position_start\n",
    "selected_data = np.zeros((selected_length+1,6))\n",
    "\n",
    "for i in range(position_start, position_end+1):\n",
    "    dum = line[i].split()\n",
    "    #print(line[i])\n",
    "    dum2 = len(dum)\n",
    "    for j in range(dum2):\n",
    "        dum3 = dum[j]\n",
    "        selected_data[i-position_start,j] = dum3    \n",
    "    \n",
    "#    for j in range(6):\n",
    "#        if j+1<=len(dum):\n",
    "#            dum3 = dum[j]\n",
    "#            try:\n",
    "#                selected_data[i-position_start,j] = dum3\n",
    "#            except ValueError as m:\n",
    "#                selected_data[i-position_start,j] = 0.0\n",
    "#            #print(dum3)\n",
    "#        elif j+1>len(dum):\n",
    "#            continue"
   ]
  },
  {
   "cell_type": "code",
   "execution_count": null,
   "id": "ebd1ec3c-a0bf-432e-bb57-4391a1678153",
   "metadata": {},
   "outputs": [],
   "source": []
  },
  {
   "cell_type": "code",
   "execution_count": 122,
   "id": "f8d1bb60-a9aa-451e-9b68-b3d47ca6e057",
   "metadata": {},
   "outputs": [
    {
     "name": "stdout",
     "output_type": "stream",
     "text": [
      "['5.9686621029889E-001', '5.7986192934280E-001', '5.6875018440122E-001', '5.6555753442036E-001']\n"
     ]
    }
   ],
   "source": [
    "print(line[position_end].split())"
   ]
  },
  {
   "cell_type": "code",
   "execution_count": 123,
   "id": "eac14ff4-7926-439f-a9ca-711abaecf3eb",
   "metadata": {},
   "outputs": [
    {
     "name": "stdout",
     "output_type": "stream",
     "text": [
      "0\n",
      "1\n",
      "2\n"
     ]
    }
   ],
   "source": [
    "for i in range(3):\n",
    "    print(i)"
   ]
  },
  {
   "cell_type": "code",
   "execution_count": null,
   "id": "181ecf08-d3dd-49ec-b055-f52c9b72dec5",
   "metadata": {},
   "outputs": [],
   "source": []
  },
  {
   "cell_type": "code",
   "execution_count": 124,
   "id": "176267d1-25ca-4a02-912e-7620c5605c0e",
   "metadata": {},
   "outputs": [
    {
     "name": "stdout",
     "output_type": "stream",
     "text": [
      "selected_data [[0.92233629 0.92242996 0.92736502 0.93304228 0.93969879 0.94542047]\n",
      " [0.94784747 0.94954865 0.95038072 0.94712196 0.93833577 0.99999738]\n",
      " [0.99981076 0.99969267 0.99974407 0.99964882 0.99996763 0.99990398]\n",
      " ...\n",
      " [0.97792276 0.95767846 0.92797595 0.89005653 0.84937235 0.809828  ]\n",
      " [0.77357236 0.73997654 0.70697219 0.67505977 0.64468999 0.61748551]\n",
      " [0.59686621 0.57986193 0.56875018 0.56555753 0.         0.        ]]\n",
      "selected_data (621, 6)\n",
      "620\n",
      "(621, 6)\n",
      "data len :  3726\n",
      "before end   7.7357236238002E-001  7.3997654238774E-001  7.0697219001164E-001  6.7505977217660E-001  6.4468999417672E-001  6.1748551114925E-001\n",
      "\n",
      "end   5.9686621029889E-001  5.7986192934280E-001  5.6875018440122E-001  5.6555753442036E-001\n",
      "\n",
      "next data *cf:    real           11172    gs                              \n",
      "\n",
      "start [0.94784747 0.94954865 0.95038072 0.94712196 0.93833577 0.99999738]\n"
     ]
    }
   ],
   "source": [
    "print(\"selected_data\" , selected_data)\n",
    "print(\"selected_data\" , np.shape(selected_data))\n",
    "\n",
    "\n",
    "print(selected_length)\n",
    "print(np.shape(selected_data))\n",
    "numerical_len = np.shape(selected_data)[0]*np.shape(selected_data)[1]\n",
    "\n",
    "print(\"data len : \", numerical_len)\n",
    "print(\"before end\", line[position_end-1])\n",
    "print(\"end\", line[position_end])\n",
    "print(\"next data\", line[position_end+1])\n",
    "\n",
    "\n",
    "print(\"start\", raw_data[position_start+1,:])\n",
    "\n"
   ]
  },
  {
   "cell_type": "code",
   "execution_count": null,
   "id": "090a770b",
   "metadata": {},
   "outputs": [],
   "source": []
  },
  {
   "cell_type": "code",
   "execution_count": null,
   "id": "9467f2b8",
   "metadata": {},
   "outputs": [],
   "source": []
  },
  {
   "cell_type": "code",
   "execution_count": 125,
   "id": "c72dd38c-d82c-442b-9a81-ee870ff7bfd5",
   "metadata": {},
   "outputs": [
    {
     "data": {
      "text/plain": [
       "'np.shape(selected_data)\\nselected_data_merged = selected_data.reshape(numerical_len,1)\\nselected_data_merged_deleted = selected_data_merged[:tot_len,0]\\n\\nprint(\"me\",selected_data_merged)\\nprint(\"de\",selected_data_merged_deleted)\\nprint(np.shape(selected_data_merged))\\nprint(\"me check\",selected_data_merged[7451])\\nprint(np.shape(selected_data_merged_deleted))\\nprint(\"de check\",selected_data_merged_deleted[7447])'"
      ]
     },
     "execution_count": 125,
     "metadata": {},
     "output_type": "execute_result"
    }
   ],
   "source": [
    "\"\"\"np.shape(selected_data)\n",
    "selected_data_merged = selected_data.reshape(numerical_len,1)\n",
    "selected_data_merged_deleted = selected_data_merged[:tot_len,0]\n",
    "\n",
    "print(\"me\",selected_data_merged)\n",
    "print(\"de\",selected_data_merged_deleted)\n",
    "print(np.shape(selected_data_merged))\n",
    "print(\"me check\",selected_data_merged[7451])\n",
    "print(np.shape(selected_data_merged_deleted))\n",
    "print(\"de check\",selected_data_merged_deleted[7447])\"\"\"\n",
    "\n"
   ]
  },
  {
   "cell_type": "code",
   "execution_count": null,
   "id": "5a83bf0d-6403-4847-9810-81eab161cae3",
   "metadata": {},
   "outputs": [],
   "source": []
  },
  {
   "cell_type": "code",
   "execution_count": 126,
   "id": "59629308-ef69-45f5-a51c-b68036ee2bd2",
   "metadata": {},
   "outputs": [
    {
     "name": "stdout",
     "output_type": "stream",
     "text": [
      "[[0.92234192 0.92243468 0.93470639 ... 0.09843937 0.09370723 0.09141732]\n",
      " [0.92676492 0.92691612 0.93867171 ... 0.09574755 0.09287124 0.09165554]\n",
      " [0.93527855 0.9353885  0.943381   ... 0.14112514 0.13650817 0.13608163]\n",
      " ...\n",
      " [0.44362087 0.44373727 0.44906906 ... 0.63657327 0.6256795  0.62109791]\n",
      " [0.36766639 0.36775284 0.37112647 ... 0.58199486 0.56907798 0.56536514]\n",
      " [0.33220451 0.33227248 0.33519055 ... 0.58312694 0.56959172 0.56551808]]\n"
     ]
    }
   ],
   "source": [
    "selected_data_final = selected_data_merged_deleted.reshape(ny+2,nx+2)\n",
    "\n",
    "print(selected_data_final)"
   ]
  },
  {
   "cell_type": "code",
   "execution_count": 127,
   "id": "4a885de9-2e61-4845-a3f2-9c9405cc19c1",
   "metadata": {},
   "outputs": [
    {
     "data": {
      "text/plain": [
       "str"
      ]
     },
     "execution_count": 127,
     "metadata": {},
     "output_type": "execute_result"
    }
   ],
   "source": [
    "type(data_name)"
   ]
  },
  {
   "cell_type": "code",
   "execution_count": 128,
   "id": "0ff8c064-e7fc-4aa9-a0a5-655c523b9944",
   "metadata": {},
   "outputs": [
    {
     "name": "stdout",
     "output_type": "stream",
     "text": [
      "[[0.92234192 0.92243468 0.93470639 ... 0.09843937 0.09370723 0.09141732]\n",
      " [0.92676492 0.92691612 0.93867171 ... 0.09574755 0.09287124 0.09165554]\n",
      " [0.93527855 0.9353885  0.943381   ... 0.14112514 0.13650817 0.13608163]\n",
      " ...\n",
      " [0.44362087 0.44373727 0.44906906 ... 0.63657327 0.6256795  0.62109791]\n",
      " [0.36766639 0.36775284 0.37112647 ... 0.58199486 0.56907798 0.56536514]\n",
      " [0.33220451 0.33227248 0.33519055 ... 0.58312694 0.56959172 0.56551808]]\n"
     ]
    },
    {
     "data": {
      "image/png": "[encoded data removed]",
      "text/plain": [
       "<Figure size 432x288 with 2 Axes>"
      ]
     },
     "metadata": {
      "needs_background": "light"
     },
     "output_type": "display_data"
    }
   ],
   "source": [
    "print(selected_data_final)\n",
    "map_plot = plt.pcolormesh(selected_data_final[:,:])\n",
    "plt.savefig(data_name)\n",
    "plt.title(data_name)\n",
    "plt.colorbar()\n",
    "#plt.show()\n",
    "np.save(\"./%s_%s\" %(data_name,fname_or), selected_data_final)"
   ]
  },
  {
   "cell_type": "code",
   "execution_count": 129,
   "id": "73864c8f-82c0-453c-afe9-254d591d0cfc",
   "metadata": {},
   "outputs": [
    {
     "name": "stdout",
     "output_type": "stream",
     "text": [
      "I love qc in \n"
     ]
    }
   ],
   "source": [
    "print(\"I love %s in \" % data_name)"
   ]
  },
  {
   "cell_type": "code",
   "execution_count": null,
   "id": "b0c05d9f-3717-4bd6-9c63-a32f54b509e9",
   "metadata": {},
   "outputs": [],
   "source": []
  },
  {
   "cell_type": "markdown",
   "id": "1b258eef-1564-4c8a-a15f-a6f9226a6155",
   "metadata": {},
   "source": [
    "<span style=\"color:#87cefa; font-size:150%\"> Heat flux calculation</span> "
   ]
  },
  {
   "cell_type": "code",
   "execution_count": null,
   "id": "f57383c4-5943-4be1-98d2-c4383a4bc758",
   "metadata": {},
   "outputs": [],
   "source": []
  },
  {
   "cell_type": "markdown",
   "id": "d67d3e82-6572-4ea8-9b95-b294a2766bd4",
   "metadata": {},
   "source": [
    "<span style=\"font-size:130%\"> Poloidal Flux</span> "
   ]
  },
  {
   "cell_type": "markdown",
   "id": "b31200a5-e621-43dd-9fe6-f8387f045cab",
   "metadata": {},
   "source": [
    "<span style=\"font-size:130%\"> Radial Flux</span> "
   ]
  }
 ],
 "metadata": {
  "kernelspec": {
   "display_name": "Python 3.9.12",
   "language": "python",
   "name": "python3"
  },
  "language_info": {
   "codemirror_mode": {
    "name": "ipython",
    "version": 3
   },
   "file_extension": ".py",
   "mimetype": "text/x-python",
   "name": "python",
   "nbconvert_exporter": "python",
   "pygments_lexer": "ipython3",
   "version": "3.9.12"
  },
  "toc-autonumbering": true,
  "toc-showmarkdowntxt": true,
  "toc-showtags": true,
  "vscode": {
   "interpreter": {
    "hash": "df48fff27f64f3b68374eea5916fcf98c15539d1aa4691aec81d7ba803e7f0a1"
   }
  }
 },
 "nbformat": 4,
 "nbformat_minor": 5
}
