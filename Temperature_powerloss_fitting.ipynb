{
 "cells": [
  {
   "cell_type": "markdown",
   "metadata": {},
   "source": [
    "<span style=\"color:#87cefa; font-size:200%\">Fitting SOLPS datas with existing Function</span> "
   ]
  },
  {
   "cell_type": "code",
   "execution_count": 82,
   "metadata": {},
   "outputs": [],
   "source": [
    "\n",
    "\n",
    "import numpy as np\n",
    "import matplotlib.pyplot as plt\n",
    "import matplotlib.ticker as ticker\n",
    "from scipy.special import rel_entr\n",
    "import pickle\n",
    "from mpl_toolkits.mplot3d import axes3d\n",
    "from scipy.ndimage.filters import gaussian_filter\n",
    "from scipy.optimize import curve_fit\n",
    "from pandas import read_csv\n",
    "import matplotlib.patches as patches\n",
    "\n",
    "import Mesh_data\n",
    "import Mesh_data_server\n",
    "import seaborn\n",
    "import fort44_reader as fort\n",
    "from scipy import stats\n",
    "\n",
    "al_new_g_sep_out_target_dist = Mesh_data_server.co_sep_out_target_dist\n",
    "al_newg_newmesh_facing = np.load(\"./gs_new_g_SAS.npy\")\n",
    "\n",
    "eV = 1.60218e-19"
   ]
  },
  {
   "cell_type": "code",
   "execution_count": 83,
   "metadata": {},
   "outputs": [],
   "source": [
    "\n",
    "co_new_mesh = np.load(\"./new_mesh_co_geo_mesh_center.npy\")\n",
    "co_new_mesh_x = np.load(\"./new_mesh_co_geo_mesh_x.npy\")\n",
    "co_new_mesh_y = np.load(\"./new_mesh_co_geo_mesh_y.npy\")\n",
    "co_newmesh_facing = np.load(\"./gs_new_mesh_co.npy\")\n",
    "\n",
    "\n",
    "al_new_mesh = np.load(\"./new_mesh_al_geo_mesh_center.npy\")\n",
    "al_new_mesh_x = np.load(\"./new_mesh_al_geo_mesh_x.npy\")\n",
    "al_new_mesh_y = np.load(\"./new_mesh_al_geo_mesh_y.npy\")\n",
    "al_newmesh_facing = np.load(\"./gs_new_mesh_al.npy\")\n",
    "\n",
    "e = 1.60217663*(10**(-19))\n",
    "\n",
    "charge = []\n",
    "charge.append(0)\n",
    "charge.append(e*1)\n",
    "charge.append(0)\n",
    "charge.append(e*1)\n",
    "charge.append(e*2)\n",
    "charge.append(e*3)\n",
    "charge.append(e*4)\n",
    "charge.append(e*5)\n",
    "charge.append(e*6)\n",
    "charge.append(0)\n",
    "charge.append(e*1)\n",
    "charge.append(e*2)\n",
    "charge.append(e*3)\n",
    "charge.append(e*4)\n",
    "charge.append(e*5)\n",
    "charge.append(e*6)\n",
    "charge.append(e*7)\n",
    "charge.append(e*8)\n",
    "charge.append(e*9)\n",
    "charge.append(e*10)\n"
   ]
  },
  {
   "cell_type": "code",
   "execution_count": 84,
   "metadata": {},
   "outputs": [],
   "source": [
    "# import matplotlib as mpl\n",
    "# import matplotlib.pyplot as plt\n",
    "# from matplotlib import cm\n",
    "# from colorspacious import cspace_converter\n",
    "\n",
    "# cmaps = {}\n",
    "\n",
    "# gradient = np.linspace(0, 1, 256)\n",
    "# gradient = np.vstack((gradient, gradient))\n",
    "\n",
    "\n",
    "# def plot_color_gradients(category, cmap_list):\n",
    "#     # Create figure and adjust figure height to number of colormaps\n",
    "#     nrows = len(cmap_list)\n",
    "#     figh = 0.35 + 0.15 + (nrows + (nrows - 1) * 0.1) * 0.22\n",
    "#     fig, axs = plt.subplots(nrows=nrows + 1, figsize=(6.4, figh))\n",
    "#     fig.subplots_adjust(top=1 - 0.35 / figh, bottom=0.15 / figh,\n",
    "#                         left=0.2, right=0.99)\n",
    "#     axs[0].set_title(f'{category} colormaps', fontsize=14)\n",
    "\n",
    "#     for ax, name in zip(axs, cmap_list):\n",
    "#         ax.imshow(gradient, aspect='auto', cmap=plt.get_cmap(name))\n",
    "#         ax.text(-0.01, 0.5, name, va='center', ha='right', fontsize=12,\n",
    "#                 transform=ax.transAxes)\n",
    "\n",
    "#     # Turn off *all* ticks & spines, not just the ones with colormaps.\n",
    "#     for ax in axs:\n",
    "#         ax.set_axis_off()\n",
    "\n",
    "#     # Save colormap list for later.\n",
    "#     cmaps[category] = cmap_list"
   ]
  },
  {
   "cell_type": "markdown",
   "metadata": {},
   "source": [
    "<span style=\"color:#87cefa; font-size:150%\">Geometry Functions and Variables</span> "
   ]
  },
  {
   "cell_type": "code",
   "execution_count": 85,
   "metadata": {},
   "outputs": [
    {
     "name": "stdout",
     "output_type": "stream",
     "text": [
      "(3, 38, 98)\n",
      "(3, 38, 98)\n",
      "[0.         0.02024052 0.0430307  0.06776496 0.09401868 0.12139181\n",
      " 0.14949061 0.17792684 0.2063151  0.23427089 0.26140689 0.28732694\n",
      " 0.31161978 0.33386324 0.35365201 0.37062728 0.38446747 0.39484765\n",
      " 0.40141755 0.40372746]\n",
      "[0.         0.0254457  0.05394852 0.08486258 0.11766655 0.15185898\n",
      " 0.18694875 0.22245149 0.25788705 0.29277786 0.3266464  0.35900945\n",
      " 0.3893695  0.41720759 0.44200125 0.46327177 0.48060219 0.49359053\n",
      " 0.50180683 0.50469472]\n"
     ]
    }
   ],
   "source": [
    "ny = 36\n",
    "nx = 96\n",
    "co_mesh = np.load(\"./conv_geo_mesh_center.npy\")\n",
    "co_mesh_x = np.load(\"./conv_geo_mesh_x.npy\")\n",
    "co_mesh_y = np.load(\"./conv_geo_mesh_y.npy\")\n",
    "\n",
    "al_mesh = np.load(\"./al_geo_mesh_center.npy\")\n",
    "al_mesh_x = np.load(\"./al_geo_mesh_x.npy\")\n",
    "al_mesh_y = np.load(\"./al_geo_mesh_y.npy\")\n",
    "\n",
    "co_facing = np.load(\"./gs_b2fgmtry.npy\")\n",
    "al_facing = np.load(\"./gs_b2fgmtry_al.npy\")\n",
    "\n",
    "\n",
    "co_new_mesh = np.load(\"./new_mesh_co_geo_mesh_center.npy\")\n",
    "co_new_mesh_x = np.load(\"./new_mesh_co_geo_mesh_x.npy\")\n",
    "co_new_mesh_y = np.load(\"./new_mesh_co_geo_mesh_y.npy\")\n",
    "co_newmesh_facing = np.load(\"./gs_new_mesh_co.npy\")\n",
    "\n",
    "\n",
    "al_new_mesh = np.load(\"./new_mesh_al_geo_mesh_center.npy\")\n",
    "al_new_mesh_x = np.load(\"./new_mesh_al_geo_mesh_x.npy\")\n",
    "al_new_mesh_y = np.load(\"./new_mesh_al_geo_mesh_y.npy\")\n",
    "al_newmesh_facing = np.load(\"./gs_new_mesh_al.npy\")\n",
    "\n",
    "\n",
    "newSAS_mesh = np.load(\"./new_SAS_geo_mesh_center.npy\")\n",
    "newSAS_mesh_x = np.load(\"./new_SAS_geo_mesh_y.npy\")\n",
    "newSAS_mesh_y = np.load(\"./new_SAS_geo_mesh_y.npy\")\n",
    "newSAS_facing = np.load(\"./gs_new_SAS.npy\")\n",
    "\n",
    "al_new_g_mesh = np.load(\"ng_geo_mesh_center.npy\")\n",
    "al_new_g_mesh_x = np.load(\"ng_geo_mesh_x.npy\")\n",
    "al_new_g_mesh_y = np.load(\"ng_geo_mesh_y.npy\")\n",
    "\n",
    "al_new_g_facing = np.load(\"./gs_new_g_SAS.npy\")\n",
    "\n",
    "\n",
    "\n",
    "\n",
    "print(np.shape(co_facing))\n",
    "print(np.shape(al_facing))\n",
    "def co_distance_center(first_point, second_point):\n",
    "    x_range = x_co_meshinfo[first_point[1],first_point[0]]-x_co_meshinfo[second_point[1],second_point[0]]\n",
    "    y_range = y_co_meshinfo[first_point[1],first_point[0]]-y_co_meshinfo[second_point[1],second_point[0]]\n",
    "    result = (x_range**2 + y_range**2)**(1/2)\n",
    "    return result\n",
    "\n",
    "def co_distance_point(first_point, second_point):\n",
    "    x_range = co_mesh_x[first_point[2],first_point[1],first_point[0]]-co_mesh_x[second_point[2],second_point[1],second_point[0]]\n",
    "    y_range = co_mesh_y[first_point[2],first_point[1],first_point[0]]-co_mesh_y[second_point[2],second_point[1],second_point[0]]\n",
    "    result = (x_range**2 + y_range**2)**(1/2)\n",
    "    return result\n",
    "\n",
    "def al_distance_center(first_point, second_point):\n",
    "    x_range = x_al_meshinfo[first_point[1],first_point[0]]-x_al_meshinfo[second_point[1],second_point[0]]\n",
    "    y_range = y_al_meshinfo[first_point[1],first_point[0]]-y_al_meshinfo[second_point[1],second_point[0]]\n",
    "    result = (x_range**2 + y_range**2)**(1/2)\n",
    "    return result\n",
    "\n",
    "def al_distance_point(first_point, second_point):\n",
    "    x_range = al_mesh_x[first_point[2],first_point[1],first_point[0]]-al_mesh_x[second_point[2],second_point[1],second_point[0]]\n",
    "    y_range = al_mesh_y[first_point[2],first_point[1],first_point[0]]-al_mesh_y[second_point[2],second_point[1],second_point[0]]\n",
    "    result = (x_range**2 + y_range**2)**(1/2)\n",
    "    return result\n",
    "\n",
    "#new geo files\n",
    "def co_new_mesh_distance_center(first_point, second_point):\n",
    "    x_range = x_co_new_meshinfo[first_point[1],first_point[0]]-x_co_new_meshinfo[second_point[1],second_point[0]]\n",
    "    y_range = y_co_new_meshinfo[first_point[1],first_point[0]]-y_co_new_meshinfo[second_point[1],second_point[0]]\n",
    "    result = (x_range**2 + y_range**2)**(1/2)\n",
    "    return result\n",
    "def co_new_mesh_distance_point(first_point, second_point):\n",
    "    x_range = co_new_mesh_x[first_point[2],first_point[1],first_point[0]]-co_new_mesh_x[second_point[2],second_point[1],second_point[0]]\n",
    "    y_range = co_new_mesh_y[first_point[2],first_point[1],first_point[0]]-co_new_mesh_y[second_point[2],second_point[1],second_point[0]]\n",
    "    result = (x_range**2 + y_range**2)**(1/2)\n",
    "    return result\n",
    "\n",
    "\n",
    "def al_new_mesh_distance_center(first_point, second_point):\n",
    "    x_range = x_al_new_meshinfo[first_point[1],first_point[0]]-x_al_new_meshinfo[second_point[1],second_point[0]]\n",
    "    y_range = y_al_new_meshinfo[first_point[1],first_point[0]]-y_al_new_meshinfo[second_point[1],second_point[0]]\n",
    "    result = (x_range**2 + y_range**2)**(1/2)\n",
    "    return result\n",
    "\n",
    "def al_new_mesh_distance_point(first_point, second_point):\n",
    "    x_range = al_new_mesh_x[first_point[2],first_point[1],first_point[0]]-al_new_mesh_x[second_point[2],second_point[1],second_point[0]]\n",
    "    y_range = al_new_mesh_y[first_point[2],first_point[1],first_point[0]]-al_new_mesh_y[second_point[2],second_point[1],second_point[0]]\n",
    "    result = (x_range**2 + y_range**2)**(1/2)\n",
    "    return result\n",
    "\n",
    "\n",
    "def newSAS_distance_center(first_point, second_point):\n",
    "    x_range = x_newSAS_meshinfo[first_point[1],first_point[0]]-x_newSAS_meshinfo[second_point[1],second_point[0]]\n",
    "    y_range = y_newSAS_meshinfo[first_point[1],first_point[0]]-y_newSAS_meshinfo[second_point[1],second_point[0]]\n",
    "    result = (x_range**2 + y_range**2)**(1/2)\n",
    "    return result\n",
    "\n",
    "def newSAS_distance_point(first_point, second_point):\n",
    "    x_range = newSAS_mesh_x[first_point[2],first_point[1],first_point[0]]-newSAS_mesh_x[second_point[2],second_point[1],second_point[0]]\n",
    "    y_range = newSAS_mesh_y[first_point[2],first_point[1],first_point[0]]-newSAS_mesh_y[second_point[2],second_point[1],second_point[0]]\n",
    "    result = (x_range**2 + y_range**2)**(1/2)\n",
    "    return result\n",
    "\n",
    "\n",
    "\n",
    "\n",
    "def neutral_pressure(na,ti):\n",
    "    pr = na[0,:,:]*ti[:,:]+ na[0,:,:]*ti[:,:]+ na[2,:,:]*ti[:,:]+na[2,:,:]*ti[:,:]+na[9,:,:]*ti[:,:]\n",
    "    return pr\n",
    "    \n",
    "dumx_co_meshinfo = co_mesh[:,0]\n",
    "dumy_co_meshinfo = co_mesh[:,1]\n",
    "x_co_meshinfo = dumx_co_meshinfo.reshape(ny+2,nx+2)\n",
    "y_co_meshinfo = dumy_co_meshinfo.reshape(ny+2,nx+2)\n",
    "\n",
    "dumx_al_meshinfo = al_mesh[:,0]\n",
    "dumy_al_meshinfo = al_mesh[:,1]\n",
    "x_al_meshinfo = dumx_al_meshinfo.reshape(ny+2,nx+2)\n",
    "y_al_meshinfo = dumy_al_meshinfo.reshape(ny+2,nx+2)\n",
    "\n",
    "dumx_co_new_meshinfo = co_new_mesh[:,0]\n",
    "dumy_co_new_meshinfo = co_new_mesh[:,1]\n",
    "x_co_new_meshinfo = dumx_co_new_meshinfo.reshape(ny+2,nx+2)\n",
    "y_co_new_meshinfo = dumy_co_new_meshinfo.reshape(ny+2,nx+2)\n",
    "\n",
    "dumx_al_new_meshinfo = al_new_mesh[:,0]\n",
    "dumy_al_new_meshinfo = al_new_mesh[:,1]\n",
    "x_al_new_meshinfo = dumx_al_new_meshinfo.reshape(ny+2,nx+2)\n",
    "y_al_new_meshinfo = dumy_al_new_meshinfo.reshape(ny+2,nx+2)\n",
    "\n",
    "dumx_newSAS_meshinfo = newSAS_mesh[:,0]\n",
    "dumy_newSAS_meshinfo = newSAS_mesh[:,1]\n",
    "x_newSAS_meshinfo = dumx_newSAS_meshinfo.reshape(ny+2,nx+2)\n",
    "y_newSAS_meshinfo = dumy_newSAS_meshinfo.reshape(ny+2,nx+2)\n",
    "\n",
    "\n",
    "#po_dumx_meshinfo = convmesh[:,0]\n",
    "#po_dumy_meshinfo = convmesh[:,1]\n",
    "#po_x_meshinfo = dumx_meshinfo.reshape(4,ny+2,nx+2)\n",
    "#po_y_meshinfo = dumy_meshinfo.reshape(4,ny+2,nx+2)\n",
    "co_sep_out_target = np.zeros(2)\n",
    "co_sep_out_target[0] = co_mesh_x[1,18,96]\n",
    "co_sep_out_target[1] = co_mesh_y[1,18,96]\n",
    "co_mesh_x_cen = np.sum(co_mesh_x, axis = 0)/4\n",
    "co_mesh_y_cen = np.sum(co_mesh_y, axis = 0)/4\n",
    "\n",
    "al_sep_out_target = np.zeros(2)\n",
    "al_sep_out_target[0] = al_mesh_x[1,18,96]\n",
    "al_sep_out_target[1] = al_mesh_y[1,18,96]\n",
    "al_mesh_x_cen = np.sum(al_mesh_x, axis = 0)/4\n",
    "al_mesh_y_cen = np.sum(al_mesh_y, axis = 0)/4\n",
    "\n",
    "co_new_mesh_sep_out_target = np.zeros(2)\n",
    "co_new_mesh_sep_out_target[0] = co_mesh_x[1,18,96]\n",
    "co_new_mesh_sep_out_target[1] = co_mesh_y[1,18,96]\n",
    "co_new_mesh_x_cen = np.sum(co_mesh_x, axis = 0)/4\n",
    "co_new_mesh_y_cen = np.sum(co_mesh_y, axis = 0)/4\n",
    "\n",
    "al_new_mesh_sep_out_target = np.zeros(2)\n",
    "al_new_mesh_sep_out_target[0] = al_new_mesh_x[1,18,96]\n",
    "al_new_mesh_sep_out_target[1] = al_new_mesh_y[1,18,96]\n",
    "al_new_mesh_x_cen = np.sum(al_new_mesh_x, axis = 0)/4\n",
    "al_new_mesh_y_cen = np.sum(al_new_mesh_y, axis = 0)/4\n",
    "\n",
    "newSAS_sep_out_target = np.zeros(2)\n",
    "newSAS_sep_out_target[0] = newSAS_mesh_x[1,18,96]\n",
    "newSAS_sep_out_target[1] = newSAS_mesh_y[1,18,96]\n",
    "newSAS_mesh_x_cen = np.sum(newSAS_mesh_x, axis = 0)/4\n",
    "newSAS_mesh_y_cen = np.sum(newSAS_mesh_y, axis = 0)/4\n",
    "\n",
    "\n",
    "\n",
    "X_point = []\n",
    "\n",
    "\n",
    "\n",
    "co_sep_out_target_dist = np.zeros(ny+2)\n",
    "co_sep_in_target_dist = np.zeros(ny+2)     \n",
    "co_sep_out_midplane_dist = np.zeros(ny+2)\n",
    "co_sep_in_midplane_dist = np.zeros(ny+2)\n",
    "\n",
    "co_new_mesh_sep_out_midplane_dist = np.zeros(ny+2)\n",
    "co_new_mesh_sep_in_midplane_dist = np.zeros(ny+2)\n",
    "co_new_mesh_sep_out_target_dist = np.zeros(ny+2)\n",
    "co_new_mesh_sep_in_target_dist = np.zeros(ny+2)\n",
    "\n",
    "al_sep_out_midplane_dist = np.zeros(ny+2)\n",
    "al_sep_in_midplane_dist = np.zeros(ny+2)\n",
    "al_sep_out_target_dist = np.zeros(ny+2)\n",
    "al_sep_in_target_dist = np.zeros(ny+2)\n",
    "\n",
    "\n",
    "al_new_mesh_sep_out_midplane_dist = np.zeros(ny+2)\n",
    "al_new_mesh_sep_in_midplane_dist = np.zeros(ny+2)\n",
    "al_new_mesh_sep_out_target_dist = np.zeros(ny+2)\n",
    "al_new_mesh_sep_in_target_dist = np.zeros(ny+2)\n",
    "\n",
    "newSAS_sep_out_midplane_dist = np.zeros(ny+2)\n",
    "newSAS_sep_in_midplane_dist = np.zeros(ny+2)\n",
    "newSAS_sep_out_target_dist = np.zeros(ny+2)\n",
    "newSAS_sep_in_target_dist = np.zeros(ny+2)\n",
    "\n",
    "\n",
    "\n",
    "conv_Xpt_dist = np.zeros(20)\n",
    "al_Xpt_dist = np.zeros(20)\n",
    "\n",
    "\n",
    "\n",
    "\n",
    "\n",
    "\n",
    "for i in range(ny+2):\n",
    "    co_sep_out_midplane_dist[i] = co_distance_point([52,i,1],[52,18,1])\n",
    "    co_sep_in_midplane_dist[i]  = co_distance_point([29,i,1],[29,18,1])\n",
    "    co_sep_out_target_dist[i] = co_distance_point([96,i,1],[96,18,1])\n",
    "    co_sep_in_target_dist[i] = co_distance_point([1,i,1],[1,18,1])\n",
    "\n",
    "\n",
    "    co_new_mesh_sep_out_midplane_dist[i] = co_new_mesh_distance_point([52,i,1],[52,18,1])\n",
    "    co_new_mesh_sep_in_midplane_dist[i]  = co_new_mesh_distance_point([29,i,1],[29,18,1])\n",
    "    co_new_mesh_sep_out_target_dist[i] = co_new_mesh_distance_point([96,i,1],[96,18,1])\n",
    "    co_new_mesh_sep_in_target_dist[i]  = co_new_mesh_distance_point([1,i,1],[1,18,1])\n",
    "\n",
    "    al_sep_out_midplane_dist[i] = al_distance_point([52,i,1],[52,18,1])\n",
    "    al_sep_in_midplane_dist[i]  = al_distance_point([29,i,1],[29,18,1])\n",
    "    al_sep_out_target_dist[i] = al_distance_point([96,i,1],[96,18,1])\n",
    "    al_sep_in_target_dist[i]  = al_distance_point([1,i,1],[1,18,1])\n",
    "\n",
    "\n",
    "    al_new_mesh_sep_out_midplane_dist[i] = al_new_mesh_distance_point([52,i,1],[52,18,1])\n",
    "    al_new_mesh_sep_in_midplane_dist[i]  = al_new_mesh_distance_point([29,i,1],[29,18,1])\n",
    "    al_new_mesh_sep_out_target_dist[i] = al_new_mesh_distance_point([96,i,1],[96,18,1])\n",
    "    al_new_mesh_sep_in_target_dist[i]  = al_new_mesh_distance_point([1,i,1],[1,18,1])\n",
    "    \n",
    "\n",
    "#    newSAS_sep_out_midplane_dist[i] = newSAS_distance_point([52,i,1],[52,18,1])\n",
    "#    newSAS_sep_in_midplane_dist[i]  = newSAS_distance_point([29,i,1],[29,18,1])\n",
    "#    newSAS_sep_out_target_dist[i] = newSAS_distance_point([96,i,1],[96,18,1])\n",
    "#    newSAS_sep_in_target_dist[i]  = newSAS_distance_point([1,i,1],[1,18,1])\n",
    "    \n",
    "    if i<18:\n",
    "        co_sep_out_midplane_dist[i] = -co_sep_out_midplane_dist[i]\n",
    "        co_sep_in_midplane_dist[i]  = -co_sep_in_midplane_dist[i]\n",
    "        co_sep_out_target_dist[i] = -co_sep_out_target_dist[i]\n",
    "        co_sep_in_target_dist[i] = -co_sep_in_target_dist[i]\n",
    "\n",
    "        co_new_mesh_sep_out_midplane_dist[i] = -co_new_mesh_sep_out_midplane_dist[i]\n",
    "        co_new_mesh_sep_in_midplane_dist[i]  = -co_new_mesh_sep_in_midplane_dist[i]\n",
    "        co_new_mesh_sep_out_target_dist[i] = -co_new_mesh_sep_out_target_dist[i]\n",
    "        co_new_mesh_sep_in_target_dist[i] = -co_new_mesh_sep_in_target_dist[i]\n",
    "\n",
    "        \n",
    "        al_sep_out_midplane_dist[i] = -al_sep_out_midplane_dist[i]\n",
    "        al_sep_in_midplane_dist[i] = -al_sep_in_midplane_dist[i]\n",
    "        al_sep_out_target_dist[i] = -al_sep_out_target_dist[i]\n",
    "        al_sep_in_target_dist[i] = -al_sep_in_target_dist[i]\n",
    "        \n",
    "        al_new_mesh_sep_out_midplane_dist[i] = -al_new_mesh_sep_out_midplane_dist[i]\n",
    "        al_new_mesh_sep_in_midplane_dist[i] = -al_new_mesh_sep_in_midplane_dist[i]\n",
    "        al_new_mesh_sep_out_target_dist[i] = -al_new_mesh_sep_out_target_dist[i]\n",
    "        al_new_mesh_sep_in_target_dist[i] = -al_new_mesh_sep_in_target_dist[i]\n",
    "\n",
    "        \n",
    "newSAS_sep_out_midplane_dist = Mesh_data.newSAS_sep_out_midplane_dist\n",
    "newSAS_sep_in_midplane_dist = Mesh_data.newSAS_sep_in_midplane_dist\n",
    "newSAS_sep_out_target_dist = Mesh_data.newSAS_sep_out_target_dist\n",
    "newSAS_sep_in_target_dist = Mesh_data.newSAS_sep_in_target_dist\n",
    "        \n",
    "\n",
    "\n",
    "\n",
    "\n",
    "    \n",
    "for i in range(20):\n",
    "    conv_Xpt_dist[i] = co_distance_center([78,18],[78+i,18])\n",
    "\n",
    "    \n",
    "    \n",
    "for i in range(20):\n",
    "    al_Xpt_dist[i] = al_distance_center([78,18],[78+i,18])\n",
    "print(conv_Xpt_dist)\n",
    "print(al_Xpt_dist)\n",
    "\n",
    "\n",
    "# def total_pressure(ne,te,na,ti):\n",
    "#     pr = ne[:,:]*te[:,:] + na[1,:,:]*ti[:,:] +np.sum(na[2:9,:,:]*ti[:,:],axis = 0)+np.sum(na[9:,:,:]*ti[:,:],axis = 0)\n",
    "#     return pr\n",
    "\n",
    "\n",
    "def total_neutral_pressure(ne,te,na,ti,ua):\n",
    "    pr = ne[:,:]*te[:,:] + na[1,:,:]*ti[:,:] +np.sum(na[2:9,:,:]*ti[:,:],axis = 0)+np.sum(na[9:,:,:]*ti[:,:],axis = 0)+ne[:,:]*te[:,:] + na[1,:,:]*ua[1,:,:]*ua[1,:,:] +np.sum(na[2:9,:,:]*ua[2:9,:,:]*ua[2:9,:,:],axis = 0)+np.sum(na[9:,:,:]*ua[9:,:,:]*ua[9:,:,:],axis = 0)\n",
    "    return pr\n",
    "\n",
    "\n",
    "def total_pressure(ne,te,na,ti,ua):\n",
    "\n",
    "    mass_indes = np.array([3.3435837724*10**(-27),3.3435837724*10**(-27),1.9944733*10**(-26),1.9944733*10**(-26),1.9944733*10**(-26),1.9944733*10**(-26),1.9944733*10**(-26),1.9944733*10**(-26),1.9944733*10**(-26),1.9944733*10**(-26),3.3509177*10**(-26),3.3509177*10**(-26),3.3509177*10**(-26),3.3509177*10**(-26),3.3509177*10**(-26),3.3509177*10**(-26),3.3509177*10**(-26),3.3509177*10**(-26),3.3509177*10**(-26),3.3509177*10**(-26)])\n",
    "#    mass_indes = np.transpose(mass_indes)\n",
    "    pr = ne[:,:]*te[:,:] \n",
    "    impor = na[:,:,:]*ua[:,:,:]*ua[:,:,:]\n",
    "    for i in range(np.shape(mass_indes)[0]):\n",
    "        pr= pr+impor[i,:,:]*mass_indes[i]+na[i,:,:]*ti[:,:]\n",
    "    return pr\n"
   ]
  },
  {
   "cell_type": "code",
   "execution_count": 86,
   "metadata": {},
   "outputs": [],
   "source": [
    "fht_b2fplasmf_al_8MW_Ne_0 = np.load(\"./data_Heating_Geo_sput/fht_b2fplasmf_SAS_8MW_noNe_re.npy\")\n",
    "fht_b2fplasmf_al_16MW_Ne_0 = np.load(\"./data_Heating_Geo_sput/fht_b2fplasmf_SAS_16MW_Ne_0.npy\")\n",
    "fht_b2fplasmf_al_32MW_Ne_0 = np.load(\"./data_Heating_Geo_sput/fht_b2fplasmf_SAS_32MW_Ne_0_re.npy\")\n",
    "fht_b2fplasmf_al_8MW_Ne_3e19 = np.load(\"./data_Heating_Geo_sput/fht_b2fplasmf_SAS_8MW_Ne_3e19_re.npy\")\n",
    "rsana_b2fplasmf_Ex_SAS_8MW_Ne_0=np.load(\"./data_Heating_Geo_sput/rsana_b2fplasmf_Ex_SAS_8MW_Ne_0.npy\")\n",
    "rsana_b2fplasmf_SAS_8MW_Ne_0= np.load(\"./data_Heating_Geo_sput/rsana_b2fplasmf_SAS_8MW_Ne_0.npy\")\n",
    "rsana_b2fplasmf_co_8MW_Ne_0=np.load(\"./data_Heating_Geo_sput/rsana_b2fplasmf_co_8MW_Ne_0.npy\")"
   ]
  },
  {
   "cell_type": "code",
   "execution_count": 87,
   "metadata": {},
   "outputs": [
    {
     "data": {
      "text/plain": [
       "(20, 38, 98)"
      ]
     },
     "execution_count": 87,
     "metadata": {},
     "output_type": "execute_result"
    }
   ],
   "source": [
    "np.shape(rsana_b2fplasmf_SAS_8MW_Ne_0)"
   ]
  },
  {
   "cell_type": "code",
   "execution_count": 88,
   "metadata": {},
   "outputs": [
    {
     "name": "stdout",
     "output_type": "stream",
     "text": [
      "0\n",
      "1\n",
      "2\n",
      "3\n",
      "4\n",
      "5\n",
      "6\n",
      "7\n",
      "8\n",
      "9\n",
      "10\n",
      "11\n",
      "12\n",
      "13\n",
      "14\n",
      "15\n",
      "16\n",
      "17\n",
      "18\n",
      "19\n",
      "1.4142135623730951\n"
     ]
    }
   ],
   "source": [
    "mass_indes = np.array([3.3435837724*10**(-27),3.3435837724*10**(-27),1.9944733*10**(-26),1.9944733*10**(-26),1.9944733*10**(-26),1.9944733*10**(-26),1.9944733*10**(-26),1.9944733*10**(-26),1.9944733*10**(-26),1.9944733*10**(-26),3.3509177*10**(-26),3.3509177*10**(-26),3.3509177*10**(-26),3.3509177*10**(-26),3.3509177*10**(-26),3.3509177*10**(-26),3.3509177*10**(-26),3.3509177*10**(-26),3.3509177*10**(-26),3.3509177*10**(-26)])\n",
    "\n",
    "for i in range(np.shape(mass_indes)[0]):\n",
    "    print(i)\n",
    "    \n",
    "print(np.sqrt(2))"
   ]
  },
  {
   "cell_type": "code",
   "execution_count": 89,
   "metadata": {},
   "outputs": [],
   "source": [
    "ne_b2fplasmf_al_8MW_Ne_0 = np.load(\"./data_Heating_Geo_sput/ne_b2fplasmf_SAS_8MW_noNe_re.npy\")\n",
    "ne_b2fplasmf_al_16MW_Ne_0 = np.load(\"./data_Heating_Geo_sput/ne_b2fplasmf_SAS_16MW_Ne_0.npy\")\n",
    "ne_b2fplasmf_al_32MW_Ne_0 = np.load(\"./data_Heating_Geo_sput/ne_b2fplasmf_SAS_32MW_Ne_0_re.npy\")\n",
    "ne_b2fplasmf_al_8MW_Ne_3e19 = np.load(\"./data_Heating_Geo_sput/ne_b2fplasmf_SAS_8MW_Ne_3e19_re.npy\")\n",
    "\n",
    "te_b2fplasmf_al_8MW_Ne_0 = np.load(\"./data_Heating_Geo_sput/te_b2fplasmf_SAS_8MW_noNe_re.npy\")\n",
    "te_b2fplasmf_al_16MW_Ne_0 = np.load(\"./data_Heating_Geo_sput/te_b2fplasmf_SAS_16MW_Ne_0.npy\")\n",
    "te_b2fplasmf_al_32MW_Ne_0 = np.load(\"./data_Heating_Geo_sput/te_b2fplasmf_SAS_32MW_Ne_0_re.npy\")\n",
    "te_b2fplasmf_al_8MW_Ne_3e19 = np.load(\"./data_Heating_Geo_sput/te_b2fplasmf_SAS_8MW_Ne_3e19_re.npy\")\n",
    "\n",
    "na_b2fplasmf_al_8MW_Ne_0 = np.load(\"./data_Heating_Geo_sput/na_b2fplasmf_SAS_8MW_noNe_re.npy\")\n",
    "na_b2fplasmf_al_16MW_Ne_0 = np.load(\"./data_Heating_Geo_sput/na_b2fplasmf_SAS_16MW_Ne_0.npy\")\n",
    "na_b2fplasmf_al_32MW_Ne_0 = np.load(\"./data_Heating_Geo_sput/na_b2fplasmf_SAS_32MW_Ne_0_re.npy\")\n",
    "na_b2fplasmf_al_8MW_Ne_3e19 = np.load(\"./data_Heating_Geo_sput/na_b2fplasmf_SAS_8MW_Ne_3e19_re.npy\")\n",
    "\n",
    "ti_b2fplasmf_al_8MW_Ne_0 = np.load(\"./data_Heating_Geo_sput/ti_b2fplasmf_SAS_8MW_noNe_re.npy\")\n",
    "ti_b2fplasmf_al_16MW_Ne_0 = np.load(\"./data_Heating_Geo_sput/ti_b2fplasmf_SAS_16MW_Ne_0.npy\")\n",
    "ti_b2fplasmf_al_32MW_Ne_0 = np.load(\"./data_Heating_Geo_sput/ti_b2fplasmf_SAS_32MW_Ne_0_re.npy\")\n",
    "ti_b2fplasmf_al_8MW_Ne_3e19 = np.load(\"./data_Heating_Geo_sput/ti_b2fplasmf_SAS_8MW_Ne_3e19_re.npy\")\n",
    "\n",
    "ua_b2fplasmf_al_8MW_Ne_0 = np.load(\"./data_Heating_Geo_sput/ua_b2fplasmf_SAS_8MW_noNe_re.npy\")\n",
    "ua_b2fplasmf_al_16MW_Ne_0 = np.load(\"./data_Heating_Geo_sput/ua_b2fplasmf_SAS_16MW_Ne_0.npy\")\n",
    "ua_b2fplasmf_al_32MW_Ne_0 = np.load(\"./data_Heating_Geo_sput/ua_b2fplasmf_SAS_32MW_Ne_0_re.npy\")\n",
    "ua_b2fplasmf_al_8MW_Ne_3e19 = np.load(\"./data_Heating_Geo_sput/ua_b2fplasmf_SAS_8MW_Ne_3e19_re.npy\")"
   ]
  },
  {
   "cell_type": "code",
   "execution_count": 90,
   "metadata": {},
   "outputs": [],
   "source": [
    "# te_b2fplasmf_co_8MW_Ne_0=np.load(\"./data_Heating_Geo_sput/te_b2fplasmf_co_8MW_Ne_0.npy\")\n",
    "# na_b2fplasmf_co_8MW_Ne_0=np.load(\"./data_Heating_Geo_sput/na_b2fplasmf_co_8MW_Ne_0.npy\")\n",
    "# ti_b2fplasmf_co_8MW_Ne_0=np.load(\"./data_Heating_Geo_sput/ti_b2fplasmf_co_8MW_Ne_0.npy\")\n",
    "# ua_b2fplasmf_co_8MW_Ne_0=np.load(\"./data_Heating_Geo_sput/ua_b2fplasmf_co_8MW_Ne_0.npy\")\n",
    "\n",
    "\n",
    "ne_b2fplasmf_co_8MW_Ne_0=np.load(\"./data_Heating_Geo_sput/ne_b2fplasmf_co_8MW_Ne_0.npy\")\n",
    "te_b2fplasmf_co_8MW_Ne_0=np.load(\"./data_Heating_Geo_sput/te_b2fplasmf_co_8MW_Ne_0.npy\")\n",
    "na_b2fplasmf_co_8MW_Ne_0=np.load(\"./data_Heating_Geo_sput/na_b2fplasmf_co_8MW_Ne_0.npy\")\n",
    "ti_b2fplasmf_co_8MW_Ne_0=np.load(\"./data_Heating_Geo_sput/ti_b2fplasmf_co_8MW_Ne_0.npy\")\n",
    "ua_b2fplasmf_co_8MW_Ne_0=np.load(\"./data_Heating_Geo_sput/ua_b2fplasmf_co_8MW_Ne_0.npy\")\n",
    "\n",
    "ne_b2fplasmf_co_16MW_Ne_0=np.load(\"./data_Heating_Geo_sput/ne_b2fplasmf_co_16MW_Ne_0.npy\")\n",
    "te_b2fplasmf_co_16MW_Ne_0=np.load(\"./data_Heating_Geo_sput/te_b2fplasmf_co_16MW_Ne_0.npy\")\n",
    "na_b2fplasmf_co_16MW_Ne_0=np.load(\"./data_Heating_Geo_sput/na_b2fplasmf_co_16MW_Ne_0.npy\")\n",
    "ti_b2fplasmf_co_16MW_Ne_0=np.load(\"./data_Heating_Geo_sput/ti_b2fplasmf_co_16MW_Ne_0.npy\")\n",
    "ua_b2fplasmf_co_16MW_Ne_0=np.load(\"./data_Heating_Geo_sput/ua_b2fplasmf_co_16MW_Ne_0.npy\")\n",
    "\n",
    "ne_b2fplasmf_co_24MW_Ne_0=np.load(\"./data_Heating_Geo_sput/ne_b2fplasmf_co_24MW_Ne_0.npy\")\n",
    "te_b2fplasmf_co_24MW_Ne_0=np.load(\"./data_Heating_Geo_sput/te_b2fplasmf_co_24MW_Ne_0.npy\")\n",
    "na_b2fplasmf_co_24MW_Ne_0=np.load(\"./data_Heating_Geo_sput/na_b2fplasmf_co_24MW_Ne_0.npy\")\n",
    "ti_b2fplasmf_co_24MW_Ne_0=np.load(\"./data_Heating_Geo_sput/ti_b2fplasmf_co_24MW_Ne_0.npy\")\n",
    "ua_b2fplasmf_co_24MW_Ne_0=np.load(\"./data_Heating_Geo_sput/ua_b2fplasmf_co_24MW_Ne_0.npy\")\n",
    "\n",
    "ne_b2fplasmf_co_28MW_Ne_0=np.load(\"./data_Heating_Geo_sput/ne_b2fplasmf_co_28MW_Ne_0.npy\")\n",
    "te_b2fplasmf_co_28MW_Ne_0=np.load(\"./data_Heating_Geo_sput/te_b2fplasmf_co_28MW_Ne_0.npy\")\n",
    "na_b2fplasmf_co_28MW_Ne_0=np.load(\"./data_Heating_Geo_sput/na_b2fplasmf_co_28MW_Ne_0.npy\")\n",
    "ti_b2fplasmf_co_28MW_Ne_0=np.load(\"./data_Heating_Geo_sput/ti_b2fplasmf_co_28MW_Ne_0.npy\")\n",
    "ua_b2fplasmf_co_28MW_Ne_0=np.load(\"./data_Heating_Geo_sput/ua_b2fplasmf_co_28MW_Ne_0.npy\")\n",
    "\n",
    "ne_b2fplasmf_co_32MW_Ne_0=np.load(\"./data_Heating_Geo_sput/ne_b2fplasmf_co_32MW_Ne_0.npy\")\n",
    "te_b2fplasmf_co_32MW_Ne_0=np.load(\"./data_Heating_Geo_sput/te_b2fplasmf_co_32MW_Ne_0.npy\")\n",
    "na_b2fplasmf_co_32MW_Ne_0=np.load(\"./data_Heating_Geo_sput/na_b2fplasmf_co_32MW_Ne_0.npy\")\n",
    "ti_b2fplasmf_co_32MW_Ne_0=np.load(\"./data_Heating_Geo_sput/ti_b2fplasmf_co_32MW_Ne_0.npy\")\n",
    "ua_b2fplasmf_co_32MW_Ne_0=np.load(\"./data_Heating_Geo_sput/ua_b2fplasmf_co_32MW_Ne_0.npy\")\n",
    "\n"
   ]
  },
  {
   "cell_type": "code",
   "execution_count": 91,
   "metadata": {},
   "outputs": [],
   "source": [
    "J_al_8MW = np.zeros([20, 2, 38, 98])\n",
    "\n",
    "geo_1e18 = ((np.load(\"./data_sep_density/bb_b2fplasmf_SAS_8MW_1e18_Ne_0_sep_density.npy\")[3,1:,96])/(np.load(\"./data_sep_density/bb_b2fplasmf_SAS_8MW_1e18_Ne_0_sep_density.npy\")[0,1:,96]))/(np.load(\"./qc_new_mesh_SAS.npy\")[1:,96])\n",
    "fna_al_8MW = np.load(\"./data_Heating_Geo_sput/fna_b2fplasmf_SAS_8MW_noNe_re.npy\")\n",
    "\n",
    "\n",
    "for i in range(20):\n",
    "    J_al_8MW[i,:,:,:] = fna_al_8MW[i,:,:,:]#*charge[i] \n",
    "\n",
    "J_al_8MW = np.sum(J_al_8MW,axis=0)\n",
    "target_SAS_8MW = []\n",
    "np.shape(geo_1e18)\n",
    "target_SAS_8MW.append((J_al_8MW[0,19:,96])*geo_1e18[18:]/(al_newmesh_facing[0,19:,96]*10000))\n"
   ]
  },
  {
   "cell_type": "code",
   "execution_count": 92,
   "metadata": {},
   "outputs": [],
   "source": [
    "def Temp_fit(x, A,T, n):\n",
    "\treturn A*(1- np.exp(-x*(T**(-1))))**n\n",
    "\n",
    "def Flux_fit(x, A,T, n):\n",
    "\treturn A*((1- np.exp(-x*(T**(-1))))**n)*(x**(-0.5))\n",
    "\n",
    "\n",
    "\n",
    "def Temp_fit_2(x, T, n):\n",
    "\treturn (1- np.exp(-x*(T**(-1))))**n\n",
    "\n",
    "\n",
    "\n",
    "def total_pressure(ne,te,na,ti,ua):\n",
    "\n",
    "    mass_indes = np.array([3.3435837724*10**(-27),3.3435837724*10**(-27),1.9944733*10**(-26),1.9944733*10**(-26),1.9944733*10**(-26),1.9944733*10**(-26),1.9944733*10**(-26),1.9944733*10**(-26),1.9944733*10**(-26),1.9944733*10**(-26),3.3509177*10**(-26),3.3509177*10**(-26),3.3509177*10**(-26),3.3509177*10**(-26),3.3509177*10**(-26),3.3509177*10**(-26),3.3509177*10**(-26),3.3509177*10**(-26),3.3509177*10**(-26),3.3509177*10**(-26)])\n",
    "#    mass_indes = np.transpose(mass_indes)\n",
    "    pr = ne[:,:]*te[:,:] \n",
    "    impor = na[:,:,:]*ua[:,:,:]*ua[:,:,:]\n",
    "    for i in range(np.shape(mass_indes)[0]):\n",
    "        pr= pr+impor[i,:,:]*mass_indes[i]+na[i,:,:]*ti[:,:]\n",
    "    return pr\n"
   ]
  },
  {
   "cell_type": "code",
   "execution_count": 93,
   "metadata": {},
   "outputs": [
    {
     "name": "stdout",
     "output_type": "stream",
     "text": [
      "(38, 98)\n"
     ]
    }
   ],
   "source": [
    "vol_b2fplasmf_SAS_8MW_Ne_0 = np.load(\"./data_Heating_Geo_sput/vol_b2fplasmf_SAS_8MW_Ne_0.npy\")\n",
    "print(np.shape(vol_b2fplasmf_SAS_8MW_Ne_0))"
   ]
  },
  {
   "cell_type": "code",
   "execution_count": 94,
   "metadata": {},
   "outputs": [
    {
     "name": "stdout",
     "output_type": "stream",
     "text": [
      "1.9368336908192925\n",
      "10.109288030019915\n",
      "22.259488157241027\n",
      "  \n",
      "2.73402737135494\n",
      "15.403886348818032\n",
      "32.45327982415542\n",
      "\n",
      "re 3.3483591902081454e-19\n",
      "[ 0.          0.2482735   0.37644467  0.58949713  0.88802063  1.2744181\n",
      "  1.75327664  2.32598638  2.99412622  3.76002595  4.62606575  5.59456666\n",
      "  6.66790007  7.85225174  9.15045647 10.56119204 12.08684856 13.73340749\n",
      " 15.5061727  17.40204929]\n",
      "[ 0.          0.2482735   0.37651176  0.58958491  0.88813985  1.27454282\n",
      "  1.75338399  2.32601443  2.99400628  3.75969196  4.62540463  5.5934862\n",
      "  6.6662692   7.84996617  9.14743834 10.5573414  12.08202883 13.7274375\n",
      " 15.49893044 17.39326104]\n"
     ]
    },
    {
     "name": "stderr",
     "output_type": "stream",
     "text": [
      "/var/folders/6l/rtqlm1413nv4p09yfmh2nkhc0000gn/T/ipykernel_89013/2391447837.py:11: RuntimeWarning: divide by zero encountered in true_divide\n",
      "  v_aD0 = np.sqrt(ti_b2fplasmf_al_8MW_Ne_0[:,:]/mass_indes[0])/rsana_b2fplasmf_SAS_8MW_Ne_0[0,:,:]\n",
      "/var/folders/6l/rtqlm1413nv4p09yfmh2nkhc0000gn/T/ipykernel_89013/2391447837.py:12: RuntimeWarning: divide by zero encountered in true_divide\n",
      "  v_aC0 = np.sqrt(ti_b2fplasmf_al_8MW_Ne_0[:,:]/mass_indes[2])/rsana_b2fplasmf_SAS_8MW_Ne_0[2,:,:]\n",
      "/var/folders/6l/rtqlm1413nv4p09yfmh2nkhc0000gn/T/ipykernel_89013/2391447837.py:13: RuntimeWarning: divide by zero encountered in true_divide\n",
      "  v_aNe0 = np.sqrt(ti_b2fplasmf_al_8MW_Ne_0[:,:]/mass_indes[9])/rsana_b2fplasmf_SAS_8MW_Ne_0[9,:,:]\n",
      "/var/folders/6l/rtqlm1413nv4p09yfmh2nkhc0000gn/T/ipykernel_89013/2391447837.py:23: RuntimeWarning: divide by zero encountered in true_divide\n",
      "  v_aD0 = np.sqrt(ti_b2fplasmf_co_8MW_Ne_0[:,:]/mass_indes[0])/rsana_b2fplasmf_co_8MW_Ne_0[0,:,:]\n",
      "/var/folders/6l/rtqlm1413nv4p09yfmh2nkhc0000gn/T/ipykernel_89013/2391447837.py:24: RuntimeWarning: divide by zero encountered in true_divide\n",
      "  v_aC0 = np.sqrt(ti_b2fplasmf_co_8MW_Ne_0[:,:]/mass_indes[2])/rsana_b2fplasmf_co_8MW_Ne_0[2,:,:]\n",
      "/var/folders/6l/rtqlm1413nv4p09yfmh2nkhc0000gn/T/ipykernel_89013/2391447837.py:25: RuntimeWarning: divide by zero encountered in true_divide\n",
      "  v_aNe0 = np.sqrt(ti_b2fplasmf_co_8MW_Ne_0[:,:]/mass_indes[9])/rsana_b2fplasmf_co_8MW_Ne_0[9,:,:]\n",
      "/var/folders/6l/rtqlm1413nv4p09yfmh2nkhc0000gn/T/ipykernel_89013/2391447837.py:32: RuntimeWarning: divide by zero encountered in true_divide\n",
      "  D0= np.sqrt(ti[:,:]/mass_indes[0])/(ne[:,:]*vol[:,:]*rsana[0,:,:])\n",
      "/var/folders/6l/rtqlm1413nv4p09yfmh2nkhc0000gn/T/ipykernel_89013/2391447837.py:33: RuntimeWarning: divide by zero encountered in true_divide\n",
      "  C0= np.sqrt(ti[:,:]/mass_indes[2])/(ne[:,:]*vol[:,:]*rsana[2,:,:])\n",
      "/var/folders/6l/rtqlm1413nv4p09yfmh2nkhc0000gn/T/ipykernel_89013/2391447837.py:34: RuntimeWarning: divide by zero encountered in true_divide\n",
      "  Ne0= np.sqrt(ti[:,:]/mass_indes[9])/(ne[:,:]*vol[:,:]*rsana[9,:,:])\n"
     ]
    }
   ],
   "source": [
    "font1 = {'family': 'Times New Roman',\n",
    "      'color':  'black',\n",
    "      'weight': 'normal',\n",
    "      'size': 14}\n",
    "font2= {'family': 'Times New Roman',\n",
    "      'color':  'black',\n",
    "      'weight': 'normal',\n",
    "      'size': 12}\n",
    "\n",
    "\n",
    "v_aD0 = np.sqrt(ti_b2fplasmf_al_8MW_Ne_0[:,:]/mass_indes[0])/rsana_b2fplasmf_SAS_8MW_Ne_0[0,:,:]\n",
    "v_aC0 = np.sqrt(ti_b2fplasmf_al_8MW_Ne_0[:,:]/mass_indes[2])/rsana_b2fplasmf_SAS_8MW_Ne_0[2,:,:]\n",
    "v_aNe0 = np.sqrt(ti_b2fplasmf_al_8MW_Ne_0[:,:]/mass_indes[9])/rsana_b2fplasmf_SAS_8MW_Ne_0[9,:,:]\n",
    "\n",
    "print(v_aD0[20,56]*1000)\n",
    "print(v_aC0[20,56]*1000)\n",
    "print(v_aNe0[20,56]*1000)\n",
    "\n",
    "\n",
    "\n",
    "\n",
    "print(\"  \")\n",
    "v_aD0 = np.sqrt(ti_b2fplasmf_co_8MW_Ne_0[:,:]/mass_indes[0])/rsana_b2fplasmf_co_8MW_Ne_0[0,:,:]\n",
    "v_aC0 = np.sqrt(ti_b2fplasmf_co_8MW_Ne_0[:,:]/mass_indes[2])/rsana_b2fplasmf_co_8MW_Ne_0[2,:,:]\n",
    "v_aNe0 = np.sqrt(ti_b2fplasmf_co_8MW_Ne_0[:,:]/mass_indes[9])/rsana_b2fplasmf_co_8MW_Ne_0[9,:,:]\n",
    "\n",
    "print(v_aD0[20,56]*1000)\n",
    "print(v_aC0[20,56]*1000)\n",
    "print(v_aNe0[20,56]*1000)\n",
    "\n",
    "def ioni_pene_dist(ti,rsana,ne,vol):\n",
    "      D0= np.sqrt(ti[:,:]/mass_indes[0])/(ne[:,:]*vol[:,:]*rsana[0,:,:])\n",
    "      C0= np.sqrt(ti[:,:]/mass_indes[2])/(ne[:,:]*vol[:,:]*rsana[2,:,:])\n",
    "      Ne0= np.sqrt(ti[:,:]/mass_indes[9])/(ne[:,:]*vol[:,:]*rsana[9,:,:])\n",
    "      return [D0,C0,Ne0]\n",
    "\n",
    "print(\"\")\n",
    "print(\"re\", (ioni_pene_dist(ti_b2fplasmf_al_8MW_Ne_0,rsana_b2fplasmf_SAS_8MW_Ne_0,ne_b2fplasmf_al_8MW_Ne_0,vol_b2fplasmf_SAS_8MW_Ne_0)[0])[20,56])\n",
    "\n",
    "print(al_sep_out_midplane_dist[18:]*1000)\n",
    "print(co_sep_out_midplane_dist[18:]*1000)\n",
    "\n"
   ]
  },
  {
   "cell_type": "code",
   "execution_count": 95,
   "metadata": {},
   "outputs": [
    {
     "data": {
      "text/plain": [
       "array([205.58338554, 205.37523929, 205.12246422, 204.81708696,\n",
       "       204.44793677, 203.9985601 , 203.44889612, 202.77420764,\n",
       "       201.94303613, 200.91482589, 199.63401479, 198.01709759,\n",
       "       195.96523506, 193.36206203, 190.02541439, 185.72098043,\n",
       "       180.14384323, 172.77923285, 164.01258987, 156.64834016,\n",
       "       152.09569611, 148.34110027, 143.49953081, 135.20209194,\n",
       "       123.03308161, 109.86702064,  97.60757227,  86.81917016,\n",
       "        77.56860993,  69.52049952,  62.25577468,  55.30238318,\n",
       "        48.08382271,  39.91624055,  30.25944145,  18.49027598,\n",
       "         6.69488741,   2.33779542,   1.37183428,   1.05795699,\n",
       "         0.53085418,   0.3063345 ])"
      ]
     },
     "execution_count": 95,
     "metadata": {},
     "output_type": "execute_result"
    }
   ],
   "source": [
    "te_b2fplasmf_al_8MW_Ne_0[20,56:]/eV"
   ]
  },
  {
   "cell_type": "code",
   "execution_count": 96,
   "metadata": {},
   "outputs": [
    {
     "data": {
      "text/plain": [
       "array([[[0.00000000e+00, 0.00000000e+00, 0.00000000e+00, ...,\n",
       "         0.00000000e+00, 0.00000000e+00, 0.00000000e+00],\n",
       "        [0.00000000e+00, 4.32106933e+02, 1.56248522e+04, ...,\n",
       "         2.74165062e+03, 4.46503973e+01, 0.00000000e+00],\n",
       "        [0.00000000e+00, 1.42839647e+03, 4.87354406e+04, ...,\n",
       "         3.64295524e+03, 5.04460150e+01, 0.00000000e+00],\n",
       "        ...,\n",
       "        [0.00000000e+00, 2.60783234e+10, 3.34569012e+10, ...,\n",
       "         3.86839772e+10, 5.75341801e+09, 0.00000000e+00],\n",
       "        [0.00000000e+00, 8.12069009e+09, 1.50109198e+10, ...,\n",
       "         8.64570916e+09, 7.83206415e+08, 0.00000000e+00],\n",
       "        [0.00000000e+00, 0.00000000e+00, 0.00000000e+00, ...,\n",
       "         0.00000000e+00, 0.00000000e+00, 0.00000000e+00]],\n",
       "\n",
       "       [[0.00000000e+00, 0.00000000e+00, 0.00000000e+00, ...,\n",
       "         0.00000000e+00, 0.00000000e+00, 0.00000000e+00],\n",
       "        [0.00000000e+00, 0.00000000e+00, 0.00000000e+00, ...,\n",
       "         0.00000000e+00, 0.00000000e+00, 0.00000000e+00],\n",
       "        [0.00000000e+00, 0.00000000e+00, 0.00000000e+00, ...,\n",
       "         0.00000000e+00, 0.00000000e+00, 0.00000000e+00],\n",
       "        ...,\n",
       "        [0.00000000e+00, 0.00000000e+00, 0.00000000e+00, ...,\n",
       "         0.00000000e+00, 0.00000000e+00, 0.00000000e+00],\n",
       "        [0.00000000e+00, 0.00000000e+00, 0.00000000e+00, ...,\n",
       "         0.00000000e+00, 0.00000000e+00, 0.00000000e+00],\n",
       "        [0.00000000e+00, 0.00000000e+00, 0.00000000e+00, ...,\n",
       "         0.00000000e+00, 0.00000000e+00, 0.00000000e+00]],\n",
       "\n",
       "       [[0.00000000e+00, 0.00000000e+00, 0.00000000e+00, ...,\n",
       "         0.00000000e+00, 0.00000000e+00, 0.00000000e+00],\n",
       "        [0.00000000e+00, 8.65690206e+01, 3.01582456e+03, ...,\n",
       "         1.13985233e+03, 1.85959315e+01, 0.00000000e+00],\n",
       "        [0.00000000e+00, 2.79919802e+02, 9.04836656e+03, ...,\n",
       "         1.50236227e+03, 2.08807870e+01, 0.00000000e+00],\n",
       "        ...,\n",
       "        [0.00000000e+00, 4.35852167e+06, 1.09724602e+07, ...,\n",
       "         1.76127367e+08, 3.31170558e+07, 0.00000000e+00],\n",
       "        [0.00000000e+00, 2.22809595e+06, 6.06200828e+06, ...,\n",
       "         4.83601399e+07, 5.82839746e+06, 0.00000000e+00],\n",
       "        [0.00000000e+00, 0.00000000e+00, 0.00000000e+00, ...,\n",
       "         0.00000000e+00, 0.00000000e+00, 0.00000000e+00]],\n",
       "\n",
       "       ...,\n",
       "\n",
       "       [[0.00000000e+00, 0.00000000e+00, 0.00000000e+00, ...,\n",
       "         0.00000000e+00, 0.00000000e+00, 0.00000000e+00],\n",
       "        [0.00000000e+00, 5.11949693e-25, 1.98445212e-23, ...,\n",
       "         1.55047404e-26, 1.22111796e-28, 0.00000000e+00],\n",
       "        [0.00000000e+00, 1.59066517e-24, 5.92994298e-23, ...,\n",
       "         2.00265960e-26, 1.31919870e-28, 0.00000000e+00],\n",
       "        ...,\n",
       "        [0.00000000e+00, 1.07553974e+03, 7.96292297e+03, ...,\n",
       "         3.04315303e-12, 8.10447086e-14, 0.00000000e+00],\n",
       "        [0.00000000e+00, 9.96725141e+02, 5.28456272e+03, ...,\n",
       "         3.05740379e-13, 7.76751144e-15, 0.00000000e+00],\n",
       "        [0.00000000e+00, 0.00000000e+00, 0.00000000e+00, ...,\n",
       "         0.00000000e+00, 0.00000000e+00, 0.00000000e+00]],\n",
       "\n",
       "       [[0.00000000e+00, 0.00000000e+00, 0.00000000e+00, ...,\n",
       "         0.00000000e+00, 0.00000000e+00, 0.00000000e+00],\n",
       "        [0.00000000e+00, 2.27804707e-28, 8.70391599e-27, ...,\n",
       "         1.73130385e-28, 1.43864378e-30, 0.00000000e+00],\n",
       "        [0.00000000e+00, 7.31229166e-28, 2.67644140e-26, ...,\n",
       "         2.28596617e-28, 1.58290227e-30, 0.00000000e+00],\n",
       "        ...,\n",
       "        [0.00000000e+00, 4.38944435e+01, 3.27419033e+02, ...,\n",
       "         8.82045886e-14, 2.24559665e-15, 0.00000000e+00],\n",
       "        [0.00000000e+00, 4.15286458e+01, 2.21542024e+02, ...,\n",
       "         8.48745019e-15, 2.08431985e-16, 0.00000000e+00],\n",
       "        [0.00000000e+00, 0.00000000e+00, 0.00000000e+00, ...,\n",
       "         0.00000000e+00, 0.00000000e+00, 0.00000000e+00]],\n",
       "\n",
       "       [[0.00000000e+00, 0.00000000e+00, 0.00000000e+00, ...,\n",
       "         0.00000000e+00, 0.00000000e+00, 0.00000000e+00],\n",
       "        [0.00000000e+00, 0.00000000e+00, 0.00000000e+00, ...,\n",
       "         0.00000000e+00, 0.00000000e+00, 0.00000000e+00],\n",
       "        [0.00000000e+00, 0.00000000e+00, 0.00000000e+00, ...,\n",
       "         0.00000000e+00, 0.00000000e+00, 0.00000000e+00],\n",
       "        ...,\n",
       "        [0.00000000e+00, 0.00000000e+00, 0.00000000e+00, ...,\n",
       "         0.00000000e+00, 0.00000000e+00, 0.00000000e+00],\n",
       "        [0.00000000e+00, 0.00000000e+00, 0.00000000e+00, ...,\n",
       "         0.00000000e+00, 0.00000000e+00, 0.00000000e+00],\n",
       "        [0.00000000e+00, 0.00000000e+00, 0.00000000e+00, ...,\n",
       "         0.00000000e+00, 0.00000000e+00, 0.00000000e+00]]])"
      ]
     },
     "execution_count": 96,
     "metadata": {},
     "output_type": "execute_result"
    }
   ],
   "source": [
    "rsana_b2fplasmf_SAS_8MW_Ne_0\n"
   ]
  },
  {
   "cell_type": "code",
   "execution_count": 97,
   "metadata": {},
   "outputs": [
    {
     "name": "stdout",
     "output_type": "stream",
     "text": [
      "[0.08558026 0.08571031 0.08584368 0.08595289 0.08599006 0.08591564\n",
      " 0.08573237 0.08548271 0.08530165 0.08529461 0.08544624 0.08567129\n",
      " 0.08587747 0.08607731 0.0863053  0.08656328 0.08684366 0.08704931\n",
      " 0.08702849 0.08621223 0.08273498 0.07274278 0.05908226 0.05163504\n",
      " 0.04640041 0.0393869  0.02915329 0.0216266  0.01734891 0.01498403\n",
      " 0.01343729 0.01229838 0.0112607  0.01028784 0.00924379 0.00803176\n",
      " 0.00655312 0.00494929 0.0032884  0.00184923 0.00105707 0.00061946\n",
      " 0.00042298 0.00051355 0.00051235]\n"
     ]
    }
   ],
   "source": [
    "print((np.sqrt(ti_b2fplasmf_co_8MW_Ne_0[:,:]/mass_indes[0])/(ne_b2fplasmf_al_8MW_Ne_0[:,:]*(10**(-13))))[20,53:])\n"
   ]
  },
  {
   "cell_type": "code",
   "execution_count": 98,
   "metadata": {},
   "outputs": [],
   "source": [
    "#print(np.sqrt(ti_b2fplasmf_co_8MW_Ne_0[:,:]/mass_indes[0])/(ne_b2fplasmf_al_8MW_Ne_0[:,:]*(10**(-14))))[20,53:]\n",
    "#print(np.shape(np.sqrt(ti_b2fplasmf_co_8MW_Ne_0[:,:]/mass_indes[0])/(ne_b2fplasmf_al_8MW_Ne_0[:,:]*(10**(-14))))[20,53:])\n"
   ]
  },
  {
   "cell_type": "code",
   "execution_count": 99,
   "metadata": {},
   "outputs": [],
   "source": [
    "#ne[:,:]*vol[:,:]"
   ]
  },
  {
   "cell_type": "code",
   "execution_count": 100,
   "metadata": {},
   "outputs": [
    {
     "name": "stdout",
     "output_type": "stream",
     "text": [
      "y = 3.25444 * x + -0.01170 * x^2 + -155.02833\n"
     ]
    },
    {
     "data": {
      "image/png": "[encoded data removed]",
      "text/plain": [
       "<Figure size 432x288 with 1 Axes>"
      ]
     },
     "metadata": {
      "needs_background": "light"
     },
     "output_type": "display_data"
    },
    {
     "name": "stdout",
     "output_type": "stream",
     "text": [
      "<class 'numpy.ndarray'>\n"
     ]
    }
   ],
   "source": [
    "# define the true objective function\n",
    "def objective(x, a, b, c):\n",
    "\treturn a * x + b * x**2 + c\n",
    "\n",
    "# load the dataset\n",
    "url = 'https://raw.githubusercontent.com/jbrownlee/Datasets/master/longley.csv'\n",
    "dataframe = read_csv(url, header=None)\n",
    "data = dataframe.values\n",
    "# choose the input and output variables\n",
    "x, y = data[:, 4], data[:, -1]\n",
    "# curve fit\n",
    "popt, _ = curve_fit(objective, x, y)\n",
    "# summarize the parameter values\n",
    "a, b, c = popt\n",
    "print('y = %.5f * x + %.5f * x^2 + %.5f' % (a, b, c))\n",
    "# plot input vs output\n",
    "plt.scatter(x, y)\n",
    "# define a sequence of inputs between the smallest and largest known inputs\n",
    "x_line = np.arange(min(x), max(x), 0.01)\n",
    "# calculate the output for the range\n",
    "y_line = objective(x_line, a, b, c)\n",
    "# create a line plot for the mapping function\n",
    "plt.plot(x_line, y_line, '--', color='red')\n",
    "plt.show()\n",
    "print(type(x))"
   ]
  },
  {
   "cell_type": "code",
   "execution_count": 101,
   "metadata": {},
   "outputs": [],
   "source": [
    "loss_al = []\n",
    "loss_co = []\n",
    "\n",
    "loss_al_8MW = []\n",
    "loss_co_8MW = []\n",
    "\n",
    "loss_al_32MW = []\n",
    "loss_co_32MW = []\n",
    "\n",
    "target_temp_al_8MW = []\n",
    "target_temp_co_8MW = []\n",
    "\n",
    "target_temp_al_32MW = []\n",
    "target_temp_co_32MW = []\n",
    "\n",
    "\n",
    "target_temp_al = []\n",
    "target_temp_co = []\n",
    "\n",
    "\n",
    "\n",
    "#total_pressure(ne,te,na,ti,ua)\n",
    "\n",
    "al_mom_loss_8MW = total_pressure(ne_b2fplasmf_al_8MW_Ne_0,te_b2fplasmf_al_8MW_Ne_0,na_b2fplasmf_al_8MW_Ne_0,ti_b2fplasmf_al_8MW_Ne_0,ua_b2fplasmf_al_8MW_Ne_0)[18,96]/total_pressure(ne_b2fplasmf_al_8MW_Ne_0,te_b2fplasmf_al_8MW_Ne_0,na_b2fplasmf_al_8MW_Ne_0,ti_b2fplasmf_al_8MW_Ne_0,ua_b2fplasmf_al_8MW_Ne_0)[18,53]\n",
    "al_mom_loss_16MW = total_pressure(ne_b2fplasmf_al_16MW_Ne_0,te_b2fplasmf_al_16MW_Ne_0,na_b2fplasmf_al_16MW_Ne_0,ti_b2fplasmf_al_16MW_Ne_0,ua_b2fplasmf_al_16MW_Ne_0)[18,96]/total_pressure(ne_b2fplasmf_al_16MW_Ne_0,te_b2fplasmf_al_16MW_Ne_0,na_b2fplasmf_al_16MW_Ne_0,ti_b2fplasmf_al_16MW_Ne_0,ua_b2fplasmf_al_16MW_Ne_0)[18,53]\n",
    "al_mon_loss_32MW = total_pressure(ne_b2fplasmf_al_32MW_Ne_0,te_b2fplasmf_al_32MW_Ne_0,na_b2fplasmf_al_32MW_Ne_0,ti_b2fplasmf_al_32MW_Ne_0,ua_b2fplasmf_al_32MW_Ne_0)[18,96]/total_pressure(ne_b2fplasmf_al_32MW_Ne_0,te_b2fplasmf_al_32MW_Ne_0,na_b2fplasmf_al_32MW_Ne_0,ti_b2fplasmf_al_32MW_Ne_0,ua_b2fplasmf_al_32MW_Ne_0)[18,53]\n",
    "loss_al.append(al_mom_loss_8MW)\n",
    "loss_al.append(al_mom_loss_16MW)\n",
    "loss_al.append(al_mon_loss_32MW)\n",
    "\n",
    "# for i_al in range(20,30):\n",
    "#     loss_al_8MW.append(total_pressure(ne_b2fplasmf_al_8MW_Ne_0,te_b2fplasmf_al_8MW_Ne_0,na_b2fplasmf_al_8MW_Ne_0,ti_b2fplasmf_al_8MW_Ne_0,ua_b2fplasmf_al_8MW_Ne_0)[i_al,96]/total_pressure(ne_b2fplasmf_al_8MW_Ne_0,te_b2fplasmf_al_8MW_Ne_0,na_b2fplasmf_al_8MW_Ne_0,ti_b2fplasmf_al_8MW_Ne_0,ua_b2fplasmf_al_8MW_Ne_0)[i_al,53])\n",
    "#     target_temp_al_8MW.append(te_b2fplasmf_al_8MW_Ne_0[i_al,96]/eV)\n",
    "\n",
    "#     loss_al_32MW.append(total_pressure(ne_b2fplasmf_al_32MW_Ne_0,te_b2fplasmf_al_32MW_Ne_0,na_b2fplasmf_al_32MW_Ne_0,ti_b2fplasmf_al_32MW_Ne_0,ua_b2fplasmf_al_32MW_Ne_0)[i_al,96]/total_pressure(ne_b2fplasmf_al_32MW_Ne_0,te_b2fplasmf_al_32MW_Ne_0,na_b2fplasmf_al_32MW_Ne_0,ti_b2fplasmf_al_32MW_Ne_0,ua_b2fplasmf_al_32MW_Ne_0)[i_al,53])\n",
    "#     target_temp_al_32MW.append(te_b2fplasmf_al_32MW_Ne_0[i_al,96]/eV)\n",
    "\n",
    "\n",
    "# for i_al in range(30,38):\n",
    "#     loss_co_8MW.append(total_pressure(ne_b2fplasmf_co_8MW_Ne_0,te_b2fplasmf_co_8MW_Ne_0,na_b2fplasmf_co_8MW_Ne_0,ti_b2fplasmf_co_8MW_Ne_0,ua_b2fplasmf_co_8MW_Ne_0)[i_al,96]/total_pressure(ne_b2fplasmf_co_8MW_Ne_0,te_b2fplasmf_co_8MW_Ne_0,na_b2fplasmf_co_8MW_Ne_0,ti_b2fplasmf_co_8MW_Ne_0,ua_b2fplasmf_co_8MW_Ne_0)[i_al,53])\n",
    "#     target_temp_co_8MW.append(te_b2fplasmf_co_8MW_Ne_0[i_al,96]/eV)\n",
    "\n",
    "#     loss_co_32MW.append(total_pressure(ne_b2fplasmf_co_32MW_Ne_0,te_b2fplasmf_co_32MW_Ne_0,na_b2fplasmf_co_32MW_Ne_0,ti_b2fplasmf_co_32MW_Ne_0,ua_b2fplasmf_co_32MW_Ne_0)[i_al,96]/total_pressure(ne_b2fplasmf_co_32MW_Ne_0,te_b2fplasmf_co_32MW_Ne_0,na_b2fplasmf_co_32MW_Ne_0,ti_b2fplasmf_co_32MW_Ne_0,ua_b2fplasmf_co_32MW_Ne_0)[i_al,53])\n",
    "#     target_temp_co_32MW.append(te_b2fplasmf_co_32MW_Ne_0[i_al,96]/eV)\n",
    "\n",
    "target_temp_al.append(te_b2fplasmf_al_8MW_Ne_0[18,97])\n",
    "target_temp_al.append(te_b2fplasmf_al_16MW_Ne_0[18,97])\n",
    "target_temp_al.append(te_b2fplasmf_al_32MW_Ne_0[18,97])\n",
    "#target_temp_al.append[te_b2fplasmf_al_8MW_Ne_3e19[18,96]]\n",
    "\n",
    "\n",
    "co_mom_loss_8MW  = total_pressure(ne_b2fplasmf_co_8MW_Ne_0 ,te_b2fplasmf_co_8MW_Ne_0 ,na_b2fplasmf_co_8MW_Ne_0 ,ti_b2fplasmf_co_8MW_Ne_0 ,ua_b2fplasmf_co_8MW_Ne_0)[18,96]/total_pressure( ne_b2fplasmf_co_8MW_Ne_0 ,te_b2fplasmf_co_8MW_Ne_0 ,na_b2fplasmf_co_8MW_Ne_0 ,ti_b2fplasmf_co_8MW_Ne_0 ,ua_b2fplasmf_co_8MW_Ne_0)[18,53]\n",
    "co_mom_loss_16MW = total_pressure(ne_b2fplasmf_co_16MW_Ne_0,te_b2fplasmf_co_16MW_Ne_0,na_b2fplasmf_co_16MW_Ne_0,ti_b2fplasmf_co_16MW_Ne_0,ua_b2fplasmf_co_16MW_Ne_0)[18,96]/total_pressure(ne_b2fplasmf_co_16MW_Ne_0,te_b2fplasmf_co_16MW_Ne_0,na_b2fplasmf_co_16MW_Ne_0,ti_b2fplasmf_co_16MW_Ne_0,ua_b2fplasmf_co_16MW_Ne_0)[18,53]\n",
    "co_mon_loss_32MW = total_pressure(ne_b2fplasmf_co_32MW_Ne_0,te_b2fplasmf_co_32MW_Ne_0,na_b2fplasmf_co_32MW_Ne_0,ti_b2fplasmf_co_32MW_Ne_0,ua_b2fplasmf_co_32MW_Ne_0)[18,96]/total_pressure(ne_b2fplasmf_co_32MW_Ne_0,te_b2fplasmf_co_32MW_Ne_0,na_b2fplasmf_co_32MW_Ne_0,ti_b2fplasmf_co_32MW_Ne_0,ua_b2fplasmf_co_32MW_Ne_0)[18,53]\n",
    "loss_co.append(co_mom_loss_8MW)\n",
    "loss_co.append(co_mom_loss_16MW)\n",
    "loss_co.append(co_mon_loss_32MW)\n",
    "\n",
    "\n",
    "target_temp_co.append(te_b2fplasmf_co_8MW_Ne_0[18,97])\n",
    "target_temp_co.append(te_b2fplasmf_co_16MW_Ne_0[18,97])\n",
    "target_temp_co.append(te_b2fplasmf_co_32MW_Ne_0[18,97])\n"
   ]
  },
  {
   "cell_type": "code",
   "execution_count": null,
   "metadata": {},
   "outputs": [],
   "source": [
    "\n",
    "\n"
   ]
  },
  {
   "cell_type": "code",
   "execution_count": null,
   "metadata": {},
   "outputs": [],
   "source": []
  },
  {
   "cell_type": "code",
   "execution_count": 102,
   "metadata": {},
   "outputs": [
    {
     "name": "stderr",
     "output_type": "stream",
     "text": [
      "/var/folders/6l/rtqlm1413nv4p09yfmh2nkhc0000gn/T/ipykernel_89013/3273254622.py:2: RuntimeWarning: invalid value encountered in power\n",
      "  return A*(1- np.exp(-x*(T**(-1))))**n\n"
     ]
    },
    {
     "data": {
      "image/png": "[encoded data removed]",
      "text/plain": [
       "<Figure size 900x750 with 1 Axes>"
      ]
     },
     "metadata": {
      "needs_background": "light"
     },
     "output_type": "display_data"
    }
   ],
   "source": [
    "for i_al in range(23,32):\n",
    "    loss_al_8MW.append(total_pressure(ne_b2fplasmf_al_8MW_Ne_0,te_b2fplasmf_al_8MW_Ne_0,na_b2fplasmf_al_8MW_Ne_0,ti_b2fplasmf_al_8MW_Ne_0,ua_b2fplasmf_al_8MW_Ne_0)[i_al,96]/total_pressure(ne_b2fplasmf_al_8MW_Ne_0,te_b2fplasmf_al_8MW_Ne_0,na_b2fplasmf_al_8MW_Ne_0,ti_b2fplasmf_al_8MW_Ne_0,ua_b2fplasmf_al_8MW_Ne_0)[i_al,53])\n",
    "    target_temp_al_8MW.append(te_b2fplasmf_al_8MW_Ne_0[i_al,96]/eV)\n",
    "\n",
    "#x_al, y_al = [0.5101066247212611,0.550437647026052, 0.6703225602582731], [0.01999337812520763,0.04498380696981449,0.04591611475509127]\n",
    "x_al_8MW= np.array(target_temp_al_8MW)\n",
    "y_al_8MW=np.array(loss_al_8MW)\n",
    "#for i in range(len(x_al_8MW)):\n",
    "#    x_al_8MW[i] = x_al_8MW[i]/eV\n",
    "\n",
    "# curve fit\n",
    "popt, _ = curve_fit(Temp_fit, x_al_8MW, y_al_8MW)\n",
    "\n",
    "A_a8,T_a8,n_a8 = popt\n",
    "\n",
    "x_line_al_8MW = np.arange(0.1,10, step=0.01)\n",
    "# calculate the output for the range\n",
    "y_line_al_8MW = Temp_fit(x_line_al_8MW, A_a8,T_a8, n_a8)\n",
    "\n",
    "residuals = y_al_8MW-Temp_fit(x_al_8MW, A_a8,T_a8,n_a8)\n",
    "ss_res = np.sum(residuals**2)\n",
    "ss_tot = np.sum((y_al_8MW-np.mean(y_al_8MW))**2)\n",
    "r_squared = 1 - (ss_res / ss_tot)\n",
    "\n",
    "\n",
    "plt.figure(figsize=(6, 5),dpi = 150)\n",
    "\n",
    "plt.plot(x_line_al_8MW, y_line_al_8MW, '--', color='blue', lw  = 1)\n",
    "plt.title(r\"$T_{et}$ fitting - SAS divertor\")\n",
    "plt.scatter(x_al_8MW,y_al_8MW)\n",
    "plt.axhline(y=A_a8,xmin=0.1,xmax=1,linestyle=':', c = 'black')\n",
    "plt.text(0.1, A_a8-0.2, r\"%f\" %A_a8, fontdict=font2)\n",
    "\n",
    "plt.xscale(\"log\")\n",
    "plt.yscale(\"log\")\n",
    "plt.xlabel(r\"$T_{et}$ [eV]\")\n",
    "\n",
    "plt.ylabel(r\"$1-f_{mom-loss}$\")\n",
    "plt.text(0.5, 0.0025, r\"$1-f_{mom-loss}=A(1-e^{-T_{et}/T^*})^n$\", fontdict=font1)\n",
    "plt.text(0.5, 0.00005, r\"A = %f, $T^*=$%f, n=%f\" %(A_a8,T_a8,n_a8), fontdict=font2)\n",
    "plt.text(0.5, 0.000001, r\"$R^2$ = %f\" %r_squared, fontdict=font2)\n",
    "\n",
    "plt.savefig(\"./New_plots/8MW SAS T fitting.png\")\n",
    "\n",
    "plt.show()\n",
    "\n"
   ]
  },
  {
   "cell_type": "code",
   "execution_count": 103,
   "metadata": {},
   "outputs": [
    {
     "name": "stderr",
     "output_type": "stream",
     "text": [
      "/var/folders/6l/rtqlm1413nv4p09yfmh2nkhc0000gn/T/ipykernel_89013/3273254622.py:2: RuntimeWarning: invalid value encountered in power\n",
      "  return A*(1- np.exp(-x*(T**(-1))))**n\n"
     ]
    },
    {
     "data": {
      "image/png": "[encoded data removed]",
      "text/plain": [
       "<Figure size 900x750 with 1 Axes>"
      ]
     },
     "metadata": {
      "needs_background": "light"
     },
     "output_type": "display_data"
    }
   ],
   "source": [
    "loss_al_8MW=[]\n",
    "target_temp_al_8MW=[]\n",
    "for i_al in range(25,35):\n",
    "    loss_al_8MW.append(total_pressure(ne_b2fplasmf_al_8MW_Ne_0,te_b2fplasmf_al_8MW_Ne_0,na_b2fplasmf_al_8MW_Ne_0,ti_b2fplasmf_al_8MW_Ne_0,ua_b2fplasmf_al_8MW_Ne_0)[i_al,-2]/total_pressure(ne_b2fplasmf_al_8MW_Ne_0,te_b2fplasmf_al_8MW_Ne_0,na_b2fplasmf_al_8MW_Ne_0,ti_b2fplasmf_al_8MW_Ne_0,ua_b2fplasmf_al_8MW_Ne_0)[i_al,53])\n",
    "    target_temp_al_8MW.append(te_b2fplasmf_al_8MW_Ne_0[i_al,-2]/eV)\n",
    "\n",
    "#x_al, y_al = [0.5101066247212611,0.550437647026052, 0.6703225602582731], [0.01999337812520763,0.04498380696981449,0.04591611475509127]\n",
    "x_al_8MW= np.array(target_temp_al_8MW)\n",
    "y_al_8MW=np.array(loss_al_8MW)\n",
    "#for i in range(len(x_al_8MW)):\n",
    "#    x_al_8MW[i] = x_al_8MW[i]/eV\n",
    "\n",
    "# curve fit\n",
    "popt, _ = curve_fit(Temp_fit, x_al_8MW, y_al_8MW)\n",
    "\n",
    "A_a8,T_a8,n_a8 = popt\n",
    "\n",
    "x_line_al_8MW = np.arange(0.1,10, step=0.01)\n",
    "# calculate the output for the range\n",
    "y_line_al_8MW = Temp_fit(x_line_al_8MW, A_a8,T_a8, n_a8)\n",
    "\n",
    "residuals = y_al_8MW-Temp_fit(x_al_8MW, A_a8,T_a8,n_a8)\n",
    "ss_res = np.sum(residuals**2)\n",
    "ss_tot = np.sum((y_al_8MW-np.mean(y_al_8MW))**2)\n",
    "r_squared = 1 - (ss_res / ss_tot)\n",
    "\n",
    "\n",
    "plt.figure(figsize=(6, 5),dpi = 150)\n",
    "\n",
    "plt.plot(x_line_al_8MW, y_line_al_8MW, '--', color='blue', lw  = 1)\n",
    "plt.title(r\"$T_{et}$ fitting - SAS divertor\")\n",
    "plt.scatter(x_al_8MW,y_al_8MW)\n",
    "plt.axhline(y=A_a8,xmin=0.1,xmax=1,linestyle=':', c = 'black')\n",
    "plt.text(0.1, A_a8-0.2, r\"%f\" %A_a8, fontdict=font2)\n",
    "\n",
    "plt.xscale(\"log\")\n",
    "plt.yscale(\"log\")\n",
    "plt.xlabel(r\"$T_{et}$ [eV]\")\n",
    "\n",
    "plt.ylabel(r\"$1-f_{mom-loss}$\")\n",
    "plt.text(0.2, 0.00000000055, r\"$1-f_{mom-loss}=A(1-e^{-T_{et}/T^*})^n$\", fontdict=font1)\n",
    "plt.text(0.2, 0.0000000000025, r\"A = %f, $T^*=$%f, n=%f\" %(A_a8,T_a8,n_a8), fontdict=font2)\n",
    "plt.text(0.2, 0.00000000000001, r\"$R^2$ = %f\" %r_squared, fontdict=font2)\n",
    "\n",
    "plt.savefig(\"./New_plots/new_8MW_SAS_T_fitting.png\")\n",
    "\n",
    "plt.show()\n",
    "\n"
   ]
  },
  {
   "cell_type": "code",
   "execution_count": 104,
   "metadata": {},
   "outputs": [
    {
     "name": "stdout",
     "output_type": "stream",
     "text": [
      "0.5836948516824496 0.5592314291385428 15.563216350816251 0.9886465725733536\n"
     ]
    },
    {
     "data": {
      "image/png": "[encoded data removed]",
      "text/plain": [
       "<Figure size 900x750 with 1 Axes>"
      ]
     },
     "metadata": {
      "needs_background": "light"
     },
     "output_type": "display_data"
    },
    {
     "data": {
      "text/plain": [
       "[<matplotlib.lines.Line2D at 0x15835f2e0>]"
      ]
     },
     "execution_count": 104,
     "metadata": {},
     "output_type": "execute_result"
    },
    {
     "data": {
      "image/png": "[encoded data removed]",
      "text/plain": [
       "<Figure size 432x288 with 1 Axes>"
      ]
     },
     "metadata": {
      "needs_background": "light"
     },
     "output_type": "display_data"
    }
   ],
   "source": [
    "loss_co_8MW = []\n",
    "target_temp_co_8MW = []\n",
    "for i_al in range(25,35):\n",
    "    loss_co_8MW.append(total_pressure(ne_b2fplasmf_co_8MW_Ne_0,te_b2fplasmf_co_8MW_Ne_0,na_b2fplasmf_co_8MW_Ne_0,ti_b2fplasmf_co_8MW_Ne_0,ua_b2fplasmf_co_8MW_Ne_0)[i_al,-2]/total_pressure(ne_b2fplasmf_co_8MW_Ne_0,te_b2fplasmf_co_8MW_Ne_0,na_b2fplasmf_co_8MW_Ne_0,ti_b2fplasmf_co_8MW_Ne_0,ua_b2fplasmf_co_8MW_Ne_0)[i_al,53])\n",
    "    target_temp_co_8MW.append(te_b2fplasmf_co_8MW_Ne_0[i_al,-2]/eV)\n",
    "\n",
    "#x_al, y_al = [0.5101066247212611,0.550437647026052, 0.6703225602582731], [0.01999337812520763,0.04498380696981449,0.04591611475509127]\n",
    "x_co_8MW= np.array(target_temp_co_8MW)\n",
    "y_co_8MW=np.array(loss_co_8MW)\n",
    "#for i in range(len(x_al_8MW)):\n",
    "#    x_al_8MW[i] = x_al_8MW[i]/eV\n",
    "\n",
    "# curve fit\n",
    "popt, _ = curve_fit(Temp_fit, x_co_8MW, y_co_8MW)\n",
    "\n",
    "A_c8,T_c8,n_c8 = popt\n",
    "\n",
    "x_line_co_8MW = np.arange(0.1,10, step=0.01)\n",
    "# calculate the output for the range\n",
    "y_line_co_8MW = Temp_fit(x_line_co_8MW, A_c8,T_c8, n_c8)\n",
    "\n",
    "residuals = y_co_8MW-Temp_fit(x_co_8MW, A_c8,T_c8,n_c8)\n",
    "ss_res = np.sum(residuals**2)\n",
    "ss_tot = np.sum((y_co_8MW-np.mean(y_co_8MW))**2)\n",
    "r_squared = 1 - (ss_res / ss_tot)\n",
    "\n",
    "\n",
    "plt.figure(figsize=(6, 5),dpi = 150)\n",
    "\n",
    "plt.plot(x_line_co_8MW, y_line_co_8MW, '--', color='blue', lw  = 1)\n",
    "plt.title(r\"$T_{et}$ fitting - Conv divertor\")\n",
    "plt.scatter(x_co_8MW,y_co_8MW)\n",
    "plt.axhline(y=A_c8,xmin=0.1,xmax=1,linestyle=':', c = 'black')\n",
    "#plt.text(0.1, A_c8-0.2, r\"%f\" %A_c8, fontdict=font2)\n",
    "plt.ylabel(r\"$1-f_{mom-loss}$\")\n",
    "\n",
    "plt.xscale(\"log\")\n",
    "plt.yscale(\"log\")\n",
    "plt.xlabel(r\"$T_{et}$ [eV]\")\n",
    "\n",
    "plt.text(0.5, 0.000025, r\"$1-f_{mom-loss}=A(1-e^{-T_{et}/T^*})^n$\", fontdict=font1)\n",
    "plt.text(0.5, 0.0000005, r\"A = %f, $T^*=$%f, n=%f\" %(A_c8,T_c8,n_c8), fontdict=font2)\n",
    "plt.text(0.5, 0.00000001, r\"$R^2$ = %f\" %r_squared, fontdict=font2)\n",
    "\n",
    "print(A_c8,T_c8,n_c8,r_squared )\n",
    "plt.savefig(\"./New_plots/new_8MW_Conv_T_fitting.png\")\n",
    "\n",
    "plt.show()\n",
    "plt.plot(x_line_co_8MW, y_line_co_8MW, '--', color='blue', lw  = 1)\n",
    "\n",
    "\n"
   ]
  },
  {
   "cell_type": "code",
   "execution_count": 105,
   "metadata": {},
   "outputs": [
    {
     "data": {
      "text/plain": [
       "[<matplotlib.lines.Line2D at 0x14f5eaf70>]"
      ]
     },
     "execution_count": 105,
     "metadata": {},
     "output_type": "execute_result"
    },
    {
     "data": {
      "image/png": "[encoded data removed]",
      "text/plain": [
       "<Figure size 432x288 with 1 Axes>"
      ]
     },
     "metadata": {
      "needs_background": "light"
     },
     "output_type": "display_data"
    }
   ],
   "source": [
    "plt.plot(x_line_co_8MW, y_line_co_8MW, '--', color='blue', lw  = 1)\n"
   ]
  },
  {
   "cell_type": "code",
   "execution_count": 106,
   "metadata": {},
   "outputs": [
    {
     "data": {
      "text/plain": [
       "<matplotlib.legend.Legend at 0x14f6f31c0>"
      ]
     },
     "execution_count": 106,
     "metadata": {},
     "output_type": "execute_result"
    },
    {
     "data": {
      "image/png": "[encoded data removed]",
      "text/plain": [
       "<Figure size 432x288 with 1 Axes>"
      ]
     },
     "metadata": {
      "needs_background": "light"
     },
     "output_type": "display_data"
    }
   ],
   "source": [
    "\n",
    "plt.title(r\"$T_{et}$ fitting - SAS vs Conventional\",fontsize=15)\n",
    "\n",
    "plt.plot(x_line_al_8MW, y_line_al_8MW, '--', color='blue', lw  = 1.5, label = 'SAS Divertor')\n",
    "\n",
    "plt.plot(x_line_co_8MW, y_line_co_8MW, '--', color='orange', lw  = 1.5, label = 'Conventional Divertor')\n",
    "plt.scatter(x_al_8MW,y_al_8MW)\n",
    "plt.scatter(x_co_8MW,y_co_8MW)\n",
    "\n",
    "plt.ylabel(r\"$1-f_{mom-loss}$\",fontsize=15)\n",
    "\n",
    "plt.xscale(\"log\")\n",
    "plt.yscale(\"log\")\n",
    "plt.xlabel(r\"$T_{et}$ [eV]\",fontsize=15)\n",
    "plt.legend()"
   ]
  },
  {
   "cell_type": "code",
   "execution_count": 107,
   "metadata": {},
   "outputs": [
    {
     "data": {
      "text/plain": [
       "[<matplotlib.lines.Line2D at 0x14f51abb0>]"
      ]
     },
     "execution_count": 107,
     "metadata": {},
     "output_type": "execute_result"
    },
    {
     "data": {
      "image/png": "[encoded data removed]",
      "text/plain": [
       "<Figure size 432x288 with 1 Axes>"
      ]
     },
     "metadata": {
      "needs_background": "light"
     },
     "output_type": "display_data"
    }
   ],
   "source": [
    "plt.plot(x_line_co_8MW, y_line_co_8MW, '--', color='blue', lw  = 1)\n",
    "    "
   ]
  },
  {
   "cell_type": "code",
   "execution_count": 108,
   "metadata": {},
   "outputs": [
    {
     "data": {
      "text/plain": [
       "[<matplotlib.lines.Line2D at 0x1581b5d90>]"
      ]
     },
     "execution_count": 108,
     "metadata": {},
     "output_type": "execute_result"
    },
    {
     "data": {
      "image/png": "[encoded data removed]",
      "text/plain": [
       "<Figure size 432x288 with 1 Axes>"
      ]
     },
     "metadata": {
      "needs_background": "light"
     },
     "output_type": "display_data"
    }
   ],
   "source": [
    "plt.plot(total_pressure(ne_b2fplasmf_co_8MW_Ne_0,te_b2fplasmf_co_8MW_Ne_0,na_b2fplasmf_co_8MW_Ne_0,ti_b2fplasmf_co_8MW_Ne_0,ua_b2fplasmf_co_8MW_Ne_0)[30,53:-1])\n",
    "plt.plot(total_pressure(ne_b2fplasmf_al_8MW_Ne_0,te_b2fplasmf_al_8MW_Ne_0,na_b2fplasmf_al_8MW_Ne_0,ti_b2fplasmf_al_8MW_Ne_0,ua_b2fplasmf_al_8MW_Ne_0)[30,:-1])"
   ]
  },
  {
   "cell_type": "code",
   "execution_count": 109,
   "metadata": {},
   "outputs": [
    {
     "data": {
      "text/plain": [
       "[<matplotlib.lines.Line2D at 0x14f693280>]"
      ]
     },
     "execution_count": 109,
     "metadata": {},
     "output_type": "execute_result"
    },
    {
     "data": {
      "image/png": "[encoded data removed]",
      "text/plain": [
       "<Figure size 432x288 with 1 Axes>"
      ]
     },
     "metadata": {
      "needs_background": "light"
     },
     "output_type": "display_data"
    }
   ],
   "source": [
    "plt.plot(total_pressure(ne_b2fplasmf_al_8MW_Ne_0,te_b2fplasmf_al_8MW_Ne_0,na_b2fplasmf_al_8MW_Ne_0,ti_b2fplasmf_al_8MW_Ne_0,ua_b2fplasmf_al_8MW_Ne_0)[36,53:-1])"
   ]
  },
  {
   "cell_type": "code",
   "execution_count": 110,
   "metadata": {},
   "outputs": [
    {
     "data": {
      "text/plain": [
       "<matplotlib.collections.PathCollection at 0x1585c2310>"
      ]
     },
     "execution_count": 110,
     "metadata": {},
     "output_type": "execute_result"
    },
    {
     "data": {
      "image/png": "[encoded data removed]",
      "text/plain": [
       "<Figure size 432x288 with 1 Axes>"
      ]
     },
     "metadata": {
      "needs_background": "light"
     },
     "output_type": "display_data"
    }
   ],
   "source": [
    "al_plot=[]\n",
    "co_plot=[]\n",
    "\n",
    "al_x = []\n",
    "co_x = []\n",
    "for i_al in range(18,37):\n",
    "    al_plot.append(total_pressure(ne_b2fplasmf_al_8MW_Ne_0,te_b2fplasmf_al_8MW_Ne_0,na_b2fplasmf_al_8MW_Ne_0,ti_b2fplasmf_al_8MW_Ne_0,ua_b2fplasmf_al_8MW_Ne_0)[i_al,96]/total_pressure(ne_b2fplasmf_al_8MW_Ne_0,te_b2fplasmf_al_8MW_Ne_0,na_b2fplasmf_al_8MW_Ne_0,ti_b2fplasmf_al_8MW_Ne_0,ua_b2fplasmf_al_8MW_Ne_0)[i_al,53])\n",
    "    co_plot.append(total_pressure(ne_b2fplasmf_co_8MW_Ne_0,te_b2fplasmf_co_8MW_Ne_0,na_b2fplasmf_co_8MW_Ne_0,ti_b2fplasmf_co_8MW_Ne_0,ua_b2fplasmf_co_8MW_Ne_0)[i_al,96]/total_pressure(ne_b2fplasmf_co_8MW_Ne_0,te_b2fplasmf_co_8MW_Ne_0,na_b2fplasmf_co_8MW_Ne_0,ti_b2fplasmf_co_8MW_Ne_0,ua_b2fplasmf_co_8MW_Ne_0)[i_al,53])\n",
    "\n",
    "\n",
    "for i_al in range(18,37):  \n",
    "    al_x.append(te_b2fplasmf_al_8MW_Ne_0[i_al,96]/eV)\n",
    "    co_x.append(te_b2fplasmf_co_8MW_Ne_0[i_al,96]/eV)\n",
    "    \n",
    "plt.scatter(al_x[3:14], al_plot[3:14])\n"
   ]
  },
  {
   "cell_type": "code",
   "execution_count": 111,
   "metadata": {},
   "outputs": [
    {
     "name": "stdout",
     "output_type": "stream",
     "text": [
      "1.519634300179568\n",
      "1.519634300179568\n"
     ]
    }
   ],
   "source": [
    "print(co_x[17])\n",
    "print(co_x[-2])\n"
   ]
  },
  {
   "cell_type": "code",
   "execution_count": 112,
   "metadata": {},
   "outputs": [],
   "source": [
    "# for i_al in range(25,32):\n",
    "#     loss_co_8MW.append(total_pressure(ne_b2fplasmf_co_8MW_Ne_0,te_b2fplasmf_co_8MW_Ne_0,na_b2fplasmf_co_8MW_Ne_0,ti_b2fplasmf_co_8MW_Ne_0,ua_b2fplasmf_co_8MW_Ne_0)[i_al,96]/total_pressure(ne_b2fplasmf_co_8MW_Ne_0,te_b2fplasmf_co_8MW_Ne_0,na_b2fplasmf_co_8MW_Ne_0,ti_b2fplasmf_co_8MW_Ne_0,ua_b2fplasmf_co_8MW_Ne_0)[i_al,53])\n",
    "#     target_temp_co_8MW.append(te_b2fplasmf_co_8MW_Ne_0[i_al,96]/eV)\n",
    "\n",
    "# #x_al, y_al = [0.5101066247212611,0.550437647026052, 0.6703225602582731], [0.01999337812520763,0.04498380696981449,0.04591611475509127]\n",
    "# x_co_8MW= np.array(target_temp_co_8MW)\n",
    "# y_co_8MW=np.array(loss_co_8MW)\n",
    "# #for i in range(len(x_al_8MW)):\n",
    "# #    x_al_8MW[i] = x_al_8MW[i]/eV\n",
    "\n",
    "# # curve fit\n",
    "# popt, _ = curve_fit(Temp_fit, x_co_8MW, y_co_8MW)\n",
    "\n",
    "# A_c8,T_c8,n_c8 = popt\n",
    "\n",
    "# x_line_co_8MW = np.arange(0.1,10, step=0.01)\n",
    "# # calculate the output for the range\n",
    "# y_line_co_8MW = Temp_fit(x_line_co_8MW, A_c8,T_c8, n_c8)\n",
    "\n",
    "# residuals = y_co_8MW-Temp_fit(x_co_8MW, A_c8,T_c8,n_c8)\n",
    "# ss_res = np.sum(residuals**2)\n",
    "# ss_tot = np.sum((y_co_8MW-np.mean(y_co_8MW))**2)\n",
    "# r_squared = 1 - (ss_res / ss_tot)\n",
    "\n",
    "# plt.figure(figsize=(6, 5),dpi = 150)\n",
    "\n",
    "# plt.plot(x_line_co_8MW, y_line_co_8MW, '--', color='blue', lw  = 1)\n",
    "# plt.title(r\"$T_{et}$ fitting - Conv divertor\")\n",
    "# plt.scatter(x_co_8MW,y_co_8MW)\n",
    "# plt.axhline(y=A_c8,xmin=0.1,xmax=1,linestyle=':', c = 'black')\n",
    "# #plt.text(0.1, A_c8-0.2, r\"%f\" %A_c8, fontdict=font2)\n",
    "\n",
    "# plt.xscale(\"log\")\n",
    "# plt.yscale(\"log\")\n",
    "# plt.xlabel(r\"$T_{et}$ [eV]\")\n",
    "\n",
    "# plt.ylabel(r\"$1-f_{mom-loss}$\")\n",
    "# #plt.text(0.2, 0.55, r\"$1-f_{mom-loss}=A(1-e^{-T_{et}/T^*})^n$\", fontdict=font1)\n",
    "# #plt.text(0.2, 0.005, r\"A = %f, $T^*=$%f, n=%f\" %(A_c8,T_c8,n_c8), fontdict=font2)\n",
    "# #plt.text(0.2, 0.0001, r\"$R^2$ = %f\" %r_squared, fontdict=font2)\n",
    "\n",
    "# #plt.savefig(\"./New_plots/8MW Conv T fitting.png\")\n",
    "\n",
    "# plt.show()\n",
    "\n",
    "\n"
   ]
  },
  {
   "cell_type": "code",
   "execution_count": null,
   "metadata": {},
   "outputs": [],
   "source": []
  },
  {
   "cell_type": "code",
   "execution_count": null,
   "metadata": {},
   "outputs": [],
   "source": []
  },
  {
   "cell_type": "code",
   "execution_count": 113,
   "metadata": {},
   "outputs": [],
   "source": [
    "# xf_line_al_8MW = np.arange(0.1,100, step=0.01)\n",
    "\n",
    "# plt.figure(figsize=(6, 5),dpi = 150)\n",
    "\n",
    "# flux_line_al_8MW = Flux_fit(xf_line_al_8MW, A_a8,T_a8, n_a8)\n",
    "# plt.plot(xf_line_al_8MW, flux_line_al_8MW/np.max(flux_line_al_8MW), '--', color='blue', lw  = 1)\n",
    "# plt.title(r\"$\\Gamma_{\\parallel}$ fitting - SAS divertor\")\n",
    "# #target_SAS_8MW\n",
    "# plt.xscale(\"log\")\n",
    "# y_flux_line_al_8MW = Flux_fit(x_line_al_8MW, A_a8,T_a8, n_a8)\n",
    "# plt.scatter(x_al_8MW,target_SAS_8MW/np.max(target_SAS_8MW))"
   ]
  },
  {
   "cell_type": "code",
   "execution_count": 114,
   "metadata": {},
   "outputs": [
    {
     "name": "stderr",
     "output_type": "stream",
     "text": [
      "/var/folders/6l/rtqlm1413nv4p09yfmh2nkhc0000gn/T/ipykernel_89013/3273254622.py:2: RuntimeWarning: invalid value encountered in power\n",
      "  return A*(1- np.exp(-x*(T**(-1))))**n\n",
      "/var/folders/6l/rtqlm1413nv4p09yfmh2nkhc0000gn/T/ipykernel_89013/3273254622.py:2: RuntimeWarning: overflow encountered in power\n",
      "  return A*(1- np.exp(-x*(T**(-1))))**n\n"
     ]
    },
    {
     "data": {
      "image/png": "[encoded data removed]",
      "text/plain": [
       "<Figure size 900x750 with 1 Axes>"
      ]
     },
     "metadata": {
      "needs_background": "light"
     },
     "output_type": "display_data"
    },
    {
     "name": "stdout",
     "output_type": "stream",
     "text": [
      "0.016688987874484158 818045.1993462145 -0.3538473484502412\n",
      "0.9307549124047814\n"
     ]
    }
   ],
   "source": [
    "#x_al, y_al = [0.5101066247212611,0.550437647026052, 0.6703225602582731], [0.01999337812520763,0.04498380696981449,0.04591611475509127]\n",
    "\n",
    "loss_co_col = []\n",
    "target_temp_co_col = []\n",
    "\n",
    "i_al = 25\n",
    "loss_co_col.append(total_pressure(ne_b2fplasmf_co_8MW_Ne_0,te_b2fplasmf_co_8MW_Ne_0,na_b2fplasmf_co_8MW_Ne_0,ti_b2fplasmf_co_8MW_Ne_0,ua_b2fplasmf_co_8MW_Ne_0)[i_al,96]/total_pressure(ne_b2fplasmf_co_8MW_Ne_0,te_b2fplasmf_co_8MW_Ne_0,na_b2fplasmf_co_8MW_Ne_0,ti_b2fplasmf_co_8MW_Ne_0,ua_b2fplasmf_co_8MW_Ne_0)[i_al,53])\n",
    "target_temp_co_col.append(te_b2fplasmf_co_8MW_Ne_0[i_al,96]/eV)\n",
    "loss_co_col.append(total_pressure(ne_b2fplasmf_co_16MW_Ne_0,te_b2fplasmf_co_16MW_Ne_0,na_b2fplasmf_co_16MW_Ne_0,ti_b2fplasmf_co_16MW_Ne_0,ua_b2fplasmf_co_16MW_Ne_0)[i_al,96]/total_pressure(ne_b2fplasmf_co_16MW_Ne_0,te_b2fplasmf_co_16MW_Ne_0,na_b2fplasmf_co_16MW_Ne_0,ti_b2fplasmf_co_16MW_Ne_0,ua_b2fplasmf_co_16MW_Ne_0)[i_al,53])\n",
    "target_temp_co_col.append(te_b2fplasmf_co_16MW_Ne_0[i_al,96]/eV)\n",
    "loss_co_col.append(total_pressure(ne_b2fplasmf_co_24MW_Ne_0,te_b2fplasmf_co_24MW_Ne_0,na_b2fplasmf_co_24MW_Ne_0,ti_b2fplasmf_co_24MW_Ne_0,ua_b2fplasmf_co_24MW_Ne_0)[i_al,96]/total_pressure(ne_b2fplasmf_co_24MW_Ne_0,te_b2fplasmf_co_24MW_Ne_0,na_b2fplasmf_co_24MW_Ne_0,ti_b2fplasmf_co_24MW_Ne_0,ua_b2fplasmf_co_24MW_Ne_0)[i_al,53])\n",
    "target_temp_co_col.append(te_b2fplasmf_co_24MW_Ne_0[i_al,96]/eV)\n",
    "loss_co_col.append(total_pressure(ne_b2fplasmf_co_28MW_Ne_0,te_b2fplasmf_co_28MW_Ne_0,na_b2fplasmf_co_28MW_Ne_0,ti_b2fplasmf_co_28MW_Ne_0,ua_b2fplasmf_co_28MW_Ne_0)[i_al,96]/total_pressure(ne_b2fplasmf_co_28MW_Ne_0,te_b2fplasmf_co_28MW_Ne_0,na_b2fplasmf_co_28MW_Ne_0,ti_b2fplasmf_co_28MW_Ne_0,ua_b2fplasmf_co_28MW_Ne_0)[i_al,53])\n",
    "target_temp_co_col.append(te_b2fplasmf_co_28MW_Ne_0[i_al,96]/eV)\n",
    "loss_co_col.append(total_pressure(ne_b2fplasmf_co_32MW_Ne_0,te_b2fplasmf_co_32MW_Ne_0,na_b2fplasmf_co_32MW_Ne_0,ti_b2fplasmf_co_32MW_Ne_0,ua_b2fplasmf_co_32MW_Ne_0)[i_al,96]/total_pressure(ne_b2fplasmf_co_32MW_Ne_0,te_b2fplasmf_co_32MW_Ne_0,na_b2fplasmf_co_32MW_Ne_0,ti_b2fplasmf_co_32MW_Ne_0,ua_b2fplasmf_co_32MW_Ne_0)[i_al,53])\n",
    "target_temp_co_col.append(te_b2fplasmf_co_32MW_Ne_0[i_al,96]/eV)\n",
    "\n",
    "\n",
    "\n",
    "x_co_col= np.array(target_temp_co_col)\n",
    "y_co_col= np.array(loss_co_col)\n",
    "#for i in range(len(x_al_8MW)):\n",
    "#    x_al_8MW[i] = x_al_8MW[i]/eV\n",
    "\n",
    "# curve fit\n",
    "popt, _ = curve_fit(Temp_fit, x_co_col, y_co_col)\n",
    "\n",
    "A_cc,T_cc,n_cc = popt\n",
    "\n",
    "residuals = y_co_col-Temp_fit(x_co_col,A_cc,T_cc,n_cc )\n",
    "ss_res = np.sum(residuals**2)\n",
    "ss_tot = np.sum((y_co_col-np.mean(y_co_col))**2)\n",
    "r_squared = 1 - (ss_res / ss_tot)\n",
    "\n",
    "\n",
    "\n",
    "x_line_co_8MW = np.arange(0.1,1000, step=0.1)\n",
    "# calculate the output for the range\n",
    "y_line_co_8MW = Temp_fit(x_line_co_8MW, A_cc,T_cc, n_cc)\n",
    "# create a line plot for the mapping function\n",
    "plt.figure(figsize=(6, 5),dpi = 150)\n",
    "\n",
    "plt.plot(x_line_co_8MW, y_line_co_8MW, '--', color='blue')\n",
    "plt.axhline(y=A_cc,xmin=0.1,xmax=1000,linestyle=':', c = 'black')\n",
    "\n",
    "\n",
    "\n",
    "plt.title(r\"$T_{et}$ fitting - Conventional divertor\")\n",
    "plt.scatter(x_co_col,y_co_col)\n",
    "plt.xscale(\"log\")\n",
    "plt.yscale(\"log\")\n",
    "plt.xlabel(r\"$T_{et}$ [eV]\")\n",
    "\n",
    "plt.ylabel(r\"$1-f_{mom-loss}$\")\n",
    "\n",
    "# plt.text(0.1, A_cc+0.1, r\"%f\" %A_cc, fontdict=font2)\n",
    "\n",
    "# plt.text(1, A_cc/1000, r\"$1-f_{mom-loss}=A(1-e^{-T_{et}/T^*})^n$\", fontdict=font1)\n",
    "# plt.text(1, A_cc/10000, r\"A = %f, $T^* = $ %f, n= %f\" %(A_cc,T_cc,n_cc), fontdict=font2)\n",
    "# plt.text(1, A_cc/100000, r\"$R^2$ = %f\" %r_squared, fontdict=font2)\n",
    "\n",
    "#plt.savefig(\"./New_plots/8MW Conv T fitting\")\n",
    "plt.show()\n",
    "\n",
    "print( A_cc,T_cc, n_cc)\n",
    "print(r_squared)"
   ]
  },
  {
   "cell_type": "code",
   "execution_count": 115,
   "metadata": {},
   "outputs": [
    {
     "data": {
      "image/png": "[encoded data removed]",
      "text/plain": [
       "<Figure size 900x750 with 1 Axes>"
      ]
     },
     "metadata": {
      "needs_background": "light"
     },
     "output_type": "display_data"
    }
   ],
   "source": [
    "plt.figure(figsize=(6, 5),dpi = 150)\n",
    "flux_line_co_8MW = Flux_fit(x_line_co_8MW, A_c8,T_c8, n_c8)\n",
    "\n",
    "plt.plot(x_line_co_8MW, flux_line_co_8MW, '--', color='blue', lw  = 1)\n",
    "plt.title(r\"$\\Gamma_{\\parallel}$ fitting - Conventional divertor\")\n",
    "plt.xscale(\"log\")\n"
   ]
  },
  {
   "cell_type": "code",
   "execution_count": 116,
   "metadata": {},
   "outputs": [],
   "source": [
    "# #x_al, y_al = [0.5101066247212611,0.550437647026052, 0.6703225602582731], [0.01999337812520763,0.04498380696981449,0.04591611475509127]\n",
    "# x_co_32MW= np.array(target_temp_co_32MW)\n",
    "# y_co_32MW=np.array(loss_co_32MW)\n",
    "# #for i in range(len(x_al_8MW)):\n",
    "# #    x_al_8MW[i] = x_al_8MW[i]/eV\n",
    "\n",
    "# # curve fit\n",
    "# popt, _ = curve_fit(Temp_fit, x_co_32MW, y_co_32MW,maxfev=10000)\n",
    "\n",
    "# A_c32,T_c32,n_c32 = popt\n",
    "\n",
    "# x_line_co_32MW = np.arange(0.1,1000, step=0.1)\n",
    "# # calculate the output for the range\n",
    "# y_line_co_32MW = Temp_fit(x_line_co_8MW, A_c32,T_c32, n_c32)\n",
    "# # create a line plot for the mapping function\n",
    "\n",
    "# residuals = y_co_32MW-Temp_fit(x_co_32MW,A_c32,T_c32,n_c32 )\n",
    "# ss_res = np.sum(residuals**2)\n",
    "# ss_tot = np.sum((y_co_32MW-np.mean(y_co_32MW))**2)\n",
    "# r_squared = 1 - (ss_res / ss_tot)\n",
    "\n",
    "\n",
    "# plt.figure(figsize=(6, 5),dpi=150)\n",
    "\n",
    "# plt.plot(x_line_co_32MW, y_line_co_32MW, '--', color='blue')\n",
    "# plt.title(r\"32MW $T_{et}$ fitting - Conventional divertor\")\n",
    "# plt.scatter(x_co_32MW,y_co_32MW)\n",
    "# plt.xscale(\"log\")\n",
    "# plt.yscale(\"log\")\n",
    "# plt.xlabel(r\"$T_{et}$ [eV]\")\n",
    "\n",
    "# plt.ylabel(r\"$1-f_{mom-loss}$\")\n",
    "\n",
    "# plt.text(1, 0.1, r\"$1-f_{mom-loss}=A(1-e^{-T_{et}/T^*})^n$\", fontdict=font1)\n",
    "# plt.text(1, 0.0001, r\"A = %f, $T^* = $ %f, n= %f\" %(A_c32,T_c32,n_c32), fontdict=font2)\n",
    "# plt.text(1, 0.000001, r\"$R^2$ = %f\" %r_squared, fontdict=font2)\n",
    "\n",
    "# plt.savefig(\"./New_plots/Conv T fitting (32MW)\")\n",
    "# plt.show()\n"
   ]
  },
  {
   "cell_type": "code",
   "execution_count": 117,
   "metadata": {},
   "outputs": [],
   "source": [
    "# plt.figure(figsize=(6, 5),dpi = 150)\n",
    "# flux_line_co_32MW = Flux_fit(x_line_co_32MW, A_c32,T_c32, n_c32)\n",
    "\n",
    "# plt.plot(x_line_co_32MW, flux_line_co_32MW, '--', color='blue', lw  = 1)\n",
    "# plt.title(r\"$\\Gamma_{\\parallel}$ fitting - Conventional divertor\")\n",
    "# plt.xscale(\"log\")\n"
   ]
  },
  {
   "cell_type": "code",
   "execution_count": 118,
   "metadata": {},
   "outputs": [],
   "source": [
    "# #x_al, y_al = [0.5101066247212611,0.550437647026052, 0.6703225602582731], [0.01999337812520763,0.04498380696981449,0.04591611475509127]\n",
    "# x_co_2_5MW= target_temp_co_2_5MW\n",
    "# y_co_2_5MW=loss_co_2_5MW\n",
    "# #for i in range(len(x_al_8MW)):\n",
    "# #    x_al_8MW[i] = x_al_8MW[i]/eV\n",
    "\n",
    "# # curve fit\n",
    "# popt, pcov = curve_fit(Temp_fit, x_co_32MW, y_co_32MW)\n",
    "\n",
    "# A_c32,T_c32,n_c32 = popt\n",
    "\n",
    "# x_line_co_32MW = np.arange(0.1,1000, step=0.1)\n",
    "# # calculate the output for the range\n",
    "# y_line_co_32MW = Temp_fit(x_line_co_8MW, A_c32,T_c32, n_c32)\n",
    "# # create a line plot for the mapping function\n",
    "# plt.figure(figsize=(6, 5),dpi=150)\n",
    "\n",
    "# plt.plot(x_line_co_32MW, y_line_co_32MW, '--', color='blue')\n",
    "# plt.title(r\"32MW $T_{et}$ fitting - Conventional divertor\")\n",
    "# plt.scatter(x_co_32MW,y_co_32MW)\n",
    "# plt.xscale(\"log\")\n",
    "# plt.yscale(\"log\")\n",
    "# plt.xlabel(r\"$T_{et}$ [eV]\")\n",
    "\n",
    "# plt.ylabel(r\"$1-f_{mom-loss}$\")\n",
    "\n",
    "# plt.text(1, 0.1, r\"$1-f_{mom-loss}=A(1-e^{-T_{et}/T^*})^n$\", fontdict=font1)\n",
    "# plt.text(1, 0.04, r\"A = %f, $T^* = $ %f, n= %f\" %(A_c32,T_c32,n_c32), fontdict=font2)\n",
    "# plt.savefig(\"./New_plots/Conv T fitting (32MW)\")\n",
    "# plt.show()\n",
    "# print(pcov)"
   ]
  },
  {
   "cell_type": "code",
   "execution_count": 119,
   "metadata": {},
   "outputs": [],
   "source": [
    "# #x_al, y_al = [0.5101066247212611,0.550437647026052, 0.6703225602582731], [0.01999337812520763,0.04498380696981449,0.04591611475509127]\n",
    "# x_al_32MW= np.array(target_temp_al_32MW)\n",
    "# y_al_32MW= np.array(loss_al_32MW)\n",
    "# #for i in range(len(x_al_8MW)):\n",
    "# #    x_al_8MW[i] = x_al_8MW[i]/eV\n",
    "\n",
    "# # curve fit\n",
    "# popt, pcov = curve_fit(Temp_fit, x_al_32MW, y_al_32MW)\n",
    "\n",
    "# A_a32,T_a32,n_a32 = popt\n",
    "\n",
    "# x_line_al_32MW = np.arange(0.1,10, step=0.01)\n",
    "# # calculate the output for the range\n",
    "# y_line_al_32MW = Temp_fit(x_line_al_32MW, A_a32,T_a32, n_a32)\n",
    "# # create a line plot for the mapping function\n",
    "\n",
    "\n",
    "# residuals = y_al_32MW-Temp_fit(x_al_32MW, A_a32,T_a32,n_a32)\n",
    "# ss_res = np.sum(residuals**2)\n",
    "# ss_tot = np.sum((y_al_32MW-np.mean(y_al_32MW))**2)\n",
    "# r_squared = 1 - (ss_res / ss_tot)\n",
    "\n",
    "\n",
    "# plt.figure(figsize=(6, 5), dpi=150)\n",
    "\n",
    "# plt.plot(x_line_al_32MW, y_line_al_32MW, '--', color='blue')\n",
    "# plt.title(r\"32MW $T_{et}$ fitting - SAS divertor\")\n",
    "# plt.scatter(x_al_32MW,y_al_32MW)\n",
    "# plt.xscale(\"log\")\n",
    "# plt.yscale(\"log\")\n",
    "# plt.xlabel(r\"$T_{et}$ [eV]\")\n",
    "\n",
    "# plt.ylabel(r\"$1-f_{mom-loss}$\")\n",
    "\n",
    "\n",
    "# plt.text(0.4, 0.001, r\"$1-f_{mom-loss}=A(1-e^{-T_{et}/T^*})^n$\", fontdict=font1)\n",
    "# plt.text(0.4, 0.0001, r\"A = %f, $T^* = $ %f, n= %f\" %(A_a32,T_a32,n_a32), fontdict=font2)\n",
    "# plt.text(0.4, 0.00001, r\"$R^2$ = %f\" %r_squared, fontdict=font2)\n",
    "\n",
    "# plt.savefig(\"./New_plots/SAS T fitting (32MW)\")\n",
    "# plt.show()\n",
    "# print(pcov)"
   ]
  },
  {
   "cell_type": "code",
   "execution_count": 120,
   "metadata": {},
   "outputs": [],
   "source": [
    "# #x_al, y_al = [0.5101066247212611,0.550437647026052, 0.6703225602582731], [0.01999337812520763,0.04498380696981449,0.04591611475509127]\n",
    "# x_al_8MW_re, y_al_8MW_re = target_temp_al_8MW, loss_al_8MW\n",
    "\n",
    "# # curve fit\n",
    "# popt, _ = curve_fit(Temp_fit_2, x_al_8MW_re, y_al_8MW_re)\n",
    "\n",
    "# T_a8_re,n_a8_re = popt\n",
    "\n",
    "# x_line_al_8MW_re = np.arange(0.1,10, step=0.01)\n",
    "# # calculate the output for the range\n",
    "# y_line_al_8MW_re = Temp_fit_2(x_line_al_8MW_re,T_a8_re, n_a8_re)\n",
    "# # create a line plot for the mapping function\n",
    "# plt.figure(figsize=(6, 5), dpi=150)\n",
    "\n",
    "# plt.plot(x_line_al_8MW_re, y_line_al_8MW_re, '--', color='blue')\n",
    "\n",
    "# plt.scatter(x_al_8MW_re,y_al_8MW_re)\n",
    "# plt.xscale(\"log\")\n",
    "# plt.yscale(\"log\")\n",
    "\n",
    "# plt.show()"
   ]
  },
  {
   "cell_type": "code",
   "execution_count": 121,
   "metadata": {},
   "outputs": [
    {
     "data": {
      "image/png": "[encoded data removed]",
      "text/plain": [
       "<Figure size 432x288 with 1 Axes>"
      ]
     },
     "metadata": {
      "needs_background": "light"
     },
     "output_type": "display_data"
    },
    {
     "name": "stdout",
     "output_type": "stream",
     "text": [
      "[3.04588609e+04 7.86624074e-02]\n"
     ]
    }
   ],
   "source": [
    "x_co_8MW_re, y_co_8MW_re = target_temp_co_8MW, loss_co_8MW\n",
    "\n",
    "# curve fit\n",
    "popt, _ = curve_fit(Temp_fit_2, x_co_8MW_re, y_co_8MW_re)\n",
    "\n",
    "T_c8_re,n_c8_re = popt\n",
    "\n",
    "x_line_co_8MW_re = np.arange(0.01,200, step=0.01)\n",
    "# calculate the output for the range\n",
    "y_line_co_8MW_re = Temp_fit_2(x_line_co_8MW_re,T_c8_re, n_c8_re)\n",
    "# create a line plot for the mapping function\n",
    "plt.plot(x_line_co_8MW_re, y_line_co_8MW_re, '--', color='blue')\n",
    "\n",
    "plt.scatter(x_co_8MW_re,y_co_8MW_re)\n",
    "plt.xscale(\"log\")\n",
    "plt.yscale(\"log\")\n",
    "\n",
    "plt.show()\n",
    "print(popt)"
   ]
  },
  {
   "cell_type": "code",
   "execution_count": 122,
   "metadata": {},
   "outputs": [],
   "source": [
    "# # #x_al, y_al = [0.5101066247212611,0.550437647026052, 0.6703225602582731], [0.01999337812520763,0.04498380696981449,0.04591611475509127]\n",
    "# # x_co_tot= np.concatenate([target_temp_co_8MW,target_temp_co_32MW])\n",
    "# y_co_tot=np.concatenate([loss_co_8MW, loss_co_32MW])\n",
    "# #for i in range(len(x_al_8MW)):\n",
    "# #    x_al_8MW[i] = x_al_8MW[i]/eV\n",
    "\n",
    "# # curve fit\n",
    "# popt, pcov = curve_fit(Temp_fit, x_co_tot, y_co_tot)\n",
    "\n",
    "# A_t,T_t,n_t = popt\n",
    "\n",
    "\n",
    "# residuals = y_co_tot-Temp_fit(x_co_tot,A_t,T_t,n_t )\n",
    "# ss_res = np.sum(residuals**2)\n",
    "# ss_tot = np.sum((y_co_tot-np.mean(y_co_tot))**2)\n",
    "# r_squared = 1 - (ss_res / ss_tot)\n",
    "\n",
    "\n",
    "# x_line_al_tot= np.arange(0.1,1000, step=0.01)\n",
    "# # calculate the output for the range\n",
    "# y_line_al_tot = Temp_fit(x_line_al_tot, A_t,T_t, n_t)\n",
    "# # create a line plot for the mapping function\n",
    "# plt.figure(figsize=(6, 5), dpi=150)\n",
    "\n",
    "# plt.plot(x_line_al_tot, y_line_al_tot, '--', color='blue')\n",
    "# plt.title(r\"$T_{et}$ fitting : 8MW+32MW data - Con divertor\")\n",
    "# plt.scatter(x_co_tot,y_co_tot)\n",
    "# plt.xscale(\"log\")\n",
    "# plt.yscale(\"log\")\n",
    "# plt.xlabel(r\"$T_{et}$ [eV]\")\n",
    "\n",
    "# plt.ylabel(r\"$1-f_{mom-loss}$\")\n",
    "\n",
    "\n",
    "# plt.text(0.4, 0.001, r\"$1-f_{mom-loss}=A(1-e^{-T_{et}/T^*})^n$\", fontdict=font1)\n",
    "# plt.text(0.4, 0.0001, r\"A = %f, $T^* = $ %f, n= %f\" %(A_t,T_t,n_t), fontdict=font2)\n",
    "# plt.text(0.4, 0.00001, r\"$R^2$ = %f\" %r_squared, fontdict=font2)\n",
    "\n",
    "# #plt.savefig(\"./New_plots/SAS T fitting (32MW)\")\n",
    "# plt.show()\n",
    "# print(pcov)"
   ]
  },
  {
   "cell_type": "code",
   "execution_count": null,
   "metadata": {},
   "outputs": [],
   "source": []
  },
  {
   "cell_type": "code",
   "execution_count": 123,
   "metadata": {},
   "outputs": [
    {
     "ename": "ValueError",
     "evalue": "`ydata` must not be empty!",
     "output_type": "error",
     "traceback": [
      "\u001b[0;31m---------------------------------------------------------------------------\u001b[0m",
      "\u001b[0;31mValueError\u001b[0m                                Traceback (most recent call last)",
      "\u001b[1;32m/Users/chanyeonglee/LAB_local/data_postprocessing/codes_for_analysis/SOLPS-ITER_analysis/Temperature_powerloss_fitting.ipynb 셀 49\u001b[0m in \u001b[0;36m<cell line: 4>\u001b[0;34m()\u001b[0m\n\u001b[1;32m      <a href='vscode-notebook-cell:/Users/chanyeonglee/LAB_local/data_postprocessing/codes_for_analysis/SOLPS-ITER_analysis/Temperature_powerloss_fitting.ipynb#ch0000046?line=0'>1</a>\u001b[0m x_al_32MW_re, y_al_32MW_re \u001b[39m=\u001b[39m target_temp_al_32MW, loss_al_32MW\n\u001b[1;32m      <a href='vscode-notebook-cell:/Users/chanyeonglee/LAB_local/data_postprocessing/codes_for_analysis/SOLPS-ITER_analysis/Temperature_powerloss_fitting.ipynb#ch0000046?line=2'>3</a>\u001b[0m \u001b[39m# curve fit\u001b[39;00m\n\u001b[0;32m----> <a href='vscode-notebook-cell:/Users/chanyeonglee/LAB_local/data_postprocessing/codes_for_analysis/SOLPS-ITER_analysis/Temperature_powerloss_fitting.ipynb#ch0000046?line=3'>4</a>\u001b[0m popt, _ \u001b[39m=\u001b[39m curve_fit(Temp_fit_2, x_al_32MW_re, y_al_32MW_re)\n\u001b[1;32m      <a href='vscode-notebook-cell:/Users/chanyeonglee/LAB_local/data_postprocessing/codes_for_analysis/SOLPS-ITER_analysis/Temperature_powerloss_fitting.ipynb#ch0000046?line=5'>6</a>\u001b[0m T_a32_re,n_a32_re \u001b[39m=\u001b[39m popt\n\u001b[1;32m      <a href='vscode-notebook-cell:/Users/chanyeonglee/LAB_local/data_postprocessing/codes_for_analysis/SOLPS-ITER_analysis/Temperature_powerloss_fitting.ipynb#ch0000046?line=7'>8</a>\u001b[0m x_line_al_32MW_re \u001b[39m=\u001b[39m np\u001b[39m.\u001b[39marange(\u001b[39m0.1\u001b[39m,\u001b[39m1000\u001b[39m, step\u001b[39m=\u001b[39m\u001b[39m0.01\u001b[39m)\n",
      "File \u001b[0;32m~/opt/anaconda3/lib/python3.9/site-packages/scipy/optimize/minpack.py:748\u001b[0m, in \u001b[0;36mcurve_fit\u001b[0;34m(f, xdata, ydata, p0, sigma, absolute_sigma, check_finite, bounds, method, jac, **kwargs)\u001b[0m\n\u001b[1;32m    745\u001b[0m         xdata \u001b[39m=\u001b[39m np\u001b[39m.\u001b[39masarray(xdata, \u001b[39mfloat\u001b[39m)\n\u001b[1;32m    747\u001b[0m \u001b[39mif\u001b[39;00m ydata\u001b[39m.\u001b[39msize \u001b[39m==\u001b[39m \u001b[39m0\u001b[39m:\n\u001b[0;32m--> 748\u001b[0m     \u001b[39mraise\u001b[39;00m \u001b[39mValueError\u001b[39;00m(\u001b[39m\"\u001b[39m\u001b[39m`ydata` must not be empty!\u001b[39m\u001b[39m\"\u001b[39m)\n\u001b[1;32m    750\u001b[0m \u001b[39m# Determine type of sigma\u001b[39;00m\n\u001b[1;32m    751\u001b[0m \u001b[39mif\u001b[39;00m sigma \u001b[39mis\u001b[39;00m \u001b[39mnot\u001b[39;00m \u001b[39mNone\u001b[39;00m:\n",
      "\u001b[0;31mValueError\u001b[0m: `ydata` must not be empty!"
     ]
    }
   ],
   "source": [
    "x_al_32MW_re, y_al_32MW_re = target_temp_al_32MW, loss_al_32MW\n",
    "\n",
    "# curve fit\n",
    "popt, _ = curve_fit(Temp_fit_2, x_al_32MW_re, y_al_32MW_re)\n",
    "\n",
    "T_a32_re,n_a32_re = popt\n",
    "\n",
    "x_line_al_32MW_re = np.arange(0.1,1000, step=0.01)\n",
    "# calculate the output for the range\n",
    "y_line_al_32MW_re = Temp_fit_2(x_line_al_32MW_re,T_a32_re, n_a32_re)\n",
    "# create a line plot for the mapping function\n",
    "plt.plot(x_line_al_32MW_re, y_line_al_32MW_re, '--', color='blue')\n",
    "\n",
    "plt.scatter(x_al_32MW_re,y_al_32MW_re)\n",
    "plt.xscale(\"log\")\n",
    "plt.yscale(\"log\")\n",
    "\n",
    "plt.show()\n",
    "print(popt)"
   ]
  },
  {
   "cell_type": "code",
   "execution_count": null,
   "metadata": {},
   "outputs": [],
   "source": [
    "\n",
    "plt.title(\"SAS vs Con : Fitting Graph\")\n",
    "x_line_al_8MW_n = np.arange(0.1,10, step=0.01)\n",
    "x_line_co_8MW_n = np.arange(0.1,10, step=0.01)\n",
    "\n",
    "y_line_al_8MW_n = Temp_fit(x_line_al_8MW_n, A_a8,T_a8, n_a8)\n",
    "y_line_co_8MW_n = Temp_fit(x_line_co_8MW_n, A_c8,T_c8, n_c8)\n",
    "\n",
    "plt.plot(x_line_al_8MW_n, y_line_al_8MW_n, '-', label = 'SAS')\n",
    "plt.plot(x_line_co_8MW_n, y_line_co_8MW_n, '-',label = 'Con')\n",
    "\n",
    "\n",
    "plt.xscale(\"log\")\n",
    "plt.yscale(\"log\")\n",
    "\n",
    "plt.xlabel(r\"$T_{et}$ [eV]\")\n",
    "plt.ylabel(r\"$1-f_{mom-loss}$\")\n",
    "\n",
    "plt.legend()\n",
    "#plt.savefig(\"./New_plots/SAS_v_Con_fitting_8MW.png\")\n",
    "plt.show()"
   ]
  },
  {
   "cell_type": "code",
   "execution_count": null,
   "metadata": {},
   "outputs": [],
   "source": []
  },
  {
   "cell_type": "code",
   "execution_count": null,
   "metadata": {},
   "outputs": [],
   "source": [
    "x_line_co_8MW_n = np.arange(0.1,1000, step=0.1)\n",
    "y_line_co_8MW_n = Temp_fit(x_line_co_8MW_n, A_c8,T_c8, n_c8)\n",
    "\n",
    "plt.plot(x_line_co_32MW, y_line_co_32MW, '--', label = '32MW')\n",
    "plt.plot(x_line_co_8MW_n, y_line_co_8MW_n, '-',label = '8MW')\n",
    "plt.legend()\n",
    "\n",
    "plt.xscale(\"log\")\n",
    "plt.yscale(\"log\")"
   ]
  },
  {
   "cell_type": "code",
   "execution_count": null,
   "metadata": {},
   "outputs": [],
   "source": []
  },
  {
   "cell_type": "code",
   "execution_count": null,
   "metadata": {},
   "outputs": [],
   "source": [
    "x_line_al_8MW_n = np.arange(0.1,1000, step=0.1)\n",
    "y_line_al_8MW_n = Temp_fit(x_line_co_8MW_n, A_c8,T_c8, n_c8)\n",
    "\n",
    "plt.plot(x_line_al_32MW, y_line_al_32MW, '--', label = '32MW')\n",
    "plt.plot(x_line_al_8MW_n, y_line_al_8MW_n, '-',label = '8MW')\n",
    "plt.legend()\n",
    "\n",
    "plt.xscale(\"log\")\n",
    "plt.yscale(\"log\")"
   ]
  },
  {
   "cell_type": "code",
   "execution_count": null,
   "metadata": {},
   "outputs": [],
   "source": [
    "plt.plot(x_line_al_32MW, y_line_al_32MW, '--', label = 'SAS')\n",
    "plt.plot(x_line_co_32MW, y_line_co_32MW, '--', label = 'Con')\n",
    "\n",
    "\n",
    "plt.xscale(\"log\")\n",
    "plt.yscale(\"log\")\n",
    "plt.legend()"
   ]
  },
  {
   "cell_type": "code",
   "execution_count": null,
   "metadata": {},
   "outputs": [],
   "source": [
    "plt.figure(figsize=(6, 5), dpi=150)\n",
    "for i in range(15):\n",
    "    a = np.sum(total_pressure( ne_b2fplasmf_co_8MW_Ne_0 ,te_b2fplasmf_co_8MW_Ne_0 ,na_b2fplasmf_co_8MW_Ne_0 ,ti_b2fplasmf_co_8MW_Ne_0 ,ua_b2fplasmf_co_8MW_Ne_0)[19+i,:96])\n",
    "    plt.plot(total_pressure( ne_b2fplasmf_co_8MW_Ne_0 ,te_b2fplasmf_co_8MW_Ne_0 ,na_b2fplasmf_co_8MW_Ne_0 ,ti_b2fplasmf_co_8MW_Ne_0 ,ua_b2fplasmf_co_8MW_Ne_0)[19+i,:], label = \"%f\" %i)\n",
    "#plt.plot(total_pressure( ne_b2fplasmf_al_32MW_Ne_0 ,te_b2fplasmf_al_32MW_Ne_0 ,na_b2fplasmf_al_32MW_Ne_0 ,ti_b2fplasmf_al_32MW_Ne_0 ,ua_b2fplasmf_al_32MW_Ne_0)[21,:])\n",
    "\n",
    "plt.legend()"
   ]
  },
  {
   "cell_type": "code",
   "execution_count": null,
   "metadata": {},
   "outputs": [],
   "source": [
    "a= total_pressure(ne_b2fplasmf_al_8MW_Ne_0,te_b2fplasmf_al_8MW_Ne_0,na_b2fplasmf_al_8MW_Ne_0,ti_b2fplasmf_al_8MW_Ne_0,ua_b2fplasmf_al_8MW_Ne_0)[i_al,96]/total_pressure(ne_b2fplasmf_al_8MW_Ne_0,te_b2fplasmf_al_8MW_Ne_0,na_b2fplasmf_al_8MW_Ne_0,ti_b2fplasmf_al_8MW_Ne_0,ua_b2fplasmf_al_8MW_Ne_0)\n",
    "print(np.shape(a[:, :97]))\n",
    "print(target_temp_co_8MW)\n",
    "print(target_temp_al_8MW)"
   ]
  },
  {
   "cell_type": "code",
   "execution_count": null,
   "metadata": {},
   "outputs": [],
   "source": [
    "plt.figure(figsize=(6, 5), dpi=150)\n",
    "for i in range(15):\n",
    "    a = np.sum(total_pressure( ne_b2fplasmf_al_32MW_Ne_0 ,te_b2fplasmf_al_32MW_Ne_0 ,na_b2fplasmf_al_32MW_Ne_0 ,ti_b2fplasmf_al_32MW_Ne_0 ,ua_b2fplasmf_al_32MW_Ne_0)[19+i,:])\n",
    "    plt.plot(total_pressure( ne_b2fplasmf_al_32MW_Ne_0 ,te_b2fplasmf_al_32MW_Ne_0 ,na_b2fplasmf_al_32MW_Ne_0 ,ti_b2fplasmf_al_32MW_Ne_0 ,ua_b2fplasmf_al_32MW_Ne_0)[19+i,:],label=\"%f\" %i)\n",
    "#plt.plot(total_pressure( ne_b2fplasmf_al_32MW_Ne_0 ,te_b2fplasmf_al_32MW_Ne_0 ,na_b2fplasmf_al_32MW_Ne_0 ,ti_b2fplasmf_al_32MW_Ne_0 ,ua_b2fplasmf_al_32MW_Ne_0)[21,:])\n",
    "plt.legend()"
   ]
  },
  {
   "cell_type": "code",
   "execution_count": null,
   "metadata": {},
   "outputs": [],
   "source": [
    "for i in range(15):\n",
    "    a = np.sum(total_pressure(ne_b2fplasmf_al_32MW_Ne_0 ,te_b2fplasmf_al_32MW_Ne_0 ,na_b2fplasmf_al_32MW_Ne_0 ,ti_b2fplasmf_al_32MW_Ne_0 ,ua_b2fplasmf_al_32MW_Ne_0)[19+i,:])\n",
    "    plt.plot(total_pressure(ne_b2fplasmf_al_32MW_Ne_0 ,te_b2fplasmf_al_32MW_Ne_0 ,na_b2fplasmf_al_32MW_Ne_0 ,ti_b2fplasmf_al_32MW_Ne_0 ,ua_b2fplasmf_al_32MW_Ne_0)[19+i,:])\n",
    "#plt.plot(total_pressure( ne_b2fplasmf_al_32MW_Ne_0 ,te_b2fplasmf_al_32MW_Ne_0 ,na_b2fplasmf_al_32MW_Ne_0 ,ti_b2fplasmf_al_32MW_Ne_0 ,ua_b2fplasmf_al_32MW_Ne_0)[21,:])\n"
   ]
  },
  {
   "cell_type": "code",
   "execution_count": null,
   "metadata": {},
   "outputs": [],
   "source": [
    "for i in range(15):\n",
    "    a = np.sum(total_pressure(ne_b2fplasmf_co_32MW_Ne_0 ,te_b2fplasmf_co_32MW_Ne_0 ,na_b2fplasmf_co_32MW_Ne_0 ,ti_b2fplasmf_co_32MW_Ne_0 ,ua_b2fplasmf_co_32MW_Ne_0)[19+i,:])\n",
    "    plt.plot(total_pressure(ne_b2fplasmf_co_32MW_Ne_0 ,te_b2fplasmf_co_32MW_Ne_0 ,na_b2fplasmf_co_32MW_Ne_0 ,ti_b2fplasmf_co_32MW_Ne_0 ,ua_b2fplasmf_co_32MW_Ne_0)[19+i,:])\n",
    "#plt.plot(total_pressure( ne_b2fplasmf_al_32MW_Ne_0 ,te_b2fplasmf_al_32MW_Ne_0 ,na_b2fplasmf_al_32MW_Ne_0 ,ti_b2fplasmf_al_32MW_Ne_0 ,ua_b2fplasmf_al_32MW_Ne_0)[21,:])\n"
   ]
  },
  {
   "cell_type": "code",
   "execution_count": null,
   "metadata": {},
   "outputs": [],
   "source": [
    "plt.plot(total_pressure( ne_b2fplasmf_al_32MW_Ne_0 ,te_b2fplasmf_al_32MW_Ne_0 ,na_b2fplasmf_al_32MW_Ne_0 ,ti_b2fplasmf_al_32MW_Ne_0 ,ua_b2fplasmf_al_32MW_Ne_0)[19,:97])\n",
    "plt.plot(total_pressure( ne_b2fplasmf_co_32MW_Ne_0 ,te_b2fplasmf_co_32MW_Ne_0 ,na_b2fplasmf_co_32MW_Ne_0 ,ti_b2fplasmf_co_32MW_Ne_0 ,ua_b2fplasmf_co_32MW_Ne_0)[19,:97])\n"
   ]
  },
  {
   "cell_type": "code",
   "execution_count": null,
   "metadata": {},
   "outputs": [],
   "source": [
    "plt.plot(total_pressure( ne_b2fplasmf_al_8MW_Ne_0 ,te_b2fplasmf_al_8MW_Ne_0 ,na_b2fplasmf_al_8MW_Ne_0 ,ti_b2fplasmf_al_8MW_Ne_0 ,ua_b2fplasmf_al_8MW_Ne_0)[19,:97])\n",
    "plt.plot(total_pressure( ne_b2fplasmf_co_8MW_Ne_0 ,te_b2fplasmf_co_8MW_Ne_0 ,na_b2fplasmf_co_8MW_Ne_0 ,ti_b2fplasmf_co_8MW_Ne_0 ,ua_b2fplasmf_co_8MW_Ne_0)[19,:97])\n"
   ]
  },
  {
   "cell_type": "code",
   "execution_count": null,
   "metadata": {},
   "outputs": [],
   "source": [
    "\n",
    "# create a line plot for the mapping function\n",
    "plt.plot(x_line_al_8MW, y_line_al_8MW, '--', color='blue')\n",
    "\n",
    "plt.scatter(x_al_8MW,y_al_8MW)\n",
    "plt.xscale(\"log\")\n",
    "plt.xscale(\"log\")\n",
    "\n",
    "plt.show()"
   ]
  },
  {
   "cell_type": "code",
   "execution_count": null,
   "metadata": {},
   "outputs": [],
   "source": [
    "plt.figure(figsize=(8, 8))\n",
    "\n",
    "plt.axes().set_aspect('equal')\n",
    "rad_index = 20\n",
    "plt.plot(al_new_mesh_x_cen[rad_index,:], al_new_mesh_y_cen[rad_index,:])\n",
    "x = al_new_mesh_x_cen[19,77]\n",
    "y = al_new_mesh_y_cen[19,77]\n",
    "plt.plot(al_new_mesh_x_cen[rad_index,53:], al_new_mesh_y_cen[rad_index,53:])\n",
    "\n",
    "#plt.plot(x, y, marker=\"o\", markersize=5, markeredgecolor=\"blue\", markerfacecolor=\"white\")\n",
    "\n",
    "plt.show()"
   ]
  },
  {
   "cell_type": "code",
   "execution_count": null,
   "metadata": {},
   "outputs": [],
   "source": []
  },
  {
   "cell_type": "code",
   "execution_count": null,
   "metadata": {},
   "outputs": [],
   "source": [
    "plt.figure(figsize=(8, 8))\n",
    "\n",
    "plt.axes().set_aspect('equal')\n",
    "pol_index = 50\n",
    "plt.plot(al_new_mesh_x_cen[:,pol_index], al_new_mesh_y_cen[:,pol_index])\n",
    "#x = al_new_mesh_x_cen[19,77]\n",
    "#y = al_new_mesh_y_cen[19,77]\n",
    "#plt.plot(al_new_mesh_x_cen[:,pol_index], al_new_mesh_y_cen[:,pol_index])\n",
    "\n",
    "#plt.plot(x, y, marker=\"o\", markersize=5, markeredgecolor=\"blue\", markerfacecolor=\"white\")\n",
    "\n",
    "plt.show()"
   ]
  },
  {
   "cell_type": "code",
   "execution_count": null,
   "metadata": {},
   "outputs": [],
   "source": [
    "for i in range(18,np.shape(co_new_mesh_sep_out_midplane_dist)[0]):\n",
    "    print(i, co_new_mesh_sep_out_midplane_dist[i]*1000)\n",
    "    \n"
   ]
  },
  {
   "cell_type": "code",
   "execution_count": null,
   "metadata": {},
   "outputs": [],
   "source": [
    "for i in range(18,np.shape(al_new_mesh_sep_out_midplane_dist)[0]):\n",
    "    print(i, al_new_mesh_sep_out_midplane_dist[i]*1000)"
   ]
  },
  {
   "cell_type": "code",
   "execution_count": null,
   "metadata": {},
   "outputs": [],
   "source": [
    "\n",
    "\n",
    "\n",
    "a1_ra = 20\n",
    "a2_ra = 24\n",
    "\n",
    "a1 = np.sum(total_pressure( ne_b2fplasmf_co_32MW_Ne_0 ,te_b2fplasmf_co_32MW_Ne_0 ,na_b2fplasmf_co_32MW_Ne_0 ,ti_b2fplasmf_co_32MW_Ne_0 ,ua_b2fplasmf_co_32MW_Ne_0)[a1_ra,:])\n",
    "test_1 = total_pressure( ne_b2fplasmf_co_32MW_Ne_0 ,te_b2fplasmf_co_32MW_Ne_0 ,na_b2fplasmf_co_32MW_Ne_0 ,ti_b2fplasmf_co_32MW_Ne_0 ,ua_b2fplasmf_co_32MW_Ne_0)[a1_ra,:]/a1\n",
    "\n",
    "\n",
    "a2 = np.sum(total_pressure( ne_b2fplasmf_co_32MW_Ne_0 ,te_b2fplasmf_co_32MW_Ne_0 ,na_b2fplasmf_co_32MW_Ne_0 ,ti_b2fplasmf_co_32MW_Ne_0 ,ua_b2fplasmf_co_32MW_Ne_0)[a2_ra,:])\n",
    "test_2 = total_pressure( ne_b2fplasmf_co_32MW_Ne_0 ,te_b2fplasmf_co_32MW_Ne_0 ,na_b2fplasmf_co_32MW_Ne_0 ,ti_b2fplasmf_co_32MW_Ne_0 ,ua_b2fplasmf_co_32MW_Ne_0)[a2_ra,:]/a2\n",
    "\n",
    "\n",
    "a3 = np.sum(total_pressure( ne_b2fplasmf_al_32MW_Ne_0 ,te_b2fplasmf_al_32MW_Ne_0 ,na_b2fplasmf_al_32MW_Ne_0 ,ti_b2fplasmf_al_32MW_Ne_0 ,ua_b2fplasmf_al_32MW_Ne_0)[a2_ra,:])\n",
    "test_3 = total_pressure( ne_b2fplasmf_al_32MW_Ne_0 ,te_b2fplasmf_al_32MW_Ne_0 ,na_b2fplasmf_al_32MW_Ne_0 ,ti_b2fplasmf_al_32MW_Ne_0 ,ua_b2fplasmf_al_32MW_Ne_0)[a2_ra,:]/a3\n",
    "\n",
    "\n",
    "\n",
    "\n",
    "rho = np.corrcoef(x)\n",
    "\n",
    "\n",
    "# fig, ax = plt.subplots(nrows=1, ncols=3, figsize=(12, 3))\n",
    "# for i in [0,1,2]:\n",
    "#     ax[i].scatter(x[0,],x[1+i,])\n",
    "#     ax[i].title.set_text('Correlation = ' + \"{:.2f}\".format(rho[0,i+1]))\n",
    "#     ax[i].set(xlabel='x',ylabel='y')\n",
    "# fig.subplots_adjust(wspace=.4)    \n",
    "\n",
    "\n",
    "#plt.title('Correlation = ' + \"{%f}\".format(rho[text_1,test_2]))\n",
    "plt.figure(figsize=(8, 8))\n",
    "\n",
    "plt.axes().set_aspect('equal')\n",
    "plt.scatter(test_1,test_2)\n",
    "res = stats.linregress(test_1, test_2)\n",
    "\n",
    "R3 = np.corrcoef(test_1, test_2)\n",
    "plt.plot(test_1, res.intercept + res.slope*test_1, 'r', label='fitted line')\n",
    "plt.show()\n",
    "\n",
    "print(R3)\n",
    "print(res.slope)"
   ]
  },
  {
   "cell_type": "code",
   "execution_count": null,
   "metadata": {},
   "outputs": [],
   "source": [
    "plt.figure(figsize=(8, 8))\n",
    "\n",
    "plt.axes().set_aspect('equal')\n",
    "plt.scatter(test_1,test_3)\n",
    "res1 = stats.linregress(test_1, test_3)\n",
    "\n",
    "R3 = np.corrcoef(test_1, test_3)\n",
    "plt.plot(test_1, res1.intercept + res1.slope*test_1, 'r', label='fitted line')\n",
    "plt.show()\n",
    "\n",
    "print(R3)\n",
    "print(res1.slope)"
   ]
  }
 ],
 "metadata": {
  "kernelspec": {
   "display_name": "Python 3.9.12",
   "language": "python",
   "name": "python3"
  },
  "language_info": {
   "codemirror_mode": {
    "name": "ipython",
    "version": 3
   },
   "file_extension": ".py",
   "mimetype": "text/x-python",
   "name": "python",
   "nbconvert_exporter": "python",
   "pygments_lexer": "ipython3",
   "version": "3.9.12"
  },
  "orig_nbformat": 4,
  "vscode": {
   "interpreter": {
    "hash": "df48fff27f64f3b68374eea5916fcf98c15539d1aa4691aec81d7ba803e7f0a1"
   }
  }
 },
 "nbformat": 4,
 "nbformat_minor": 2
}
