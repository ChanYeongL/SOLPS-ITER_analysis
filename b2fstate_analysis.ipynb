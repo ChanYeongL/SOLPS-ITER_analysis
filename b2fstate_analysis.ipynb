{
 "cells": [
  {
   "cell_type": "markdown",
   "id": "0f20abfb-ede2-4131-97e7-4a992311560f",
   "metadata": {},
   "source": [
    "<span style=\"color:black; background-color:White; font-size:150%\">Modules </span> "
   ]
  },
  {
   "cell_type": "code",
   "execution_count": 1,
   "id": "09065735-70de-4379-8ad5-11465b4cdc7b",
   "metadata": {},
   "outputs": [],
   "source": [
    "import numpy as np\n",
    "import matplotlib.pyplot as plt\n",
    "import matplotlib.ticker as ticker\n",
    "from scipy.special import rel_entr\n",
    "import pickle"
   ]
  },
  {
   "cell_type": "markdown",
   "id": "ad3c407d-558a-40db-b634-5fce5c33c0bf",
   "metadata": {},
   "source": [
    "<span style=\"color:black; background-color:White; font-size:150%\"> Some functions & Parameters </span> "
   ]
  },
  {
   "cell_type": "code",
   "execution_count": 2,
   "id": "7bdec8c3-74f0-480d-83cc-c85c9f76bf07",
   "metadata": {},
   "outputs": [],
   "source": [
    "def is_valid_float(element: str) -> bool:\n",
    "    try:\n",
    "        float(element)\n",
    "        return True\n",
    "    except ValueError:\n",
    "        return False\n",
    "    "
   ]
  },
  {
   "cell_type": "code",
   "execution_count": 3,
   "id": "390c9a1a-1508-4951-a1d6-db0419f36255",
   "metadata": {},
   "outputs": [],
   "source": [
    "def check_float(element):\n",
    "    partition = element.partition('.')\n",
    "    \n",
    "    if element.isdigit():\n",
    "      newelement = float(element)\n",
    "      print('string is valid')\n",
    "\n",
    "    elif (partition[0].isdigit() and partition[1] == '.' and partition[2].isdigit()) or (partition[0] == '' and partition[1] == '.' and partition[2].isdigit()) or (partition[0].isdigit() and partition[1] == '.' and partition[2] == ''):\n",
    "            newelement = float(element)\n",
    "            print(newelement)\n",
    "            print(\"String is also valid !\")\n",
    "    else:\n",
    "        print(\"string is not valid !\")"
   ]
  },
  {
   "cell_type": "code",
   "execution_count": 4,
   "id": "a7abc4c5-3a85-4569-9231-345e7139ab3b",
   "metadata": {},
   "outputs": [],
   "source": [
    "def is_valid_string(element):\n",
    "    if element.isdigit():\n",
    "        print(\"String is valid\")\n",
    "    else:\n",
    "        print(\"String is not valid\")"
   ]
  },
  {
   "cell_type": "markdown",
   "id": "a005fa0b-a850-4246-adbe-2b5c7d3242a1",
   "metadata": {},
   "source": [
    "<span style=\"color:White; background-color:Black; font-size:130%\"> Data </span> "
   ]
  },
  {
   "cell_type": "code",
   "execution_count": 5,
   "id": "1847b617-82c4-436f-b0b3-e53d258cb245",
   "metadata": {},
   "outputs": [],
   "source": [
    "#3.0e16 Ne puff\n",
    "#fname_or = \"b2fstate_al_KSTAR\"\n",
    "#fname_or = \"b2fstate_al_ITER\"\n",
    "#fname_or = \"b2fstate_al_KDEMO\"\n",
    "#fname_or = \"b2fstate_co_KSTAR\"\n",
    "#fname_or = \"b2fstate_co_ITER\"\n",
    "#fname_or = \"b2fstate_co_KDEMO\"\n",
    "#fname_or = \"b2fstate_20220530\"\n",
    "\n",
    "#no Ne puff\n",
    "#fname_or = \"b2fstate_al_KSTAR_noNE\"\n",
    "#fname_or = \"b2fstate_al_ITER_noNE\"\n",
    "#fname_or = \"b2fstate_al_KDEMO_noNE\"\n",
    "#fname_or = \"b2fstate_co_KSTAR_noNE\"\n",
    "#fname_or = \"b2fstate_co_ITER_noNE\"\n",
    "#fname_or = \"b2fstate_co_KDEMO_noNE\"\n",
    "\n",
    "\n",
    "#Ne puff 3.0e18\n",
    "#fname_or = \"b2fstate_al_KSTAR_3e18Ne\"\n",
    "#fname_or = \"b2fstate_al_ITER_3e18Ne\"\n",
    "#fname_or = \"b2fstate_al_KDEMO_3e18Ne\"\n",
    "#fname_or = \"b2fstate_co_KSTAR_3e18Ne\"\n",
    "#fname_or = \"b2fstate_co_ITER_3e18Ne\"\n",
    "#fname_or = \"b2fstate_co_KDEMO_3e18Ne\"\n",
    "\n",
    "\n",
    "#Ne puff 3.0e19\n",
    "#fname_or = \"b2fstate_al_KSTAR_3e19Ne\"\n",
    "#fname_or = \"b2fstate_al_ITER_3e19Ne\"\n",
    "#fname_or = \"b2fstate_al_KDEMO_3e19Ne\"\n",
    "#fname_or = \"b2fstate_co_KSTAR_3e19Ne\"\n",
    "#fname_or = \"b2fstate_co_ITER_3e19Ne\"\n",
    "#fname_or = \"b2fstate_co_KDEMO_3e19Ne\"\n",
    "#fname_or = \"b2fstate\"\n",
    "#fname_or =\"b2fplasmf_tiral\"\n",
    "\n",
    "fname_or = \"b2fstate_conv_KSTAR_check\"\n",
    "\n",
    "\n",
    "\n",
    "fname = \"./%s.txt\" %fname_or\n",
    "\n",
    "\n",
    "\n",
    "\n",
    "\n",
    "#def find_ni(fname):\n",
    "#    with open(fname) as f:\n",
    "#        line = f.readlines()\n",
    "#        print(line)\n",
    "#    return line\n",
    "    \n",
    "with open(fname,'r') as f:\n",
    "    line = f.readlines()\n",
    "    #line_1 = line.split()\n",
    "\n",
    "a=type(line)\n",
    "k = len(line)\n",
    "data_array = np.array(line)\n",
    "full_length = np.size(data_array)\n",
    "k1 = np.zeros(k)\n",
    "\n"
   ]
  },
  {
   "cell_type": "code",
   "execution_count": 6,
   "id": "43b7c014-7348-406f-ab73-83bb78cf01a1",
   "metadata": {},
   "outputs": [],
   "source": [
    "fname = \"./%s.txt\" %fname_or"
   ]
  },
  {
   "cell_type": "code",
   "execution_count": 7,
   "id": "90676af3-517f-4e1d-ac65-8665369056c5",
   "metadata": {},
   "outputs": [
    {
     "name": "stdout",
     "output_type": "stream",
     "text": [
      "         96         36         20\n",
      "\n"
     ]
    }
   ],
   "source": [
    "print(line[2])\n",
    "mesh = line[2].split()\n",
    "nx = int(mesh[0])\n",
    "ny = int(mesh[1])\n",
    "ns = int(mesh[2])\n",
    "data_name = 'fhi'\n"
   ]
  },
  {
   "cell_type": "code",
   "execution_count": 8,
   "id": "d39783ff-5c61-46f8-a197-8c070cc1a36b",
   "metadata": {},
   "outputs": [
    {
     "name": "stdout",
     "output_type": "stream",
     "text": [
      "         96         36         20\n",
      "\n"
     ]
    }
   ],
   "source": [
    "print(line[2])\n"
   ]
  },
  {
   "cell_type": "code",
   "execution_count": null,
   "id": "9d18db59-905c-4f2c-ae20-bbb418954dbb",
   "metadata": {},
   "outputs": [],
   "source": []
  },
  {
   "cell_type": "markdown",
   "id": "59b0d71d-2d39-4c04-88c9-3bd1e6413c50",
   "metadata": {},
   "source": [
    "<span style= \"color:#5cffd1;font-size:250%\"> Main Code</span>  "
   ]
  },
  {
   "cell_type": "code",
   "execution_count": 9,
   "id": "57eb8eed-6441-49c4-8e5e-0d3c589a68c4",
   "metadata": {},
   "outputs": [],
   "source": [
    "raw_data = np.empty((full_length,6))\n",
    "\n",
    "for i in range(0, full_length):\n",
    "    \n",
    "    dum = line[i].split()\n",
    "    dum2 = len(dum)\n",
    "    \n",
    "    for j in range(6):\n",
    "        if j+1<=len(dum):\n",
    "\n",
    "            dum3 = dum[j]\n",
    "            \n",
    "            try:\n",
    "                raw_data[i,j] = dum3\n",
    "            except ValueError as m:\n",
    "                raw_data[i,j] = 0\n",
    "            #print(dum3)\n",
    "        elif j+1>len(dum):\n",
    "            continue\n",
    "\n"
   ]
  },
  {
   "cell_type": "code",
   "execution_count": 10,
   "id": "cf48be06-bf43-404b-ac4c-b2fa475fedaf",
   "metadata": {},
   "outputs": [
    {
     "name": "stdout",
     "output_type": "stream",
     "text": [
      "VERSION03.000.008 3.0.8-17-g7ceb865-dirty         \n",
      "\n",
      "*cf:    int                3    nx,ny,ns                        \n",
      "\n",
      "*cf:    char             120    label                           \n",
      "\n",
      " b2mn     B2.5 bjb99/7 SOLPS-ITER  2022-06-23  12:16 chanyeonKSTAR : no drifts : D+C                                     \n",
      "\n",
      "*cf:    real              20    zamin                           \n",
      "\n",
      "*cf:    real              20    zamax                           \n",
      "\n",
      "*cf:    real              20    zn                              \n",
      "\n",
      "*cf:    real              20    am                              \n",
      "\n",
      "*cf:    real           74480    na                              \n",
      "\n",
      "*cf:    real            3724    ne                              \n",
      "\n",
      "*cf:    real           74480    ua                              \n",
      "\n",
      "*cf:    real          148960    uadia                           \n",
      "\n",
      "*cf:    real            3724    te                              \n",
      "\n",
      "*cf:    real            3724    ti                              \n",
      "\n",
      "*cf:    real            3724    po                              \n",
      "\n",
      "*cf:    real          148960    fna                             \n",
      "\n",
      "*cf:    real            7448    fhe                             \n",
      "\n",
      "*cf:    real            7448    fhi                             \n",
      "\n",
      "*cf:    real            7448    fch                             \n",
      "\n",
      "*cf:    real            7448    fch_32                          \n",
      "\n",
      "*cf:    real            7448    fch_52                          \n",
      "\n",
      "*cf:    real           74480    kinrgy                          \n",
      "\n",
      "*cf:    real               1    time                            \n",
      "\n",
      "*cf:    real            3724    fch_p                           \n",
      "\n",
      "*cf:    real          148960    fna_mdf                         \n",
      "\n",
      "*cf:    real            7448    fhe_mdf                         \n",
      "\n",
      "*cf:    real            7448    fhi_mdf                         \n",
      "\n",
      "*cf:    real          148960    fna_fcor                        \n",
      "\n",
      "*cf:    real          148960    fna_nodrift                     \n",
      "\n",
      "*cf:    real          148960    fna_he                          \n",
      "\n",
      "*cf:    real          148960    fnaPSch                         \n",
      "\n",
      "*cf:    real            7448    fhePSch                         \n",
      "\n",
      "*cf:    real            7448    fhiPSch                         \n",
      "\n",
      "*cf:    real          148960    fna_eir                         \n",
      "\n",
      "*cf:    real            7448    fne_eir                         \n",
      "\n",
      "*cf:    real            7448    fhe_eir                         \n",
      "\n",
      "*cf:    real            7448    fhi_eir                         \n",
      "\n",
      "*cf:    real          148960    fna_32                          \n",
      "\n",
      "*cf:    real          148960    fna_52                          \n",
      "\n",
      "*cf:    real            7448    fni_32                          \n",
      "\n",
      "*cf:    real            7448    fni_52                          \n",
      "\n",
      "*cf:    real            7448    fne_32                          \n",
      "\n",
      "*cf:    real            7448    fne_52                          \n",
      "\n",
      "*cf:    real            7448    fchdia                          \n",
      "\n",
      "*cf:    real            7448    fchin                           \n",
      "\n",
      "*cf:    real            7448    fchvispar                       \n",
      "\n",
      "*cf:    real            7448    fchvisper                       \n",
      "\n",
      "*cf:    real            7448    fchvisq                         \n",
      "\n",
      "*cf:    real            7448    fchinert                        \n",
      "\n",
      "*cf:    real          148960    vaecrb                          \n",
      "\n",
      "*cf:    real          148960    vadia                           \n",
      "\n",
      "*cf:    real          148960    wadia                           \n",
      "\n",
      "*cf:    real            7448    veecrb                          \n",
      "\n",
      "*cf:    real            7448    vedia                           \n",
      "\n",
      "*cf:    real            7448    floe_noc                        \n",
      "\n",
      "*cf:    real            7448    floi_noc                        \n",
      "\n"
     ]
    }
   ],
   "source": [
    "for i in range(0, full_length):  \n",
    "    dum = line[i].split()\n",
    "    dum2 = len(dum)\n",
    "    for j in range(6):\n",
    "        if j+1<=len(dum):\n",
    "            dum3 = dum[j]\n",
    "            try:\n",
    "                raw_data[i,j] = dum3\n",
    "            except ValueError as m:\n",
    "                raw_data[i,j] = 0\n",
    "                print(line[i])\n",
    "                break;\n",
    "        elif j+1>len(dum):\n",
    "            continue"
   ]
  },
  {
   "cell_type": "markdown",
   "id": "81375113-0ec5-4531-ba1d-636bf65ab092",
   "metadata": {},
   "source": [
    "<span style=\"font-size:150%\"> **Check data's Location**</span>  "
   ]
  },
  {
   "cell_type": "code",
   "execution_count": 11,
   "id": "a24e6139-9149-4cc5-985e-b210d5c79a42",
   "metadata": {},
   "outputs": [
    {
     "name": "stdout",
     "output_type": "stream",
     "text": [
      "first line 78243\n",
      "first line   0.0000000000000E+000 -2.3585567167463E-001 -3.3233157044637E+000 -4.1278811725840E+000 -3.9399104756753E+000 -3.7276314776769E+000\n",
      "\n",
      "last line 79484\n",
      "last line   2.6639195468753E+002  2.7839232665655E-001\n",
      "\n",
      "data info ['*cf:', 'real', '7448', 'fhi']\n",
      "data info 7448\n"
     ]
    }
   ],
   "source": [
    "check_array = np.empty((1,6))\n",
    "for ch in range(full_length):\n",
    "    if data_name in line[ch]:\n",
    "        if line[ch].split()[3]==data_name:\n",
    "            position_start = ch+1\n",
    "            break;\n",
    "        else:\n",
    "            continue\n",
    "    else:\n",
    "        continue\n",
    "        \n",
    "for ch2 in range(position_start+1,full_length):\n",
    "    try:\n",
    "        check_cf = line[ch2].split()\n",
    "        check_er = float(check_cf[0])\n",
    "    except ValueError as m:\n",
    "        position_end = ch2-1\n",
    "#        print(ch2)\n",
    "        break;    \n",
    "print(\"first line\", position_start)\n",
    "print(\"first line\", line[position_start])\n",
    "print(\"last line\", position_end)\n",
    "print(\"last line\", line[position_end])\n",
    "\n",
    "\n",
    "#print(line[position_end])\n",
    "check_length = line[position_start-1].split()\n",
    "tot_len =int(check_length[2])\n",
    "print(\"data info\",check_length)\n",
    "print(\"data info\",tot_len)\n",
    "\n",
    "\n",
    "\n",
    "\n"
   ]
  },
  {
   "cell_type": "code",
   "execution_count": 12,
   "id": "91a2cb94-0f50-4aff-a068-b948af2f24c1",
   "metadata": {},
   "outputs": [
    {
     "data": {
      "text/plain": [
       "False"
      ]
     },
     "execution_count": 12,
     "metadata": {},
     "output_type": "execute_result"
    }
   ],
   "source": [
    "line[250193].split()[3] == data_name"
   ]
  },
  {
   "cell_type": "code",
   "execution_count": 13,
   "id": "313cb633-c60e-42fc-aaa5-2cad2c1e9dbd",
   "metadata": {},
   "outputs": [
    {
     "name": "stdout",
     "output_type": "stream",
     "text": [
      "  0.0000000000000E+000 -2.3585567167463E-001 -3.3233157044637E+000 -4.1278811725840E+000 -3.9399104756753E+000 -3.7276314776769E+000\n",
      "\n"
     ]
    }
   ],
   "source": [
    "print(line[position_start])"
   ]
  },
  {
   "cell_type": "code",
   "execution_count": 14,
   "id": "9e4deff7-1b68-4ddd-811f-f55832a2f707",
   "metadata": {},
   "outputs": [],
   "source": [
    "selected_length = position_end-position_start\n",
    "selected_data = np.zeros((selected_length+1,6))\n",
    "\n",
    "for i in range(position_start, position_end+1):\n",
    "    dum = line[i].split()\n",
    "    #print(line[i])\n",
    "    dum2 = len(dum)\n",
    "    for j in range(dum2):\n",
    "        dum3 = dum[j]\n",
    "        selected_data[i-position_start,j] = dum3    \n",
    "    \n",
    "#    for j in range(6):\n",
    "#        if j+1<=len(dum):\n",
    "#            dum3 = dum[j]\n",
    "#            try:\n",
    "#                selected_data[i-position_start,j] = dum3\n",
    "#            except ValueError as m:\n",
    "#                selected_data[i-position_start,j] = 0.0\n",
    "#            #print(dum3)\n",
    "#        elif j+1>len(dum):\n",
    "#            continue"
   ]
  },
  {
   "cell_type": "code",
   "execution_count": null,
   "id": "ebd1ec3c-a0bf-432e-bb57-4391a1678153",
   "metadata": {},
   "outputs": [],
   "source": []
  },
  {
   "cell_type": "code",
   "execution_count": 15,
   "id": "f8d1bb60-a9aa-451e-9b68-b3d47ca6e057",
   "metadata": {},
   "outputs": [
    {
     "name": "stdout",
     "output_type": "stream",
     "text": [
      "['2.6639195468753E+002', '2.7839232665655E-001']\n"
     ]
    }
   ],
   "source": [
    "print(line[position_end].split())"
   ]
  },
  {
   "cell_type": "code",
   "execution_count": null,
   "id": "46a04c54-c174-4f45-8863-fea9b60d2018",
   "metadata": {},
   "outputs": [],
   "source": []
  },
  {
   "cell_type": "code",
   "execution_count": 16,
   "id": "176267d1-25ca-4a02-912e-7620c5605c0e",
   "metadata": {},
   "outputs": [
    {
     "name": "stdout",
     "output_type": "stream",
     "text": [
      "selected_data [[ 0.00000000e+00 -2.35855672e-01 -3.32331570e+00 -4.12788117e+00\n",
      "  -3.93991048e+00 -3.72763148e+00]\n",
      " [-3.48957194e+00 -3.10376843e+00 -2.83835702e+00 -2.60625076e+00\n",
      "  -2.38061267e+00  8.61672607e+00]\n",
      " [ 2.68203353e+01  4.42232770e+01  4.71891397e+01  9.09894363e+01\n",
      "   1.61516346e+02  2.27141914e+02]\n",
      " ...\n",
      " [ 2.24975541e+03  2.28991089e+03  2.27862262e+03  2.21717825e+03\n",
      "   2.13473872e+03  2.03170891e+03]\n",
      " [ 1.91262711e+03  1.77175871e+03  1.58955952e+03  1.36436936e+03\n",
      "   1.10208809e+03  7.52030558e+02]\n",
      " [ 2.66391955e+02  2.78392327e-01  0.00000000e+00  0.00000000e+00\n",
      "   0.00000000e+00  0.00000000e+00]]\n",
      "selected_data (1242, 6)\n",
      "1241\n",
      "(1242, 6)\n",
      "data len :  7452\n",
      "before end   1.9126271108999E+003  1.7717587050684E+003  1.5895595214508E+003  1.3643693584523E+003  1.1020880942892E+003  7.5203055820041E+002\n",
      "\n",
      "end   2.6639195468753E+002  2.7839232665655E-001\n",
      "\n",
      "next data *cf:    real            7448    fch                             \n",
      "\n",
      "start [-3.48957194 -3.10376843 -2.83835702 -2.60625076 -2.38061267  8.61672607]\n"
     ]
    }
   ],
   "source": [
    "print(\"selected_data\" , selected_data)\n",
    "print(\"selected_data\" , np.shape(selected_data))\n",
    "\n",
    "\n",
    "print(selected_length)\n",
    "print(np.shape(selected_data))\n",
    "numerical_len = np.shape(selected_data)[0]*np.shape(selected_data)[1]\n",
    "\n",
    "print(\"data len : \", numerical_len)\n",
    "print(\"before end\", line[position_end-1])\n",
    "print(\"end\", line[position_end])\n",
    "print(\"next data\", line[position_end+1])\n",
    "\n",
    "\n",
    "print(\"start\", raw_data[position_start+1,:])\n",
    "\n"
   ]
  },
  {
   "cell_type": "code",
   "execution_count": 17,
   "id": "c72dd38c-d82c-442b-9a81-ee870ff7bfd5",
   "metadata": {},
   "outputs": [],
   "source": [
    "np.shape(selected_data)\n",
    "selected_data_merged = selected_data.reshape(numerical_len,1)\n",
    "selected_data_merged_deleted = selected_data_merged[:tot_len,0]\n",
    "\n",
    "#print(\"me\",selected_data_merged)\n",
    "#print(\"de\",selected_data_merged_deleted)\n",
    "#print(np.shape(selected_data_merged))\n",
    "#print(\"me check\",selected_data_merged[7451])\n",
    "#print(np.shape(selected_data_merged_deleted))\n",
    "#print(\"de check\",selected_data_merged_deleted[7447])\n",
    "\n"
   ]
  },
  {
   "cell_type": "code",
   "execution_count": 18,
   "id": "b21b2fa4-0a91-43c4-86dc-cda555a02bde",
   "metadata": {},
   "outputs": [
    {
     "name": "stdout",
     "output_type": "stream",
     "text": [
      "False\n"
     ]
    }
   ],
   "source": [
    "print(check_length[2]=='3724')"
   ]
  },
  {
   "cell_type": "code",
   "execution_count": 19,
   "id": "5a83bf0d-6403-4847-9810-81eab161cae3",
   "metadata": {},
   "outputs": [],
   "source": [
    "#some electron cases sorted\n",
    "\n",
    "if check_length[2] == '3724':\n",
    "    selected_data_final = selected_data_merged_deleted.reshape(ny+2,nx+2)\n",
    "elif check_length[2]== '7448':\n",
    "    selected_data_final = selected_data_merged_deleted.reshape(2, ny+2,nx+2)\n",
    "else:\n",
    "    selected_data_final = selected_data_merged_deleted.reshape(ns, ny+2,nx+2)\n",
    "\n",
    "np.save(\"./%s_%s\" %(data_name,fname_or), selected_data_final)"
   ]
  },
  {
   "cell_type": "code",
   "execution_count": 20,
   "id": "59629308-ef69-45f5-a51c-b68036ee2bd2",
   "metadata": {},
   "outputs": [],
   "source": [
    "#selected_data_final = selected_data_merged_deleted.reshape(ns, ny+2,nx+2)\n",
    "\n",
    "#print(selected_data_final[0,:,3])"
   ]
  },
  {
   "cell_type": "code",
   "execution_count": 21,
   "id": "4a885de9-2e61-4845-a3f2-9c9405cc19c1",
   "metadata": {},
   "outputs": [],
   "source": [
    "#selected_data_final[0,:,96]"
   ]
  },
  {
   "cell_type": "code",
   "execution_count": 22,
   "id": "0ff8c064-e7fc-4aa9-a0a5-655c523b9944",
   "metadata": {},
   "outputs": [
    {
     "name": "stdout",
     "output_type": "stream",
     "text": [
      "[[[ 0.00000000e+00 -2.35855672e-01 -3.32331570e+00 ...  4.25156548e+00\n",
      "    3.33775200e+00  3.18818507e-01]\n",
      "  [ 0.00000000e+00 -3.63708081e+03 -3.75055070e+03 ...  3.01133310e+03\n",
      "    3.36725432e+03  3.28006787e+03]\n",
      "  [ 0.00000000e+00 -4.80180404e+03 -4.85116045e+03 ...  3.53206688e+03\n",
      "    4.28082386e+03  4.28701177e+03]\n",
      "  ...\n",
      "  [ 0.00000000e+00 -1.92315090e+04 -1.97151200e+04 ...  2.48035252e+04\n",
      "    3.12254101e+04  3.58669563e+04]\n",
      "  [ 0.00000000e+00 -1.50439339e+04 -1.53839350e+04 ...  3.13716189e+04\n",
      "    3.90187771e+04  4.58579403e+04]\n",
      "  [ 0.00000000e+00 -3.02870529e-01 -1.10543045e+01 ...  2.92113447e+01\n",
      "    2.16078524e+01  1.16028761e+00]]\n",
      "\n",
      " [[ 0.00000000e+00  0.00000000e+00  0.00000000e+00 ...  0.00000000e+00\n",
      "    0.00000000e+00  0.00000000e+00]\n",
      "  [-1.23079724e-01 -3.60775685e+01 -1.62271314e+02 ... -2.14102948e+02\n",
      "   -5.83851694e+01 -2.88187628e-01]\n",
      "  [-6.29979771e-02 -4.26425899e+01 -1.59176444e+02 ... -3.22927372e+02\n",
      "   -1.05862222e+02 -1.40033232e-01]\n",
      "  ...\n",
      "  [ 1.03831249e-02  1.91145734e+01  6.02410636e+01 ... -2.13853796e+02\n",
      "   -8.48514515e+01  1.89119200e-02]\n",
      "  [ 3.09128578e-02  4.49327521e+01  1.76042249e+02 ... -5.57182416e+02\n",
      "   -2.47776647e+02  4.05733642e-01]\n",
      "  [ 1.32012907e-01  3.98882801e+01  2.35192153e+02 ...  7.52030558e+02\n",
      "    2.66391955e+02  2.78392327e-01]]]\n",
      "./fhi_b2fstate_conv_KSTAR_check [[[ 0.00000000e+00 -2.35855672e-01 -3.32331570e+00 ...  4.25156548e+00\n",
      "    3.33775200e+00  3.18818507e-01]\n",
      "  [ 0.00000000e+00 -3.63708081e+03 -3.75055070e+03 ...  3.01133310e+03\n",
      "    3.36725432e+03  3.28006787e+03]\n",
      "  [ 0.00000000e+00 -4.80180404e+03 -4.85116045e+03 ...  3.53206688e+03\n",
      "    4.28082386e+03  4.28701177e+03]\n",
      "  ...\n",
      "  [ 0.00000000e+00 -1.92315090e+04 -1.97151200e+04 ...  2.48035252e+04\n",
      "    3.12254101e+04  3.58669563e+04]\n",
      "  [ 0.00000000e+00 -1.50439339e+04 -1.53839350e+04 ...  3.13716189e+04\n",
      "    3.90187771e+04  4.58579403e+04]\n",
      "  [ 0.00000000e+00 -3.02870529e-01 -1.10543045e+01 ...  2.92113447e+01\n",
      "    2.16078524e+01  1.16028761e+00]]\n",
      "\n",
      " [[ 0.00000000e+00  0.00000000e+00  0.00000000e+00 ...  0.00000000e+00\n",
      "    0.00000000e+00  0.00000000e+00]\n",
      "  [-1.23079724e-01 -3.60775685e+01 -1.62271314e+02 ... -2.14102948e+02\n",
      "   -5.83851694e+01 -2.88187628e-01]\n",
      "  [-6.29979771e-02 -4.26425899e+01 -1.59176444e+02 ... -3.22927372e+02\n",
      "   -1.05862222e+02 -1.40033232e-01]\n",
      "  ...\n",
      "  [ 1.03831249e-02  1.91145734e+01  6.02410636e+01 ... -2.13853796e+02\n",
      "   -8.48514515e+01  1.89119200e-02]\n",
      "  [ 3.09128578e-02  4.49327521e+01  1.76042249e+02 ... -5.57182416e+02\n",
      "   -2.47776647e+02  4.05733642e-01]\n",
      "  [ 1.32012907e-01  3.98882801e+01  2.35192153e+02 ...  7.52030558e+02\n",
      "    2.66391955e+02  2.78392327e-01]]]\n"
     ]
    }
   ],
   "source": [
    "print(selected_data_final)\n",
    "#map_plot = plt.pcolormesh(selected_data_final[1,:,:])\n",
    "#plt.savefig(data_name)\n",
    "#plt.title(data_name)\n",
    "#plt.colorbar()\n",
    "#plt.show()\n",
    "np.save(\"./%s_%s\" %(data_name,fname_or), selected_data_final)\n",
    "print(\"./%s_%s\" %(data_name,fname_or), selected_data_final)\n",
    "\n"
   ]
  },
  {
   "cell_type": "code",
   "execution_count": 23,
   "id": "8947983e-779f-4007-a14a-033587981215",
   "metadata": {},
   "outputs": [
    {
     "name": "stdout",
     "output_type": "stream",
     "text": [
      "[[[ 0.00000000e+00 -2.35855672e-01 -3.32331570e+00 ...  4.25156548e+00\n",
      "    3.33775200e+00  3.18818507e-01]\n",
      "  [ 0.00000000e+00 -3.63708081e+03 -3.75055070e+03 ...  3.01133310e+03\n",
      "    3.36725432e+03  3.28006787e+03]\n",
      "  [ 0.00000000e+00 -4.80180404e+03 -4.85116045e+03 ...  3.53206688e+03\n",
      "    4.28082386e+03  4.28701177e+03]\n",
      "  ...\n",
      "  [ 0.00000000e+00 -1.92315090e+04 -1.97151200e+04 ...  2.48035252e+04\n",
      "    3.12254101e+04  3.58669563e+04]\n",
      "  [ 0.00000000e+00 -1.50439339e+04 -1.53839350e+04 ...  3.13716189e+04\n",
      "    3.90187771e+04  4.58579403e+04]\n",
      "  [ 0.00000000e+00 -3.02870529e-01 -1.10543045e+01 ...  2.92113447e+01\n",
      "    2.16078524e+01  1.16028761e+00]]\n",
      "\n",
      " [[ 0.00000000e+00  0.00000000e+00  0.00000000e+00 ...  0.00000000e+00\n",
      "    0.00000000e+00  0.00000000e+00]\n",
      "  [-1.23079724e-01 -3.60775685e+01 -1.62271314e+02 ... -2.14102948e+02\n",
      "   -5.83851694e+01 -2.88187628e-01]\n",
      "  [-6.29979771e-02 -4.26425899e+01 -1.59176444e+02 ... -3.22927372e+02\n",
      "   -1.05862222e+02 -1.40033232e-01]\n",
      "  ...\n",
      "  [ 1.03831249e-02  1.91145734e+01  6.02410636e+01 ... -2.13853796e+02\n",
      "   -8.48514515e+01  1.89119200e-02]\n",
      "  [ 3.09128578e-02  4.49327521e+01  1.76042249e+02 ... -5.57182416e+02\n",
      "   -2.47776647e+02  4.05733642e-01]\n",
      "  [ 1.32012907e-01  3.98882801e+01  2.35192153e+02 ...  7.52030558e+02\n",
      "    2.66391955e+02  2.78392327e-01]]]\n",
      "(2, 38, 98)\n"
     ]
    }
   ],
   "source": [
    "print(selected_data_final)\n",
    "print(np.shape(selected_data_final))"
   ]
  },
  {
   "cell_type": "code",
   "execution_count": 24,
   "id": "73864c8f-82c0-453c-afe9-254d591d0cfc",
   "metadata": {},
   "outputs": [
    {
     "name": "stdout",
     "output_type": "stream",
     "text": [
      "./fhi_b2fstate_conv_KSTAR_check.npy\n"
     ]
    }
   ],
   "source": [
    "loadname = (\"./%s_%s.npy\" % (data_name, fname_or))\n",
    "print(loadname)"
   ]
  },
  {
   "cell_type": "code",
   "execution_count": 25,
   "id": "b0c05d9f-3717-4bd6-9c63-a32f54b509e9",
   "metadata": {},
   "outputs": [
    {
     "name": "stdout",
     "output_type": "stream",
     "text": [
      "[[[3.78079384e+08 3.77564294e+08 3.65071146e+08 ... 1.40024030e+09\n",
      "   1.44737709e+09 1.45228682e+09]\n",
      "  [3.57359022e+08 3.56872161e+08 3.44859153e+08 ... 1.35316531e+09\n",
      "   1.39868822e+09 1.40343279e+09]\n",
      "  [3.41823863e+08 3.41852012e+08 3.29680275e+08 ... 1.29515374e+09\n",
      "   1.33771004e+09 1.34089019e+09]\n",
      "  ...\n",
      "  [1.46368316e+08 1.44157272e+08 1.28313111e+08 ... 6.31151121e+09\n",
      "   8.20886855e+09 8.24778807e+09]\n",
      "  [1.10146966e+08 1.09306174e+08 1.03341374e+08 ... 7.84372490e+09\n",
      "   1.01288800e+10 1.01703111e+10]\n",
      "  [1.23221407e+08 1.22280812e+08 1.15832633e+08 ... 8.56725485e+09\n",
      "   1.10480947e+10 1.10932857e+10]]\n",
      "\n",
      " [[2.93612087e+18 2.93245664e+18 3.02879902e+18 ... 4.77888260e+18\n",
      "   4.60040666e+18 4.59970933e+18]\n",
      "  [3.12434423e+18 3.12044510e+18 3.22575529e+18 ... 4.95591120e+18\n",
      "   4.76950628e+18 4.76878332e+18]\n",
      "  [3.56356956e+18 3.56143227e+18 3.68537296e+18 ... 5.47486414e+18\n",
      "   5.25484944e+18 5.23750301e+18]\n",
      "  ...\n",
      "  [1.20741837e+19 1.20918111e+19 1.21549970e+19 ... 8.21790318e+19\n",
      "   6.77567604e+19 6.77484598e+19]\n",
      "  [7.39316042e+18 7.36658476e+18 7.29653446e+18 ... 6.29847278e+19\n",
      "   4.92995419e+19 4.93000962e+19]\n",
      "  [6.28835267e+18 6.26574839e+18 6.24100690e+18 ... 5.65531416e+19\n",
      "   4.43126726e+19 4.43131709e+19]]\n",
      "\n",
      " [[2.93893946e+05 2.93524132e+05 2.84014671e+05 ... 3.44275075e+05\n",
      "   3.55641876e+05 3.56795481e+05]\n",
      "  [2.77789822e+05 2.77440273e+05 2.68293589e+05 ... 3.32699390e+05\n",
      "   3.43676786e+05 3.44791579e+05]\n",
      "  [2.65442603e+05 2.65500826e+05 2.56254950e+05 ... 3.18456273e+05\n",
      "   3.28694710e+05 3.29413002e+05]\n",
      "  ...\n",
      "  [1.00000000e+04 1.00000000e+04 1.00000000e+04 ... 1.35065661e+07\n",
      "   1.72538520e+07 1.72735808e+07]\n",
      "  [1.00000000e+04 1.00000000e+04 1.00000000e+04 ... 1.69296339e+07\n",
      "   2.15597675e+07 2.16114089e+07]\n",
      "  [1.00000000e+04 1.00000000e+04 1.00000000e+04 ... 1.84979860e+07\n",
      "   2.35250136e+07 2.35813623e+07]]\n",
      "\n",
      " ...\n",
      "\n",
      " [[3.02582530e+13 3.02390159e+13 3.16119678e+13 ... 3.10740432e+14\n",
      "   2.92899958e+14 2.92719494e+14]\n",
      "  [3.21991555e+13 3.21786846e+13 3.36668309e+13 ... 3.22262434e+14\n",
      "   3.03671881e+14 3.03484780e+14]\n",
      "  [3.55773463e+13 3.55764877e+13 3.73146737e+13 ... 3.53590277e+14\n",
      "   3.31288724e+14 3.31092192e+14]\n",
      "  ...\n",
      "  [1.01185787e+17 1.01141505e+17 1.40738608e+17 ... 2.99491801e+14\n",
      "   1.89846854e+14 1.89705408e+14]\n",
      "  [1.02928712e+17 1.02962516e+17 1.37433031e+17 ... 1.76784736e+14\n",
      "   1.10359992e+14 1.10284281e+14]\n",
      "  [8.74988155e+16 8.75275517e+16 1.17510818e+17 ... 1.58724529e+14\n",
      "   9.91895239e+13 9.91214756e+13]]\n",
      "\n",
      " [[7.26615830e+11 7.26172513e+11 7.60470991e+11 ... 1.37847639e+13\n",
      "   1.30142112e+13 1.30065105e+13]\n",
      "  [7.73225486e+11 7.72753731e+11 8.09905097e+11 ... 1.42958811e+13\n",
      "   1.34928205e+13 1.34848366e+13]\n",
      "  [8.49452647e+11 8.49451769e+11 8.92499965e+11 ... 1.57128438e+13\n",
      "   1.47459356e+13 1.47375059e+13]\n",
      "  ...\n",
      "  [9.91351005e+15 9.90923433e+15 1.37622687e+16 ... 1.96247302e+13\n",
      "   1.28446281e+13 1.28341579e+13]\n",
      "  [1.01111643e+16 1.01141815e+16 1.34779150e+16 ... 1.19869218e+13\n",
      "   7.73203803e+12 7.72647515e+12]\n",
      "  [8.59544967e+15 8.59801464e+15 1.15242162e+16 ... 1.07622574e+13\n",
      "   6.94939016e+12 6.94439036e+12]]\n",
      "\n",
      " [[4.40014505e+10 4.39762169e+10 4.61768536e+10 ... 2.95573902e+12\n",
      "   2.78924692e+12 2.78718899e+12]\n",
      "  [4.68240813e+10 4.67972290e+10 4.91786550e+10 ... 3.06534776e+12\n",
      "   2.89183896e+12 2.88970534e+12]\n",
      "  [5.10878989e+10 5.10890897e+10 5.38126520e+10 ... 3.37884592e+12\n",
      "   3.16857922e+12 3.16631447e+12]\n",
      "  ...\n",
      "  [5.02397646e+15 5.02164015e+15 6.97166779e+15 ... 9.82698667e+11\n",
      "   6.00868231e+11 6.00336105e+11]\n",
      "  [5.25713729e+15 5.25851577e+15 7.00411694e+15 ... 5.20726422e+11\n",
      "   3.17602449e+11 3.17330084e+11]\n",
      "  [4.46909041e+15 4.47026226e+15 5.98884766e+15 ... 4.67520343e+11\n",
      "   2.85450214e+11 2.85205422e+11]]]\n"
     ]
    }
   ],
   "source": [
    "check_load = np.load(\"./na_b2fstate_co_KSTAR_3e19Ne.npy\")\n",
    "print(check_load)"
   ]
  },
  {
   "cell_type": "code",
   "execution_count": 26,
   "id": "bca090ec-37da-49ad-a45a-316bcdcee2c9",
   "metadata": {},
   "outputs": [
    {
     "name": "stdout",
     "output_type": "stream",
     "text": [
      "[ 1.  2.  3.  4.  5.  6.  7.  8.  9. 10. 11. 12. 13. 14. 15. 16. 17. 18.\n",
      " 19. 20. 21. 22. 23. 24. 25. 26. 27. 28. 29. 30. 31. 32. 33. 34. 35. 36.\n",
      " 37. 38. 39. 40. 41. 42. 43. 44. 45. 46. 47. 48. 49. 50. 51. 52. 53. 54.\n",
      " 55. 56. 57. 58. 59. 60. 61. 62. 63. 64. 65. 66. 67. 68. 69. 70. 71. 72.\n",
      " 73. 74. 75. 76. 77. 78. 79. 80. 81. 82. 83. 84. 85. 86. 87. 88. 89. 90.\n",
      " 91. 92. 93. 94. 95. 96. 97. 98.]\n",
      "[ 1.  2.  3.  4.  5.  6.  7.  8.  9. 10. 11. 12. 13. 14. 15. 16. 17. 18.\n",
      " 19. 20. 21. 22. 23. 24. 25. 26. 27. 28. 29. 30. 31. 32. 33. 34. 35. 36.\n",
      " 37. 38.]\n"
     ]
    }
   ],
   "source": [
    "x_axis = np.linspace(1,98,98)\n",
    "print(x_axis)\n",
    "y_axis = np.linspace(1,38,38)\n",
    "print(y_axis)"
   ]
  },
  {
   "cell_type": "markdown",
   "id": "95f6a119-a7e9-4c0a-867f-0ddd174d5bb0",
   "metadata": {},
   "source": [
    "<span style= \"color:#FFA500;font-size:130%\"> sumy code</span>  "
   ]
  },
  {
   "cell_type": "code",
   "execution_count": 27,
   "id": "a4c95890-f22d-498d-9d39-9687a252f644",
   "metadata": {},
   "outputs": [
    {
     "data": {
      "image/png": "[encoded data removed]",
      "text/plain": [
       "<Figure size 432x288 with 1 Axes>"
      ]
     },
     "metadata": {
      "needs_background": "light"
     },
     "output_type": "display_data"
    },
    {
     "name": "stdout",
     "output_type": "stream",
     "text": [
      "[      0.         -324382.58721152 -308796.1133515  -225795.064657\n",
      " -185678.69303758 -160690.61533163 -141783.57122528 -125551.56556882\n",
      " -110290.24089875  -96201.21217457  -84071.25067503  -51215.64927565\n",
      "  -46395.51877233  -41793.10485144  -37945.02858205  -35573.53942694\n",
      "  -34598.00485728  -34683.46295611  -35328.09515349  -35815.9509224\n",
      "  -35490.64162718  -34311.46583919  -32456.63091263  -29991.53496794\n",
      "  -27239.71368726  -24235.59313039  -21165.13939311  -18099.59075389\n",
      "  -15018.51749017  -11989.4451963    -8979.08590728   -6405.31109285\n",
      "   -4000.87321379   -2126.02116131    -929.70183552    -781.51029134\n",
      "   -2063.85554344   -5141.37988791   -8530.21531991   -9018.41682474\n",
      "  -11233.48581299  -17430.06957804  -23207.77236985  -27592.33973158\n",
      "  -30111.41249907  -30732.1308192   -29759.40940686  -27381.22678286\n",
      "  -23885.44821327  -19613.43196478  -14739.1266318    -9634.90806729\n",
      "   -4220.41500281    1144.09952604    6470.67492446   11424.79861745\n",
      "   15972.72789217   19914.56364868   23204.08383951   25738.7712658\n",
      "   27800.42492208   29634.094695     32131.8228807    34365.43170655\n",
      "   35470.99056335   35528.28360383   33905.44244345   31327.08219261\n",
      "   27944.32395673   24191.57692328   20579.41671841   17851.40362818\n",
      "   16430.11370738   16219.83339274   16817.72507686   18167.54877707\n",
      "   19524.78446246   -2270.42964098    3500.3355621    10167.99680226\n",
      "   18338.1906237    28506.52480422   40589.82786409   54014.36125378\n",
      "   68388.4764199    83246.26761593   98454.4501051   113780.81700006\n",
      "  128520.57076478  142529.30165757  155883.69853415  170599.23535723\n",
      "  187265.13900026  207832.60395729  237275.05385189  280552.85509525\n",
      "  362748.48822569  406493.94416   ]\n"
     ]
    }
   ],
   "source": [
    "selected_data_final_sum = np.cumsum(selected_data_final,axis=1)\n",
    "a = 21\n",
    "b = 10\n",
    "\n",
    "#the point i want to sum\n",
    "thevalue = 14\n",
    "x_sumy = x_axis\n",
    "selected_data_final_sumy = np.zeros((2,ny+2,nx+2))\n",
    "for i in range(ny+2):\n",
    "    selected_data_final_sumy[0,i,:] = selected_data_final_sum[0,ny+1,:] \n",
    "#    selected_data_final_sumy[1,i,:] = selected_data_final_sum[1,ny+1,:]\n",
    "    \n",
    "y = selected_data_final_sum[0,ny+1,:]\n",
    "\n",
    "\n",
    "plt.plot(x_sumy, y)\n",
    "#plt.yscale('symlog')\n",
    "#plt.ylabel('symlogx')\n",
    "#plt.grid(True)\n",
    "#plt.gca().xaxis.grid(True, which='minor')  # minor grid on too\n",
    "#plt.grid()\n",
    "plt.show()\n",
    "\n",
    "#Q = selected_data_final_plot[:,a,1]\n",
    "#P = selected_data_final_plot[:,b,1]\n",
    "print(y)\n",
    "\n",
    "#print(sum(rel_entr(Q, P)))"
   ]
  },
  {
   "cell_type": "code",
   "execution_count": null,
   "id": "4d4f5361-a3ea-4ba2-89b8-a4d3279747c9",
   "metadata": {},
   "outputs": [],
   "source": []
  },
  {
   "cell_type": "code",
   "execution_count": null,
   "id": "ee9cfa41-3ac2-4935-8ee0-89464eae4d06",
   "metadata": {},
   "outputs": [],
   "source": []
  },
  {
   "cell_type": "code",
   "execution_count": null,
   "id": "f32d0c95-009d-49dc-bb59-ed9949b8a502",
   "metadata": {},
   "outputs": [],
   "source": []
  },
  {
   "cell_type": "code",
   "execution_count": null,
   "id": "beb49e05-3679-4e67-8003-6f53baf91c0c",
   "metadata": {},
   "outputs": [],
   "source": []
  },
  {
   "cell_type": "markdown",
   "id": "bc2366d5-1b6c-4db1-a110-0ec414765425",
   "metadata": {},
   "source": [
    "<span style= \"color:#FFA500;font-size:130%\"> sumx code</span>  "
   ]
  },
  {
   "cell_type": "code",
   "execution_count": 28,
   "id": "dd5cd222-ce63-4ba1-89f1-683a7d06b7e0",
   "metadata": {},
   "outputs": [
    {
     "data": {
      "image/png": "[encoded data removed]",
      "text/plain": [
       "<Figure size 432x288 with 1 Axes>"
      ]
     },
     "metadata": {
      "needs_background": "light"
     },
     "output_type": "display_data"
    }
   ],
   "source": [
    "selected_data_final_sum = selected_data_final.cumsum(axis=2)\n",
    "\n",
    "#the point i want to sum\n",
    "thevalue = 20\n",
    "\n",
    "x_sumx = y_axis\n",
    "selected_data_final_sumx = np.zeros((2,ny+2,nx+2))\n",
    "for i in range(nx+2):\n",
    "    selected_data_final_sumx[0,:,i] = selected_data_final_sum[0,:,nx+1] \n",
    "    selected_data_final_sumx[1,:,i] = selected_data_final_sum[1,:,nx+1]\n",
    "\n",
    "y = selected_data_final_sumx[0,:,thevalue]\n",
    "\n",
    "\n",
    "plt.plot(x_sumx, y)\n",
    "#plt.yscale('symlog')\n",
    "#plt.ylabel('symlogx')\n",
    "plt.grid(True)\n",
    "plt.gca().xaxis.grid(True, which='minor')  # minor grid on too\n",
    "plt.grid()\n",
    "plt.show()"
   ]
  },
  {
   "cell_type": "markdown",
   "id": "1b258eef-1564-4c8a-a15f-a6f9226a6155",
   "metadata": {},
   "source": [
    "<span style=\"color:#87cefa; font-size:150%\"> Heat flux calculation</span> "
   ]
  },
  {
   "cell_type": "code",
   "execution_count": null,
   "id": "f57383c4-5943-4be1-98d2-c4383a4bc758",
   "metadata": {},
   "outputs": [],
   "source": []
  },
  {
   "cell_type": "markdown",
   "id": "d67d3e82-6572-4ea8-9b95-b294a2766bd4",
   "metadata": {},
   "source": [
    "<span style=\"font-size:130%\"> Poloidal Flux</span> "
   ]
  }
 ],
 "metadata": {
  "kernelspec": {
   "display_name": "Python 3 (ipykernel)",
   "language": "python",
   "name": "python3"
  },
  "language_info": {
   "codemirror_mode": {
    "name": "ipython",
    "version": 3
   },
   "file_extension": ".py",
   "mimetype": "text/x-python",
   "name": "python",
   "nbconvert_exporter": "python",
   "pygments_lexer": "ipython3",
   "version": "3.9.12"
  },
  "toc-autonumbering": true,
  "toc-showmarkdowntxt": true,
  "toc-showtags": true
 },
 "nbformat": 4,
 "nbformat_minor": 5
}
