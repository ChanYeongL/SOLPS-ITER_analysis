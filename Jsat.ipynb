{
 "cells": [
  {
   "cell_type": "markdown",
   "id": "57f4605e-3b85-486e-8ca8-8f84b5b27549",
   "metadata": {},
   "source": [
    "<span style=\"color:#87cefa; font-size:150%\">J_sat code</span> "
   ]
  },
  {
   "cell_type": "code",
   "execution_count": 2,
   "id": "2b49f780-0a28-408b-b1cf-bf885d6836a9",
   "metadata": {},
   "outputs": [
    {
     "name": "stderr",
     "output_type": "stream",
     "text": [
      "/tmp/ipykernel_62957/1067821576.py:8: DeprecationWarning: Please use `gaussian_filter` from the `scipy.ndimage` namespace, the `scipy.ndimage.filters` namespace is deprecated.\n",
      "  from scipy.ndimage.filters import gaussian_filter\n"
     ]
    }
   ],
   "source": [
    "import numpy as np\n",
    "import matplotlib.pyplot as plt\n",
    "import matplotlib.ticker as ticker\n",
    "import matplotlib.ticker as mticker\n",
    "from scipy.special import rel_entr\n",
    "import pickle\n",
    "from mpl_toolkits.mplot3d import axes3d\n",
    "from scipy.ndimage.filters import gaussian_filter\n",
    "\n",
    "import matplotlib.patches as patches\n",
    "\n",
    "import Mesh_data\n",
    "import Mesh_data_server\n"
   ]
  },
  {
   "cell_type": "code",
   "execution_count": 2,
   "id": "2c333160",
   "metadata": {},
   "outputs": [],
   "source": [
    "\n",
    "co_new_mesh = np.load(\"./new_mesh_co_geo_mesh_center.npy\")\n",
    "co_new_mesh_x = np.load(\"./new_mesh_co_geo_mesh_x.npy\")\n",
    "co_new_mesh_y = np.load(\"./new_mesh_co_geo_mesh_y.npy\")\n",
    "co_newmesh_facing = np.load(\"./gs_new_mesh_co.npy\")\n",
    "\n",
    "\n",
    "al_new_mesh = np.load(\"./new_mesh_al_geo_mesh_center.npy\")\n",
    "al_new_mesh_x = np.load(\"./new_mesh_al_geo_mesh_x.npy\")\n",
    "al_new_mesh_y = np.load(\"./new_mesh_al_geo_mesh_y.npy\")\n",
    "al_newmesh_facing = np.load(\"./gs_new_mesh_al.npy\")\n",
    "\n",
    "e = 1.60217663*(10**(-19))\n",
    "\n",
    "charge = []\n",
    "charge.append(0)\n",
    "charge.append(e*1)\n",
    "charge.append(0)\n",
    "charge.append(e*1)\n",
    "charge.append(e*2)\n",
    "charge.append(e*3)\n",
    "charge.append(e*4)\n",
    "charge.append(e*5)\n",
    "charge.append(e*6)\n",
    "charge.append(0)\n",
    "charge.append(e*1)\n",
    "charge.append(e*2)\n",
    "charge.append(e*3)\n",
    "charge.append(e*4)\n",
    "charge.append(e*5)\n",
    "charge.append(e*6)\n",
    "charge.append(e*7)\n",
    "charge.append(e*8)\n",
    "charge.append(e*9)\n",
    "charge.append(e*10)\n"
   ]
  },
  {
   "cell_type": "code",
   "execution_count": 3,
   "id": "6dd2d14a",
   "metadata": {},
   "outputs": [
    {
     "data": {
      "text/plain": [
       "(38, 98)"
      ]
     },
     "execution_count": 3,
     "metadata": {},
     "output_type": "execute_result"
    }
   ],
   "source": [
    "np.shape(np.load(\"./qc_new_mesh_SAS.npy\"))"
   ]
  },
  {
   "cell_type": "code",
   "execution_count": 4,
   "id": "b4ed75ea-9136-4caa-9d6d-ebc6081c93d6",
   "metadata": {},
   "outputs": [],
   "source": [
    "SAS_1e19_8MW = np.load(\"./data_sep_density/fch_b2fplasmf_SAS_8MW_1e19_8MW_Ne_0_sep_density.npy\")\n",
    "SAS_2e19_8MW = np.load(\"./data_sep_density/fch_b2fplasmf_SAS_8MW_2e19_8MW_Ne_0_sep_density.npy\")\n",
    "SAS_3e19_8MW = np.load(\"./data_sep_density/fch_b2fplasmf_SAS_8MW_3e19_8MW_Ne_0_sep_density.npy\")\n",
    "SAS_4e19_8MW = np.load(\"./data_sep_density/fch_b2fplasmf_SAS_8MW_4e19_8MW_Ne_0_sep_density.npy\")\n",
    "SAS_5e19_8MW = np.load(\"./data_sep_density/fch_b2fplasmf_SAS_8MW_5e19_8MW_Ne_0_sep_density.npy\")\n",
    "\n",
    "\n",
    "fna_SAS_1e18_8MW = np.load(\"./data_sep_density/fna_b2fplasmf_SAS_8MW_1e18_Ne_0_sep_density.npy\")\n",
    "fna_SAS_05e19_8MW = np.load(\"./data_sep_density/fna_b2fplasmf_SAS_8MW_05e19_Ne_0_sep_density.npy\")\n",
    "fna_SAS_1e19_8MW = np.load(\"./data_sep_density/fna_b2fplasmf_SAS_8MW_1e19_8MW_Ne_0_sep_density.npy\")\n",
    "fna_SAS_2e19_8MW = np.load(\"./data_sep_density/fna_b2fplasmf_SAS_8MW_2e19_8MW_Ne_0_sep_density.npy\")\n",
    "fna_SAS_3e19_8MW = np.load(\"./data_sep_density/fna_b2fplasmf_SAS_8MW_3e19_8MW_Ne_0_sep_density.npy\")\n",
    "fna_SAS_4e19_8MW = np.load(\"./data_sep_density/fna_b2fplasmf_SAS_8MW_4e19_8MW_Ne_0_sep_density.npy\")\n",
    "fna_SAS_5e19_8MW = np.load(\"./data_sep_density/fna_b2fplasmf_SAS_8MW_5e19_8MW_Ne_0_sep_density.npy\")\n",
    "\n",
    "J_SAS_1e18_8MW = np.zeros([20, 2, 38, 98])\n",
    "J_SAS_05e19_8MW = np.zeros([20, 2, 38, 98])\n",
    "J_SAS_1e19_8MW = np.zeros([20, 2, 38, 98])\n",
    "J_SAS_2e19_8MW = np.zeros([20, 2, 38, 98])\n",
    "J_SAS_3e19_8MW = np.zeros([20, 2, 38, 98])\n",
    "J_SAS_4e19_8MW = np.zeros([20, 2, 38, 98])\n",
    "J_SAS_5e19_8MW = np.zeros([20, 2, 38, 98])\n",
    "\n",
    "geo_1e18 = ((np.load(\"./data_sep_density/bb_b2fplasmf_SAS_8MW_1e18_Ne_0_sep_density.npy\")[3,1:,96])/(np.load(\"./data_sep_density/bb_b2fplasmf_SAS_8MW_1e18_Ne_0_sep_density.npy\")[0,1:,96]))/(np.load(\"./qc_new_mesh_SAS.npy\")[1:,96])\n",
    "geo_05e19 =((np.load(\"./data_sep_density/bb_b2fplasmf_SAS_8MW_05e19_Ne_0_sep_density.npy\")[3,1:,96])/(np.load(\"./data_sep_density/bb_b2fplasmf_SAS_8MW_05e19_Ne_0_sep_density.npy\")[0,1:,96]))/(np.load(\"./qc_new_mesh_SAS.npy\")[1:,96])\n",
    "geo_1e19 = ((np.load(\"./data_sep_density/bb_b2fplasmf_SAS_8MW_1e19_8MW_Ne_0_sep_density.npy\")[3,1:,96])/(np.load(\"./data_sep_density/bb_b2fplasmf_SAS_8MW_1e19_8MW_Ne_0_sep_density.npy\")[0,1:,96]))/(np.load(\"./qc_new_mesh_SAS.npy\")[1:,96])\n",
    "geo_2e19 = ((np.load(\"./data_sep_density/bb_b2fplasmf_SAS_8MW_2e19_8MW_Ne_0_sep_density.npy\")[3,1:,96])/(np.load(\"./data_sep_density/bb_b2fplasmf_SAS_8MW_2e19_8MW_Ne_0_sep_density.npy\")[0,1:,96]))/(np.load(\"./qc_new_mesh_SAS.npy\")[1:,96])\n",
    "geo_3e19 = ((np.load(\"./data_sep_density/bb_b2fplasmf_SAS_8MW_3e19_8MW_Ne_0_sep_density.npy\")[3,1:,96])/(np.load(\"./data_sep_density/bb_b2fplasmf_SAS_8MW_3e19_8MW_Ne_0_sep_density.npy\")[0,1:,96]))/(np.load(\"./qc_new_mesh_SAS.npy\")[1:,96])\n",
    "geo_4e19 = ((np.load(\"./data_sep_density/bb_b2fplasmf_SAS_8MW_4e19_8MW_Ne_0_sep_density.npy\")[3,1:,96])/(np.load(\"./data_sep_density/bb_b2fplasmf_SAS_8MW_4e19_8MW_Ne_0_sep_density.npy\")[0,1:,96]))/(np.load(\"./qc_new_mesh_SAS.npy\")[1:,96])\n",
    "geo_5e19 = ((np.load(\"./data_sep_density/bb_b2fplasmf_SAS_8MW_5e19_8MW_Ne_0_sep_density.npy\")[3,1:,96])/(np.load(\"./data_sep_density/bb_b2fplasmf_SAS_8MW_5e19_8MW_Ne_0_sep_density.npy\")[0,1:,96]))/(np.load(\"./qc_new_mesh_SAS.npy\")[1:,96])\n",
    "\n",
    "for i in range(20):\n",
    "    J_SAS_1e18_8MW[i,:,:,:] = fna_SAS_1e18_8MW[i,:,:,:]*charge[i] \n",
    "    J_SAS_05e19_8MW[i,:,:,:] = fna_SAS_05e19_8MW[i,:,:,:]*charge[i] \n",
    "    J_SAS_1e19_8MW[i,:,:,:] = fna_SAS_1e19_8MW[i,:,:,:]*charge[i]\n",
    "    J_SAS_2e19_8MW[i,:,:,:] = fna_SAS_2e19_8MW[i,:,:,:]*charge[i]\n",
    "    J_SAS_3e19_8MW[i,:,:,:] = fna_SAS_3e19_8MW[i,:,:,:]*charge[i]\n",
    "    J_SAS_4e19_8MW[i,:,:,:] = fna_SAS_4e19_8MW[i,:,:,:]*charge[i]\n",
    "    J_SAS_5e19_8MW[i,:,:,:] = fna_SAS_5e19_8MW[i,:,:,:]*charge[i]\n",
    "\n",
    "J_SAS_1e18_8MW = np.sum(J_SAS_1e18_8MW,axis=0)\n",
    "J_SAS_05e19_8MW = np.sum(J_SAS_05e19_8MW,axis=0)\n",
    "J_SAS_1e19_8MW = np.sum(J_SAS_1e19_8MW,axis=0)\n",
    "J_SAS_2e19_8MW = np.sum(J_SAS_2e19_8MW,axis=0)\n",
    "J_SAS_3e19_8MW = np.sum(J_SAS_3e19_8MW,axis=0)\n",
    "J_SAS_4e19_8MW = np.sum(J_SAS_4e19_8MW,axis=0)\n",
    "J_SAS_5e19_8MW = np.sum(J_SAS_5e19_8MW,axis=0)\n",
    "\n",
    "\n"
   ]
  },
  {
   "cell_type": "code",
   "execution_count": 5,
   "id": "aa48233e",
   "metadata": {},
   "outputs": [],
   "source": [
    "#co_1e19_8MW = np.load(\"./data_sep_density/fch_b2fplasmf_co_8MW_1e19_8MW_Ne_0_sep_density.npy\")\n",
    "#co_2e19_8MW = np.load(\"./data_sep_density/fch_b2fplasmf_co_8MW_2e19_8MW_Ne_0_sep_density.npy\")\n",
    "#co_3e19_8MW = np.load(\"./data_sep_density/fch_b2fplasmf_co_8MW_3e19_8MW_Ne_0_sep_density.npy\")\n",
    "#co_4e19_8MW = np.load(\"./data_sep_density/fch_b2fplasmf_co_8MW_4e19_8MW_Ne_0_sep_density.npy\")\n",
    "#co_5e19_8MW = np.load(\"./data_sep_density/fch_b2fplasmf_co_8MW_5e19_8MW_Ne_0_sep_density.npy\")\n",
    "\n",
    "\n",
    "\n",
    "\n",
    "fna_co_1e19_8MW = np.load(\"./data_sep_density/fna_b2fplasmf_co_8MW_1e19_8MW_Ne_0_sep_density.npy\")\n",
    "fna_co_2e19_8MW = np.load(\"./data_sep_density/fna_b2fplasmf_co_8MW_2e19_8MW_Ne_0_sep_density.npy\")\n",
    "fna_co_3e19_8MW = np.load(\"./data_sep_density/fna_b2fplasmf_co_8MW_3e19_8MW_Ne_0_sep_density.npy\")\n",
    "fna_co_4e19_8MW = np.load(\"./data_sep_density/fna_b2fplasmf_co_8MW_4e19_8MW_Ne_0_sep_density.npy\")\n",
    "fna_co_5e19_8MW = np.load(\"./data_sep_density/fna_b2fplasmf_co_8MW_5e19_8MW_Ne_0_sep_density.npy\")\n",
    "\n",
    "J_co_1e19_8MW = np.zeros([20, 2, 38, 98])\n",
    "J_co_2e19_8MW = np.zeros([20, 2, 38, 98])\n",
    "J_co_3e19_8MW = np.zeros([20, 2, 38, 98])\n",
    "J_co_4e19_8MW = np.zeros([20, 2, 38, 98])\n",
    "J_co_5e19_8MW = np.zeros([20, 2, 38, 98])\n",
    "\n",
    "cgeo_1e19 = ((np.load(\"./data_sep_density/bb_b2fplasmf_co_8MW_1e19_8MW_Ne_0_sep_density.npy\")[3,1:,96])/(np.load(\"./data_sep_density/bb_b2fplasmf_co_8MW_1e19_8MW_Ne_0_sep_density.npy\")[0,1:,96]))/(np.load(\"./qc_new_mesh_co.npy\")[1:,96])\n",
    "cgeo_2e19 = ((np.load(\"./data_sep_density/bb_b2fplasmf_co_8MW_2e19_8MW_Ne_0_sep_density.npy\")[3,1:,96])/(np.load(\"./data_sep_density/bb_b2fplasmf_co_8MW_2e19_8MW_Ne_0_sep_density.npy\")[0,1:,96]))/(np.load(\"./qc_new_mesh_co.npy\")[1:,96])\n",
    "cgeo_3e19 = ((np.load(\"./data_sep_density/bb_b2fplasmf_co_8MW_3e19_8MW_Ne_0_sep_density.npy\")[3,1:,96])/(np.load(\"./data_sep_density/bb_b2fplasmf_co_8MW_3e19_8MW_Ne_0_sep_density.npy\")[0,1:,96]))/(np.load(\"./qc_new_mesh_co.npy\")[1:,96])\n",
    "cgeo_4e19 = ((np.load(\"./data_sep_density/bb_b2fplasmf_co_8MW_4e19_8MW_Ne_0_sep_density.npy\")[3,1:,96])/(np.load(\"./data_sep_density/bb_b2fplasmf_co_8MW_4e19_8MW_Ne_0_sep_density.npy\")[0,1:,96]))/(np.load(\"./qc_new_mesh_co.npy\")[1:,96])\n",
    "cgeo_5e19 = ((np.load(\"./data_sep_density/bb_b2fplasmf_co_8MW_5e19_8MW_Ne_0_sep_density.npy\")[3,1:,96])/(np.load(\"./data_sep_density/bb_b2fplasmf_co_8MW_5e19_8MW_Ne_0_sep_density.npy\")[0,1:,96]))/(np.load(\"./qc_new_mesh_co.npy\")[1:,96])\n",
    "\n",
    "\n",
    "\n",
    "\n",
    "\n",
    "\n",
    "for i in range(20):\n",
    "    J_co_1e19_8MW[i,:,:,:] = fna_co_1e19_8MW[i,:,:,:]*charge[i]\n",
    "    J_co_2e19_8MW[i,:,:,:] = fna_co_2e19_8MW[i,:,:,:]*charge[i]\n",
    "    J_co_3e19_8MW[i,:,:,:] = fna_co_3e19_8MW[i,:,:,:]*charge[i]\n",
    "    J_co_4e19_8MW[i,:,:,:] = fna_co_4e19_8MW[i,:,:,:]*charge[i]\n",
    "    J_co_5e19_8MW[i,:,:,:] = fna_co_5e19_8MW[i,:,:,:]*charge[i]\n",
    "\n",
    "J_co_1e19_8MW = np.sum(J_co_1e19_8MW,axis=0)\n",
    "J_co_2e19_8MW = np.sum(J_co_2e19_8MW,axis=0)\n",
    "J_co_3e19_8MW = np.sum(J_co_3e19_8MW,axis=0)\n",
    "J_co_4e19_8MW = np.sum(J_co_4e19_8MW,axis=0)\n",
    "J_co_5e19_8MW = np.sum(J_co_5e19_8MW,axis=0)\n",
    "\n",
    "\n"
   ]
  },
  {
   "cell_type": "code",
   "execution_count": 12,
   "id": "5decf517",
   "metadata": {},
   "outputs": [
    {
     "data": {
      "image/png": "[encoded data removed]",
      "text/plain": [
       "<Figure size 432x288 with 1 Axes>"
      ]
     },
     "metadata": {
      "needs_background": "light"
     },
     "output_type": "display_data"
    }
   ],
   "source": [
    "target_SAS = []\n",
    "target_SAS_fna = [] \n",
    "\n",
    "target_SAS.append(np.max((J_SAS_1e18_8MW[0,1:,96])*geo_1e18/(al_newmesh_facing[0,1:,96]*10000)))\n",
    "target_SAS.append(np.max((J_SAS_05e19_8MW[0,1:,96])*geo_05e19/(al_newmesh_facing[0,1:,96]*10000)))\n",
    "target_SAS.append(np.max((J_SAS_1e19_8MW[0,1:,96])*geo_1e19/(al_newmesh_facing[0,1:,96]*10000)))\n",
    "target_SAS.append(np.max((J_SAS_2e19_8MW[0,1:,96])*geo_2e19/(al_newmesh_facing[0,1:,96]*10000)))\n",
    "target_SAS.append(np.max((J_SAS_3e19_8MW[0,1:,96])*geo_3e19/(al_newmesh_facing[0,1:,96]*10000)))\n",
    "target_SAS.append(np.max((J_SAS_4e19_8MW[0,1:,96])*geo_4e19/(al_newmesh_facing[0,1:,96]*10000)))\n",
    "target_SAS.append(np.max((J_SAS_5e19_8MW[0,1:,96])*geo_5e19/(al_newmesh_facing[0,1:,96]*10000)))\n",
    "\n",
    "x_axis = [1.0*10**18,0.5*10**19,1*10**19,2*10**19,3*10**19,4*10**19,5*10**19]\n",
    "\n",
    "target_co = [0]\n",
    "target_co.append(0)\n",
    "target_co_fna = [] \n",
    "\n",
    "target_co.append(np.max((J_co_1e19_8MW[0,1:,96])*cgeo_1e19/(co_newmesh_facing[0,1:,96]*10000)))\n",
    "target_co.append(np.max((J_co_2e19_8MW[0,1:,96])*cgeo_2e19/(co_newmesh_facing[0,1:,96]*10000)))\n",
    "target_co.append(np.max((J_co_3e19_8MW[0,1:,96])*cgeo_3e19/(co_newmesh_facing[0,1:,96]*10000)))\n",
    "target_co.append(np.max((J_co_4e19_8MW[0,1:,96])*cgeo_4e19/(co_newmesh_facing[0,1:,96]*10000)))\n",
    "target_co.append(np.max((J_co_5e19_8MW[0,1:,96])*cgeo_5e19/(co_newmesh_facing[0,1:,96]*10000)))\n",
    "\n",
    "\n",
    "\n",
    "\n",
    "plt.title(r\"Current (outer target, SAS)\")\n",
    "plt.xlabel(r\"$n_{e, sep}, $\")\n",
    "plt.ylabel(r\"$A/cm^2$\")\n",
    "plt.scatter(x_axis, target_SAS)\n",
    "plt.scatter(x_axis, target_co)\n",
    "    \n",
    "plt.savefig(\"./Plots/SAS_densityscan_8MW.png\")\n",
    "plt.show()"
   ]
  },
  {
   "cell_type": "code",
   "execution_count": 1,
   "id": "d9a1983d",
   "metadata": {},
   "outputs": [
    {
     "data": {
      "text/plain": [
       "False"
      ]
     },
     "execution_count": 1,
     "metadata": {},
     "output_type": "execute_result"
    }
   ],
   "source": [
    "0.1+0.2 ==0.3"
   ]
  },
  {
   "cell_type": "code",
   "execution_count": 2,
   "id": "16bfe510",
   "metadata": {
    "vscode": {
     "languageId": "ruby"
    }
   },
   "outputs": [
    {
     "data": {
      "text/plain": [
       "False"
      ]
     },
     "execution_count": 2,
     "metadata": {},
     "output_type": "execute_result"
    }
   ],
   "source": [
    "0.1+0.2==0.3"
   ]
  },
  {
   "cell_type": "code",
   "execution_count": 3,
   "id": "9b90b40c",
   "metadata": {
    "vscode": {
     "languageId": "sql"
    }
   },
   "outputs": [
    {
     "data": {
      "text/plain": [
       "False"
      ]
     },
     "execution_count": 3,
     "metadata": {},
     "output_type": "execute_result"
    }
   ],
   "source": [
    "0.1+0.2==0.3"
   ]
  },
  {
   "cell_type": "code",
   "execution_count": 8,
   "id": "093fcb39",
   "metadata": {},
   "outputs": [
    {
     "ename": "ValueError",
     "evalue": "x and y must be the same size",
     "output_type": "error",
     "traceback": [
      "\u001b[0;31m---------------------------------------------------------------------------\u001b[0m",
      "\u001b[0;31mValueError\u001b[0m                                Traceback (most recent call last)",
      "\u001b[1;32m/Users/chanyeonglee/LAB_local/data_postprocessing/codes_for_analysis/SOLPS-ITER_analysis/Jsat.ipynb 셀 9\u001b[0m in \u001b[0;36m<cell line: 4>\u001b[0;34m()\u001b[0m\n\u001b[1;32m      <a href='vscode-notebook-cell:/Users/chanyeonglee/LAB_local/data_postprocessing/codes_for_analysis/SOLPS-ITER_analysis/Jsat.ipynb#ch0000008?line=1'>2</a>\u001b[0m plt\u001b[39m.\u001b[39mxlabel(\u001b[39mr\u001b[39m\u001b[39m\"\u001b[39m\u001b[39m$n_\u001b[39m\u001b[39m{\u001b[39m\u001b[39me, sep}, $\u001b[39m\u001b[39m\"\u001b[39m)\n\u001b[1;32m      <a href='vscode-notebook-cell:/Users/chanyeonglee/LAB_local/data_postprocessing/codes_for_analysis/SOLPS-ITER_analysis/Jsat.ipynb#ch0000008?line=2'>3</a>\u001b[0m plt\u001b[39m.\u001b[39mylabel(\u001b[39mr\u001b[39m\u001b[39m\"\u001b[39m\u001b[39m$A/cm^2$\u001b[39m\u001b[39m\"\u001b[39m)\n\u001b[0;32m----> <a href='vscode-notebook-cell:/Users/chanyeonglee/LAB_local/data_postprocessing/codes_for_analysis/SOLPS-ITER_analysis/Jsat.ipynb#ch0000008?line=3'>4</a>\u001b[0m plt\u001b[39m.\u001b[39;49mscatter(x_axis, target_SAS_fna)\n\u001b[1;32m      <a href='vscode-notebook-cell:/Users/chanyeonglee/LAB_local/data_postprocessing/codes_for_analysis/SOLPS-ITER_analysis/Jsat.ipynb#ch0000008?line=4'>5</a>\u001b[0m plt\u001b[39m.\u001b[39mshow()\n",
      "File \u001b[0;32m~/opt/anaconda3/lib/python3.9/site-packages/matplotlib/pyplot.py:2807\u001b[0m, in \u001b[0;36mscatter\u001b[0;34m(x, y, s, c, marker, cmap, norm, vmin, vmax, alpha, linewidths, edgecolors, plotnonfinite, data, **kwargs)\u001b[0m\n\u001b[1;32m   2802\u001b[0m \u001b[39m@_copy_docstring_and_deprecators\u001b[39m(Axes\u001b[39m.\u001b[39mscatter)\n\u001b[1;32m   2803\u001b[0m \u001b[39mdef\u001b[39;00m \u001b[39mscatter\u001b[39m(\n\u001b[1;32m   2804\u001b[0m         x, y, s\u001b[39m=\u001b[39m\u001b[39mNone\u001b[39;00m, c\u001b[39m=\u001b[39m\u001b[39mNone\u001b[39;00m, marker\u001b[39m=\u001b[39m\u001b[39mNone\u001b[39;00m, cmap\u001b[39m=\u001b[39m\u001b[39mNone\u001b[39;00m, norm\u001b[39m=\u001b[39m\u001b[39mNone\u001b[39;00m,\n\u001b[1;32m   2805\u001b[0m         vmin\u001b[39m=\u001b[39m\u001b[39mNone\u001b[39;00m, vmax\u001b[39m=\u001b[39m\u001b[39mNone\u001b[39;00m, alpha\u001b[39m=\u001b[39m\u001b[39mNone\u001b[39;00m, linewidths\u001b[39m=\u001b[39m\u001b[39mNone\u001b[39;00m, \u001b[39m*\u001b[39m,\n\u001b[1;32m   2806\u001b[0m         edgecolors\u001b[39m=\u001b[39m\u001b[39mNone\u001b[39;00m, plotnonfinite\u001b[39m=\u001b[39m\u001b[39mFalse\u001b[39;00m, data\u001b[39m=\u001b[39m\u001b[39mNone\u001b[39;00m, \u001b[39m*\u001b[39m\u001b[39m*\u001b[39mkwargs):\n\u001b[0;32m-> 2807\u001b[0m     __ret \u001b[39m=\u001b[39m gca()\u001b[39m.\u001b[39;49mscatter(\n\u001b[1;32m   2808\u001b[0m         x, y, s\u001b[39m=\u001b[39;49ms, c\u001b[39m=\u001b[39;49mc, marker\u001b[39m=\u001b[39;49mmarker, cmap\u001b[39m=\u001b[39;49mcmap, norm\u001b[39m=\u001b[39;49mnorm,\n\u001b[1;32m   2809\u001b[0m         vmin\u001b[39m=\u001b[39;49mvmin, vmax\u001b[39m=\u001b[39;49mvmax, alpha\u001b[39m=\u001b[39;49malpha, linewidths\u001b[39m=\u001b[39;49mlinewidths,\n\u001b[1;32m   2810\u001b[0m         edgecolors\u001b[39m=\u001b[39;49medgecolors, plotnonfinite\u001b[39m=\u001b[39;49mplotnonfinite,\n\u001b[1;32m   2811\u001b[0m         \u001b[39m*\u001b[39;49m\u001b[39m*\u001b[39;49m({\u001b[39m\"\u001b[39;49m\u001b[39mdata\u001b[39;49m\u001b[39m\"\u001b[39;49m: data} \u001b[39mif\u001b[39;49;00m data \u001b[39mis\u001b[39;49;00m \u001b[39mnot\u001b[39;49;00m \u001b[39mNone\u001b[39;49;00m \u001b[39melse\u001b[39;49;00m {}), \u001b[39m*\u001b[39;49m\u001b[39m*\u001b[39;49mkwargs)\n\u001b[1;32m   2812\u001b[0m     sci(__ret)\n\u001b[1;32m   2813\u001b[0m     \u001b[39mreturn\u001b[39;00m __ret\n",
      "File \u001b[0;32m~/opt/anaconda3/lib/python3.9/site-packages/matplotlib/__init__.py:1412\u001b[0m, in \u001b[0;36m_preprocess_data.<locals>.inner\u001b[0;34m(ax, data, *args, **kwargs)\u001b[0m\n\u001b[1;32m   1409\u001b[0m \u001b[39m@functools\u001b[39m\u001b[39m.\u001b[39mwraps(func)\n\u001b[1;32m   1410\u001b[0m \u001b[39mdef\u001b[39;00m \u001b[39minner\u001b[39m(ax, \u001b[39m*\u001b[39margs, data\u001b[39m=\u001b[39m\u001b[39mNone\u001b[39;00m, \u001b[39m*\u001b[39m\u001b[39m*\u001b[39mkwargs):\n\u001b[1;32m   1411\u001b[0m     \u001b[39mif\u001b[39;00m data \u001b[39mis\u001b[39;00m \u001b[39mNone\u001b[39;00m:\n\u001b[0;32m-> 1412\u001b[0m         \u001b[39mreturn\u001b[39;00m func(ax, \u001b[39m*\u001b[39;49m\u001b[39mmap\u001b[39;49m(sanitize_sequence, args), \u001b[39m*\u001b[39;49m\u001b[39m*\u001b[39;49mkwargs)\n\u001b[1;32m   1414\u001b[0m     bound \u001b[39m=\u001b[39m new_sig\u001b[39m.\u001b[39mbind(ax, \u001b[39m*\u001b[39margs, \u001b[39m*\u001b[39m\u001b[39m*\u001b[39mkwargs)\n\u001b[1;32m   1415\u001b[0m     auto_label \u001b[39m=\u001b[39m (bound\u001b[39m.\u001b[39marguments\u001b[39m.\u001b[39mget(label_namer)\n\u001b[1;32m   1416\u001b[0m                   \u001b[39mor\u001b[39;00m bound\u001b[39m.\u001b[39mkwargs\u001b[39m.\u001b[39mget(label_namer))\n",
      "File \u001b[0;32m~/opt/anaconda3/lib/python3.9/site-packages/matplotlib/axes/_axes.py:4369\u001b[0m, in \u001b[0;36mAxes.scatter\u001b[0;34m(self, x, y, s, c, marker, cmap, norm, vmin, vmax, alpha, linewidths, edgecolors, plotnonfinite, **kwargs)\u001b[0m\n\u001b[1;32m   4367\u001b[0m y \u001b[39m=\u001b[39m np\u001b[39m.\u001b[39mma\u001b[39m.\u001b[39mravel(y)\n\u001b[1;32m   4368\u001b[0m \u001b[39mif\u001b[39;00m x\u001b[39m.\u001b[39msize \u001b[39m!=\u001b[39m y\u001b[39m.\u001b[39msize:\n\u001b[0;32m-> 4369\u001b[0m     \u001b[39mraise\u001b[39;00m \u001b[39mValueError\u001b[39;00m(\u001b[39m\"\u001b[39m\u001b[39mx and y must be the same size\u001b[39m\u001b[39m\"\u001b[39m)\n\u001b[1;32m   4371\u001b[0m \u001b[39mif\u001b[39;00m s \u001b[39mis\u001b[39;00m \u001b[39mNone\u001b[39;00m:\n\u001b[1;32m   4372\u001b[0m     s \u001b[39m=\u001b[39m (\u001b[39m20\u001b[39m \u001b[39mif\u001b[39;00m rcParams[\u001b[39m'\u001b[39m\u001b[39m_internal.classic_mode\u001b[39m\u001b[39m'\u001b[39m] \u001b[39melse\u001b[39;00m\n\u001b[1;32m   4373\u001b[0m          rcParams[\u001b[39m'\u001b[39m\u001b[39mlines.markersize\u001b[39m\u001b[39m'\u001b[39m] \u001b[39m*\u001b[39m\u001b[39m*\u001b[39m \u001b[39m2.0\u001b[39m)\n",
      "\u001b[0;31mValueError\u001b[0m: x and y must be the same size"
     ]
    },
    {
     "data": {
      "image/png": "[encoded data removed]",
      "text/plain": [
       "<Figure size 432x288 with 1 Axes>"
      ]
     },
     "metadata": {
      "needs_background": "light"
     },
     "output_type": "display_data"
    }
   ],
   "source": []
  },
  {
   "cell_type": "code",
   "execution_count": null,
   "id": "eff5815a",
   "metadata": {},
   "outputs": [],
   "source": [
    "\n",
    "plt.figure(figsize=(8, 8))\n",
    "\n",
    "\n",
    "plt.axes().set_aspect('equal')\n",
    "\n",
    "plt.title(\"Poloidal Current\")\n",
    "plt.xlim(1.2,1.6)\n",
    "plt.ylim(-1.4,-0.6)\n",
    "plt.pcolormesh(Mesh_data.al_new_mesh_x_cen, Mesh_data.al_new_mesh_y_cen, SAS_1e19_8MW[0,:,:])\n",
    "plt.colorbar()\n",
    "plt.show()"
   ]
  },
  {
   "cell_type": "code",
   "execution_count": null,
   "id": "5800f0bf",
   "metadata": {},
   "outputs": [],
   "source": [
    "plt.plot(ne_SAS_1e19[18,:])\n",
    "plt.hlines(10**19,1,90)\n",
    "plt.show()"
   ]
  },
  {
   "cell_type": "code",
   "execution_count": null,
   "id": "f5377768",
   "metadata": {},
   "outputs": [],
   "source": [
    "np.max(np.load(\"./data_Heating_Geo/fch_b2fplasmf_SAS_8MW_noNe.npy\")[0,1:,96])"
   ]
  },
  {
   "cell_type": "code",
   "execution_count": null,
   "id": "079d7818",
   "metadata": {},
   "outputs": [],
   "source": [
    "np.shape(np.load(\"./qc_new_mesh_SAS.npy\"))"
   ]
  },
  {
   "cell_type": "code",
   "execution_count": null,
   "metadata": {},
   "outputs": [],
   "source": [
    "np.max((SAS_1e19_8MW[0,1:,96])/(al_newmesh_facing[0,1:,96]*10000))"
   ]
  }
 ],
 "metadata": {
  "kernelspec": {
   "display_name": "Python 3.10.8 ('new_Jupyter': conda)",
   "language": "python",
   "name": "python3"
  },
  "language_info": {
   "codemirror_mode": {
    "name": "ipython",
    "version": 3
   },
   "file_extension": ".py",
   "mimetype": "text/x-python",
   "name": "python",
   "nbconvert_exporter": "python",
   "pygments_lexer": "ipython3",
   "version": "3.10.8"
  },
  "vscode": {
   "interpreter": {
    "hash": "2ab77739f4676a3d06695870158ce5eb0b90457f8e635a1c75fff34302f8a44f"
   }
  }
 },
 "nbformat": 4,
 "nbformat_minor": 5
}
